{
 "cells": [
  {
   "cell_type": "code",
   "execution_count": 1,
   "id": "905584a8-ba2b-4e3a-b65f-ba1e33601eb5",
   "metadata": {},
   "outputs": [],
   "source": [
    "# Public Access Modifier: The members of a class that are declared public are easily accessible from any part of the program. \n",
    "# All data members and member functions of a class are public by default. "
   ]
  },
  {
   "cell_type": "code",
   "execution_count": 3,
   "id": "a34a7a41-7eb2-4089-af72-6ff9b7e2a139",
   "metadata": {},
   "outputs": [
    {
     "name": "stdout",
     "output_type": "stream",
     "text": [
      "List of fields and methods inside obj: ['__class__', '__delattr__', '__dict__', '__dir__', '__doc__', '__eq__', '__format__', '__ge__', '__getattribute__', '__getstate__', '__gt__', '__hash__', '__init__', '__init_subclass__', '__le__', '__lt__', '__module__', '__ne__', '__new__', '__reduce__', '__reduce_ex__', '__repr__', '__setattr__', '__sizeof__', '__str__', '__subclasshook__', '__weakref__', 'displayAge', 'geekAge', 'geekName']\n",
      "Name: R2J\n",
      "Age:  20\n"
     ]
    }
   ],
   "source": [
    "# program to illustrate public access modifier in a class\n",
    "\n",
    "\n",
    "class Geek:\n",
    "\n",
    "    # constructor\n",
    "    def __init__(self, name, age):\n",
    "\n",
    "        # public data members\n",
    "        self.geekName = name\n",
    "        self.geekAge = age\n",
    "\n",
    "    # public member function\n",
    "    def displayAge(self):\n",
    "\n",
    "        # accessing public data member\n",
    "        print(\"Age: \", self.geekAge)\n",
    "\n",
    "\n",
    "# creating object of the class\n",
    "obj = Geek(\"R2J\", 20)\n",
    "\n",
    "# finding all the fields and methods which are present inside obj\n",
    "print(\"List of fields and methods inside obj:\", dir(obj))\n",
    "\n",
    "# accessing public data member\n",
    "print(\"Name:\", obj.geekName)\n",
    "\n",
    "# calling public member function of the class\n",
    "obj.displayAge()\n"
   ]
  },
  {
   "cell_type": "code",
   "execution_count": 5,
   "id": "f24b6682-1509-4863-ad7a-a1b8c7c46d30",
   "metadata": {},
   "outputs": [],
   "source": [
    "# Protected Access Modifier: The members of a class that are declared protected are only accessible within the class where it is declared and its subclass."
   ]
  },
  {
   "cell_type": "code",
   "execution_count": 7,
   "id": "c64f8a71-9339-453a-b7d7-aede45f7f405",
   "metadata": {},
   "outputs": [
    {
     "name": "stdout",
     "output_type": "stream",
     "text": [
      "['__class__', '__delattr__', '__dict__', '__dir__', '__doc__', '__eq__', '__format__', '__ge__', '__getattribute__', '__getstate__', '__gt__', '__hash__', '__init__', '__init_subclass__', '__le__', '__lt__', '__module__', '__ne__', '__new__', '__reduce__', '__reduce_ex__', '__repr__', '__setattr__', '__sizeof__', '__str__', '__subclasshook__', '__weakref__', '_branch', '_displayRollAndBranch', '_name', '_roll']\n",
      "Alpha\n",
      "Roll: 1234567\n",
      "Branch: Computer Science\n",
      "\n",
      "['__class__', '__delattr__', '__dict__', '__dir__', '__doc__', '__eq__', '__format__', '__ge__', '__getattribute__', '__getstate__', '__gt__', '__hash__', '__init__', '__init_subclass__', '__le__', '__lt__', '__module__', '__ne__', '__new__', '__reduce__', '__reduce_ex__', '__repr__', '__setattr__', '__sizeof__', '__str__', '__subclasshook__', '__weakref__', '_branch', '_displayRollAndBranch', '_name', '_roll', 'displayDetails']\n",
      "Name: R2J\n",
      "Roll: 1706256\n",
      "Branch: Information Technology\n"
     ]
    }
   ],
   "source": [
    "# program to illustrate protected access modifier in a class\n",
    "\n",
    "# super class\n",
    "class Student:\n",
    "\n",
    "    # protected data members\n",
    "    _name = None\n",
    "    _roll = None\n",
    "    _branch = None\n",
    "\n",
    "    # constructor\n",
    "    def __init__(self, name, roll, branch):\n",
    "        self._name = name\n",
    "        self._roll = roll\n",
    "        self._branch = branch\n",
    "\n",
    "    # protected member function\n",
    "    def _displayRollAndBranch(self):\n",
    "\n",
    "        # accessing protected data members\n",
    "        print(\"Roll:\", self._roll)\n",
    "        print(\"Branch:\", self._branch)\n",
    "\n",
    "# derived class\n",
    "class Geek(Student):\n",
    "\n",
    "    # constructor\n",
    "    def __init__(self, name, roll, branch):\n",
    "        Student.__init__(self, name, roll, branch)\n",
    "\n",
    "    # public member function\n",
    "    def displayDetails(self):\n",
    "\n",
    "              # accessing protected data members of super class\n",
    "        print(\"Name:\", self._name)\n",
    "\n",
    "        # accessing protected member functions of super class\n",
    "        self._displayRollAndBranch()\n",
    "\n",
    "\n",
    "stu = Student(\"Alpha\", 1234567, \"Computer Science\")\n",
    "print(dir(stu))\n",
    "\n",
    "# protected members and methods can be still accessed\n",
    "print(stu._name)\n",
    "stu._displayRollAndBranch()\n",
    "\n",
    "# Throws error\n",
    "# print(stu.name)\n",
    "# stu.displayRollAndBranch()\n",
    "\n",
    "# creating objects of the derived class\n",
    "obj = Geek(\"R2J\", 1706256, \"Information Technology\")\n",
    "print(\"\")\n",
    "print(dir(obj))\n",
    "\n",
    "# calling public member functions of the class\n",
    "obj.displayDetails()\n"
   ]
  },
  {
   "cell_type": "code",
   "execution_count": 9,
   "id": "d78c5053-7911-4eb8-b46c-214c7eb6857b",
   "metadata": {},
   "outputs": [],
   "source": [
    "# Private Access Modifier: The members of a class that are declared private are accessible within the class only, private access modifier is the most secure access modifier. \n",
    "# Data members of a class are declared private by adding a double underscore ‘__’ symbol before the data member of that class. "
   ]
  },
  {
   "cell_type": "code",
   "execution_count": 11,
   "id": "c935cc21-9d59-4fac-9f5d-2c17442b4903",
   "metadata": {},
   "outputs": [
    {
     "name": "stdout",
     "output_type": "stream",
     "text": [
      "['_Geek__branch', '_Geek__displayDetails', '_Geek__name', '_Geek__roll', '__class__', '__delattr__', '__dict__', '__dir__', '__doc__', '__eq__', '__format__', '__ge__', '__getattribute__', '__getstate__', '__gt__', '__hash__', '__init__', '__init_subclass__', '__le__', '__lt__', '__module__', '__ne__', '__new__', '__reduce__', '__reduce_ex__', '__repr__', '__setattr__', '__sizeof__', '__str__', '__subclasshook__', '__weakref__', 'accessPrivateFunction']\n",
      "\n",
      "R2J\n",
      "1706256\n",
      "Information Technology\n",
      "Name: R2J\n",
      "Roll: 1706256\n",
      "Branch: Information Technology\n",
      "\n",
      "Name: R2J\n",
      "Roll: 1706256\n",
      "Branch: Information Technology\n"
     ]
    }
   ],
   "source": [
    "# program to illustrate private access modifier in a class\n",
    "\n",
    "class Geek:\n",
    "\n",
    "    # private members\n",
    "    __name = None\n",
    "    __roll = None\n",
    "    __branch = None\n",
    "\n",
    "    # constructor\n",
    "    def __init__(self, name, roll, branch):\n",
    "        self.__name = name\n",
    "        self.__roll = roll\n",
    "        self.__branch = branch\n",
    "\n",
    "    # private member function\n",
    "    def __displayDetails(self):\n",
    "\n",
    "        # accessing private data members\n",
    "        print(\"Name:\", self.__name)\n",
    "        print(\"Roll:\", self.__roll)\n",
    "        print(\"Branch:\", self.__branch)\n",
    "\n",
    "    # public member function\n",
    "    def accessPrivateFunction(self):\n",
    "\n",
    "        # accessing private member function\n",
    "        self.__displayDetails()\n",
    "\n",
    "# creating object\n",
    "obj = Geek(\"R2J\", 1706256, \"Information Technology\")\n",
    "\n",
    "print(dir(obj))\n",
    "print(\"\")\n",
    "\n",
    "# Throws error\n",
    "# obj.__name\n",
    "# obj.__roll\n",
    "# obj.__branch\n",
    "# obj.__displayDetails()\n",
    "\n",
    "# To access private members of a class\n",
    "print(obj._Geek__name)\n",
    "print(obj._Geek__roll)\n",
    "print(obj._Geek__branch)\n",
    "obj._Geek__displayDetails()\n",
    "\n",
    "print(\"\")\n",
    "\n",
    "# calling public member function of the class\n",
    "obj.accessPrivateFunction()\n"
   ]
  },
  {
   "cell_type": "code",
   "execution_count": null,
   "id": "40b428f8-ef5a-4457-83f9-d4899748763c",
   "metadata": {},
   "outputs": [],
   "source": []
  }
 ],
 "metadata": {
  "kernelspec": {
   "display_name": "Python [conda env:base] *",
   "language": "python",
   "name": "conda-base-py"
  },
  "language_info": {
   "codemirror_mode": {
    "name": "ipython",
    "version": 3
   },
   "file_extension": ".py",
   "mimetype": "text/x-python",
   "name": "python",
   "nbconvert_exporter": "python",
   "pygments_lexer": "ipython3",
   "version": "3.12.7"
  }
 },
 "nbformat": 4,
 "nbformat_minor": 5
}
