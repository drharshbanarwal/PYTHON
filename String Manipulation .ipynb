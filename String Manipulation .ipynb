{
 "cells": [
  {
   "cell_type": "code",
   "execution_count": 2,
   "id": "32127938-d6e3-4c44-9d95-1e26299b0448",
   "metadata": {},
   "outputs": [],
   "source": [
    "# HOW TO CREATE A STRING ?\n",
    "# HOW TO REPLACE A STRING ?\n",
    "# HOW TO ADD A STRING ?\n",
    "# HOW TO ACCESS A STRING ?\n",
    "# HOW TO CONVERT A STRING INTO INT. ?\n",
    "# HOW TO FIND A LENGTH OF A STRING ?"
   ]
  },
  {
   "cell_type": "code",
   "execution_count": 4,
   "id": "37bb5aed-dd93-47fe-ab03-c72cbd8bc460",
   "metadata": {},
   "outputs": [
    {
     "name": "stdout",
     "output_type": "stream",
     "text": [
      "harsh\n"
     ]
    }
   ],
   "source": [
    "# 1. HOW TO CREATE A STRING ...>\n",
    "# use double \" \" or single ' ' to create a string in python.\n",
    "\n",
    "name=\"harsh\"\n",
    "print(name)\n"
   ]
  },
  {
   "cell_type": "code",
   "execution_count": 8,
   "id": "85ebca91-acdc-4d0a-82cd-cdc7853afad0",
   "metadata": {},
   "outputs": [
    {
     "name": "stdout",
     "output_type": "stream",
     "text": [
      "harsh banarwal\n"
     ]
    }
   ],
   "source": [
    "# 2. HOW TO ADD STRINGS...> (concatenate)\n",
    "# use addition operator (+).\n",
    "\n",
    "\n",
    "name=\"harsh\"\n",
    "sername=\"banarwal\"\n",
    "print(name,\"\"+sername)   # using (, \"\") for giving the space in between name and sername"
   ]
  },
  {
   "cell_type": "code",
   "execution_count": 10,
   "id": "b6a68f87-4e79-43dc-9294-ea2ca27a5df5",
   "metadata": {},
   "outputs": [
    {
     "name": "stdout",
     "output_type": "stream",
     "text": [
      "h r\n"
     ]
    }
   ],
   "source": [
    "# 3. HOW TO ACCESS THE STRING OR ANY CHARCTER IN THE STRING ...>\n",
    "\n",
    "name=\"harsh\"   # access the perticuler word by using the indexing method\n",
    "               # h=0 , a=1 , r=2 , s=3 , h=4 (index number)\n",
    "first_char=name[0]\n",
    "third_char=name[2]\n",
    "print(first_char,third_char)"
   ]
  },
  {
   "cell_type": "code",
   "execution_count": 14,
   "id": "b6dede76-226b-4ce5-9fb1-0d599cfa2f64",
   "metadata": {},
   "outputs": [
    {
     "name": "stdout",
     "output_type": "stream",
     "text": [
      "harsh is a rider\n",
      "harsh is a doctor\n"
     ]
    }
   ],
   "source": [
    "# 4. HOW TO REPLACE A STRING ...>\n",
    "# by using replace method.\n",
    "# REPLACE METHOD\n",
    "# SYNTAX or METHOD = stirng.replace(old value , new value)\n",
    "# 1- search ( will search the old data is persent on the current string or not )\n",
    "# 2- replacing ( after search if the data is present in the string, it will replace the data with new one)\n",
    "# 3- resulting .\n",
    "\n",
    "name=\"harsh is a doctor\"\n",
    "new_name= name.replace(\"doctor\",\"rider\")\n",
    "print(new_name)   # new output\n",
    "print(name)    # old output"
   ]
  },
  {
   "cell_type": "code",
   "execution_count": 18,
   "id": "5f50ec34-fe88-4e90-af0c-9cdd9a9cc1af",
   "metadata": {},
   "outputs": [
    {
     "name": "stdout",
     "output_type": "stream",
     "text": [
      "6\n"
     ]
    }
   ],
   "source": [
    "# 5. HOW TO FIND THE LENGHT OF A STRING...>\n",
    "coding=\"python\"\n",
    "print(len(coding))    # using len (LENGTH) to find out the lenght of a string"
   ]
  },
  {
   "cell_type": "code",
   "execution_count": 22,
   "id": "ac39a912-f872-4d11-80a3-2817d16442b9",
   "metadata": {},
   "outputs": [
    {
     "name": "stdout",
     "output_type": "stream",
     "text": [
      "harsh 27\n"
     ]
    }
   ],
   "source": [
    "# 6. HOW TO CONVERT A INT INTO STRING...>(int into str)\n",
    "\n",
    "name=\"harsh\"\n",
    "age=27\n",
    "print(name,\"\" + str(age))  # converting age into string by using (STR METHOD)\n",
    "\n"
   ]
  },
  {
   "cell_type": "code",
   "execution_count": null,
   "id": "88986cd8-7abf-47fc-8ee1-b737422d05bb",
   "metadata": {},
   "outputs": [],
   "source": [
    "\n",
    "\n"
   ]
  }
 ],
 "metadata": {
  "kernelspec": {
   "display_name": "Python [conda env:base] *",
   "language": "python",
   "name": "conda-base-py"
  },
  "language_info": {
   "codemirror_mode": {
    "name": "ipython",
    "version": 3
   },
   "file_extension": ".py",
   "mimetype": "text/x-python",
   "name": "python",
   "nbconvert_exporter": "python",
   "pygments_lexer": "ipython3",
   "version": "3.12.7"
  }
 },
 "nbformat": 4,
 "nbformat_minor": 5
}
