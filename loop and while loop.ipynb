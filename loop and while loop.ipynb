{
 "cells": [
  {
   "cell_type": "code",
   "execution_count": 13,
   "id": "627795d0-f190-4be7-8162-516e133331fb",
   "metadata": {},
   "outputs": [
    {
     "name": "stdin",
     "output_type": "stream",
     "text": [
      "enter any  number 4\n"
     ]
    },
    {
     "name": "stdout",
     "output_type": "stream",
     "text": [
      "1 2 3 4 "
     ]
    }
   ],
   "source": [
    "#1.Write a program to print all natural numbers from 1 to n. – using while loopas\n",
    "\n",
    "n=int (input(\"enter any  number\"))\n",
    "i=1\n",
    "while(i<=n):\n",
    "    print(i,end=\" \")\n",
    "    i=i+1\n"
   ]
  },
  {
   "cell_type": "code",
   "execution_count": 1,
   "id": "d680010e-1619-46e9-991b-306cee5d5b44",
   "metadata": {},
   "outputs": [
    {
     "name": "stdin",
     "output_type": "stream",
     "text": [
      "enter any  number 54\n"
     ]
    },
    {
     "name": "stdout",
     "output_type": "stream",
     "text": [
      "54 53 52 51 50 49 48 47 46 45 44 43 42 41 40 39 38 37 36 35 34 33 32 31 30 29 28 27 26 25 24 23 22 21 20 19 18 17 16 15 14 13 12 11 10 9 8 7 6 5 4 3 2 1 "
     ]
    }
   ],
   "source": [
    "#2. Write a program to print all natural numbers in reverse (from n to 1). –using while loop\n",
    "\n",
    "i=int (input(\"enter any  number\"))\n",
    "n=1\n",
    "while(i>=n):\n",
    "    print(i,end=\" \")\n",
    "    i=i-1\n",
    "    # i = 9# = 8\n",
    "\n"
   ]
  },
  {
   "cell_type": "code",
   "execution_count": 3,
   "id": "7ee2decd-90bb-4adb-a256-8b08234fe7d0",
   "metadata": {},
   "outputs": [
    {
     "name": "stdout",
     "output_type": "stream",
     "text": [
      "a b c d e f g h i j k l m n o p q r s t u v w x y z "
     ]
    }
   ],
   "source": [
    "#3. Write a program to print all alphabets from a to z. – using while loop\n",
    "\n",
    "char='a'\n",
    "while(char<='z'):\n",
    "  print(char,end=\" \")\n",
    "  char=chr(ord(char)+1)\n",
    "    \n",
    "   "
   ]
  },
  {
   "cell_type": "code",
   "execution_count": 5,
   "id": "9920de8a-52a0-4b2a-852c-1b64a2734b3d",
   "metadata": {},
   "outputs": [
    {
     "name": "stdout",
     "output_type": "stream",
     "text": [
      "2 4 6 8 10 12 14 16 18 20 22 24 26 28 30 32 34 36 38 40 42 44 46 48 50 52 54 56 58 60 62 64 66 68 70 72 74 76 78 80 82 84 86 88 90 92 94 96 98 100 "
     ]
    }
   ],
   "source": [
    "#4. Write a program to print all even numbers between 1 to 100. – using while loop\n",
    "\n",
    "n=1\n",
    "while(n<=100):\n",
    "  if(n%2==0):\n",
    "    print(n,end=\" \")\n",
    "  n+=1\n"
   ]
  },
  {
   "cell_type": "code",
   "execution_count": 9,
   "id": "ed77aef8-92d4-4458-9276-01c6e2c966e7",
   "metadata": {},
   "outputs": [
    {
     "name": "stdin",
     "output_type": "stream",
     "text": [
      "enter the number :  4\n"
     ]
    },
    {
     "name": "stdout",
     "output_type": "stream",
     "text": [
      "sum of odd numbers is : 4\n"
     ]
    }
   ],
   "source": [
    "#5. Write a program to find the sum of all odd numbers between 1 to n.\n",
    "\n",
    "\n",
    "n=int(input(\"enter the number : \"))\n",
    "sum=0\n",
    "while(n>=1):\n",
    "  if(n%2!=0):\n",
    "    sum=sum+n\n",
    "  n-=1\n",
    "print(\"sum of odd numbers is :\",sum)"
   ]
  },
  {
   "cell_type": "code",
   "execution_count": 13,
   "id": "59d9bdfb-a160-4d28-ab4e-5c9d11e9f0fd",
   "metadata": {},
   "outputs": [
    {
     "name": "stdin",
     "output_type": "stream",
     "text": [
      "enter the number :  5\n"
     ]
    },
    {
     "name": "stdout",
     "output_type": "stream",
     "text": [
      "number of digits in the number is : 1\n"
     ]
    }
   ],
   "source": [
    "#6. Write a program to count the number of digits in a number.\n",
    "\n",
    "n=int(input(\"enter the number : \"))\n",
    "count=0\n",
    "while(n>0):\n",
    "  count+=1\n",
    "  n=n//10\n",
    "print(\"number of digits in the number is :\",count)"
   ]
  },
  {
   "cell_type": "code",
   "execution_count": 15,
   "id": "a758ea63-d1cf-4242-a8fb-c9fb12f6cff8",
   "metadata": {},
   "outputs": [
    {
     "name": "stdin",
     "output_type": "stream",
     "text": [
      "enter the number :  52\n"
     ]
    },
    {
     "name": "stdout",
     "output_type": "stream",
     "text": [
      "sum of digits in the number is : 7\n"
     ]
    }
   ],
   "source": [
    "#7. Write a program to calculate the sum of digits of a number.\n",
    "\n",
    "n=int(input(\"enter the number : \"))\n",
    "sum=0\n",
    "while(n>0):\n",
    "  r=n%10\n",
    "  sum=sum+r\n",
    "  n=n//10\n",
    "print(\"sum of digits in the number is :\",sum)"
   ]
  },
  {
   "cell_type": "code",
   "execution_count": 17,
   "id": "0ea70a75-de22-4d88-929d-66a863efcf1f",
   "metadata": {},
   "outputs": [
    {
     "name": "stdin",
     "output_type": "stream",
     "text": [
      "enter the number :  55\n"
     ]
    },
    {
     "name": "stdout",
     "output_type": "stream",
     "text": [
      "first digit : 5\n",
      "last digit : 5\n"
     ]
    }
   ],
   "source": [
    "#8. Write a program to find the first and last digit of a number.\n",
    "n=int(input(\"enter the number : \"))\n",
    "num=n%10\n",
    "while(n>=10):\n",
    "  n=n//10\n",
    "print(\"first digit :\",n)\n",
    "print(\"last digit :\",num)\n"
   ]
  },
  {
   "cell_type": "code",
   "execution_count": 19,
   "id": "00743363-e60c-4eb7-ae85-441beb4f2992",
   "metadata": {},
   "outputs": [
    {
     "name": "stdin",
     "output_type": "stream",
     "text": [
      "enter the number :  88\n"
     ]
    },
    {
     "name": "stdout",
     "output_type": "stream",
     "text": [
      "sum of first and last digit : 16\n"
     ]
    }
   ],
   "source": [
    "#9. Write a program to find the sum of first and last digit of a number.\n",
    "\n",
    "n=int(input(\"enter the number : \"))\n",
    "num=n%10\n",
    "while(n>=10):\n",
    "  n=n//10\n",
    "sum=num+n\n",
    "print(\"sum of first and last digit :\",sum)"
   ]
  },
  {
   "cell_type": "code",
   "execution_count": null,
   "id": "b29c5862-a840-4bac-9580-8047ebea5110",
   "metadata": {},
   "outputs": [],
   "source": []
  }
 ],
 "metadata": {
  "kernelspec": {
   "display_name": "Python 3 (ipykernel)",
   "language": "python",
   "name": "python3"
  },
  "language_info": {
   "codemirror_mode": {
    "name": "ipython",
    "version": 3
   },
   "file_extension": ".py",
   "mimetype": "text/x-python",
   "name": "python",
   "nbconvert_exporter": "python",
   "pygments_lexer": "ipython3",
   "version": "3.12.7"
  }
 },
 "nbformat": 4,
 "nbformat_minor": 5
}
