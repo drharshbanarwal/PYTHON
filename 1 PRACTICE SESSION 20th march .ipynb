{
 "cells": [
  {
   "cell_type": "code",
   "execution_count": 1,
   "id": "44942a40-7340-49f2-b6d9-0e13b8670e16",
   "metadata": {},
   "outputs": [
    {
     "name": "stdout",
     "output_type": "stream",
     "text": [
      "i=0,j=0\n",
      "i=0,j=1\n",
      "i=1,j=0\n",
      "i=1,j=1\n",
      "i=2,j=0\n",
      "i=2,j=1\n"
     ]
    }
   ],
   "source": [
    "for i in range(3):\n",
    "    for j in range(2):\n",
    "        print(f\"i={i},j={j}\")"
   ]
  },
  {
   "cell_type": "code",
   "execution_count": 3,
   "id": "3e3c3123-9e07-4167-80b2-d031cc05e293",
   "metadata": {},
   "outputs": [],
   "source": [
    "# nasted loop\n",
    "# Parent loop (3)---->(0,1,2)\n",
    "# Child loop(2)------>(0,1)\n",
    "# step -1-----> i=0 , j=0\n",
    "# Step -2-----> i=0, j=1\n",
    "\n",
    "# Step -3-----> i=1, j=0\n",
    "# Step -4-----> i=1, j=1\n",
    "\n",
    "# Step -5-----> i=2, j=0\n",
    "# Step -6-----> i=2, j=1"
   ]
  },
  {
   "cell_type": "code",
   "execution_count": 5,
   "id": "218a22f4-ae56-4e31-9fe8-1fd2055c8409",
   "metadata": {},
   "outputs": [
    {
     "name": "stdin",
     "output_type": "stream",
     "text": [
      "enter the number: 4\n"
     ]
    },
    {
     "name": "stdout",
     "output_type": "stream",
     "text": [
      "*\n",
      "**\n",
      "***\n",
      "****\n"
     ]
    }
   ],
   "source": [
    "n= int(input(\"enter the number:\"))\n",
    "for i in range(1,n+1):\n",
    "    print('*' *i)"
   ]
  },
  {
   "cell_type": "code",
   "execution_count": 7,
   "id": "9ae9c861-9435-409e-8533-78c1395c2eaa",
   "metadata": {},
   "outputs": [],
   "source": [
    "# step -1 (for i in range(1,4):print(i)\n",
    "# 1*'*', 2*\"*\", 3*\"*\", 4*\"*\" ,5*\"*\"--->"
   ]
  },
  {
   "cell_type": "code",
   "execution_count": 19,
   "id": "0cfda912-4cba-4aa8-a634-d72870bbd41e",
   "metadata": {},
   "outputs": [
    {
     "name": "stdout",
     "output_type": "stream",
     "text": [
      "+\n",
      "++\n",
      "+++\n",
      "++++\n"
     ]
    }
   ],
   "source": [
    "for i  in range(1,5):\n",
    "    print(i*\"+\")"
   ]
  },
  {
   "cell_type": "code",
   "execution_count": 21,
   "id": "0b966587-8d38-4a70-b6ae-8b3591b5856e",
   "metadata": {},
   "outputs": [
    {
     "name": "stdout",
     "output_type": "stream",
     "text": [
      "+++++\n",
      "++++\n",
      "+++\n",
      "++\n",
      "+\n"
     ]
    }
   ],
   "source": [
    "# for reverse\n",
    "\n",
    "for i in range(5,0,-1):\n",
    "    print(i*'+')"
   ]
  },
  {
   "cell_type": "code",
   "execution_count": 27,
   "id": "812bdb9c-59e6-4924-9ad8-c93ce57e1e17",
   "metadata": {},
   "outputs": [
    {
     "name": "stdout",
     "output_type": "stream",
     "text": [
      "+++++\n",
      "++++\n",
      "+++\n",
      "++\n",
      "+\n",
      "\n",
      "+\n",
      "++\n",
      "+++\n",
      "++++\n",
      "+++++\n"
     ]
    }
   ],
   "source": [
    "# hour glass\n",
    "for i in range(5,0,-1):\n",
    "    print(i*'+')\n",
    "for i in range(0,6):\n",
    "    print(i*'+')"
   ]
  },
  {
   "cell_type": "code",
   "execution_count": 51,
   "id": "6c15810a-b8c2-4324-9598-ae660261b28f",
   "metadata": {},
   "outputs": [
    {
     "name": "stdout",
     "output_type": "stream",
     "text": [
      "*****\n",
      "** *\n",
      "***\n",
      "**\n",
      "*\n"
     ]
    }
   ],
   "source": [
    "# hollow\n",
    "\n",
    "for i in range(5,0,-1):\n",
    "    if(i==4):\n",
    "        print(2*('*')+' '+'*')\n",
    "    else:\n",
    "        print(i*'*')"
   ]
  },
  {
   "cell_type": "code",
   "execution_count": 37,
   "id": "97e39287-c0d0-4c57-b0dd-dc4c8bb7908b",
   "metadata": {},
   "outputs": [
    {
     "name": "stdout",
     "output_type": "stream",
     "text": [
      "## #\n"
     ]
    }
   ],
   "source": [
    "# hollow formula\n",
    "\n",
    "print(2*('#')+' '+'#')"
   ]
  },
  {
   "cell_type": "code",
   "execution_count": 49,
   "id": "c042a90a-94b5-4388-b452-6a8c582cf682",
   "metadata": {},
   "outputs": [
    {
     "name": "stdout",
     "output_type": "stream",
     "text": [
      "*****\n",
      "** *\n",
      "*\n",
      "**\n",
      "*\n"
     ]
    }
   ],
   "source": [
    "# hollow\n",
    "\n",
    "for i in range(5,0,-1):\n",
    "    if(i==4):\n",
    "        print(2*('*')+' '+'*')\n",
    "    elif(i==3):\n",
    "        print(1*('*'))\n",
    "    else:\n",
    "        print(i*'*')"
   ]
  },
  {
   "cell_type": "code",
   "execution_count": 47,
   "id": "a7c9cf93-feef-4484-a620-b1f7abb11b1f",
   "metadata": {},
   "outputs": [
    {
     "name": "stdout",
     "output_type": "stream",
     "text": [
      "*****\n",
      "** *\n",
      "*\n",
      "****\n",
      "*****\n"
     ]
    }
   ],
   "source": [
    "# hollow\n",
    "\n",
    "for i in range(5,0,-1):\n",
    "    if(i==4):\n",
    "        print(2*('*')+' '+'*')\n",
    "    elif(i==3):\n",
    "        print(1*('*'))\n",
    "    elif(i==2):\n",
    "        print(4*'*')\n",
    "\n",
    "    elif(i==1):\n",
    "        print(5*'*')\n",
    "    else:\n",
    "        print(i*'*')"
   ]
  },
  {
   "cell_type": "code",
   "execution_count": 45,
   "id": "ef280366-8986-4119-8c52-c25735185611",
   "metadata": {},
   "outputs": [
    {
     "name": "stdout",
     "output_type": "stream",
     "text": [
      "*\n",
      "**\n",
      "* *\n",
      "*  *\n",
      "*   *\n",
      "******\n"
     ]
    }
   ],
   "source": [
    "# hollow rightangle tingle\n",
    "\n",
    "for i in range(1,7):\n",
    "    if(i==3):\n",
    "        print('*'+' '+'*')\n",
    "    elif(i==4):\n",
    "        print('*'+2*' '+'*')\n",
    "\n",
    "    elif(i==5):\n",
    "        print('*'+3*' '+'*')\n",
    "\n",
    "    else:\n",
    "        print(i*('*'))\n",
    "\n"
   ]
  },
  {
   "cell_type": "code",
   "execution_count": 87,
   "id": "779842c9-6eda-4d47-ae05-053034657664",
   "metadata": {},
   "outputs": [
    {
     "name": "stdout",
     "output_type": "stream",
     "text": [
      "*    \n",
      "**   \n",
      "* *  \n",
      "*  * \n",
      "*****\n"
     ]
    }
   ],
   "source": [
    "for i in range(1,6):\n",
    "    for j in range(1,6):\n",
    "             \n",
    "        if(j==1 or i==j or i==5):\n",
    "            print(\"*\",end=\"\")\n",
    "        else:\n",
    "            print(\" \",end=\"\")\n",
    "\n",
    "    \n",
    "    \n",
    "\n",
    "    print()"
   ]
  },
  {
   "cell_type": "code",
   "execution_count": 98,
   "id": "2a8ea121-71d7-4cf9-bffd-9d8df6a286e5",
   "metadata": {},
   "outputs": [
    {
     "name": "stdout",
     "output_type": "stream",
     "text": [
      "    *\n",
      "   ***\n",
      "  *****\n",
      " *******\n",
      "*********\n"
     ]
    }
   ],
   "source": [
    "# Pyrmid\n",
    "\n",
    "for i in range(1,6):\n",
    "  for j in range(i,5):\n",
    "    print(\" \",end=\"\")\n",
    "      \n",
    "  for k in range(1,2*i):\n",
    "    print(\"*\",end=\"\")\n",
    "  print()"
   ]
  },
  {
   "cell_type": "code",
   "execution_count": null,
   "id": "7409a813-5859-4df1-9f25-e9683e362db2",
   "metadata": {},
   "outputs": [],
   "source": []
  }
 ],
 "metadata": {
  "kernelspec": {
   "display_name": "Python [conda env:base] *",
   "language": "python",
   "name": "conda-base-py"
  },
  "language_info": {
   "codemirror_mode": {
    "name": "ipython",
    "version": 3
   },
   "file_extension": ".py",
   "mimetype": "text/x-python",
   "name": "python",
   "nbconvert_exporter": "python",
   "pygments_lexer": "ipython3",
   "version": "3.12.7"
  }
 },
 "nbformat": 4,
 "nbformat_minor": 5
}
