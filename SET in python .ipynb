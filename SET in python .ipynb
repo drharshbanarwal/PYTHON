{
 "cells": [
  {
   "cell_type": "code",
   "execution_count": 2,
   "id": "eafac869-e37c-4296-83c7-d34a70a40c19",
   "metadata": {},
   "outputs": [],
   "source": [
    "#SET\n",
    "# Set is a data type in Python.\n",
    "# Set stores only a unique elements.\n",
    "# Set dont take duplicate values or elements.\n",
    "# Set do not have any index position (elements do not have any index position).\n"
   ]
  },
  {
   "cell_type": "code",
   "execution_count": 8,
   "id": "46a51544-3715-4506-95df-ea33e3fb143c",
   "metadata": {},
   "outputs": [
    {
     "name": "stdout",
     "output_type": "stream",
     "text": [
      "{10, 204, 100, 20}\n"
     ]
    }
   ],
   "source": [
    "myset={10,20,10,10,204,100}\n",
    "print(myset)"
   ]
  },
  {
   "cell_type": "code",
   "execution_count": 12,
   "id": "e6977b91-753b-4b16-adde-2b1857b2f2cc",
   "metadata": {},
   "outputs": [
    {
     "name": "stdout",
     "output_type": "stream",
     "text": [
      "{100, 10, 204, 500, 20}\n"
     ]
    }
   ],
   "source": [
    "# to add the new element\n",
    "\n",
    "myset={10,20,10,10,204,100}\n",
    "myset.add(500)\n",
    "print(myset)"
   ]
  },
  {
   "cell_type": "code",
   "execution_count": 22,
   "id": "6bff2c67-a705-4340-b122-324c431374d0",
   "metadata": {},
   "outputs": [
    {
     "name": "stdout",
     "output_type": "stream",
     "text": [
      "{10, 204, 100, 20}\n"
     ]
    }
   ],
   "source": [
    "# to delete the element \n",
    "# we use Remove\n",
    "# better then reomve we use Discard\n",
    "\n",
    "myset={10,20,10,10,204,100}\n",
    "myset.discard(500)\n",
    "print(myset)"
   ]
  },
  {
   "cell_type": "code",
   "execution_count": 16,
   "id": "114dade3-435b-4095-ab8a-7460be78e660",
   "metadata": {},
   "outputs": [
    {
     "name": "stdout",
     "output_type": "stream",
     "text": [
      "{100, 200, 10, 204, 300, 20}\n"
     ]
    }
   ],
   "source": [
    "# to add multiple element we use update ([UPDATE])\n",
    "\n",
    "myset={10,20,10,10,204,100}\n",
    "myset.update([100,200,300])\n",
    "print(myset)"
   ]
  },
  {
   "cell_type": "code",
   "execution_count": 18,
   "id": "a30f0611-9926-40cf-8657-6731a5c1044c",
   "metadata": {},
   "outputs": [
    {
     "data": {
      "text/plain": [
       "{1, 2, 3, 4, 5}"
      ]
     },
     "execution_count": 18,
     "metadata": {},
     "output_type": "execute_result"
    }
   ],
   "source": [
    "# to add two group of an element\n",
    "\n",
    "myset={1,2,3}\n",
    "myset2={3,4,5}\n",
    "myset.union(myset2)"
   ]
  },
  {
   "cell_type": "code",
   "execution_count": 24,
   "id": "4e1fcb08-e76c-4e25-a9f8-99738db92840",
   "metadata": {},
   "outputs": [
    {
     "data": {
      "text/plain": [
       "{1, 2}"
      ]
     },
     "execution_count": 24,
     "metadata": {},
     "output_type": "execute_result"
    }
   ],
   "source": [
    "# function DIFFERENCE  (to check the diff\n",
    "\n",
    "myset={1,2,3,4}\n",
    "myset2={3,4,5,6}\n",
    "myset.difference(myset2)\n"
   ]
  },
  {
   "cell_type": "code",
   "execution_count": null,
   "id": "d50c9e8b-f057-43b0-9885-b05b83222766",
   "metadata": {},
   "outputs": [],
   "source": [
    "# difference_update (Removes the items in this set that are also included in another, specified set)\n"
   ]
  }
 ],
 "metadata": {
  "kernelspec": {
   "display_name": "Python 3 (ipykernel)",
   "language": "python",
   "name": "python3"
  },
  "language_info": {
   "codemirror_mode": {
    "name": "ipython",
    "version": 3
   },
   "file_extension": ".py",
   "mimetype": "text/x-python",
   "name": "python",
   "nbconvert_exporter": "python",
   "pygments_lexer": "ipython3",
   "version": "3.12.7"
  }
 },
 "nbformat": 4,
 "nbformat_minor": 5
}
