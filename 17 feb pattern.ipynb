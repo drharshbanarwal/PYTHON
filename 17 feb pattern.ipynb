{
 "cells": [
  {
   "cell_type": "code",
   "execution_count": 7,
   "id": "a89ed446-9386-4263-80a1-3d6e39809ecb",
   "metadata": {},
   "outputs": [
    {
     "name": "stdout",
     "output_type": "stream",
     "text": [
      "* * * * \n",
      "- * * * \n",
      "- - * * \n",
      "- - - * \n"
     ]
    }
   ],
   "source": [
    "for i in range(1,5):\n",
    "    for j in range(1,i):\n",
    "        print(\"-\",end=\" \")\n",
    "\n",
    "    for k in range(i,5):\n",
    "        print(\"*\",end=\" \")\n",
    "\n",
    "    print()"
   ]
  },
  {
   "cell_type": "code",
   "execution_count": 11,
   "id": "36712d5c-9a78-4df2-bcd1-f4767869167a",
   "metadata": {},
   "outputs": [
    {
     "name": "stdout",
     "output_type": "stream",
     "text": [
      "* * * * \n",
      "  * * * \n",
      "    * * \n",
      "      * \n"
     ]
    }
   ],
   "source": [
    "for i in range(1,5):\n",
    "    for j in range(1,i):\n",
    "        print(\" \",end=\" \")\n",
    "\n",
    "    for k in range(i,5):\n",
    "        print(\"*\",end=\" \")\n",
    "\n",
    "    print()"
   ]
  },
  {
   "cell_type": "code",
   "execution_count": 39,
   "id": "5db2b829-48a4-4339-8266-3a1e719ae870",
   "metadata": {},
   "outputs": [
    {
     "name": "stdout",
     "output_type": "stream",
     "text": [
      "- - - * \n",
      "- - * * \n",
      "- * * * \n",
      "* * * * \n"
     ]
    }
   ],
   "source": [
    "for i in range(1,5):\n",
    "    for j in range(i,4):\n",
    "        print(\"-\",end=\" \")\n",
    "\n",
    "    for k in range(1,i+1):\n",
    "        print(\"*\",end=\" \")\n",
    "\n",
    "    print()"
   ]
  },
  {
   "cell_type": "code",
   "execution_count": 37,
   "id": "0f322e36-c64c-4c98-9906-7dbdda9ee061",
   "metadata": {},
   "outputs": [
    {
     "name": "stdout",
     "output_type": "stream",
     "text": [
      "      * \n",
      "    * * \n",
      "  * * * \n",
      "* * * * \n"
     ]
    }
   ],
   "source": [
    "for i in range(1,5):\n",
    "    for j in range(i,4):\n",
    "        print(\" \",end=\" \")\n",
    "\n",
    "    for k in range(1,i+1):\n",
    "        print(\"*\",end=\" \")\n",
    "\n",
    "    print()"
   ]
  },
  {
   "cell_type": "code",
   "execution_count": 51,
   "id": "c60bc475-d10a-433a-a318-2d537b831647",
   "metadata": {},
   "outputs": [
    {
     "name": "stdout",
     "output_type": "stream",
     "text": [
      "- - - - 1 \n",
      "- - - 1 2 \n",
      "- - 1 2 3 \n",
      "- 1 2 3 4 \n",
      "1 2 3 4 5 \n"
     ]
    }
   ],
   "source": [
    "for i in range(1,6):\n",
    "    for j in range(i,5):\n",
    "        print(\"-\",end=\" \")\n",
    "\n",
    "    for k in range(1,i+1):\n",
    "        print(k,end=\" \")\n",
    "\n",
    "    print()"
   ]
  },
  {
   "cell_type": "code",
   "execution_count": 77,
   "id": "a77b2cc5-eb72-4371-b869-286214378680",
   "metadata": {},
   "outputs": [
    {
     "name": "stdout",
     "output_type": "stream",
     "text": [
      "A B C D \n",
      "- A B C \n",
      "- - A B \n",
      "- - - A \n"
     ]
    }
   ],
   "source": [
    "x=65\n",
    "for i in range(1,5):\n",
    "    for j in range(1,i):\n",
    "        print(\"-\",end=\" \")\n",
    "\n",
    "    for k in range(65,70-i):\n",
    "        print(chr(k),end=\" \")\n",
    "\n",
    "    print()"
   ]
  },
  {
   "cell_type": "code",
   "execution_count": 107,
   "id": "d59f6724-666c-4d6b-aaad-75b314fe1671",
   "metadata": {},
   "outputs": [
    {
     "name": "stdout",
     "output_type": "stream",
     "text": [
      "- - - 1 \n",
      "- - 1 2 \n",
      "- 1 2 3 \n"
     ]
    }
   ],
   "source": [
    "for i in range(1,4):\n",
    "    for j in range(i,4):\n",
    "        print(\"-\",end=\" \")\n",
    "\n",
    "    for k in range(1,i+1):\n",
    "        print(k,end=\" \")\n",
    "\n",
    "\n",
    "    print()"
   ]
  },
  {
   "cell_type": "code",
   "execution_count": 117,
   "id": "9ac804fc-107b-40cd-bd05-e07401e08242",
   "metadata": {},
   "outputs": [
    {
     "name": "stdout",
     "output_type": "stream",
     "text": [
      "* \n",
      "* * \n",
      "* - * \n",
      "* - - * \n",
      "* * * * * \n"
     ]
    }
   ],
   "source": [
    "# hollow rightangle tringle by usig (space as \"-\")\n",
    "\n",
    "for i in range(1,6):\n",
    "    for j in  range(1,i+1):\n",
    "        if(j==1 or i==5 or i==j):\n",
    "            print(\"*\",end=\" \")\n",
    "\n",
    "        else:\n",
    "            print(\"-\",end=\" \")\n",
    "\n",
    "    print()"
   ]
  },
  {
   "cell_type": "code",
   "execution_count": 121,
   "id": "60e67bb4-b62d-4f51-acc8-524c82a04ad8",
   "metadata": {},
   "outputs": [
    {
     "name": "stdin",
     "output_type": "stream",
     "text": [
      "enter the number 6\n"
     ]
    },
    {
     "name": "stdout",
     "output_type": "stream",
     "text": [
      "* \n",
      "* * \n",
      "* - * \n",
      "* - - * \n",
      "* * * * * \n"
     ]
    }
   ],
   "source": [
    "# with user input\n",
    "\n",
    "num=int(input(\"enter the number\"))\n",
    "for i in range(1,num):\n",
    "    for j in  range(1,i+1):\n",
    "        if(j==1 or i==num-1 or i==j):\n",
    "            print(\"*\",end=\" \")\n",
    "\n",
    "        else:\n",
    "            print(\"-\",end=\" \")\n",
    "\n",
    "    print()"
   ]
  },
  {
   "cell_type": "code",
   "execution_count": 125,
   "id": "7c66abd9-1b60-4cdb-bd87-36e73e80bc08",
   "metadata": {},
   "outputs": [
    {
     "name": "stdout",
     "output_type": "stream",
     "text": [
      "* \n",
      "* * \n",
      "*   * \n",
      "*     * \n",
      "* * * * * \n"
     ]
    }
   ],
   "source": [
    "# hollow right angle tringle without using (space as \" -\" )\n",
    "\n",
    "for i in range(1,6):\n",
    "    for j in  range(1,i+1):\n",
    "        if(j==1 or i==5 or i==j):\n",
    "            print(\"*\",end=\" \")\n",
    "\n",
    "        else:\n",
    "            print(\" \",end=\" \")\n",
    "\n",
    "    print()"
   ]
  },
  {
   "cell_type": "code",
   "execution_count": 165,
   "id": "b5e7388d-5017-4397-8267-8357b5767231",
   "metadata": {},
   "outputs": [
    {
     "name": "stdout",
     "output_type": "stream",
     "text": [
      "* * * * * \n",
      "- *     * \n",
      "- - *   * \n",
      "- - - * * \n",
      "- - - - * \n"
     ]
    }
   ],
   "source": [
    "for i in range(1,6):\n",
    "    for j in range(1,i):\n",
    "        print(\"-\",end=\" \")\n",
    "         \n",
    "    for k in range(i,6):\n",
    "        if(k==i or k==5 or i==1):\n",
    "            print(\"*\",end= \" \")\n",
    "\n",
    "        else:\n",
    "            print(\" \",end=\" \")\n",
    "    \n",
    "\n",
    "    print()"
   ]
  },
  {
   "cell_type": "code",
   "execution_count": 175,
   "id": "1e1bc7bb-10f6-4623-84fd-53404506beba",
   "metadata": {},
   "outputs": [
    {
     "name": "stdout",
     "output_type": "stream",
     "text": [
      "****\n",
      "  ****\n",
      "    ****\n",
      "      ****\n"
     ]
    }
   ],
   "source": [
    "for i in range(1,5):\n",
    "  for j in range(1,i):\n",
    "    print(\" \",end=\" \")\n",
    "  for k in range(1,5):\n",
    "    print(\"*\",end=\"\")\n",
    "  print(\"\")"
   ]
  },
  {
   "cell_type": "code",
   "execution_count": null,
   "id": "8e329fcf-2985-4e87-9b9f-66de4ee9a005",
   "metadata": {},
   "outputs": [],
   "source": []
  }
 ],
 "metadata": {
  "kernelspec": {
   "display_name": "Python [conda env:base] *",
   "language": "python",
   "name": "conda-base-py"
  },
  "language_info": {
   "codemirror_mode": {
    "name": "ipython",
    "version": 3
   },
   "file_extension": ".py",
   "mimetype": "text/x-python",
   "name": "python",
   "nbconvert_exporter": "python",
   "pygments_lexer": "ipython3",
   "version": "3.12.7"
  }
 },
 "nbformat": 4,
 "nbformat_minor": 5
}
