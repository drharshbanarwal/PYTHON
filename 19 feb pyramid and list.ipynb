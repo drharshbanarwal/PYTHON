{
 "cells": [
  {
   "cell_type": "code",
   "execution_count": 1,
   "id": "140fedea-d3b4-41ac-af4a-b35ac1080ad0",
   "metadata": {},
   "outputs": [],
   "source": [
    "# pyrmid pattern"
   ]
  },
  {
   "cell_type": "code",
   "execution_count": 21,
   "id": "de43a4cd-18c9-4951-8df3-74c457542c5d",
   "metadata": {},
   "outputs": [
    {
     "name": "stdout",
     "output_type": "stream",
     "text": [
      "$$$* \n",
      "$$* * \n",
      "$* * * \n",
      "* * * * \n"
     ]
    }
   ],
   "source": [
    "for i in range(1,5):\n",
    "    for j in range(i,4):\n",
    "        print(\"$\",end=\"\")\n",
    "\n",
    "    for k in range(1,i+1):\n",
    "        print(\"*\",end=\" \")\n",
    "\n",
    "    print()"
   ]
  },
  {
   "cell_type": "code",
   "execution_count": 25,
   "id": "d848f372-a492-4ae4-910f-07de02924720",
   "metadata": {},
   "outputs": [
    {
     "name": "stdout",
     "output_type": "stream",
     "text": [
      "   * \n",
      "  * * \n",
      " * * * \n",
      "* * * * \n"
     ]
    }
   ],
   "source": [
    "for i in range(1,5):\n",
    "    for j in range(i,4):\n",
    "        print(\" \",end=\"\")\n",
    "\n",
    "    for k in range(1,i+1):\n",
    "        print(\"*\",end=\" \")\n",
    "\n",
    "    print()"
   ]
  },
  {
   "cell_type": "code",
   "execution_count": 29,
   "id": "bbd37026-f1dd-440f-aef3-77900b5dc8df",
   "metadata": {},
   "outputs": [
    {
     "name": "stdout",
     "output_type": "stream",
     "text": [
      "* * * * \n",
      " * * * \n",
      "  * * \n",
      "   * \n"
     ]
    }
   ],
   "source": [
    "for i in range(1,5):\n",
    "    for j in range(1,i):\n",
    "        print(\" \",end=\"\")\n",
    "\n",
    "    for k in range(i,5):\n",
    "        print(\"*\",end=\" \")\n",
    "\n",
    "    print()"
   ]
  },
  {
   "cell_type": "code",
   "execution_count": 43,
   "id": "810b4086-ed52-430b-8a5f-ab0335c3387d",
   "metadata": {},
   "outputs": [
    {
     "name": "stdout",
     "output_type": "stream",
     "text": [
      "    *\n",
      "   ***\n",
      "  *****\n",
      " *******\n",
      "*********\n"
     ]
    }
   ],
   "source": [
    "num=5\n",
    "count=2\n",
    "for i in range(1,num+1):\n",
    "    for j in range(i,num):\n",
    "        print(\" \",end=\"\")\n",
    "\n",
    "    for k in range(1,count):\n",
    "        print(\"*\",end=\"\")\n",
    "\n",
    "    count=count+2\n",
    "        \n",
    "\n",
    "    print()"
   ]
  },
  {
   "cell_type": "code",
   "execution_count": 57,
   "id": "43034bd1-7df1-4213-87f1-3765b97d2a10",
   "metadata": {},
   "outputs": [
    {
     "name": "stdout",
     "output_type": "stream",
     "text": [
      "    *\n",
      "   ***\n",
      "  *****\n",
      " *******\n",
      "*********\n"
     ]
    }
   ],
   "source": [
    "num=5\n",
    "\n",
    "for i in range(1,num+1):\n",
    "    for j in range(i,num):\n",
    "        print(\" \",end=\"\")\n",
    "\n",
    "    for k in range(1,2*i):\n",
    "        print(\"*\",end=\"\")\n",
    "\n",
    "    \n",
    "        \n",
    "\n",
    "    print()"
   ]
  },
  {
   "cell_type": "code",
   "execution_count": 103,
   "id": "fc9558e3-fc41-410e-8997-f42fc6d541f2",
   "metadata": {},
   "outputs": [
    {
     "name": "stdout",
     "output_type": "stream",
     "text": [
      "*************\n",
      "-***********\n",
      "--*********\n",
      "---*******\n",
      "----*****\n",
      "-----***\n",
      "------*\n"
     ]
    }
   ],
   "source": [
    "num=7\n",
    "count=num*2\n",
    "\n",
    "for i in range(1,num+1):\n",
    "    for j in range(1,i):\n",
    "        print(\"-\",end=\"\")\n",
    "\n",
    "    for k in range(1,count):\n",
    "        print(\"*\",end=\"\")\n",
    "\n",
    "    count-=2\n",
    "    print()\n",
    "\n",
    "    \n",
    "        \n",
    "\n"
   ]
  },
  {
   "cell_type": "code",
   "execution_count": 107,
   "id": "496f46e4-4bbe-445e-84cb-fd96fa4dea23",
   "metadata": {},
   "outputs": [
    {
     "name": "stdout",
     "output_type": "stream",
     "text": [
      "*************\n",
      " ***********\n",
      "  *********\n",
      "   *******\n",
      "    *****\n",
      "     ***\n",
      "      *\n"
     ]
    }
   ],
   "source": [
    "num=7\n",
    "count=num*2\n",
    "\n",
    "for i in range(1,num+1):\n",
    "    for j in range(1,i):\n",
    "        print(\" \",end=\"\")\n",
    "\n",
    "    for k in range(1,count):\n",
    "        print(\"*\",end=\"\")\n",
    "\n",
    "    count-=2\n",
    "    print()\n"
   ]
  },
  {
   "cell_type": "code",
   "execution_count": 109,
   "id": "33b6b245-71af-4b95-b824-dffffbfab04d",
   "metadata": {},
   "outputs": [],
   "source": [
    "# list\n",
    "# can store multiple values ( can collect multiple value together)\n",
    "# its a mutable data type\n",
    "# ,\n",
    "# list can use any data type possible\n",
    "# can access the data on the basis of index position\n"
   ]
  },
  {
   "cell_type": "code",
   "execution_count": 139,
   "id": "c1a416cd-16e2-4490-81ad-5c45f84e33d8",
   "metadata": {},
   "outputs": [
    {
     "data": {
      "text/plain": [
       "90"
      ]
     },
     "execution_count": 139,
     "metadata": {},
     "output_type": "execute_result"
    }
   ],
   "source": [
    "marks=[10,55,0,90,87,6]\n",
    "marks[3]"
   ]
  },
  {
   "cell_type": "code",
   "execution_count": 145,
   "id": "2d77d5e9-8333-4722-bb53-d80d9d52cf59",
   "metadata": {},
   "outputs": [
    {
     "data": {
      "text/plain": [
       "[10, 55, 0]"
      ]
     },
     "execution_count": 145,
     "metadata": {},
     "output_type": "execute_result"
    }
   ],
   "source": [
    "marks[0:3]"
   ]
  },
  {
   "cell_type": "code",
   "execution_count": 149,
   "id": "fe63900d-8dd0-49c4-a572-0dd0b40b8ab8",
   "metadata": {},
   "outputs": [
    {
     "name": "stdout",
     "output_type": "stream",
     "text": [
      "[30, 55, 0, 90, 87, 6]\n"
     ]
    }
   ],
   "source": [
    "# to update the value in the list\n",
    "marks[0]=30\n",
    "print(marks)"
   ]
  },
  {
   "cell_type": "code",
   "execution_count": 153,
   "id": "c5e4c276-0548-4c6a-8eeb-0b24942ffbbb",
   "metadata": {},
   "outputs": [
    {
     "name": "stdout",
     "output_type": "stream",
     "text": [
      "[30, 55, 0, 90, 87, 6, 'hey', 'hey']\n"
     ]
    }
   ],
   "source": [
    "# append will the update the data at the last of the list\n",
    "marks.append(\"hey\")\n",
    "print(marks)"
   ]
  },
  {
   "cell_type": "code",
   "execution_count": 161,
   "id": "e81d08bd-768e-4763-bd61-4f82f8c2ad29",
   "metadata": {},
   "outputs": [
    {
     "name": "stdout",
     "output_type": "stream",
     "text": [
      "[30, 55, 0, 90, 87, 6, 'hey', 'hey', 'h', 'e', 'l', 'l', 'o', 'h', 'e', 'y', 'h', 'e', 'y', 'h', 'e', 'y']\n"
     ]
    }
   ],
   "source": [
    "# to insert more elements\n",
    "\n",
    "marks.extend(\"hey\")\n",
    "print(marks)"
   ]
  },
  {
   "cell_type": "code",
   "execution_count": 165,
   "id": "db08758e-ba8b-4656-94b0-3f2e5e263295",
   "metadata": {},
   "outputs": [
    {
     "name": "stdout",
     "output_type": "stream",
     "text": [
      "[10, 20, 30, 40, 50, 'h', 'e', 'y']\n"
     ]
    }
   ],
   "source": [
    "mylist=[10,20,30,40,50]\n",
    "mylist.extend(\"hey\")\n",
    "print(mylist)"
   ]
  },
  {
   "cell_type": "code",
   "execution_count": 169,
   "id": "5497a272-b90d-4a8e-9a13-71ca6eede939",
   "metadata": {},
   "outputs": [
    {
     "name": "stdout",
     "output_type": "stream",
     "text": [
      "[10, 20, 60, 30, 40, 50]\n"
     ]
    }
   ],
   "source": [
    "# insert\n",
    "# it takes more time in programe (so we wont use it)\n",
    "\n",
    "mylist=[10,20,30,40,50]\n",
    "mylist.insert(2,60)\n",
    "print(mylist)"
   ]
  },
  {
   "cell_type": "code",
   "execution_count": 173,
   "id": "60e996d3-6ed7-4b37-b052-a9b4db211658",
   "metadata": {},
   "outputs": [
    {
     "name": "stdout",
     "output_type": "stream",
     "text": [
      "[10, 20, 30, 40]\n"
     ]
    }
   ],
   "source": [
    "mylist=[10,20,30,40,50]\n",
    "mylist.pop()\n",
    "print(mylist)"
   ]
  },
  {
   "cell_type": "code",
   "execution_count": 177,
   "id": "7338aa28-a607-4d67-91dd-4be584352d22",
   "metadata": {},
   "outputs": [
    {
     "name": "stdout",
     "output_type": "stream",
     "text": [
      "[10, 20, 30, 40, 50]\n"
     ]
    }
   ],
   "source": [
    "mylist=[10,20,30,40,50]\n",
    "mylist.sort()\n",
    "print(mylist)"
   ]
  },
  {
   "cell_type": "code",
   "execution_count": 185,
   "id": "9f8b491c-9b17-4894-9773-a4e3a5b20405",
   "metadata": {},
   "outputs": [
    {
     "name": "stdout",
     "output_type": "stream",
     "text": [
      "0 h\n",
      "1 e\n",
      "2 y\n"
     ]
    }
   ],
   "source": [
    "data=\"hey\"\n",
    "for i in range(0,len(data)):\n",
    "    print(i,data[i])"
   ]
  },
  {
   "cell_type": "code",
   "execution_count": 191,
   "id": "71c4029d-8d25-45cd-a413-687870e595b9",
   "metadata": {},
   "outputs": [
    {
     "name": "stdout",
     "output_type": "stream",
     "text": [
      "0 10\n",
      "1 20\n",
      "2 30\n",
      "3 40\n",
      "4 50\n",
      "5 hey\n"
     ]
    }
   ],
   "source": [
    "mylist=[10,20,30,40,50,\"hey\"]\n",
    "for i in range(0,len(mylist)):\n",
    "    print(i,mylist[i])"
   ]
  },
  {
   "cell_type": "code",
   "execution_count": 209,
   "id": "c57cea1c-7fa0-4642-819b-1e9ecc1e29fd",
   "metadata": {},
   "outputs": [
    {
     "name": "stdout",
     "output_type": "stream",
     "text": [
      "60\n"
     ]
    }
   ],
   "source": [
    "mylist=[10,20,30,40,60]\n",
    "target=50\n",
    "for i in range(0,len(mylist)):\n",
    "    if(mylist[i]>target):\n",
    "        print(mylist[i])\n",
    "    "
   ]
  },
  {
   "cell_type": "code",
   "execution_count": 243,
   "id": "4420554c-fc9c-466e-9ec0-fe8132299fdc",
   "metadata": {},
   "outputs": [
    {
     "name": "stdout",
     "output_type": "stream",
     "text": [
      "[10, 20, 30, 40, 50]\n"
     ]
    }
   ],
   "source": [
    "mylist=[10,20,30,40,50]\n",
    "\n",
    "for i in range(0,len(mylist)):\n",
    "    if(mylist[i]>target):\n",
    "        mylist[i]=\"hey\"\n",
    "print(mylist)"
   ]
  },
  {
   "cell_type": "code",
   "execution_count": 259,
   "id": "fcdd7ebe-d487-423b-acb4-c13c95001f14",
   "metadata": {},
   "outputs": [
    {
     "name": "stdout",
     "output_type": "stream",
     "text": [
      "max1 is 90\n"
     ]
    }
   ],
   "source": [
    "mylist=[10,2,30,90,5]\n",
    "max1=0\n",
    "\n",
    "\n",
    "for i in range(0,len(mylist)):\n",
    "    if(mylist[i]>max1):\n",
    "       max1=mylist[i]\n",
    "print(\"max1 is\",max1)"
   ]
  },
  {
   "cell_type": "code",
   "execution_count": null,
   "id": "e3b8a7fe-7aa8-4a13-b419-cb21a539271e",
   "metadata": {},
   "outputs": [],
   "source": [
    "#1.find out the total of elements of the list\n",
    "# 2. find the average of the list\n",
    "# 3. to study( find out the middle position) and second higest number"
   ]
  }
 ],
 "metadata": {
  "kernelspec": {
   "display_name": "Python [conda env:base] *",
   "language": "python",
   "name": "conda-base-py"
  },
  "language_info": {
   "codemirror_mode": {
    "name": "ipython",
    "version": 3
   },
   "file_extension": ".py",
   "mimetype": "text/x-python",
   "name": "python",
   "nbconvert_exporter": "python",
   "pygments_lexer": "ipython3",
   "version": "3.12.7"
  }
 },
 "nbformat": 4,
 "nbformat_minor": 5
}
