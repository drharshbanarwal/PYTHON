{
 "cells": [
  {
   "cell_type": "code",
   "execution_count": 2,
   "id": "2a745b25-3683-439f-a496-a5dfe82198a2",
   "metadata": {},
   "outputs": [],
   "source": [
    "# 1. When to use a tuple vs list vs dictionary in Python?\n",
    "\n",
    "#...> TUPLE : Use a tuple to store a sequence of items that will not change.\n",
    "\n",
    "#...> LIST : Use a list to store a sequence of items that may change.\n",
    "\n",
    "#...> DICTIONARY : Use a dictionary when you want to associate pairs of two items."
   ]
  },
  {
   "cell_type": "code",
   "execution_count": 4,
   "id": "786e452e-0078-4ce7-88e4-bccdee093b1e",
   "metadata": {},
   "outputs": [],
   "source": [
    "# 2. What are local variables and global variables in Python?\n",
    "\n",
    "#...> Global Variables : Variables declared outside a function or in a global space are called global variables. \n",
    "# These variables can be accessed by any function in the program.\n",
    "\n",
    "#...> Local Variables : Any variable declared inside a function is known as a local variable. \n",
    "# This variable is present in the local space and not in the global space."
   ]
  },
  {
   "cell_type": "code",
   "execution_count": 6,
   "id": "90b91385-bf0e-4146-ad8e-832662dbdb64",
   "metadata": {},
   "outputs": [],
   "source": [
    "# 3. What is a Negative Index in Python?\n",
    "\n",
    "#...> Negative numbers mean that you count from the right instead of the left. So, list[-1] refers to the last element, list[-2] is the second-last, and so on."
   ]
  },
  {
   "cell_type": "code",
   "execution_count": 8,
   "id": "258784fc-4365-41d4-a166-9d71006a50de",
   "metadata": {},
   "outputs": [],
   "source": [
    "# 4. What is the __init__() function in Python?\n",
    "\n",
    "#...> All classes in Python have a function called __init__(), which is always executed when the class is being initiated.\n",
    "\n",
    "#...> We can use the __init__() function to assign values to object properties, or other operations that are necessary to do when the object is being created."
   ]
  },
  {
   "cell_type": "code",
   "execution_count": 10,
   "id": "044e4865-77a1-46a9-bde7-5989c3571e19",
   "metadata": {},
   "outputs": [],
   "source": [
    "# 5. Which collection does not allow duplicate members?\n",
    "\n",
    "#...> SET"
   ]
  },
  {
   "cell_type": "code",
   "execution_count": 12,
   "id": "aeea4a7e-fb36-44b0-bb2c-8382320d4480",
   "metadata": {},
   "outputs": [],
   "source": [
    "# 6. What is Inheritance in Python?\n",
    "\n",
    "#....> Inheritance allows us to define a class that inherits all the methods and properties from another class.\n",
    "#....> Parent class is the class being inherited from, also called base class.\n",
    "#....> Child class is the class that inherits from another class, also called derived class.\n"
   ]
  },
  {
   "cell_type": "code",
   "execution_count": 14,
   "id": "93dcc6d2-fd66-41f8-9f52-7cd4e01932d6",
   "metadata": {},
   "outputs": [
    {
     "name": "stdout",
     "output_type": "stream",
     "text": [
      "Above ten,\n",
      "and also above 20!\n"
     ]
    }
   ],
   "source": [
    "# 7. What is the output of the following code?\n",
    "\n",
    "\n",
    "x = 41\n",
    "\n",
    "if x > 10:\n",
    "  print(\"Above ten,\")\n",
    "  if x > 20:\n",
    "    print(\"and also above 20!\")\n",
    "  else:\n",
    "    print(\"but not above 20.\")\n"
   ]
  },
  {
   "cell_type": "code",
   "execution_count": 18,
   "id": "c3779e95-b873-4a63-8598-af8b13bc48fb",
   "metadata": {},
   "outputs": [],
   "source": [
    "# 8. Can you list Python's primary built-in data types, in categories?\n",
    "\n",
    "# Text Type: str\n",
    "# Numeric Types: int, float, complex\n",
    "# Sequence Types: list, tuple, range\n",
    "# Mapping Type: dict\n",
    "# Set Types: set, frozenset\n",
    "# Boolean Type: bool\n",
    "# Binary Types: bytes, bytearray, memoryview"
   ]
  },
  {
   "cell_type": "code",
   "execution_count": 20,
   "id": "8f66dd6c-a313-4468-b6d5-b8f7e2e91c11",
   "metadata": {},
   "outputs": [
    {
     "name": "stdout",
     "output_type": "stream",
     "text": [
      "True\n",
      "True\n"
     ]
    }
   ],
   "source": [
    "# 9. What are Membership Operators?\n",
    "\n",
    "#...> Membership operators are used to test if a sequence is present in an object. The in and not in operators are examples of these:\n",
    "\n",
    "x = [\"apple\", \"banana\"]\n",
    "print(\"banana\" in x) # returns True\n",
    "\n",
    "x = [\"apple\", \"banana\"]\n",
    "print(\"pineapple\" not in x) # returns True"
   ]
  },
  {
   "cell_type": "code",
   "execution_count": 22,
   "id": "607edb5f-be19-40b2-9e94-b71890b9b8c5",
   "metadata": {},
   "outputs": [],
   "source": [
    "# 10. Which statement can be used to avoid errors if an if statement has no content?\n",
    "\n",
    "#...> The pass statement"
   ]
  },
  {
   "cell_type": "code",
   "execution_count": 24,
   "id": "fc001ccd-fb3d-41cb-b362-5e67da5673f9",
   "metadata": {},
   "outputs": [],
   "source": [
    "# 11. Can you copy a List in Python by simply writing: list2 = list1?\n",
    "\n",
    "#...> No, because: list2 will only be a reference to list1, and changes made in list1 will automatically also be made in list2.\n",
    "\n",
    "#...> o make a copy of a list, you can use copy() or the list() method."
   ]
  },
  {
   "cell_type": "code",
   "execution_count": 26,
   "id": "16e8b942-70f7-4128-8cf6-ea3279bad5a0",
   "metadata": {},
   "outputs": [
    {
     "name": "stdout",
     "output_type": "stream",
     "text": [
      "llo\n"
     ]
    }
   ],
   "source": [
    "# 12. How can you return a range of characters of a string?\n",
    "\n",
    "#...> You can return a range of characters by using the \"slice syntax\".\n",
    "\n",
    "#...> Specify the start index and the end index, separated by a colon, to return a part of the string, for example:\n",
    "\n",
    "b = \"Hello, World!\"\n",
    "print(b[2:5])\n"
   ]
  },
  {
   "cell_type": "code",
   "execution_count": 32,
   "id": "d1876e9b-93b8-4bf3-a758-f9bd77d5dca9",
   "metadata": {},
   "outputs": [
    {
     "name": "stdout",
     "output_type": "stream",
     "text": [
      "5\n"
     ]
    }
   ],
   "source": [
    "# 13. What is a class in Python, and how do you use it?\n",
    "\n",
    "#...> A Class is like an object constructor, or a \"blueprint\" for creating objects.\n",
    "\n",
    "#...> You can create a class with the class keyword :\n",
    "\n",
    "class MyClass:\n",
    "    x = 5\n",
    "\n",
    "p1 = MyClass()\n",
    "print(p1.x)"
   ]
  },
  {
   "cell_type": "code",
   "execution_count": null,
   "id": "dab28ec0-3350-4e42-9227-af601052bca7",
   "metadata": {},
   "outputs": [],
   "source": []
  }
 ],
 "metadata": {
  "kernelspec": {
   "display_name": "Python [conda env:base] *",
   "language": "python",
   "name": "conda-base-py"
  },
  "language_info": {
   "codemirror_mode": {
    "name": "ipython",
    "version": 3
   },
   "file_extension": ".py",
   "mimetype": "text/x-python",
   "name": "python",
   "nbconvert_exporter": "python",
   "pygments_lexer": "ipython3",
   "version": "3.12.7"
  }
 },
 "nbformat": 4,
 "nbformat_minor": 5
}
