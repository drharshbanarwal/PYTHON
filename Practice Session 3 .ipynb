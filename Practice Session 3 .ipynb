{
 "cells": [
  {
   "cell_type": "code",
   "execution_count": 1,
   "id": "a72e5efa-4d24-4ffa-88f2-32f66932a038",
   "metadata": {},
   "outputs": [],
   "source": [
    "# LIST"
   ]
  },
  {
   "cell_type": "code",
   "execution_count": 7,
   "id": "9291b457-7f7a-48e6-b178-a246e8592974",
   "metadata": {},
   "outputs": [
    {
     "name": "stdout",
     "output_type": "stream",
     "text": [
      "[99, 4, 10, 45, 20]\n",
      "[99, 45, 20, 10, 4]\n",
      "second max element = 45\n"
     ]
    }
   ],
   "source": [
    "# 1.FIND OUT THE SECOND LARGEST NUMBER\n",
    "\n",
    "arr =[10,20,4,45,99,99]            #arr(list variable name)\n",
    "# remove duplicate element and sort in desending order\n",
    "unique_arr =list(set(arr))\n",
    "print(unique_arr)\n",
    "unique_arr.sort(reverse=True)\n",
    "print(unique_arr)         \n",
    "\n",
    "print(\"second max element =\", unique_arr[1])"
   ]
  },
  {
   "cell_type": "code",
   "execution_count": 9,
   "id": "e4a7ad09-b9a8-45b3-a776-d41a145fb0d3",
   "metadata": {},
   "outputs": [
    {
     "name": "stdout",
     "output_type": "stream",
     "text": [
      "palindrome\n"
     ]
    }
   ],
   "source": [
    "# 2. Check if list is Palindrome\n",
    "\n",
    "arr=[1,2,3,2,1]\n",
    "if(arr==arr[::-1]):\n",
    "    print(\"palindrome\")\n",
    "\n",
    "else:\n",
    "    print(\"not palindrome\")\n"
   ]
  },
  {
   "cell_type": "code",
   "execution_count": 11,
   "id": "85c45942-018b-4fc8-9d78-3a8719ec5b85",
   "metadata": {},
   "outputs": [
    {
     "name": "stdout",
     "output_type": "stream",
     "text": [
      "[5, 4, 3, 2, 1]\n"
     ]
    }
   ],
   "source": [
    "# 3.Reverse of a list\n",
    "\n",
    "arr=[1,2,3,4,5]\n",
    "print(arr[::-1])\n"
   ]
  },
  {
   "cell_type": "code",
   "execution_count": 15,
   "id": "845a3d8f-dc32-4425-8b09-31c4890529e9",
   "metadata": {},
   "outputs": [
    {
     "name": "stdout",
     "output_type": "stream",
     "text": [
      "{1: 2, 2: 2, 3: 1, 4: 1, 5: 1, 6: 1, 7: 2}\n",
      "duplicate is: [1, 2, 7]\n"
     ]
    }
   ],
   "source": [
    "# 4. FIND OUT ALL THE DUPLICATE IN A LIST\n",
    "\n",
    "arr=[1,2,3,2,4,5,1,6,7,7]\n",
    "duplicate=[]\n",
    "\n",
    "#store count of each element in dictionary\n",
    "count_dict={}\n",
    "\n",
    "for num in arr:\n",
    "    count_dict[num]=count_dict.get(num,0)+1\n",
    "\n",
    "print(count_dict)\n",
    "\n",
    "# find element that appear more than once\n",
    "\n",
    "duplicate=[key for key,value in count_dict.items() if value>1]\n",
    "\n",
    "print(\"duplicate is:\",duplicate)"
   ]
  },
  {
   "cell_type": "code",
   "execution_count": 17,
   "id": "92720560-3ac7-421e-8a09-9bc368e7b2d4",
   "metadata": {},
   "outputs": [
    {
     "name": "stdout",
     "output_type": "stream",
     "text": [
      "rotated list is: [4, 5, 1, 2, 3]\n"
     ]
    }
   ],
   "source": [
    "# 5. ROTAET A LIST BY K POSITION\n",
    "\n",
    "arr=[1,2,3,4,5]\n",
    "k=2\n",
    "\n",
    "# Rotate the list using slicing\n",
    "\n",
    "rotated_arr= arr[-k:] + arr[:-k]\n",
    "\n",
    "print(\"rotated list is:\",rotated_arr)"
   ]
  },
  {
   "cell_type": "code",
   "execution_count": 29,
   "id": "cb83ce9c-72d3-4d0a-a1aa-61940a33b0db",
   "metadata": {},
   "outputs": [
    {
     "name": "stdout",
     "output_type": "stream",
     "text": [
      "[1, 2, 3, 4, 5]\n"
     ]
    }
   ],
   "source": [
    "# 6.FIND THE INTERSECTION OF TWO LISTS\n",
    "\n",
    "arr1 = [1, 2, 3]\n",
    "arr2 = [1,2,3,4,5]\n",
    "\n",
    "# Convert lists to sets and find the intersection\n",
    "intersection = list(set(arr1) & set(arr2))\n",
    "\n",
    "print(intersection)\n"
   ]
  },
  {
   "cell_type": "code",
   "execution_count": 31,
   "id": "8f0fd3a3-e013-4b10-98be-1202cc871ce8",
   "metadata": {},
   "outputs": [
    {
     "name": "stdout",
     "output_type": "stream",
     "text": [
      "common element are: [2, 3]\n"
     ]
    }
   ],
   "source": [
    "# 7.FIND THE INTERSECTION OF TWO LISTS (SECOND WAY)\n",
    "\n",
    "a=[1,2,3,4]\n",
    "b=[2,3,5,6]\n",
    "c=set(a)\n",
    "d=set(b)\n",
    "e=c.intersection(d)\n",
    "print(\"common element are:\",list(e))"
   ]
  },
  {
   "cell_type": "code",
   "execution_count": 35,
   "id": "1bbbe88b-445a-4cce-8362-846aeebb8200",
   "metadata": {},
   "outputs": [
    {
     "name": "stdout",
     "output_type": "stream",
     "text": [
      "max element is: 8\n"
     ]
    }
   ],
   "source": [
    "# 8.FINND OUT THE  MAXIMUM ELEMENT IN A LIST\n",
    "\n",
    "arr=[3,1,8,2,5,7]\n",
    "max_value= arr[0]   # assume first element is max\n",
    "\n",
    "for num in arr:\n",
    "    if num> max_value:\n",
    "        max_value=num   # update max  if a lagre value is found\n",
    "\n",
    "print(\"max element is:\",max_value)"
   ]
  },
  {
   "cell_type": "code",
   "execution_count": 39,
   "id": "55745d82-6d67-4a8f-8390-989ceddbc064",
   "metadata": {},
   "outputs": [
    {
     "name": "stdout",
     "output_type": "stream",
     "text": [
      "total sum is: 15\n"
     ]
    }
   ],
   "source": [
    "# 9.SOME OF ALL ELEMENT\n",
    "\n",
    "arr=[1,2,3,4,5]\n",
    "sum=0\n",
    "for i in range(len(arr)):\n",
    "    sum=sum+arr[i]\n",
    "\n",
    "print(\"total sum is:\",sum)"
   ]
  },
  {
   "cell_type": "code",
   "execution_count": 47,
   "id": "4bca009f-c4a2-4322-b923-34b98b45bf32",
   "metadata": {},
   "outputs": [
    {
     "name": "stdin",
     "output_type": "stream",
     "text": [
      "enter the size 2\n",
      "enter the element 2\n",
      "enter the element 2\n"
     ]
    },
    {
     "name": "stdout",
     "output_type": "stream",
     "text": [
      "[2, 2]\n",
      "total sum is: 4\n"
     ]
    }
   ],
   "source": [
    "# 10.SOME OF ALL ELEMENT (by user input)\n",
    "\n",
    "arr=[]\n",
    "size=int(input(\"enter the size\"))\n",
    "for i in range(size):\n",
    "    val=int(input(\"enter the element\"))\n",
    "    arr.append(val)\n",
    "print(arr)    \n",
    "sum=0\n",
    "for i in range(len(arr)):\n",
    "    sum=sum+arr[i]\n",
    "\n",
    "print(\"total sum is:\",sum)"
   ]
  },
  {
   "cell_type": "code",
   "execution_count": null,
   "id": "d3024ee5-8070-4dd6-957c-2923c03514c2",
   "metadata": {},
   "outputs": [],
   "source": []
  }
 ],
 "metadata": {
  "kernelspec": {
   "display_name": "Python [conda env:base] *",
   "language": "python",
   "name": "conda-base-py"
  },
  "language_info": {
   "codemirror_mode": {
    "name": "ipython",
    "version": 3
   },
   "file_extension": ".py",
   "mimetype": "text/x-python",
   "name": "python",
   "nbconvert_exporter": "python",
   "pygments_lexer": "ipython3",
   "version": "3.12.7"
  }
 },
 "nbformat": 4,
 "nbformat_minor": 5
}
