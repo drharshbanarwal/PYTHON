{
 "cells": [
  {
   "cell_type": "code",
   "execution_count": 1,
   "id": "8bd6cee1-abfb-4141-9361-0c2f206fe358",
   "metadata": {},
   "outputs": [],
   "source": [
    "# DICTIONARY"
   ]
  },
  {
   "cell_type": "code",
   "execution_count": 5,
   "id": "070dba2f-b19a-46df-80ed-652c2d461bec",
   "metadata": {},
   "outputs": [
    {
     "name": "stdout",
     "output_type": "stream",
     "text": [
      "{1: 'harsh', 2: 'hey'}\n"
     ]
    }
   ],
   "source": [
    "#1.\n",
    "mydictionary={1:\"harsh\", 2: \"hey\"}\n",
    "print(mydictionary)"
   ]
  },
  {
   "cell_type": "code",
   "execution_count": 9,
   "id": "ac72d7da-8d24-4883-8767-edc54e53b706",
   "metadata": {},
   "outputs": [
    {
     "name": "stdout",
     "output_type": "stream",
     "text": [
      "harsh\n"
     ]
    }
   ],
   "source": [
    "# 2. To access the data on the basis of KEY\n",
    "mydictionary={1:\"harsh\", 2: \"hey\"}\n",
    "print(mydictionary[1])"
   ]
  },
  {
   "cell_type": "code",
   "execution_count": 15,
   "id": "ab837626-4c35-4ec0-852f-34cdf7c60643",
   "metadata": {},
   "outputs": [
    {
     "name": "stdout",
     "output_type": "stream",
     "text": [
      "{1: 'hope', 2: 'hey'}\n"
     ]
    }
   ],
   "source": [
    "# 3. To UPDATE or CHANGE the value\n",
    "\n",
    "mydictionary={1:\"harsh\", 2: \"hey\"}\n",
    "mydictionary[1]=\"hope\"\n",
    "print(mydictionary)"
   ]
  },
  {
   "cell_type": "code",
   "execution_count": 19,
   "id": "dc432df4-9172-46fb-a633-eadd05f3be27",
   "metadata": {},
   "outputs": [
    {
     "name": "stdout",
     "output_type": "stream",
     "text": [
      "{1: 'harsh', 2: 'hey', 3: 'hope'}\n"
     ]
    }
   ],
   "source": [
    "# 4. To INSERT the new value\n",
    "\n",
    "mydictionary={1:\"harsh\", 2: \"hey\"}\n",
    "mydictionary[3]=\"hope\"\n",
    "print(mydictionary)"
   ]
  },
  {
   "cell_type": "code",
   "execution_count": 23,
   "id": "c7de5294-b874-4eec-af90-21d94810de8c",
   "metadata": {},
   "outputs": [
    {
     "name": "stdout",
     "output_type": "stream",
     "text": [
      "{2: 'hey'}\n"
     ]
    }
   ],
   "source": [
    "# 5. To delete the value from the DICTIONARY\n",
    "\n",
    "mydictionary={1:\"harsh\", 2: \"hey\"}\n",
    "mydictionary.pop(1)\n",
    "print(mydictionary)"
   ]
  },
  {
   "cell_type": "code",
   "execution_count": 37,
   "id": "be29ff73-1a47-43af-ae5d-0fd2d1e519e3",
   "metadata": {},
   "outputs": [
    {
     "name": "stdout",
     "output_type": "stream",
     "text": [
      "1 harsh\n",
      "2 hey\n"
     ]
    }
   ],
   "source": [
    "# 6. To print the key along with the value in DICTIONARY\n",
    "\n",
    "mydictionary={1:\"harsh\", 2: \"hey\"}\n",
    "for key in mydictionary:\n",
    "   print(key,mydictionary[key])\n"
   ]
  },
  {
   "cell_type": "code",
   "execution_count": 47,
   "id": "52c7018a-cb32-47e4-8a79-b223dfb4076a",
   "metadata": {},
   "outputs": [
    {
     "name": "stdout",
     "output_type": "stream",
     "text": [
      "himalayan\n",
      "hope\n",
      "royal enfield\n"
     ]
    }
   ],
   "source": [
    "# 7. To return the DATA or VALUE\n",
    "\n",
    "mydictionary={1: \"harsh\", 2: \"hope\"}\n",
    "mydictionary[1]=\"himalayan\"\n",
    "mydictionary[3]=\"royal enfield\"\n",
    "for data in mydictionary.values():\n",
    "    print(data)"
   ]
  },
  {
   "cell_type": "code",
   "execution_count": 49,
   "id": "6421d2f9-e313-4d01-8f24-13c19298f063",
   "metadata": {},
   "outputs": [
    {
     "name": "stdout",
     "output_type": "stream",
     "text": [
      "(1, 're')\n",
      "(2, 'yt')\n",
      "(3, 'hope')\n"
     ]
    }
   ],
   "source": [
    "# 8. it gives you the keys and value in tuple\n",
    "\n",
    "myd={1:\"harsh\",2:\"yt\"}\n",
    "myd[1]=\"re\"  \n",
    "myd[3]=\"hope\" \n",
    "\n",
    "for data in myd.items():\n",
    "    print(data)"
   ]
  },
  {
   "cell_type": "code",
   "execution_count": 51,
   "id": "bf98057b-2764-4248-b93a-1c21a852151b",
   "metadata": {},
   "outputs": [
    {
     "name": "stdout",
     "output_type": "stream",
     "text": [
      "(1, 're') 1 re\n",
      "(2, 'yt') 2 yt\n",
      "(3, 'hope') 3 hope\n"
     ]
    }
   ],
   "source": [
    "# 9. Tuple unpacking we use [itesm]\n",
    "\n",
    "myd={1:\"harsh\",2:\"yt\"}\n",
    "myd[1]=\"re\"  \n",
    "myd[3]=\"hope\" \n",
    "\n",
    "for data in myd.items():\n",
    "    key,value=data\n",
    "    print(data,key,value)"
   ]
  },
  {
   "cell_type": "code",
   "execution_count": 59,
   "id": "57bf2178-a41c-4c94-90b8-6863ac407f3b",
   "metadata": {},
   "outputs": [
    {
     "name": "stdout",
     "output_type": "stream",
     "text": [
      "{'vowel': 0}\n",
      "{'vowel': 0, 'a': 1}\n",
      "{'vowel': 0, 'a': 1}\n",
      "{'vowel': 0, 'a': 1}\n",
      "{'vowel': 0, 'a': 1}\n",
      "{'vowel': 0, 'a': 1, 'i': 1}\n",
      "{'vowel': 0, 'a': 1, 'i': 1}\n"
     ]
    }
   ],
   "source": [
    "# 10. count vowel\n",
    "myd={\"vowel\":0}\n",
    "for i in\"harshajinh\":\n",
    "    if i in \"aeiou\":\n",
    "        if i not in myd:\n",
    "          myd[i]=1\n",
    "    else:\n",
    "        print(myd)"
   ]
  },
  {
   "cell_type": "code",
   "execution_count": 61,
   "id": "a01194ce-3242-4274-aac7-2e63e4a78788",
   "metadata": {},
   "outputs": [
    {
     "name": "stdout",
     "output_type": "stream",
     "text": [
      "{'h': 1, 'e': 1, 'l': 2, 'o': 1}\n"
     ]
    }
   ],
   "source": [
    "# 11. Aanagram\n",
    "\n",
    "myd={}\n",
    "for char in \"hello\":\n",
    "    if char not in myd:\n",
    "        myd[char]=1\n",
    "    else:\n",
    "        myd[char]=myd[char]+1\n",
    "print(myd)\n",
    "        "
   ]
  },
  {
   "cell_type": "code",
   "execution_count": 63,
   "id": "848ce405-8e6e-422c-a088-1a8e2e3afbf0",
   "metadata": {},
   "outputs": [
    {
     "name": "stdout",
     "output_type": "stream",
     "text": [
      "{'h': 1, 'e': 1, 'l': 2, 'o': 1}\n"
     ]
    }
   ],
   "source": [
    "# 12. Aanagram by using else if condition\n",
    "\n",
    "myd={}\n",
    "for char in \"hello\":\n",
    "    if char not in myd:\n",
    "        myd[char]=1\n",
    "    else:\n",
    "        myd[char]=myd[char]+1\n",
    "myd2={}\n",
    "\n",
    "for char in \"olleh\":\n",
    "        if char not in myd2:\n",
    "            myd2[char]=1\n",
    "        else:\n",
    "            myd2[char]+=1\n",
    "if (myd==myd2):\n",
    "    print(myd)\n",
    "else:\n",
    "    print(\"not valid\")"
   ]
  }
 ],
 "metadata": {
  "kernelspec": {
   "display_name": "Python 3 (ipykernel)",
   "language": "python",
   "name": "python3"
  },
  "language_info": {
   "codemirror_mode": {
    "name": "ipython",
    "version": 3
   },
   "file_extension": ".py",
   "mimetype": "text/x-python",
   "name": "python",
   "nbconvert_exporter": "python",
   "pygments_lexer": "ipython3",
   "version": "3.12.7"
  }
 },
 "nbformat": 4,
 "nbformat_minor": 5
}
