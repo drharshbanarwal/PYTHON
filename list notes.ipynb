{
 "cells": [
  {
   "cell_type": "code",
   "execution_count": 3,
   "id": "740a12ad-1cd6-4edc-bf87-8d54477f7c90",
   "metadata": {},
   "outputs": [
    {
     "name": "stdout",
     "output_type": "stream",
     "text": [
      "[12, 20, 30, 'hey']\n"
     ]
    }
   ],
   "source": [
    "# list==data type inn python\n",
    "# data type\n",
    "# multiple store\n",
    "# is mutuable =>\n",
    "# sequence data type (index position)\n",
    "\n",
    "mylist=[12,20,30,\"hey\"]\n",
    "print(mylist)\n"
   ]
  },
  {
   "cell_type": "code",
   "execution_count": 7,
   "id": "3ad717ab-e3a5-4a8b-a5fa-48ff97ea14c0",
   "metadata": {},
   "outputs": [
    {
     "name": "stdout",
     "output_type": "stream",
     "text": [
      "20\n"
     ]
    }
   ],
   "source": [
    "#for index\n",
    "\n",
    "mylist=[12,20,30,\"hey\"]\n",
    "print(mylist[1])"
   ]
  },
  {
   "cell_type": "code",
   "execution_count": 11,
   "id": "12a7e65f-52df-42a8-973a-eb3414abe793",
   "metadata": {},
   "outputs": [
    {
     "name": "stdout",
     "output_type": "stream",
     "text": [
      "[12, 20, 30]\n"
     ]
    }
   ],
   "source": [
    "mylist=[12,20,30,\"hey\"]\n",
    "print(mylist[0:3])"
   ]
  },
  {
   "cell_type": "code",
   "execution_count": 15,
   "id": "4dfdb837-5602-4539-8e8e-b12831bc65d9",
   "metadata": {},
   "outputs": [
    {
     "name": "stdout",
     "output_type": "stream",
     "text": [
      "[100, 20, 30, 'hey']\n"
     ]
    }
   ],
   "source": [
    "#to change or update\n",
    "\n",
    "mylist=[12,20,30,\"hey\"]\n",
    "mylist[0]=100\n",
    "print(mylist)"
   ]
  },
  {
   "cell_type": "code",
   "execution_count": 19,
   "id": "91b410c4-8b9f-4c30-a1a2-b24fd46d4ba5",
   "metadata": {},
   "outputs": [
    {
     "name": "stdout",
     "output_type": "stream",
     "text": [
      "[12, 20, 30, 'hey', 70]\n"
     ]
    }
   ],
   "source": [
    "#to add eliment in list\n",
    "\n",
    "mylist=[12,20,30,\"hey\"]\n",
    "mylist.append(70)  #it insert only one element at a time\n",
    "print(mylist)"
   ]
  },
  {
   "cell_type": "code",
   "execution_count": 23,
   "id": "2d564ca6-f62f-4fc6-b4f3-df75979441a3",
   "metadata": {},
   "outputs": [
    {
     "name": "stdout",
     "output_type": "stream",
     "text": [
      "[12, 20, 30, 'hey', 'h', 'a', 'r', 's', 'h']\n"
     ]
    }
   ],
   "source": [
    "# multiple element insert\n",
    "\n",
    "mylist=[12,20,30,\"hey\"]  #iterable is a data type in which\n",
    "mylist.extend(\"harsh\")  #it will work for string and dictonary\n",
    "print(mylist)"
   ]
  },
  {
   "cell_type": "code",
   "execution_count": 29,
   "id": "9e0a1714-7ed9-4ce5-a806-2d2fce5ed85f",
   "metadata": {},
   "outputs": [
    {
     "name": "stdout",
     "output_type": "stream",
     "text": [
      "[12, 20, 30, 'hey', 'h', 'a', 'r', 's', 'h', 'harsh', 25]\n"
     ]
    }
   ],
   "source": [
    "# \n",
    "\n",
    "mylist=[12,20,30,\"hey\"]\n",
    "mylist.extend(\"harsh\")\n",
    "mylist.extend([\"harsh\",25]) #to insert multilpe value\n",
    "print(mylist)"
   ]
  },
  {
   "cell_type": "code",
   "execution_count": 33,
   "id": "003f75b2-802a-452d-a3a1-87b9e952baa0",
   "metadata": {},
   "outputs": [
    {
     "name": "stdout",
     "output_type": "stream",
     "text": [
      "[20, 30, 'hey']\n"
     ]
    }
   ],
   "source": [
    "# to deklete we use pop method\n",
    "\n",
    "mylist=[12,20,30,\"hey\"]\n",
    "mylist.pop(0)\n",
    "print(mylist)"
   ]
  },
  {
   "cell_type": "code",
   "execution_count": 37,
   "id": "90169c55-b249-428a-a23b-09d8450aec8f",
   "metadata": {},
   "outputs": [
    {
     "name": "stdout",
     "output_type": "stream",
     "text": [
      "[12, 20, 30]\n"
     ]
    }
   ],
   "source": [
    "mylist=[12,20,30,\"hey\"]\n",
    "mylist.pop(3)            #it delete the element but it also return the element\n",
    "print(mylist)"
   ]
  },
  {
   "cell_type": "code",
   "execution_count": 43,
   "id": "83443e79-d919-41d1-b8b4-dabde86eb082",
   "metadata": {},
   "outputs": [
    {
     "name": "stdout",
     "output_type": "stream",
     "text": [
      "[20, 30, 'hey'] 12\n"
     ]
    }
   ],
   "source": [
    "mylist=[12,20,30,\"hey\"]\n",
    "h=mylist.pop(0)\n",
    "print(mylist,h)"
   ]
  },
  {
   "cell_type": "code",
   "execution_count": 47,
   "id": "ff120180-2298-483c-aff2-53ad0b24cf8a",
   "metadata": {},
   "outputs": [
    {
     "name": "stdout",
     "output_type": "stream",
     "text": [
      "Help on list object:\n",
      "\n",
      "class list(object)\n",
      " |  list(iterable=(), /)\n",
      " |\n",
      " |  Built-in mutable sequence.\n",
      " |\n",
      " |  If no argument is given, the constructor creates a new empty list.\n",
      " |  The argument must be an iterable if specified.\n",
      " |\n",
      " |  Methods defined here:\n",
      " |\n",
      " |  __add__(self, value, /)\n",
      " |      Return self+value.\n",
      " |\n",
      " |  __contains__(self, key, /)\n",
      " |      Return bool(key in self).\n",
      " |\n",
      " |  __delitem__(self, key, /)\n",
      " |      Delete self[key].\n",
      " |\n",
      " |  __eq__(self, value, /)\n",
      " |      Return self==value.\n",
      " |\n",
      " |  __ge__(self, value, /)\n",
      " |      Return self>=value.\n",
      " |\n",
      " |  __getattribute__(self, name, /)\n",
      " |      Return getattr(self, name).\n",
      " |\n",
      " |  __getitem__(self, index, /)\n",
      " |      Return self[index].\n",
      " |\n",
      " |  __gt__(self, value, /)\n",
      " |      Return self>value.\n",
      " |\n",
      " |  __iadd__(self, value, /)\n",
      " |      Implement self+=value.\n",
      " |\n",
      " |  __imul__(self, value, /)\n",
      " |      Implement self*=value.\n",
      " |\n",
      " |  __init__(self, /, *args, **kwargs)\n",
      " |      Initialize self.  See help(type(self)) for accurate signature.\n",
      " |\n",
      " |  __iter__(self, /)\n",
      " |      Implement iter(self).\n",
      " |\n",
      " |  __le__(self, value, /)\n",
      " |      Return self<=value.\n",
      " |\n",
      " |  __len__(self, /)\n",
      " |      Return len(self).\n",
      " |\n",
      " |  __lt__(self, value, /)\n",
      " |      Return self<value.\n",
      " |\n",
      " |  __mul__(self, value, /)\n",
      " |      Return self*value.\n",
      " |\n",
      " |  __ne__(self, value, /)\n",
      " |      Return self!=value.\n",
      " |\n",
      " |  __repr__(self, /)\n",
      " |      Return repr(self).\n",
      " |\n",
      " |  __reversed__(self, /)\n",
      " |      Return a reverse iterator over the list.\n",
      " |\n",
      " |  __rmul__(self, value, /)\n",
      " |      Return value*self.\n",
      " |\n",
      " |  __setitem__(self, key, value, /)\n",
      " |      Set self[key] to value.\n",
      " |\n",
      " |  __sizeof__(self, /)\n",
      " |      Return the size of the list in memory, in bytes.\n",
      " |\n",
      " |  append(self, object, /)\n",
      " |      Append object to the end of the list.\n",
      " |\n",
      " |  clear(self, /)\n",
      " |      Remove all items from list.\n",
      " |\n",
      " |  copy(self, /)\n",
      " |      Return a shallow copy of the list.\n",
      " |\n",
      " |  count(self, value, /)\n",
      " |      Return number of occurrences of value.\n",
      " |\n",
      " |  extend(self, iterable, /)\n",
      " |      Extend list by appending elements from the iterable.\n",
      " |\n",
      " |  index(self, value, start=0, stop=9223372036854775807, /)\n",
      " |      Return first index of value.\n",
      " |\n",
      " |      Raises ValueError if the value is not present.\n",
      " |\n",
      " |  insert(self, index, object, /)\n",
      " |      Insert object before index.\n",
      " |\n",
      " |  pop(self, index=-1, /)\n",
      " |      Remove and return item at index (default last).\n",
      " |\n",
      " |      Raises IndexError if list is empty or index is out of range.\n",
      " |\n",
      " |  remove(self, value, /)\n",
      " |      Remove first occurrence of value.\n",
      " |\n",
      " |      Raises ValueError if the value is not present.\n",
      " |\n",
      " |  reverse(self, /)\n",
      " |      Reverse *IN PLACE*.\n",
      " |\n",
      " |  sort(self, /, *, key=None, reverse=False)\n",
      " |      Sort the list in ascending order and return None.\n",
      " |\n",
      " |      The sort is in-place (i.e. the list itself is modified) and stable (i.e. the\n",
      " |      order of two equal elements is maintained).\n",
      " |\n",
      " |      If a key function is given, apply it once to each list item and sort them,\n",
      " |      ascending or descending, according to their function values.\n",
      " |\n",
      " |      The reverse flag can be set to sort in descending order.\n",
      " |\n",
      " |  ----------------------------------------------------------------------\n",
      " |  Class methods defined here:\n",
      " |\n",
      " |  __class_getitem__(...)\n",
      " |      See PEP 585\n",
      " |\n",
      " |  ----------------------------------------------------------------------\n",
      " |  Static methods defined here:\n",
      " |\n",
      " |  __new__(*args, **kwargs)\n",
      " |      Create and return a new object.  See help(type) for accurate signature.\n",
      " |\n",
      " |  ----------------------------------------------------------------------\n",
      " |  Data and other attributes defined here:\n",
      " |\n",
      " |  __hash__ = None\n",
      "\n",
      "None\n"
     ]
    }
   ],
   "source": [
    "#to check the function\n",
    "\n",
    "print(help(mylist) )\n"
   ]
  },
  {
   "cell_type": "code",
   "execution_count": 57,
   "id": "0989c030-c35b-4ebc-b875-cdc7c99c9f44",
   "metadata": {},
   "outputs": [
    {
     "name": "stdout",
     "output_type": "stream",
     "text": [
      "[2, 4, 5, 7, 8, 9, 10]\n"
     ]
    }
   ],
   "source": [
    "# for accending order\n",
    "\n",
    "\n",
    "mylist=[10,2,5,4,8,9,7,]\n",
    "mylist.sort()\n",
    "print(mylist)"
   ]
  },
  {
   "cell_type": "code",
   "execution_count": 61,
   "id": "5c7becdc-7433-45cc-a7d9-f2ac338998be",
   "metadata": {},
   "outputs": [
    {
     "name": "stdout",
     "output_type": "stream",
     "text": [
      "10\n",
      "20\n",
      "30\n",
      "40\n",
      "50\n"
     ]
    }
   ],
   "source": [
    "#to run loop on list\n",
    "\n",
    "mylist=[10,20,30,40,50,]\n",
    "for i in mylist:\n",
    "    print(i)"
   ]
  },
  {
   "cell_type": "code",
   "execution_count": 69,
   "id": "dad20ff5-bf08-450d-aaac-0935320ebbe4",
   "metadata": {},
   "outputs": [
    {
     "name": "stdout",
     "output_type": "stream",
     "text": [
      "0 10\n",
      "1 20\n",
      "2 30\n",
      "3 40\n",
      "4 50\n"
     ]
    }
   ],
   "source": [
    "#length of string\n",
    "# we use range to make index number\n",
    "\n",
    "mylist=[10,20,30,40,50,]\n",
    "size=len(mylist)\n",
    "for i in range(0,size):\n",
    "    print(i,mylist[i])"
   ]
  },
  {
   "cell_type": "code",
   "execution_count": 85,
   "id": "9081eb91-ff74-42cb-860c-deaac927b5e6",
   "metadata": {},
   "outputs": [
    {
     "name": "stdout",
     "output_type": "stream",
     "text": [
      "10\n",
      "20\n",
      "30\n",
      "40\n",
      "50\n"
     ]
    }
   ],
   "source": [
    "#check even number\n",
    "\n",
    "mylist=[10,20,30,40,50,]\n",
    "for i in range(0,size):\n",
    " if(mylist[i]%2==0):\n",
    "        \n",
    "    print(mylist[i]) "
   ]
  },
  {
   "cell_type": "code",
   "execution_count": 99,
   "id": "df63660c-bb67-4d9e-bdf1-a6c3832dd9f9",
   "metadata": {},
   "outputs": [
    {
     "name": "stdout",
     "output_type": "stream",
     "text": [
      "2\n",
      "4\n",
      "6\n",
      "8\n"
     ]
    }
   ],
   "source": [
    "# odd number\n",
    "\n",
    "mylist=[1,2,3,4,5,6,7,8,9]\n",
    "size=len(mylist)\n",
    "for i in range(0,9):\n",
    " if(i%2!=0):\n",
    "        \n",
    "    print(mylist[i])"
   ]
  },
  {
   "cell_type": "code",
   "execution_count": 127,
   "id": "825e0a19-e801-4e70-9c50-5438eb06b3f8",
   "metadata": {},
   "outputs": [
    {
     "name": "stdout",
     "output_type": "stream",
     "text": [
      "2\n",
      "4\n",
      "6\n",
      "8\n",
      "[2, 4, 6, 8]\n"
     ]
    }
   ],
   "source": [
    "mylist=[1,2,3,4,5,6,7,8,9]\n",
    "newlist=[]\n",
    "size=len(mylist)\n",
    "for i in range(0,9):\n",
    " if(i%2!=0):\n",
    "    newlist.append(mylist[i])  #newlist and odd number and element\n",
    "        \n",
    "    print(mylist[i])\n",
    "print(newlist)"
   ]
  },
  {
   "cell_type": "code",
   "execution_count": 7,
   "id": "6021878d-4724-4ebb-8656-54eb7ac582ea",
   "metadata": {},
   "outputs": [
    {
     "name": "stdout",
     "output_type": "stream",
     "text": [
      "50 50\n"
     ]
    }
   ],
   "source": [
    "# to find max value\n",
    "\n",
    "mylist=[10,20,30,40,50]\n",
    "max=mylist[0]\n",
    "size=len(mylist)\n",
    "\n",
    "for i in range(0,size):\n",
    "    if(mylist[i]>max):\n",
    "       max=mylist[i]\n",
    "print(mylist[i],max)"
   ]
  },
  {
   "cell_type": "code",
   "execution_count": 155,
   "id": "1813d7fd-e57c-47b3-9d4b-59055da5c726",
   "metadata": {},
   "outputs": [
    {
     "name": "stdout",
     "output_type": "stream",
     "text": [
      "max is 401\n"
     ]
    }
   ],
   "source": [
    "mylist=[10,201,401,210,1,3]\n",
    "max=mylist[0]\n",
    "size=len(mylist)\n",
    "for i in range(0,size):\n",
    "    if(mylist[i]>max):\n",
    "        max=mylist[i]\n",
    "print(\"max is\",max)"
   ]
  },
  {
   "cell_type": "code",
   "execution_count": null,
   "id": "a34f9b8a-783c-49f9-af02-3ec5ba2ef8df",
   "metadata": {},
   "outputs": [],
   "source": [
    "# question\n",
    "#1. take a list annd print only the intiger data type\n",
    "#2. take a list and find out the minmum value(numaric value)\n",
    "#3. take a list and find out the ssecond higest number\n",
    "#4. take a list and print all the duplicate elements"
   ]
  }
 ],
 "metadata": {
  "kernelspec": {
   "display_name": "Python 3 (ipykernel)",
   "language": "python",
   "name": "python3"
  },
  "language_info": {
   "codemirror_mode": {
    "name": "ipython",
    "version": 3
   },
   "file_extension": ".py",
   "mimetype": "text/x-python",
   "name": "python",
   "nbconvert_exporter": "python",
   "pygments_lexer": "ipython3",
   "version": "3.12.7"
  }
 },
 "nbformat": 4,
 "nbformat_minor": 5
}
