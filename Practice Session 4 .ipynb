{
 "cells": [
  {
   "cell_type": "code",
   "execution_count": 1,
   "id": "fc759f04-18eb-484a-b685-1dc374fec25f",
   "metadata": {},
   "outputs": [],
   "source": [
    "# LIST QUESTION"
   ]
  },
  {
   "cell_type": "code",
   "execution_count": 9,
   "id": "cc652a30-b9c9-4c0b-aac4-7b2c80769b33",
   "metadata": {},
   "outputs": [
    {
     "name": "stdout",
     "output_type": "stream",
     "text": [
      "[0, 1]\n",
      "[1, 2]\n"
     ]
    }
   ],
   "source": [
    "# 1. FIND OUT THE TARGET FROM THE LIST.\n",
    "\n",
    "def twosum(num,target):\n",
    "    for i in range(len(num)):\n",
    "        for j in range(i+1,len(num)):    # check all numbers after i\n",
    "            if num[i] + num[j]==target:  # if sum match the target\n",
    "                return [i,j]             # return the indices\n",
    "\n",
    "# example usage:\n",
    "print(twosum([2,7,11,15],9))\n",
    "print(twosum([3,2,4],6))"
   ]
  },
  {
   "cell_type": "code",
   "execution_count": 11,
   "id": "88f1fc4b-f6a1-49d8-a7f9-d64020f3fcb5",
   "metadata": {},
   "outputs": [
    {
     "name": "stdout",
     "output_type": "stream",
     "text": [
      "['employee 2', 'employee 4', 'employee 5']\n"
     ]
    }
   ],
   "source": [
    "# 2.SOLVE THE QUESTION\n",
    "# PROBLAM STATEMENT:\n",
    "# A company tracks the monthaly sales of 6 employess in a list:\n",
    "# Your task is to determine which employees achived:\n",
    "# Sales above 5000 unite:\n",
    "# EXAMPLE INPUT:\n",
    "# SALES=[4500,6000,3000,8000,5500,4200]\n",
    "#EXPECTED OUTPUT:\n",
    "#[employees 2\", employees 4\", employees 5\"]\n",
    "\n",
    "\n",
    "sales =[4500,6000,3000,8000,5500,4200]\n",
    "high_performers=[]\n",
    "\n",
    "for i in range(len(sales)):\n",
    "    if sales[i]> 5000:\n",
    "        high_performers.append(f\"employee {i+1}\")\n",
    "\n",
    "print(high_performers)"
   ]
  },
  {
   "cell_type": "code",
   "execution_count": 13,
   "id": "f9a5b77f-94a5-4030-be08-64d25d5dc42d",
   "metadata": {},
   "outputs": [
    {
     "name": "stdout",
     "output_type": "stream",
     "text": [
      "5\n"
     ]
    }
   ],
   "source": [
    "# 3. BRUTE FORCE APPROACH\n",
    "\n",
    "def maxprofit(prices):\n",
    "    max_profit=0\n",
    "    for i in range(len(prices)):\n",
    "        for j in range(i+1, len(prices)):\n",
    "            profit=prices[j] - prices[i]\n",
    "            max_profit= max(max_profit,profit)\n",
    "\n",
    "    return max_profit\n",
    "\n",
    "#EXAMPLE USAGES :\n",
    "print(maxprofit([7,1,5,3,6,4]))\n"
   ]
  },
  {
   "cell_type": "code",
   "execution_count": 17,
   "id": "84fd1455-6d5b-42a9-b2e7-08b5899fb7cf",
   "metadata": {},
   "outputs": [
    {
     "name": "stdout",
     "output_type": "stream",
     "text": [
      "laptop -$800\n"
     ]
    }
   ],
   "source": [
    "# 4. FIND OUT THE MOST EXPENCIVE PRODUCT IN THE STORE.\n",
    "# problam statement\n",
    "# a stores sells different products, and there price are stored in a list.\n",
    "#FIND OUT THE MOST EXPENCIVE PRODUCT.\n",
    "\n",
    "product=[\"laptop\",\"phone\",\"headphones\",\"moniter\",\"keybord\"]\n",
    "prices=[800,500,200,300,100]\n",
    "\n",
    "max_price = max(prices)\n",
    "index=prices.index(max_price)\n",
    "print(f\"{product[index]} -${max_price}\")"
   ]
  },
  {
   "cell_type": "code",
   "execution_count": null,
   "id": "296704ab-5baa-4f1d-9a67-89c1341202e7",
   "metadata": {},
   "outputs": [],
   "source": []
  }
 ],
 "metadata": {
  "kernelspec": {
   "display_name": "Python [conda env:base] *",
   "language": "python",
   "name": "conda-base-py"
  },
  "language_info": {
   "codemirror_mode": {
    "name": "ipython",
    "version": 3
   },
   "file_extension": ".py",
   "mimetype": "text/x-python",
   "name": "python",
   "nbconvert_exporter": "python",
   "pygments_lexer": "ipython3",
   "version": "3.12.7"
  }
 },
 "nbformat": 4,
 "nbformat_minor": 5
}
