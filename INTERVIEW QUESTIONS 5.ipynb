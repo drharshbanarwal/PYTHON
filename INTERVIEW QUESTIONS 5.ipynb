{
 "cells": [
  {
   "cell_type": "code",
   "execution_count": 2,
   "id": "f1b17f43-e5fd-4e6f-a689-9a8b8ad4137d",
   "metadata": {},
   "outputs": [
    {
     "name": "stdout",
     "output_type": "stream",
     "text": [
      "[1, 2, 3, 4]\n"
     ]
    }
   ],
   "source": [
    "# 1.  Write a Python code to remove duplicates from a list\n",
    "\n",
    "list1 = [1, 2, 2, 3, 4, 4]\n",
    "unique_list1 = list(set(list1))\n",
    "print(unique_list1) #[1, 2, 3, 4]"
   ]
  },
  {
   "cell_type": "code",
   "execution_count": 4,
   "id": "7b180259-a126-4f92-8dce-87cfc54a48b5",
   "metadata": {},
   "outputs": [
    {
     "name": "stdout",
     "output_type": "stream",
     "text": [
      "True\n",
      "False\n"
     ]
    }
   ],
   "source": [
    "# 2. Write a Python code to check if a string is a palindrome.\n",
    "\n",
    "\n",
    "def is_palindrome(s):\n",
    "    return s == s[::-1]\n",
    "\n",
    "print(is_palindrome(\"radar\"))  # True\n",
    "print(is_palindrome(\"hello\"))  # False"
   ]
  },
  {
   "cell_type": "code",
   "execution_count": 6,
   "id": "d541eb43-1c92-455b-9526-5ccb9e718688",
   "metadata": {},
   "outputs": [
    {
     "name": "stdout",
     "output_type": "stream",
     "text": [
      "jumps\n"
     ]
    }
   ],
   "source": [
    "# 3. Write a Python program to find the longest word in a sentence. \n",
    "\n",
    "def longest_word(sentence):\n",
    "    words = sentence.split()\n",
    "    return max(words, key=len)\n",
    "\n",
    "print(longest_word(\"The fox jumps over the lazy dog\"))  # jumps"
   ]
  },
  {
   "cell_type": "code",
   "execution_count": 8,
   "id": "6d502aa0-4494-4ff1-8158-2d42b05c3b5d",
   "metadata": {},
   "outputs": [
    {
     "name": "stdout",
     "output_type": "stream",
     "text": [
      "n\n"
     ]
    }
   ],
   "source": [
    "# 4. Write a Python code to find the first non-repeating character in a string.\n",
    "\n",
    "\n",
    "def first_non_repeating_char(s):\n",
    "    char_count = {}\n",
    "    for char in s:\n",
    "        char_count[char] = char_count.get(char, 0) + 1\n",
    "    for char in s:\n",
    "        if char_count[char] == 1:\n",
    "            return char\n",
    "    return None\n",
    "\n",
    "print(first_non_repeating_char(\"nxtwave\"))  # n\n"
   ]
  },
  {
   "cell_type": "code",
   "execution_count": 10,
   "id": "5199df93-2b99-496d-abbf-852929881660",
   "metadata": {},
   "outputs": [
    {
     "name": "stdout",
     "output_type": "stream",
     "text": [
      "1\n"
     ]
    }
   ],
   "source": [
    "# 5. Write a Python code to count the number of uppercase letters in a string.\n",
    "\n",
    "def count_uppercase(s):\n",
    "    return sum(1 for char in s if char.isupper())\n",
    "\n",
    "print(count_uppercase(\"Nxtwave\"))  # 1\n"
   ]
  },
  {
   "cell_type": "code",
   "execution_count": 12,
   "id": "53cbfc0e-7755-4643-94a2-b597926e8155",
   "metadata": {},
   "outputs": [
    {
     "name": "stdout",
     "output_type": "stream",
     "text": [
      "{2, 3}\n"
     ]
    }
   ],
   "source": [
    "# 6. Write a Python program to find the intersection of two sets.\n",
    "\n",
    "\n",
    "\n",
    "def intersection(set1, set2):\n",
    "    return set1 & set2\n",
    "\n",
    "print(intersection({1, 2, 3}, {2, 3, 4}))  # {2, 3}"
   ]
  },
  {
   "cell_type": "code",
   "execution_count": 14,
   "id": "507c8428-bea3-46ca-aae8-baa9f56a0311",
   "metadata": {},
   "outputs": [
    {
     "name": "stdout",
     "output_type": "stream",
     "text": [
      "8\n"
     ]
    }
   ],
   "source": [
    "# 7. Write a Python code to implement a simple calculator. \n",
    "\n",
    "\n",
    "def calculator(a, b, operation):\n",
    "    if operation == 'add':\n",
    "        return a + b\n",
    "    elif operation == 'subtract':\n",
    "        return a - b\n",
    "    elif operation == 'multiply':\n",
    "        return a * b\n",
    "    elif operation == 'divide':\n",
    "        return a / b if b != 0 else \"Cannot divide by zero\"\n",
    "    else:\n",
    "        return \"Invalid operation\"\n",
    "\n",
    "print(calculator(5, 3, 'add'))  # 8"
   ]
  },
  {
   "cell_type": "code",
   "execution_count": 16,
   "id": "996191a5-d7e8-4f5d-b85c-af7bccf8fc7f",
   "metadata": {},
   "outputs": [
    {
     "name": "stdout",
     "output_type": "stream",
     "text": [
      "[32.0, 68.0, 98.6]\n"
     ]
    }
   ],
   "source": [
    "# 8. Write a Python code to convert a list of temperatures from Celsius to Fahrenheit .\n",
    "\n",
    "def celsius_to_fahrenheit(temps):\n",
    "    return [(temp * 9/5) + 32 for temp in temps]\n",
    "print(celsius_to_fahrenheit([0, 20, 37]))  # [32.0, 68.0, 98.6]"
   ]
  },
  {
   "cell_type": "code",
   "execution_count": null,
   "id": "b4e83c43-cf82-487e-99a6-6318a470658f",
   "metadata": {},
   "outputs": [],
   "source": []
  }
 ],
 "metadata": {
  "kernelspec": {
   "display_name": "Python [conda env:base] *",
   "language": "python",
   "name": "conda-base-py"
  },
  "language_info": {
   "codemirror_mode": {
    "name": "ipython",
    "version": 3
   },
   "file_extension": ".py",
   "mimetype": "text/x-python",
   "name": "python",
   "nbconvert_exporter": "python",
   "pygments_lexer": "ipython3",
   "version": "3.12.7"
  }
 },
 "nbformat": 4,
 "nbformat_minor": 5
}
