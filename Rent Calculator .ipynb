{
 "cells": [
  {
   "cell_type": "code",
   "execution_count": 4,
   "id": "6cc6aecd-dc81-40b0-a5cb-7c0d4bb2147b",
   "metadata": {},
   "outputs": [],
   "source": [
    "# RENT CALCULATOR \n"
   ]
  },
  {
   "cell_type": "code",
   "execution_count": 6,
   "id": "28913c91-8c63-4622-b7b1-cda40f9d4444",
   "metadata": {},
   "outputs": [],
   "source": [
    "# THE input we need from the user :\n",
    "# Total rent\n",
    "# Total food ordered for snacking\n",
    "# Electricity units spend\n",
    "# Charge per unit \n",
    "# Persons living in room/flat\n",
    "\n",
    "## Output\n",
    "# Total amount you've to pay is"
   ]
  },
  {
   "cell_type": "code",
   "execution_count": 8,
   "id": "365c5fc3-fc77-49f9-ba20-1816091340e1",
   "metadata": {},
   "outputs": [
    {
     "name": "stdin",
     "output_type": "stream",
     "text": [
      "Enter your hostel/flat rent =  5000\n",
      "Enter the amount of food ordered =  200\n",
      "Enter the total of electricity spend =  4000\n",
      "Enter the charge per unit =  10\n",
      "Enter the number of persons living in room/flat =  5\n"
     ]
    },
    {
     "name": "stdout",
     "output_type": "stream",
     "text": [
      "Each person will pay =  9040\n"
     ]
    }
   ],
   "source": [
    "rent = int(input(\"Enter your hostel/flat rent = \"))\n",
    "food = int(input(\"Enter the amount of food ordered = \"))\n",
    "electricity_spend = int(input(\"Enter the total of electricity spend = \"))\n",
    "charge_per_unit = int(input(\"Enter the charge per unit = \"))\n",
    "persons = int(input(\"Enter the number of persons living in room/flat = \"))\n",
    "\n",
    "total_bill = electricity_spend * charge_per_unit\n",
    "\n",
    "output = (food + rent + total_bill) // persons\n",
    "\n",
    "print(\"Each person will pay = \", output)"
   ]
  },
  {
   "cell_type": "code",
   "execution_count": null,
   "id": "a0de5cfd-120e-4ab4-903d-77b0f608aa87",
   "metadata": {},
   "outputs": [],
   "source": []
  }
 ],
 "metadata": {
  "kernelspec": {
   "display_name": "Python [conda env:base] *",
   "language": "python",
   "name": "conda-base-py"
  },
  "language_info": {
   "codemirror_mode": {
    "name": "ipython",
    "version": 3
   },
   "file_extension": ".py",
   "mimetype": "text/x-python",
   "name": "python",
   "nbconvert_exporter": "python",
   "pygments_lexer": "ipython3",
   "version": "3.12.7"
  }
 },
 "nbformat": 4,
 "nbformat_minor": 5
}
