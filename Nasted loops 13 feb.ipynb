{
 "cells": [
  {
   "cell_type": "code",
   "execution_count": 5,
   "id": "35b3c16c-f780-473f-b21c-d906f65e2864",
   "metadata": {},
   "outputs": [
    {
     "name": "stdout",
     "output_type": "stream",
     "text": [
      "person 1\n",
      "person 2\n",
      "person 3\n",
      "person 4\n"
     ]
    }
   ],
   "source": [
    "for i in range(1,5):\n",
    "    print(\"person\",i)"
   ]
  },
  {
   "cell_type": "code",
   "execution_count": 11,
   "id": "28815e3c-19d5-49d3-8f9f-d3a9f68dd07c",
   "metadata": {},
   "outputs": [
    {
     "name": "stdout",
     "output_type": "stream",
     "text": [
      "person 1\n",
      "good morning\n",
      "good morning\n",
      "good morning\n",
      "good morning\n"
     ]
    }
   ],
   "source": [
    "for i in range(1,5):\n",
    "    print(\"person\",i)\n",
    "    for k in range(1,5):\n",
    "        print(\"good morning\")\n",
    "    break"
   ]
  },
  {
   "cell_type": "code",
   "execution_count": 15,
   "id": "2b08a764-c231-42d7-b561-3d6a9a0ad831",
   "metadata": {},
   "outputs": [
    {
     "name": "stdout",
     "output_type": "stream",
     "text": [
      "person 1\n",
      "good morning 1\n",
      "good morning 2\n",
      "good morning 3\n",
      "good morning 4\n"
     ]
    }
   ],
   "source": [
    "for i in range(1,5):\n",
    "    print(\"person\",i)\n",
    "    for k in range(1,5):\n",
    "        print(\"good morning\",k)\n",
    "    break"
   ]
  },
  {
   "cell_type": "code",
   "execution_count": 19,
   "id": "c85e3e8a-e1f2-43a1-a92b-7c6e5c8f591b",
   "metadata": {},
   "outputs": [
    {
     "name": "stdout",
     "output_type": "stream",
     "text": [
      "person 1\n",
      "good morning 1\n",
      "good morning 2\n",
      "good morning 3\n",
      "good morning 4\n",
      "person 2\n",
      "good morning 1\n",
      "good morning 2\n",
      "good morning 3\n",
      "good morning 4\n",
      "person 3\n",
      "good morning 1\n",
      "good morning 2\n",
      "good morning 3\n",
      "good morning 4\n",
      "person 4\n",
      "good morning 1\n",
      "good morning 2\n",
      "good morning 3\n",
      "good morning 4\n"
     ]
    }
   ],
   "source": [
    "for i in range(1,5):\n",
    "    print(\"person\",i)\n",
    "    for k in range(1,5):\n",
    "        print(\"good morning\",k)"
   ]
  },
  {
   "cell_type": "code",
   "execution_count": 23,
   "id": "dde8bcc3-7017-478c-b6db-ee92afeca932",
   "metadata": {},
   "outputs": [
    {
     "name": "stdout",
     "output_type": "stream",
     "text": [
      "person 1\n",
      "good morning 5\n",
      "good morning 4\n",
      "good morning 3\n",
      "good morning 2\n",
      "good morning 1\n",
      "person 2\n",
      "good morning 5\n",
      "good morning 4\n",
      "good morning 3\n",
      "good morning 2\n",
      "good morning 1\n",
      "person 3\n",
      "good morning 5\n",
      "good morning 4\n",
      "good morning 3\n",
      "good morning 2\n",
      "good morning 1\n",
      "person 4\n",
      "good morning 5\n",
      "good morning 4\n",
      "good morning 3\n",
      "good morning 2\n",
      "good morning 1\n"
     ]
    }
   ],
   "source": [
    "for i in range(1,5):\n",
    "    print(\"person\",i)\n",
    "    for k in range(5,0,-1):\n",
    "        print(\"good morning\",k)"
   ]
  },
  {
   "cell_type": "code",
   "execution_count": 27,
   "id": "7e0a73ec-a0b2-4880-a775-bbebe37f6836",
   "metadata": {},
   "outputs": [
    {
     "name": "stdout",
     "output_type": "stream",
     "text": [
      "person 5\n",
      "good morning 1\n",
      "good morning 2\n",
      "good morning 3\n",
      "good morning 4\n",
      "person 4\n",
      "good morning 1\n",
      "good morning 2\n",
      "good morning 3\n",
      "good morning 4\n",
      "person 3\n",
      "good morning 1\n",
      "good morning 2\n",
      "good morning 3\n",
      "good morning 4\n",
      "person 2\n",
      "good morning 1\n",
      "good morning 2\n",
      "good morning 3\n",
      "good morning 4\n",
      "person 1\n",
      "good morning 1\n",
      "good morning 2\n",
      "good morning 3\n",
      "good morning 4\n"
     ]
    }
   ],
   "source": [
    "for i in range(5,0,-1):\n",
    "    print(\"person\",i)\n",
    "    for k in range(1,5):\n",
    "        print(\"good morning\",k)"
   ]
  },
  {
   "cell_type": "code",
   "execution_count": 31,
   "id": "c36f352d-8dc8-42bd-8e65-0be3c7d5427e",
   "metadata": {},
   "outputs": [
    {
     "name": "stdout",
     "output_type": "stream",
     "text": [
      "person 1\n",
      "good morning 1\n",
      "person 2\n",
      "good morning 1\n",
      "good morning 2\n",
      "person 3\n",
      "good morning 1\n",
      "good morning 2\n",
      "good morning 3\n",
      "person 4\n",
      "good morning 1\n",
      "good morning 2\n",
      "good morning 3\n",
      "good morning 4\n"
     ]
    }
   ],
   "source": [
    "for i in range(1,5):\n",
    "    print(\"person\",i)\n",
    "    for k in range(1,i+1):\n",
    "        print(\"good morning\",k)"
   ]
  },
  {
   "cell_type": "code",
   "execution_count": 37,
   "id": "8a7c1939-1bd2-4154-97a9-555d07af4ca6",
   "metadata": {},
   "outputs": [
    {
     "name": "stdout",
     "output_type": "stream",
     "text": [
      "person 5\n",
      "good morning 6\n",
      "person 4\n",
      "good morning 6\n",
      "good morning 5\n",
      "person 3\n",
      "good morning 6\n",
      "good morning 5\n",
      "good morning 4\n",
      "person 2\n",
      "good morning 6\n",
      "good morning 5\n",
      "good morning 4\n",
      "good morning 3\n"
     ]
    }
   ],
   "source": [
    "for i in range(5,1,-1):\n",
    "    print(\"person\",i)\n",
    "    for k in range(6,i,-1):\n",
    "        print(\"good morning\",k)"
   ]
  },
  {
   "cell_type": "code",
   "execution_count": 41,
   "id": "62666544-8207-4ecd-bc92-8e705c7296d8",
   "metadata": {},
   "outputs": [
    {
     "name": "stdout",
     "output_type": "stream",
     "text": [
      "person 5\n",
      "good morning 5\n",
      "person 4\n",
      "good morning 4\n",
      "good morning 5\n",
      "person 3\n",
      "good morning 3\n",
      "good morning 4\n",
      "good morning 5\n",
      "person 2\n",
      "good morning 2\n",
      "good morning 3\n",
      "good morning 4\n",
      "good morning 5\n"
     ]
    }
   ],
   "source": [
    "for i in range(5,1,-1):\n",
    "    print(\"person\",i)\n",
    "    for k in range(i,6):\n",
    "        print(\"good morning\",k)"
   ]
  },
  {
   "cell_type": "code",
   "execution_count": 59,
   "id": "9c1adcae-351a-4ddf-aa7b-07e5c83fc974",
   "metadata": {},
   "outputs": [
    {
     "name": "stdout",
     "output_type": "stream",
     "text": [
      "2 4 6 8 10 12 14 16 18 20 2 4 6 8 10 12 14 16 18 20 "
     ]
    }
   ],
   "source": [
    "#table print\n",
    "n=2\n",
    "for i in range(n):   \n",
    "    for j in range(1,11):\n",
    "        print(n*j,end=\" \")"
   ]
  },
  {
   "cell_type": "code",
   "execution_count": 45,
   "id": "dbb988db-49b7-4d4b-9491-117f5eee4470",
   "metadata": {},
   "outputs": [
    {
     "name": "stdout",
     "output_type": "stream",
     "text": [
      " \n",
      "2 4 6 8 10 12 14 16 18 20  \n",
      "3 6 9 12 15 18 21 24 27 30  \n",
      "4 8 12 16 20 24 28 32 36 40  \n",
      "5 10 15 20 25 30 35 40 45 50  \n",
      "6 12 18 24 30 36 42 48 54 60 "
     ]
    }
   ],
   "source": [
    "for i in range(2,7):\n",
    "    print(\" \")\n",
    "    for j in range(1,11):\n",
    "        print(i*j,end=\" \")\n",
    "     "
   ]
  },
  {
   "cell_type": "code",
   "execution_count": 73,
   "id": "0a3d9a9d-5881-4850-b1d2-0dcb7974b6b6",
   "metadata": {},
   "outputs": [
    {
     "name": "stdout",
     "output_type": "stream",
     "text": [
      "2\n",
      "2 4 6 8 10 12 14 16 18 20 4\n",
      "4 8 12 16 20 24 28 32 36 40 6\n",
      "6 12 18 24 30 36 42 48 54 60 "
     ]
    }
   ],
   "source": [
    "# even number table\n",
    "\n",
    "for i in range(2,7):\n",
    "    if(i%2==0):\n",
    "        print(i)\n",
    "        for j in range(1,11):\n",
    "            print(i*j,end=\" \")"
   ]
  },
  {
   "cell_type": "code",
   "execution_count": 75,
   "id": "6b14a48d-b2b2-41f0-9e63-594b7e847dd2",
   "metadata": {},
   "outputs": [],
   "source": [
    "# prime number"
   ]
  },
  {
   "cell_type": "code",
   "execution_count": 85,
   "id": "bd358909-c33e-4459-a312-84ae63ea5fd9",
   "metadata": {},
   "outputs": [
    {
     "name": "stdout",
     "output_type": "stream",
     "text": [
      "not prime \n"
     ]
    }
   ],
   "source": [
    "n=10\n",
    "cond=0\n",
    "for i in range(2,n):\n",
    "    if(n%i==0):\n",
    "        cond=1\n",
    "        break\n",
    "if(cond==0):\n",
    "    print(\"prime number\") \n",
    "else:\n",
    "    print(\"not prime \")"
   ]
  },
  {
   "cell_type": "code",
   "execution_count": 89,
   "id": "75f138b0-cfae-466b-9e3c-e80efad9faba",
   "metadata": {},
   "outputs": [
    {
     "name": "stdout",
     "output_type": "stream",
     "text": [
      "prime number\n"
     ]
    }
   ],
   "source": [
    "n=13\n",
    "cond=0\n",
    "for i in range(2,n):\n",
    "    if(n%i==0):\n",
    "        cond=1\n",
    "        break\n",
    "if(cond==0):\n",
    "    print(\"prime number\")\n",
    "else:\n",
    "    print(\"not prime \")"
   ]
  },
  {
   "cell_type": "code",
   "execution_count": 93,
   "id": "6f065be7-6324-49ae-8c86-dbbef91bfff6",
   "metadata": {},
   "outputs": [
    {
     "name": "stdout",
     "output_type": "stream",
     "text": [
      "prime 2\n",
      "prime 3\n",
      "not prime 4\n",
      "prime 5\n",
      "not prime 6\n",
      "prime 7\n",
      "not prime 8\n",
      "not prime 9\n",
      "not prime 10\n",
      "prime 11\n"
     ]
    }
   ],
   "source": [
    "for n in range(2,12):\n",
    "    cond=0\n",
    "    for i in range(2,n):\n",
    "        if(n%i==0):\n",
    "            cond=1\n",
    "            break\n",
    "    if(cond==0):\n",
    "        print(\"prime\",n)\n",
    "    else:\n",
    "        print(\"not prime\",n)"
   ]
  },
  {
   "cell_type": "code",
   "execution_count": 95,
   "id": "42dce6ec-b04c-4edb-9487-fa73cfb21959",
   "metadata": {},
   "outputs": [],
   "source": [
    "# armstrong number"
   ]
  },
  {
   "cell_type": "code",
   "execution_count": 101,
   "id": "feccd671-27c6-4dfc-ac60-613b7bfd2fa1",
   "metadata": {},
   "outputs": [
    {
     "name": "stdout",
     "output_type": "stream",
     "text": [
      "before num: 153\n",
      "rem 3 num: 15\n",
      "before num: 15\n",
      "rem 5 num: 1\n",
      "before num: 1\n",
      "rem 1 num: 0\n"
     ]
    }
   ],
   "source": [
    "n=153\n",
    "while(n>0):\n",
    "    print(\"before num:\",n)\n",
    "    rem=n%10\n",
    "    n=n//10\n",
    "    print(\"rem\",rem, \"num:\",n)"
   ]
  },
  {
   "cell_type": "code",
   "execution_count": 107,
   "id": "1332ae1d-4eba-4567-ad55-3b44399fb3cd",
   "metadata": {},
   "outputs": [
    {
     "name": "stdin",
     "output_type": "stream",
     "text": [
      "enter the number 45\n"
     ]
    },
    {
     "name": "stdout",
     "output_type": "stream",
     "text": [
      "before total: 45\n",
      "before total: 4\n",
      "not armstrong\n"
     ]
    }
   ],
   "source": [
    "n=int(input(\"enter the number\"))\n",
    "x=n\n",
    "total=0\n",
    "while(n>0):\n",
    "    print(\"before total:\",n)\n",
    "    rem=n%10\n",
    "    n=n//10\n",
    "    total=total+rem**3\n",
    "\n",
    "if(x==total):\n",
    "    print(\"armstrong number\",x)\n",
    "else:\n",
    "    print(\"not armstrong\")\n",
    "    "
   ]
  },
  {
   "cell_type": "code",
   "execution_count": 111,
   "id": "2fb89e13-f5b6-495e-a95c-9618e6034ac0",
   "metadata": {},
   "outputs": [
    {
     "name": "stdout",
     "output_type": "stream",
     "text": [
      "before total: 153\n",
      "before total: 15\n",
      "before total: 1\n",
      "armstrong number 153\n"
     ]
    }
   ],
   "source": [
    "n=153\n",
    "x=n\n",
    "total=0\n",
    "while(n>0):\n",
    "    print(\"before total:\",n)\n",
    "    rem=n%10\n",
    "    n=n//10\n",
    "    total=total+rem**3\n",
    "\n",
    "if(x==total):\n",
    "    print(\"armstrong number\",x)\n",
    "else:\n",
    "    print(\"not armstrong\")\n",
    "    "
   ]
  },
  {
   "cell_type": "code",
   "execution_count": 127,
   "id": "49616a05-03d5-40a2-8188-370a773d30bf",
   "metadata": {},
   "outputs": [
    {
     "name": "stdout",
     "output_type": "stream",
     "text": [
      "not armstrong 150\n",
      "not armstrong 151\n",
      "not armstrong 152\n",
      "armstrong 153\n",
      "not armstrong 154\n"
     ]
    }
   ],
   "source": [
    "# with for loop\n",
    "for n in range(150,155):\n",
    "    x=n\n",
    "    total=0\n",
    "    while(n>0):\n",
    "        rem=n%10\n",
    "        n=n//10\n",
    "        total=total+rem**3\n",
    "\n",
    "    if(x==total):\n",
    "        print(\"armstrong\",x)\n",
    "    else:\n",
    "        print(\"not armstrong\",x)\n",
    "\n",
    "    "
   ]
  },
  {
   "cell_type": "code",
   "execution_count": 129,
   "id": "c98b9bca-1fbe-4bf3-8447-843d49c6e4f6",
   "metadata": {},
   "outputs": [],
   "source": [
    "# star pattern"
   ]
  },
  {
   "cell_type": "code",
   "execution_count": 133,
   "id": "be528606-85e8-4636-a3d4-bdeeb7fbe02d",
   "metadata": {},
   "outputs": [
    {
     "name": "stdout",
     "output_type": "stream",
     "text": [
      " \n",
      "* * * *  \n",
      "* * * *  \n",
      "* * * *  \n",
      "* * * * \n"
     ]
    }
   ],
   "source": [
    "for i in range(1,5):\n",
    "    print(\" \")\n",
    "    for j in range(1,5):\n",
    "        print(\"*\",end=\" \")\n",
    "\n",
    "print(\"\")"
   ]
  },
  {
   "cell_type": "code",
   "execution_count": 137,
   "id": "da128380-7ea6-42f1-b2ac-bd06b012c88d",
   "metadata": {},
   "outputs": [
    {
     "name": "stdout",
     "output_type": "stream",
     "text": [
      " \n",
      "* * *  \n",
      "* * *  \n",
      "* * * \n"
     ]
    }
   ],
   "source": [
    "for i in range(1,4):\n",
    "    print(\" \")\n",
    "    for j in range(1,4):\n",
    "        print(\"*\",end=\" \")\n",
    "\n",
    "print(\"\")"
   ]
  },
  {
   "cell_type": "code",
   "execution_count": 145,
   "id": "7876e49f-95fd-4e24-8a2a-f5f30dcc5c0d",
   "metadata": {},
   "outputs": [
    {
     "name": "stdout",
     "output_type": "stream",
     "text": [
      " \n",
      " \n",
      "1  \n",
      "1 2  \n",
      "1 2 3 \n"
     ]
    }
   ],
   "source": [
    "n=2\n",
    "for i in range(1,5):\n",
    "    print(\" \")\n",
    "    for j in range(1,i):\n",
    "        print(j,end=\" \")\n",
    "\n",
    "print(\"\")\n",
    "    "
   ]
  }
 ],
 "metadata": {
  "kernelspec": {
   "display_name": "Python [conda env:base] *",
   "language": "python",
   "name": "conda-base-py"
  },
  "language_info": {
   "codemirror_mode": {
    "name": "ipython",
    "version": 3
   },
   "file_extension": ".py",
   "mimetype": "text/x-python",
   "name": "python",
   "nbconvert_exporter": "python",
   "pygments_lexer": "ipython3",
   "version": "3.12.7"
  }
 },
 "nbformat": 4,
 "nbformat_minor": 5
}
