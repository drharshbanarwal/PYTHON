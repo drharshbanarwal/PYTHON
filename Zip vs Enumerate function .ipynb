{
 "cells": [
  {
   "cell_type": "code",
   "execution_count": 1,
   "id": "04c14164-7b1f-46d8-9764-3df31fd7f93a",
   "metadata": {},
   "outputs": [],
   "source": [
    "# ZIP\n",
    "# The zip() function returns a zip object, which is an iterator of tuples where the first item in each passed iterator is paired together\n",
    "# allow us to join (LIST, TUPLES, DICTIONARY)\n",
    "# zip function returns iterator in TUPLE"
   ]
  },
  {
   "cell_type": "code",
   "execution_count": 5,
   "id": "c632b6c7-6833-4999-9f58-552a3d3a8e79",
   "metadata": {},
   "outputs": [
    {
     "name": "stdout",
     "output_type": "stream",
     "text": [
      "[('harsh', 28), ('shivam', 26), ('honey', 27)]\n"
     ]
    }
   ],
   "source": [
    "name=[\"harsh\",\"shivam\",\"honey\"]\n",
    "age=[28,26,27]\n",
    "\n",
    "zipped =zip(name,age)\n",
    "print(list(zipped))"
   ]
  },
  {
   "cell_type": "code",
   "execution_count": 9,
   "id": "3f0f9b37-ec3b-4aac-81e8-418d6e6214d8",
   "metadata": {},
   "outputs": [
    {
     "name": "stdout",
     "output_type": "stream",
     "text": [
      "[('harsh', 10000), ('shivam', 20000), ('honey', 30000)]\n"
     ]
    }
   ],
   "source": [
    "name= [\"harsh\",\"shivam\",\"honey\"]\n",
    "salary=[10000,20000,30000]\n",
    "\n",
    "zipped=zip(name,salary)\n",
    "print(list(zipped))"
   ]
  },
  {
   "cell_type": "code",
   "execution_count": 11,
   "id": "51175e23-51dd-495f-908d-54e2ffe84ef1",
   "metadata": {},
   "outputs": [],
   "source": [
    "# ENUMRATE FUNCTION\n",
    "# The enumerate function in Python adds a counter to an iterable and returns it as an enumerate object. \n",
    "# This function is useful for keeping track of the index and value while iterating over a sequence.\n",
    "# Takes the iterator in (LIST,TUPLE,STRING)\n",
    "# return the iterator in INDEX AND VALUE\n"
   ]
  },
  {
   "cell_type": "code",
   "execution_count": 15,
   "id": "0740573a-9141-488c-a48a-6e7337096bee",
   "metadata": {},
   "outputs": [
    {
     "name": "stdout",
     "output_type": "stream",
     "text": [
      "0 apple\n",
      "1 mango\n",
      "2 banana\n"
     ]
    }
   ],
   "source": [
    "fruits=[\"apple\",\"mango\",\"banana\"]\n",
    "for i, fruits in enumerate(fruits):\n",
    "    print(i,fruits)"
   ]
  },
  {
   "cell_type": "code",
   "execution_count": 17,
   "id": "820d3367-a867-4b80-bd59-25d408e37a6c",
   "metadata": {},
   "outputs": [
    {
     "name": "stdout",
     "output_type": "stream",
     "text": [
      "0 harsh\n",
      "1 shivali\n",
      "2 honey\n"
     ]
    }
   ],
   "source": [
    "name=[\"harsh\",\"shivali\",\"honey\"]\n",
    "for i, name in enumerate(name):\n",
    "    print(i,name)"
   ]
  }
 ],
 "metadata": {
  "kernelspec": {
   "display_name": "Python [conda env:base] *",
   "language": "python",
   "name": "conda-base-py"
  },
  "language_info": {
   "codemirror_mode": {
    "name": "ipython",
    "version": 3
   },
   "file_extension": ".py",
   "mimetype": "text/x-python",
   "name": "python",
   "nbconvert_exporter": "python",
   "pygments_lexer": "ipython3",
   "version": "3.12.7"
  }
 },
 "nbformat": 4,
 "nbformat_minor": 5
}
