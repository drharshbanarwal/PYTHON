{
 "cells": [
  {
   "cell_type": "code",
   "execution_count": 4,
   "id": "9dce7484-1121-4643-9395-06370f21d038",
   "metadata": {},
   "outputs": [
    {
     "name": "stdout",
     "output_type": "stream",
     "text": [
      "not prime\n"
     ]
    }
   ],
   "source": [
    "# complete code to find out the prime number\n",
    "\n",
    "num=15\n",
    "a=0\n",
    "for i in range(2,15):\n",
    "    if(num%i==0):\n",
    "        a=1\n",
    "        break\n",
    "\n",
    "if(a==0):\n",
    "    print(\"prime number\")\n",
    "\n",
    "else:\n",
    "    print(\"not prime\")"
   ]
  },
  {
   "cell_type": "code",
   "execution_count": 6,
   "id": "9d8ca46b-11c9-4d98-b69e-8608a1fd8be9",
   "metadata": {},
   "outputs": [
    {
     "name": "stdout",
     "output_type": "stream",
     "text": [
      "not prime is  3 of 15\n"
     ]
    }
   ],
   "source": [
    "# prime number\n",
    "\n",
    "num=15\n",
    "for i in range(2,15):\n",
    "    if(num%i==0):\n",
    "        print(\"not prime is \",i ,\"of\",num)\n",
    "        break\n"
   ]
  },
  {
   "cell_type": "code",
   "execution_count": 8,
   "id": "18c4f6ec-5ad9-416c-b642-c29137728abc",
   "metadata": {},
   "outputs": [
    {
     "name": "stdout",
     "output_type": "stream",
     "text": [
      "prime 2 is 15\n",
      "not prime 3 is 15\n",
      "prime 4 is 15\n",
      "not prime 5 is 15\n",
      "prime 6 is 15\n",
      "prime 7 is 15\n",
      "prime 8 is 15\n",
      "prime 9 is 15\n",
      "prime 10 is 15\n",
      "prime 11 is 15\n",
      "prime 12 is 15\n",
      "prime 13 is 15\n",
      "prime 14 is 15\n"
     ]
    }
   ],
   "source": [
    "# prime number\n",
    "\n",
    "num=15\n",
    "for i in range(2,15):\n",
    "    if(num%i==0):\n",
    "        print(\"not prime\",i ,\"is\",num)\n",
    "\n",
    "    else:\n",
    "        print(\"prime\",i ,\"is\",num)"
   ]
  },
  {
   "cell_type": "code",
   "execution_count": 10,
   "id": "6bc8008e-9442-4c8c-bc9e-4cd88e42e700",
   "metadata": {},
   "outputs": [
    {
     "name": "stdin",
     "output_type": "stream",
     "text": [
      "enter the number 45\n"
     ]
    },
    {
     "name": "stdout",
     "output_type": "stream",
     "text": [
      "5 4\n",
      "4 0\n",
      "0 0\n"
     ]
    }
   ],
   "source": [
    "# reverse by user input using for loop\n",
    "\n",
    "x=int(input(\"enter the number\"))\n",
    "for i in range(0,3):\n",
    "    rem=x%10\n",
    "    x=x//10\n",
    "    print(rem,x)"
   ]
  },
  {
   "cell_type": "code",
   "execution_count": 12,
   "id": "e95c81b3-e6e2-4bff-ac2f-b4b503278f10",
   "metadata": {},
   "outputs": [
    {
     "name": "stdout",
     "output_type": "stream",
     "text": [
      "2 43\n",
      "3 4\n",
      "4 0\n"
     ]
    }
   ],
   "source": [
    "x=432\n",
    "for i in range(0,3):\n",
    "    rem=x%10\n",
    "    x=x//10\n",
    "    print(rem,x)"
   ]
  },
  {
   "cell_type": "code",
   "execution_count": null,
   "id": "498f80d3-3aba-4c19-b823-c6ee0bf68419",
   "metadata": {},
   "outputs": [],
   "source": [
    "# reverse of an number by using for loop.\n",
    "x=432\n",
    "for i in range(0,3):\n",
    "    rem=x%10\n",
    "    x=x//10\n",
    "    print(rem)"
   ]
  }
 ],
 "metadata": {
  "kernelspec": {
   "display_name": "Python [conda env:base] *",
   "language": "python",
   "name": "conda-base-py"
  },
  "language_info": {
   "codemirror_mode": {
    "name": "ipython",
    "version": 3
   },
   "file_extension": ".py",
   "mimetype": "text/x-python",
   "name": "python",
   "nbconvert_exporter": "python",
   "pygments_lexer": "ipython3",
   "version": "3.12.7"
  }
 },
 "nbformat": 4,
 "nbformat_minor": 5
}
