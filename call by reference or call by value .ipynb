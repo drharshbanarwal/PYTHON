{
 "cells": [
  {
   "cell_type": "code",
   "execution_count": 1,
   "id": "665c5603-5992-444b-846f-a1433be4c695",
   "metadata": {},
   "outputs": [],
   "source": [
    "# CALL BY VALUE :  when you pass a variable to a function, you’re essentially handing over the actual value of the variable itself,\n",
    "# not the reference to the object it’s pointing to.\n",
    "# it create different memory adress."
   ]
  },
  {
   "cell_type": "code",
   "execution_count": 3,
   "id": "6429aa46-0807-4747-bdc5-07b68650bfb0",
   "metadata": {},
   "outputs": [],
   "source": [
    "# CALL BY REFERNCE : way of handing arguments to functions where the reference to the real object gets passed instead of the object’s actual value.\n",
    "# This means that if you make changes to the object within the function, those changes directly affect the original object outside the function. \n",
    "# only memory  adress pass no copy created\n",
    "# CALL BY REFENCE IN PYTHON ALSO CALL BY OBJECT REFERENCE\n",
    "# Refer same memory adress."
   ]
  },
  {
   "cell_type": "code",
   "execution_count": 5,
   "id": "7bc68488-5d91-4a69-b66f-a8c327cc0dcc",
   "metadata": {},
   "outputs": [],
   "source": [
    "# It has Two Category\n",
    "\n"
   ]
  },
  {
   "cell_type": "code",
   "execution_count": 7,
   "id": "bd992708-2098-4e87-a404-3562e3da5ba0",
   "metadata": {},
   "outputs": [],
   "source": [
    "# 1. Mutable Data Type : Change in same memory adress\n",
    "\n",
    "# NOTE : Dictionary ,List and Set"
   ]
  },
  {
   "cell_type": "code",
   "execution_count": 9,
   "id": "0b3df124-0db8-4319-8949-66e1c1c20ad1",
   "metadata": {},
   "outputs": [],
   "source": [
    "# 2. Imutable Data Type : New memory adress created (and changes in new memory adress)\n",
    "\n",
    "# NOTE : Float, Intenger , Complex , String , Tuple , Whole number"
   ]
  },
  {
   "cell_type": "code",
   "execution_count": null,
   "id": "e5ab280e-5283-400f-b8af-afc3adbe53be",
   "metadata": {},
   "outputs": [],
   "source": []
  }
 ],
 "metadata": {
  "kernelspec": {
   "display_name": "Python [conda env:base] *",
   "language": "python",
   "name": "conda-base-py"
  },
  "language_info": {
   "codemirror_mode": {
    "name": "ipython",
    "version": 3
   },
   "file_extension": ".py",
   "mimetype": "text/x-python",
   "name": "python",
   "nbconvert_exporter": "python",
   "pygments_lexer": "ipython3",
   "version": "3.12.7"
  }
 },
 "nbformat": 4,
 "nbformat_minor": 5
}
