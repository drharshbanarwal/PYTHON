{
 "cells": [
  {
   "cell_type": "code",
   "execution_count": 7,
   "id": "bb0e6451-7132-4989-a13f-daac8749eb58",
   "metadata": {},
   "outputs": [
    {
     "name": "stdin",
     "output_type": "stream",
     "text": [
      "enter any number 5\n"
     ]
    },
    {
     "name": "stdout",
     "output_type": "stream",
     "text": [
      "odd number\n"
     ]
    }
   ],
   "source": [
    "#Q1 Write a program that takes an integer input from the user and checks whether the number is odd or\n",
    "#even.\n",
    "a= int(input(\"enter any number\"))\n",
    "if(a%2==0):\n",
    "    print(\"even number\")\n",
    "elif(a%2!=0):\n",
    "     print(\"odd number\")"
   ]
  },
  {
   "cell_type": "code",
   "execution_count": 13,
   "id": "6208622a-ba84-40b1-bf71-f38121775ec1",
   "metadata": {},
   "outputs": [
    {
     "name": "stdin",
     "output_type": "stream",
     "text": [
      "enter any number 4\n",
      "enter any number 4\n",
      "enter any number 4\n"
     ]
    },
    {
     "name": "stdout",
     "output_type": "stream",
     "text": [
      " a is the largest value\n"
     ]
    }
   ],
   "source": [
    "#Q2 Write a program that takes three numbers as input and prints the largest of the three.\n",
    "a= int(input(\"enter any number\"))\n",
    "b= int(input(\"enter any number\"))\n",
    "c= int(input(\"enter any number\"))\n",
    "if(a>=b and a>=c):\n",
    "    print(\" a is the largest value\")\n",
    "elif(b>=a and b>=c):\n",
    "    print(\"b is largest\")\n",
    "else:\n",
    "    print(\"c is largest\")\n",
    "        "
   ]
  },
  {
   "cell_type": "code",
   "execution_count": 27,
   "id": "60905584-91a2-477d-ae04-1d452fb30fa7",
   "metadata": {},
   "outputs": [
    {
     "name": "stdin",
     "output_type": "stream",
     "text": [
      "enter any number 5\n"
     ]
    },
    {
     "name": "stdout",
     "output_type": "stream",
     "text": [
      "fail\n"
     ]
    }
   ],
   "source": [
    "#Q4 Write a program that takes a percentage (integer) as input and prints the corresponding grade based\n",
    "#on the following criteria:\n",
    "# >= 90: Grade A\n",
    "# >= 80: Grade B\n",
    "# >= 70: Grade C\n",
    "# >= 60: Grade D\n",
    "# < 60: Grade F\n",
    "\n",
    "num=int(input(\"enter any number\"))\n",
    "if(num>=90 and num<=100):\n",
    "    print(\"grade A\")\n",
    "elif (num>=80 and num<=100):\n",
    "    print(\"grade B\")\n",
    "elif(num>=70 and num<=100):\n",
    "    print(\"grade C\")\n",
    "elif(num>=60 and num<=100):\n",
    "    print(\"grade D\")\n",
    "elif (num<=60):\n",
    "    print(\"fail\")"
   ]
  },
  {
   "cell_type": "code",
   "execution_count": 35,
   "id": "2b55e788-33dc-4d19-a083-1ba139b932d3",
   "metadata": {},
   "outputs": [
    {
     "name": "stdin",
     "output_type": "stream",
     "text": [
      "enter any charcter a\n"
     ]
    },
    {
     "name": "stdout",
     "output_type": "stream",
     "text": [
      "vowel\n"
     ]
    }
   ],
   "source": [
    "#Q5 Write a program that checks if a given letter is a vowel (a, e, i, o, u) or a consonant.\n",
    "a=(input(\"enter any charcter\"))\n",
    "if (a=='a' or a=='e' or a=='i' or a=='o' or a=='u'):\n",
    "    print(\"vowel\")\n",
    "else:\n",
    "    print(\"charcter not matched\")"
   ]
  },
  {
   "cell_type": "code",
   "execution_count": 43,
   "id": "70489662-2428-4c34-aa7d-c00f65365fec",
   "metadata": {},
   "outputs": [
    {
     "name": "stdin",
     "output_type": "stream",
     "text": [
      "enter a number 2\n",
      "enter a number 2\n",
      "enter the func /\n"
     ]
    },
    {
     "name": "stdout",
     "output_type": "stream",
     "text": [
      "1.0\n"
     ]
    }
   ],
   "source": [
    "#Q6 Write a basic calculator program that takes two numbers and an operator (+, -, *, /) as input and\n",
    "#performs the specified operation. Print the result based on the operation.\n",
    "\n",
    "num1=int(input(\"enter a number\"))\n",
    "num2=int(input(\"enter a number\"))\n",
    "x=input(\"enter the func\")\n",
    "if(x=='+'):\n",
    "    result=num1+num2\n",
    "    print(result)\n",
    "elif(x=='-'):\n",
    "    result=num1-num2\n",
    "    print(result)\n",
    "elif(x=='*'):\n",
    "    result=num1*num2\n",
    "    print(result)\n",
    "\n",
    "elif(x=='/'):\n",
    "    result=num1/num2\n",
    "    print(result)"
   ]
  },
  {
   "cell_type": "code",
   "execution_count": 53,
   "id": "96d39623-864c-4092-93d9-57150d8a8153",
   "metadata": {},
   "outputs": [
    {
     "name": "stdin",
     "output_type": "stream",
     "text": [
      "enter any number 0\n"
     ]
    },
    {
     "name": "stdout",
     "output_type": "stream",
     "text": [
      "zero\n"
     ]
    }
   ],
   "source": [
    "#Q7 Write a program that takes a number as input and checks whether it is positive, negative, or zero.\n",
    "\n",
    "n=int(input(\"enter any number\"))\n",
    "if (n>0):\n",
    "    print(\"positive\")\n",
    "elif (n<0):\n",
    "    print(\"negitive\")\n",
    "else:\n",
    "    print(\"zero\")"
   ]
  },
  {
   "cell_type": "code",
   "execution_count": 61,
   "id": "0b649cf1-1f14-47c1-931c-c4023cbb5ca5",
   "metadata": {},
   "outputs": [
    {
     "name": "stdin",
     "output_type": "stream",
     "text": [
      "enter the username admin\n",
      "enter the password 1234\n"
     ]
    },
    {
     "name": "stdout",
     "output_type": "stream",
     "text": [
      "login success\n"
     ]
    }
   ],
   "source": [
    "#Q8 Write a program that checks if a username and password entered by the user match the pre-set values\n",
    "#username = \"admin\" and password = \"1234\". If both match, print \"Login Successful\", otherwise print\n",
    "#\"Login Failed\".\n",
    "\n",
    "username=input(\"enter the username\")\n",
    "password=int(input(\"enter the password\"))\n",
    "if (username=='admin' and password==1234):\n",
    "    print(\"login success\")\n",
    "else:\n",
    "    print(\"login failed\")\n",
    "    "
   ]
  },
  {
   "cell_type": "code",
   "execution_count": 65,
   "id": "29f7448a-3111-477c-968f-9eee8ed6be48",
   "metadata": {},
   "outputs": [
    {
     "name": "stdin",
     "output_type": "stream",
     "text": [
      "enter the weight 15\n",
      "enter the hight in meters 4\n"
     ]
    },
    {
     "name": "stdout",
     "output_type": "stream",
     "text": [
      "0.9375\n",
      "under weight\n"
     ]
    }
   ],
   "source": [
    "#Q10 Write a program that calculates the Body Mass Index (BMI) based on user input for weight (in\n",
    "# kilograms) and height (in meters). Then categorize the BMI into:\n",
    "# Underweight (BMI < 18.5)\n",
    "# Normal weight (18.5 <= BMI < 24.9)\n",
    "# Overweight (25 <= BMI < 29.9)\n",
    "# Obesity (BMI >= 30)\n",
    "# Use the formula: BMI = weight / (height ** 2)\n",
    "\n",
    "weight= float(input(\"enter the weight\"))\n",
    "hight= float(input(\"enter the hight in meters\"))\n",
    "\n",
    "bmi = weight/hight**2\n",
    "print(bmi)\n",
    "\n",
    "if(bmi<18.5 ):\n",
    "    \n",
    "    print(\"under weight\")\n",
    "elif(18.5<=bmi <24.9):\n",
    "    print(\"normal weight\")\n",
    "elif(25<=bmi <29.9):\n",
    "    print(\"overweight\")\n",
    "elif(bmi>=30):\n",
    "    print(\"obesity\")\n"
   ]
  },
  {
   "cell_type": "code",
   "execution_count": 75,
   "id": "036cc14d-6633-4f58-9771-754032a8a266",
   "metadata": {},
   "outputs": [
    {
     "name": "stdin",
     "output_type": "stream",
     "text": [
      "enter the number 4\n",
      "enter the number 5\n",
      "enter the number 6\n"
     ]
    },
    {
     "name": "stdout",
     "output_type": "stream",
     "text": [
      "valid\n"
     ]
    }
   ],
   "source": [
    "# Q9 Write a program that takes three sides of a triangle as input and checks if those sides form a valid\n",
    "# triangle. A triangle is valid if the sum of any two sides is greater than the third side.\n",
    "# Check conditions like a + b > c, b + c > a, and a + c > b.\n",
    "\n",
    "a=int(input(\"enter the number\"))\n",
    "b=int(input(\"enter the number\"))\n",
    "c=int(input(\"enter the number\"))\n",
    "if(a+b>c and b+c>a and a+c>b):\n",
    "    print(\"valid\")\n",
    "else:\n",
    "    print(\"invalid\")"
   ]
  },
  {
   "cell_type": "code",
   "execution_count": null,
   "id": "0a0a44eb-5ed5-44b6-8a98-a79190170162",
   "metadata": {},
   "outputs": [],
   "source": [
    "# Q11 Write a program that calculates the discount for a product based on its price:\n",
    "# If price is greater than 1000, discount is 10%\n",
    "# If price is between 500 and 1000, discount is 5%\n",
    "# Otherwise, no discount\n",
    "# Print the final price after applying the discount.\n",
    "\n",
    "price= int(input(\"enter the price\"))\n",
    "x=price-dis\n",
    "\n",
    "\n",
    "if(price>1000):\n",
    "    dis=price*10/100\n",
    "    print(\"discount is 10%\")\n",
    "elif(price>=500 and price<1000):\n",
    "    dis=price*5/100\n",
    "    print(\"discount is 5%\")\n",
    "else:\n",
    "    print(\"no discount\")\n",
    "print(dis)\n",
    "print(\"x=\",x)\n",
    "price=price-dis\n",
    "print(\"price=>\",price)"
   ]
  },
  {
   "cell_type": "code",
   "execution_count": 79,
   "id": "621df6cd-d383-4325-964e-cfa3eab4e17a",
   "metadata": {},
   "outputs": [
    {
     "name": "stdin",
     "output_type": "stream",
     "text": [
      "enter the month feb\n"
     ]
    },
    {
     "name": "stdout",
     "output_type": "stream",
     "text": [
      "28 days\n"
     ]
    }
   ],
   "source": [
    "# Q12 Write a program that takes the name of a month as input and prints the number of days in that\n",
    "# month. Consider leap years for February.\n",
    "\n",
    "month=input(\"enter the month\")\n",
    "if(month=='jan' ):\n",
    "    print(\"31 days\")\n",
    "elif(month=='feb'):\n",
    "    print(\"28 days\")\n",
    "elif(month=='march'):\n",
    "    print(\"30 days\")\n",
    "elif(month=='april'):\n",
    "    print(\"30 days\")\n",
    "    "
   ]
  },
  {
   "cell_type": "code",
   "execution_count": 107,
   "id": "0df84ae2-1bf4-4d21-8a88-e2c475c40935",
   "metadata": {},
   "outputs": [
    {
     "name": "stdin",
     "output_type": "stream",
     "text": [
      "enter the amount 45\n",
      "enter the blacne 54\n",
      "enter the deposit 45\n"
     ]
    },
    {
     "ename": "NameError",
     "evalue": "name 'deposite' is not defined",
     "output_type": "error",
     "traceback": [
      "\u001b[1;31m---------------------------------------------------------------------------\u001b[0m",
      "\u001b[1;31mNameError\u001b[0m                                 Traceback (most recent call last)",
      "Cell \u001b[1;32mIn[107], line 7\u001b[0m\n\u001b[0;32m      5\u001b[0m     amount\u001b[38;5;241m=\u001b[39mamount\u001b[38;5;241m+\u001b[39m\u001b[38;5;241m50\u001b[39m\n\u001b[0;32m      6\u001b[0m     \u001b[38;5;28mprint\u001b[39m(amount)\n\u001b[1;32m----> 7\u001b[0m \u001b[38;5;28;01melif\u001b[39;00m(check\u001b[38;5;241m==\u001b[39mdeposite):\n\u001b[0;32m      8\u001b[0m     check\u001b[38;5;241m=\u001b[39mchek\u001b[38;5;241m+\u001b[39mdeposite\n\u001b[0;32m      9\u001b[0m     \u001b[38;5;28mprint\u001b[39m(deposite)\n",
      "\u001b[1;31mNameError\u001b[0m: name 'deposite' is not defined"
     ]
    }
   ],
   "source": [
    "amount=int(input(\"enter the amount\"))\n",
    "check=int(input(\"enter the blacne\"))\n",
    "deposit=int(input(\"enter the deposit\"))\n",
    "if(amount==check):\n",
    "    amount=amount+50\n",
    "    print(amount)\n",
    "elif(check==deposite):\n",
    "    check=chek+deposite\n",
    "    print(deposite)\n",
    "        \n",
    "        "
   ]
  },
  {
   "cell_type": "code",
   "execution_count": 135,
   "id": "47f881b9-807a-4185-bc15-576e44dd79de",
   "metadata": {},
   "outputs": [
    {
     "name": "stdin",
     "output_type": "stream",
     "text": [
      "enter the age 4\n"
     ]
    },
    {
     "name": "stdout",
     "output_type": "stream",
     "text": [
      "toddler\n"
     ]
    }
   ],
   "source": [
    "# Q14 Write a program that categorizes a given age into different groups:\n",
    "# Infant (0-1 year)\n",
    "# Toddler (2-4 years)\n",
    "# Child (5-12 years)\n",
    "# Teenager (13-19 years)\n",
    "# Adult (20-59 years)\n",
    "# Senior (60 years and above)\n",
    "\n",
    "age=int(input(\"enter the age\"))\n",
    "if(age>=0 and age<=1):\n",
    "    print(\"infant\")\n",
    "elif(age>=2 and age<=4):\n",
    "    print(\"toddler\")\n",
    "elif(age>=5 and age<=12):\n",
    "    print(\"child\")\n",
    "elif(age>=13 and age<=19):\n",
    "    print(\"teenager\")\n",
    "elif(age>=20 and age<=59):\n",
    "    print(\"adult\")\n",
    "elif(age>=60):\n",
    "    print(\"senior\")\n",
    "\n",
    "else:\n",
    "    print(\"dead\")"
   ]
  },
  {
   "cell_type": "code",
   "execution_count": 141,
   "id": "9e5961a2-eb2a-4059-86a9-9fc0a461eb7b",
   "metadata": {},
   "outputs": [
    {
     "name": "stdin",
     "output_type": "stream",
     "text": [
      "enter the number 7\n"
     ]
    },
    {
     "name": "stdout",
     "output_type": "stream",
     "text": [
      "sunday\n"
     ]
    }
   ],
   "source": [
    "# Q15 Write a program that takes an integer (1-7) as input and prints the corresponding day of the week (1\n",
    "# for Monday, 2 for Tuesday, etc.).\n",
    "\n",
    "num=int(input(\"enter the number\"))\n",
    "if(num==1):\n",
    "    print(\"monday\")\n",
    "elif(num==2):\n",
    "    print(\"tuesday\")\n",
    "elif(num==3):\n",
    "    print(\"wednesday\")\n",
    "elif(num==4):\n",
    "    print(\"thursday\")\n",
    "elif(num==5):\n",
    "    print(\"friday\")\n",
    "elif(num==6):\n",
    "    print(\"saturday\")\n",
    "elif(num==7):\n",
    "    print(\"sunday\")\n",
    "else:\n",
    "    print(\"invalid input\")"
   ]
  }
 ],
 "metadata": {
  "kernelspec": {
   "display_name": "Python 3 (ipykernel)",
   "language": "python",
   "name": "python3"
  },
  "language_info": {
   "codemirror_mode": {
    "name": "ipython",
    "version": 3
   },
   "file_extension": ".py",
   "mimetype": "text/x-python",
   "name": "python",
   "nbconvert_exporter": "python",
   "pygments_lexer": "ipython3",
   "version": "3.12.7"
  }
 },
 "nbformat": 4,
 "nbformat_minor": 5
}
