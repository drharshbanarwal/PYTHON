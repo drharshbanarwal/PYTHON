{
 "cells": [
  {
   "cell_type": "code",
   "execution_count": 3,
   "id": "871611bd-6cc7-4772-ae9c-1637d2079730",
   "metadata": {},
   "outputs": [],
   "source": [
    "# TUPLE\n",
    "\n",
    "# Tuple is one of the four built in data type in python, used to store collection of data, the other three are LIST, DICTIONARY and SET.\n",
    "# Tuple is inmutable.\n",
    "# Tuple is faster in comparism of the List."
   ]
  },
  {
   "cell_type": "code",
   "execution_count": 5,
   "id": "3de0df35-2b9e-4837-ae80-bb5ebdff04e1",
   "metadata": {},
   "outputs": [
    {
     "data": {
      "text/plain": [
       "tuple"
      ]
     },
     "execution_count": 5,
     "metadata": {},
     "output_type": "execute_result"
    }
   ],
   "source": [
    "# To find the element ( its tuple or not)\n",
    "\n",
    "x=(10,20)\n",
    "type(x)"
   ]
  },
  {
   "cell_type": "code",
   "execution_count": 7,
   "id": "e4b4c29f-f7c3-43c4-bb69-cee16cbb6a25",
   "metadata": {},
   "outputs": [],
   "source": [
    "# FUNCTIONS OF TUPLE\n",
    "# 1. COUNT\n",
    "# 2. INDEX"
   ]
  },
  {
   "cell_type": "code",
   "execution_count": 9,
   "id": "e47508ae-79f5-4a46-b784-61c8438a48ae",
   "metadata": {},
   "outputs": [
    {
     "name": "stdout",
     "output_type": "stream",
     "text": [
      "(1, 2, 3)\n"
     ]
    }
   ],
   "source": [
    "l = [1,2,3]\n",
    "print(tuple(l))"
   ]
  },
  {
   "cell_type": "code",
   "execution_count": null,
   "id": "ac161349-2048-4c13-808b-6d7dfcfb452d",
   "metadata": {},
   "outputs": [],
   "source": [
    "# Syntax: tuple(iterable)\n",
    "# iterable (optional): It is an iterable(list, range etc..) or an iterator object\n",
    "# If an iterable is passed, the corresponding tuple is created,\n",
    "# else, an empty tuple is created.\n",
    "# Return: Returns a Tuple"
   ]
  }
 ],
 "metadata": {
  "kernelspec": {
   "display_name": "Python 3 (ipykernel)",
   "language": "python",
   "name": "python3"
  },
  "language_info": {
   "codemirror_mode": {
    "name": "ipython",
    "version": 3
   },
   "file_extension": ".py",
   "mimetype": "text/x-python",
   "name": "python",
   "nbconvert_exporter": "python",
   "pygments_lexer": "ipython3",
   "version": "3.12.7"
  }
 },
 "nbformat": 4,
 "nbformat_minor": 5
}
