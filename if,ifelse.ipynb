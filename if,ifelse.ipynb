{
 "cells": [
  {
   "cell_type": "code",
   "execution_count": 14,
   "id": "113e5e07-c52c-44cf-9ab3-535dee1d5772",
   "metadata": {},
   "outputs": [
    {
     "name": "stdin",
     "output_type": "stream",
     "text": [
      "enter any number 2\n"
     ]
    },
    {
     "name": "stdout",
     "output_type": "stream",
     "text": [
      "even number\n"
     ]
    }
   ],
   "source": [
    "#day 2 \n",
    "#Q1 Write a program that takes an integer input from the user and checks whether the number is odd or\n",
    "#even.\n",
    "a= int(input(\"enter any number\"))\n",
    "if(a%2==0):\n",
    "    print(\"even number\")\n",
    "elif(a%2!=0):\n",
    "     print(\"odd number\")"
   ]
  },
  {
   "cell_type": "code",
   "execution_count": 28,
   "id": "ee48549c-5b47-4dbd-bd6d-8a7e6a8db84d",
   "metadata": {},
   "outputs": [
    {
     "name": "stdin",
     "output_type": "stream",
     "text": [
      "enter the number 5\n",
      "enter any number 7\n",
      "enter any number 6\n"
     ]
    },
    {
     "name": "stdout",
     "output_type": "stream",
     "text": [
      "b is largest\n"
     ]
    }
   ],
   "source": [
    "#Q2 Write a program that takes three numbers as input and prints the largest of the three.\n",
    "a= int(input(\"enter the number\"))\n",
    "b= int(input(\"enter any number\"))\n",
    "c= int(input(\"enter any number\"))\n",
    "if(a>=b and a>=c):\n",
    "    print(\" a is the largest value\")\n",
    "elif(b>=a and b>=c):\n",
    "    print(\"b is largest\")\n",
    "else:\n",
    "    print(\"c is largest\")\n",
    "        "
   ]
  },
  {
   "cell_type": "code",
   "execution_count": 70,
   "id": "daf31949-6760-4002-a923-24f431d6fcb0",
   "metadata": {},
   "outputs": [
    {
     "name": "stdin",
     "output_type": "stream",
     "text": [
      "Enter a year:  2020\n"
     ]
    },
    {
     "name": "stdout",
     "output_type": "stream",
     "text": [
      "2020 is a leap year.\n"
     ]
    }
   ],
   "source": [
    "#Q3 Write a program to check if a given year is a leap year. A leap year is divisible by 4 but not by 100\n",
    "#unless it is also divisible by 400.\n",
    "\n",
    "year = int(input(\"Enter a year: \"))\n",
    "\n",
    "# Check if the year is a leap year\n",
    "if (year % 4 == 0 and year % 100 != 0) or (year % 400 == 0):\n",
    "    print(f\"{year} is a leap year.\")\n",
    "else:\n",
    "    print(f\"{year} is not a leap year.\")"
   ]
  },
  {
   "cell_type": "code",
   "execution_count": 107,
   "id": "6bb5c939-3bba-4773-94df-52085ec783eb",
   "metadata": {},
   "outputs": [
    {
     "name": "stdin",
     "output_type": "stream",
     "text": [
      "enter any number 55\n"
     ]
    },
    {
     "name": "stdout",
     "output_type": "stream",
     "text": [
      "grad f\n"
     ]
    }
   ],
   "source": [
    "#Q4 Write a program that takes a percentage (integer) as input and prints the corresponding grade based\n",
    "#on the following criteria:\n",
    "#>= 90: Grade A\n",
    "#>= 80: Grade B\n",
    "#>= 70: Grade C\n",
    "#>= 60: Grade D\n",
    "#< 60: Grade F\n",
    "\n",
    "num= int(input(\"enter any number\"))\n",
    "if(num>=90 and num<=100):\n",
    "    print(\"gread a\")\n",
    "elif(num>=80 and num<=100):\n",
    "    print(\"gread b\")\n",
    "elif(num>=70 and num<=100):\n",
    "    print(\"gread c\")\n",
    "elif(num>=60 and num<=100):\n",
    "    print(\"gread d\")\n",
    "elif(num<=60):\n",
    "    print(\"grad f\")\n"
   ]
  },
  {
   "cell_type": "code",
   "execution_count": 138,
   "id": "d615726a-921b-4a7f-80a5-ffb243a99775",
   "metadata": {},
   "outputs": [
    {
     "name": "stdin",
     "output_type": "stream",
     "text": [
      "enter any charcter l\n"
     ]
    },
    {
     "name": "stdout",
     "output_type": "stream",
     "text": [
      "consonent\n"
     ]
    }
   ],
   "source": [
    "#Q5 Write a program that checks if a given letter is a vowel (a, e, i, o, u) or a consonant.\n",
    "\n",
    "a=(input(\"enter any charcter\"))\n",
    "\n",
    "if(a=='a' or a=='e' or a=='i' or a=='o' or a=='u'):\n",
    "    print(\"vowel\")\n",
    "else:\n",
    "    print(\"consonent\")"
   ]
  },
  {
   "cell_type": "code",
   "execution_count": 154,
   "id": "ab4b7465-99f1-46e7-8bae-0c60162a9991",
   "metadata": {},
   "outputs": [
    {
     "name": "stdin",
     "output_type": "stream",
     "text": [
      "enter first number 52\n",
      "enter second number 52\n",
      "enter any operator *\n"
     ]
    },
    {
     "name": "stdout",
     "output_type": "stream",
     "text": [
      "2704\n"
     ]
    }
   ],
   "source": [
    "#Q6 Write a basic calculator program that takes two numbers and an operator (+, -, *, /) as input and\n",
    "#performs the specified operation. Print the result based on the operation.\n",
    "\n",
    "num1=int(input(\"enter first number\"))\n",
    "num2=int(input(\"enter second number\"))\n",
    "operator= (input(\"enter any operator\"))\n",
    "if(operator=='+'):\n",
    "    result=num1+num2\n",
    "    print(result)\n",
    "elif(operator=='-'):\n",
    "    result=num1-num2\n",
    "    print(result)\n",
    "elif(operator=='*'):\n",
    "    result=num1*num2\n",
    "    print(result)\n",
    "elif(operator=='/'):\n",
    "    result=num1/num2\n",
    "    print(result)"
   ]
  },
  {
   "cell_type": "code",
   "execution_count": 1,
   "id": "74232f57-e309-48dc-8478-0076b66ee587",
   "metadata": {},
   "outputs": [
    {
     "name": "stdin",
     "output_type": "stream",
     "text": [
      "enter the number 25\n"
     ]
    },
    {
     "name": "stdout",
     "output_type": "stream",
     "text": [
      "positive\n"
     ]
    }
   ],
   "source": [
    "#Q7 Write a program that takes a number as input and checks whether it is positive, negative, or zero.\n",
    "\n",
    "num= int(input(\"enter the number\"))\n",
    "\n",
    "if(num>0 ):\n",
    "    print(\"positive\")\n",
    "elif(num<0):\n",
    "    print(\"negitive\")\n",
    "else:\n",
    "    print(\"zero\")"
   ]
  },
  {
   "cell_type": "code",
   "execution_count": 65,
   "id": "0cff1fe8-4cf8-45d3-96db-491a24f53618",
   "metadata": {},
   "outputs": [
    {
     "name": "stdin",
     "output_type": "stream",
     "text": [
      "enter the username kk\n",
      "enter the password 22\n"
     ]
    },
    {
     "name": "stdout",
     "output_type": "stream",
     "text": [
      "login faild\n"
     ]
    }
   ],
   "source": [
    "##### Q8 Write a program that checks if a username and password entered by the user match the pre-set values\n",
    "#username = \"admin\" and password = \"1234\". If both match, print \"Login Successful\", otherwise print\n",
    "#\"Login Failed\".\n",
    "\n",
    "\n",
    "username = input(\"enter the username\")\n",
    "password = int(input(\"enter the password\"))\n",
    "\n",
    "if(username == \"admin\" and password == 12345):\n",
    "    print(\"login sucessful\")\n",
    "else:\n",
    "    print(\"login faild\")"
   ]
  },
  {
   "cell_type": "code",
   "execution_count": 67,
   "id": "494f5e24-c787-42e0-8ff6-fdd303e839fa",
   "metadata": {},
   "outputs": [],
   "source": [
    "#Q9 Write a program that takes three sides of a triangle as input and checks if those sides form a valid triangle. A triangle is valid if the sum of any two sides is\n",
    "#greater than the third side.\n",
    "#Check conditions like a + b > c, b + c > a, and a + c > b.\n"
   ]
  },
  {
   "cell_type": "code",
   "execution_count": 111,
   "id": "7571f88f-620a-4531-9907-cd550af05442",
   "metadata": {},
   "outputs": [
    {
     "name": "stdin",
     "output_type": "stream",
     "text": [
      "enter the weight 86\n",
      "enter the hight in meters 1.79832\n"
     ]
    },
    {
     "name": "stdout",
     "output_type": "stream",
     "text": [
      "26.592826654324508\n",
      "overweight\n"
     ]
    }
   ],
   "source": [
    "#Q10 Write a program that calculates the Body Mass Index (BMI) based on user input for weight (in\n",
    "#kilograms) and height (in meters). Then categorize the BMI into:\n",
    "#Underweight (BMI < 18.5)\n",
    "#Normal weight (18.5 <= BMI < 24.9)\n",
    "#Overweight (25 <= BMI < 29.9)\n",
    "#Obesity (BMI >= 30)\n",
    "#Use the formula: BMI = weight / (height ** 2)\n",
    "\n",
    "weight= float(input(\"enter the weight\"))\n",
    "hight= float(input(\"enter the hight in meters\"))\n",
    "\n",
    "bmi = weight/hight**2\n",
    "print(bmi)\n",
    "\n",
    "if(bmi<18.5 ):\n",
    "    \n",
    "    print(\"under weight\")\n",
    "elif(18.5<=bmi <24.9):\n",
    "    print(\"normal weight\")\n",
    "elif(25<=bmi <29.9):\n",
    "    print(\"overweight\")\n",
    "elif(bmi>=30):\n",
    "    print(\"obesity\")\n",
    "\n"
   ]
  },
  {
   "cell_type": "code",
   "execution_count": 169,
   "id": "fc3d8381-60ce-4313-8ae3-6df1ce6cac98",
   "metadata": {},
   "outputs": [
    {
     "name": "stdin",
     "output_type": "stream",
     "text": [
      "enter the price 788\n"
     ]
    },
    {
     "name": "stdout",
     "output_type": "stream",
     "text": [
      "discount is 5%\n",
      "39.4\n",
      "x= 744.3\n",
      "price=> 748.6\n"
     ]
    }
   ],
   "source": [
    "#Q11 Write a program that calculates the discount for a product based on its price:\n",
    "#If price is greater than 1000, discount is 10%\n",
    "#If price is between 500 and 1000, discount is 5%\n",
    "#Otherwise, no discount\n",
    "#Print the final price after applying the discount.\n",
    "\n",
    "price= int(input(\"enter the price\"))\n",
    "x=price-dis\n",
    "\n",
    "\n",
    "if(price>1000):\n",
    "    dis=price*10/100\n",
    "    print(\"discount is 10%\")\n",
    "elif(price>=500 and price<1000):\n",
    "    dis=price*5/100\n",
    "    print(\"discount is 5%\")\n",
    "else:\n",
    "    print(\"no discount\")\n",
    "print(dis)\n",
    "print(\"x=\",x)\n",
    "price=price-dis\n",
    "print(\"price=>\",price)\n",
    "   "
   ]
  }
 ],
 "metadata": {
  "kernelspec": {
   "display_name": "Python 3 (ipykernel)",
   "language": "python",
   "name": "python3"
  },
  "language_info": {
   "codemirror_mode": {
    "name": "ipython",
    "version": 3
   },
   "file_extension": ".py",
   "mimetype": "text/x-python",
   "name": "python",
   "nbconvert_exporter": "python",
   "pygments_lexer": "ipython3",
   "version": "3.12.7"
  }
 },
 "nbformat": 4,
 "nbformat_minor": 5
}
