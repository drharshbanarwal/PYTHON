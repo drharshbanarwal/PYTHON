{
 "cells": [
  {
   "cell_type": "code",
   "execution_count": 2,
   "id": "5e9b1c07-7335-4ef2-89f3-52a4f18610d4",
   "metadata": {},
   "outputs": [],
   "source": [
    "# FUNCTIONS (divide code into small parts)\n",
    "# block of code\n",
    "# we can use it for converting ypur code into smaller position of code\n",
    "# help in reusability\n",
    "# debugging"
   ]
  },
  {
   "cell_type": "code",
   "execution_count": 4,
   "id": "efbe3cc2-3f66-4862-9df0-40e80c0e193e",
   "metadata": {},
   "outputs": [],
   "source": [
    "# we use DEF it is a keyword , we use it to make function\n",
    "# void function"
   ]
  },
  {
   "cell_type": "code",
   "execution_count": 8,
   "id": "8e2b8772-5dc8-4bdf-8188-f9a29cc9f1e8",
   "metadata": {},
   "outputs": [
    {
     "name": "stdout",
     "output_type": "stream",
     "text": [
      "hey\n",
      "regex\n"
     ]
    }
   ],
   "source": [
    "def hello():\n",
    "    print(\"hey\")\n",
    "    print(\"regex\")\n",
    "hello()"
   ]
  },
  {
   "cell_type": "code",
   "execution_count": 12,
   "id": "f843bf18-a611-45e7-bc1d-dca710c75859",
   "metadata": {},
   "outputs": [
    {
     "name": "stdout",
     "output_type": "stream",
     "text": [
      "hey\n",
      "regex\n",
      "hey\n",
      "regex\n"
     ]
    }
   ],
   "source": [
    "hello()\n",
    "hello()"
   ]
  },
  {
   "cell_type": "code",
   "execution_count": 20,
   "id": "f2d2a4f4-a328-4202-990e-1b68c30f872d",
   "metadata": {},
   "outputs": [],
   "source": [
    "# new way for variable\n",
    "\n",
    "def hello():\n",
    "    z=\"harsh\"      # z is a local varable (it will use inside the function)\n",
    "    print(\"hey\",z)"
   ]
  },
  {
   "cell_type": "code",
   "execution_count": 24,
   "id": "b5dfd39e-66ff-460e-8e60-f804b96e76a4",
   "metadata": {},
   "outputs": [
    {
     "name": "stdout",
     "output_type": "stream",
     "text": [
      "hey harsh\n"
     ]
    }
   ],
   "source": [
    "hello()"
   ]
  },
  {
   "cell_type": "code",
   "execution_count": 28,
   "id": "a8e068ee-af3e-41cd-81be-e2ae9e6fe485",
   "metadata": {},
   "outputs": [],
   "source": [
    "# globle variable (making variable outside the function)\n",
    "\n",
    "xgloble=10\n",
    "def hello():\n",
    "    print(\"hey\",xgloble)"
   ]
  },
  {
   "cell_type": "code",
   "execution_count": 32,
   "id": "53cac9ed-87eb-4d0c-82b4-3e0ca4e1cf64",
   "metadata": {},
   "outputs": [
    {
     "name": "stdout",
     "output_type": "stream",
     "text": [
      "hey 10\n"
     ]
    }
   ],
   "source": [
    "hello()"
   ]
  },
  {
   "cell_type": "code",
   "execution_count": 36,
   "id": "9a30e3fa-c263-4e02-82d3-58b281fab8f7",
   "metadata": {},
   "outputs": [],
   "source": [
    "x=10               # x is globale variable\n",
    "def hello():\n",
    "    global x       # globale function use\n",
    "    x=\"abc\"        # local variable created\n",
    "    print(\"hey\",x)\n"
   ]
  },
  {
   "cell_type": "code",
   "execution_count": 40,
   "id": "b1df917f-d257-41db-83a6-92b042fe127e",
   "metadata": {},
   "outputs": [
    {
     "name": "stdout",
     "output_type": "stream",
     "text": [
      "hey abc\n",
      "abc\n"
     ]
    }
   ],
   "source": [
    "hello()\n",
    "print(x)"
   ]
  },
  {
   "cell_type": "code",
   "execution_count": 42,
   "id": "417cd122-7eac-43c7-be30-3251382c29c5",
   "metadata": {},
   "outputs": [],
   "source": [
    "x=10               # x is globale variable\n",
    "def hello():\n",
    "   \n",
    "    x=\"abc\"        # local variable created\n",
    "    print(\"hey\",x)"
   ]
  },
  {
   "cell_type": "code",
   "execution_count": 44,
   "id": "09efd25e-c540-470d-a892-2225b9d9d5fb",
   "metadata": {},
   "outputs": [
    {
     "name": "stdout",
     "output_type": "stream",
     "text": [
      "hey abc\n",
      "10\n"
     ]
    }
   ],
   "source": [
    "hello()\n",
    "print(x)"
   ]
  },
  {
   "cell_type": "code",
   "execution_count": 46,
   "id": "d2ff10ef-b4b3-4f1d-995e-5c1825b911c3",
   "metadata": {},
   "outputs": [],
   "source": [
    "x=10\n",
    "def func(x):            #x is local=500\n",
    "    print(\"hey\",x)      # x local"
   ]
  },
  {
   "cell_type": "code",
   "execution_count": 48,
   "id": "aaf43286-7a9e-4a23-816b-ba9863117c70",
   "metadata": {},
   "outputs": [
    {
     "name": "stdout",
     "output_type": "stream",
     "text": [
      "hey 500\n"
     ]
    }
   ],
   "source": [
    "func(500)"
   ]
  },
  {
   "cell_type": "code",
   "execution_count": null,
   "id": "cddab961-7db4-4530-85e8-f254bb3bdaf1",
   "metadata": {},
   "outputs": [],
   "source": []
  }
 ],
 "metadata": {
  "kernelspec": {
   "display_name": "Python 3 (ipykernel)",
   "language": "python",
   "name": "python3"
  },
  "language_info": {
   "codemirror_mode": {
    "name": "ipython",
    "version": 3
   },
   "file_extension": ".py",
   "mimetype": "text/x-python",
   "name": "python",
   "nbconvert_exporter": "python",
   "pygments_lexer": "ipython3",
   "version": "3.12.7"
  }
 },
 "nbformat": 4,
 "nbformat_minor": 5
}
