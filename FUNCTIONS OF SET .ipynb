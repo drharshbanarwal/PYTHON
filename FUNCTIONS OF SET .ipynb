{
 "cells": [
  {
   "cell_type": "code",
   "execution_count": 5,
   "id": "47c5f055-4030-4b85-928d-d16f75b2eb66",
   "metadata": {},
   "outputs": [
    {
     "name": "stdout",
     "output_type": "stream",
     "text": [
      "{40, 10, 20, 30}\n"
     ]
    }
   ],
   "source": [
    "# 1.ADD (Add an element to the set)\n",
    "\n",
    "myset={10,20,30}\n",
    "myset.add(40)\n",
    "print(myset)"
   ]
  },
  {
   "cell_type": "code",
   "execution_count": 11,
   "id": "c3bccc69-15f2-4c5d-baff-79516a483352",
   "metadata": {},
   "outputs": [
    {
     "name": "stdout",
     "output_type": "stream",
     "text": [
      "{40, 10, 30}\n"
     ]
    }
   ],
   "source": [
    "# 2.DISCARD (To remove the spicific item)\n",
    "\n",
    "myset={10,20,30,40}\n",
    "myset.discard(20)\n",
    "print(myset)"
   ]
  },
  {
   "cell_type": "code",
   "execution_count": 13,
   "id": "ff3fc9f5-b1f5-455c-81ef-6d0a65645d1c",
   "metadata": {},
   "outputs": [
    {
     "name": "stdout",
     "output_type": "stream",
     "text": [
      "{40, 10, 50, 20, 60, 30}\n"
     ]
    }
   ],
   "source": [
    "# 3.UPDATE (Update the set with the union of this set and others)\n",
    "\n",
    "myset={10,20,30,40}\n",
    "myset.update([50,60])\n",
    "print(myset)"
   ]
  },
  {
   "cell_type": "code",
   "execution_count": 15,
   "id": "04a4764d-7a71-46c6-9086-17195f375a2c",
   "metadata": {},
   "outputs": [
    {
     "data": {
      "text/plain": [
       "{10, 20, 30, 40, 50, 60}"
      ]
     },
     "execution_count": 15,
     "metadata": {},
     "output_type": "execute_result"
    }
   ],
   "source": [
    "# 4.UNION (return a set containg the union of set)\n",
    "\n",
    "myset1={10,20}\n",
    "myset2={30,40}\n",
    "myset.union(myset1)"
   ]
  },
  {
   "cell_type": "code",
   "execution_count": 17,
   "id": "77110ee1-d1bf-4209-92d4-16da38a72dda",
   "metadata": {},
   "outputs": [
    {
     "data": {
      "text/plain": [
       "{10, 20, 30}"
      ]
     },
     "execution_count": 17,
     "metadata": {},
     "output_type": "execute_result"
    }
   ],
   "source": [
    "# 5.DIFFERENCE (return a set containg the difference between two or more sets)\n",
    "\n",
    "myset={10,20,30,40}\n",
    "myset2={40,50}\n",
    "myset.difference(myset2)"
   ]
  },
  {
   "cell_type": "code",
   "execution_count": 21,
   "id": "59839c02-2cef-4d5d-a392-ce2a1ff560c3",
   "metadata": {},
   "outputs": [
    {
     "name": "stdout",
     "output_type": "stream",
     "text": [
      "{1, 2}\n"
     ]
    }
   ],
   "source": [
    "# 6.DIFFERENCE_UPDATE (remove the item in the set that are also include in another, specific set)\n",
    "\n",
    "myset={1,2,3,4}\n",
    "myset2={3,4,5,6}\n",
    "myset.difference_update(myset2)\n",
    "print(myset)"
   ]
  },
  {
   "cell_type": "code",
   "execution_count": 23,
   "id": "9cca11d3-e45d-4851-947a-e5663c737b94",
   "metadata": {},
   "outputs": [
    {
     "data": {
      "text/plain": [
       "False"
      ]
     },
     "execution_count": 23,
     "metadata": {},
     "output_type": "execute_result"
    }
   ],
   "source": [
    "# 7.ISSUPERSET (returns wether this set contains another set or not)\n",
    "\n",
    "myset={1,2,3,4}\n",
    "myset2={3,4,5,6}\n",
    "myset.issuperset(myset2)\n"
   ]
  }
 ],
 "metadata": {
  "kernelspec": {
   "display_name": "Python 3 (ipykernel)",
   "language": "python",
   "name": "python3"
  },
  "language_info": {
   "codemirror_mode": {
    "name": "ipython",
    "version": 3
   },
   "file_extension": ".py",
   "mimetype": "text/x-python",
   "name": "python",
   "nbconvert_exporter": "python",
   "pygments_lexer": "ipython3",
   "version": "3.12.7"
  }
 },
 "nbformat": 4,
 "nbformat_minor": 5
}
