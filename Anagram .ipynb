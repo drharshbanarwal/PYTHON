{
 "cells": [
  {
   "cell_type": "code",
   "execution_count": 1,
   "id": "3599bd21-3134-408a-84ee-7eca714bf90d",
   "metadata": {},
   "outputs": [],
   "source": [
    "# ANAGRAM"
   ]
  },
  {
   "cell_type": "code",
   "execution_count": 5,
   "id": "61b61050-27de-4b90-a185-1a6ee783b6d6",
   "metadata": {},
   "outputs": [
    {
     "name": "stdout",
     "output_type": "stream",
     "text": [
      "{'h': 1, 'e': 1, 'l': 2, 'o': 1}\n"
     ]
    }
   ],
   "source": [
    "# 1. To check the charcters in \"HELLO\"\n",
    "\n",
    "mydictionary={}\n",
    "for char in \"hello\":\n",
    "    if char not in mydictionary:\n",
    "        mydictionary[char]=1\n",
    "    else:\n",
    "        mydictionary[char]= mydictionary[char]+1\n",
    "print(mydictionary)"
   ]
  },
  {
   "cell_type": "code",
   "execution_count": 19,
   "id": "6dac7c39-96d8-4738-8a6e-6a9f89db56ab",
   "metadata": {},
   "outputs": [
    {
     "name": "stdout",
     "output_type": "stream",
     "text": [
      "{'h': 1, 'e': 1, 'l': 2, 'o': 1}\n"
     ]
    }
   ],
   "source": [
    "# 2. To check if both strings are anagram of each other or not\n",
    "\n",
    "myd={}\n",
    "for char in \"hello\":\n",
    "    if char not in myd:\n",
    "        myd[char]=1\n",
    "    else:\n",
    "        myd[char]=myd[char]+1\n",
    "myd2={}\n",
    "\n",
    "for char in \"olleh\":\n",
    "        if char not in myd2:\n",
    "            myd2[char]=1\n",
    "        else:\n",
    "            myd2[char]+=1\n",
    "if (myd==myd2):\n",
    "    print(myd)\n",
    "else:\n",
    "    print(\"not valid\")"
   ]
  },
  {
   "cell_type": "code",
   "execution_count": 25,
   "id": "23d9fe7a-c89b-4796-b4c6-739bca92ec34",
   "metadata": {},
   "outputs": [
    {
     "name": "stdout",
     "output_type": "stream",
     "text": [
      "{'s': 2, 'a': 1, 'r': 1}\n"
     ]
    }
   ],
   "source": [
    "myd={}\n",
    "for char in \"sars\":\n",
    "    if char not in myd:\n",
    "        myd[char]=1\n",
    "    else:\n",
    "        myd[char]=myd[char]+1\n",
    "myd2={}\n",
    "\n",
    "for char in \"sars\":\n",
    "        if char not in myd2:\n",
    "            myd2[char]=1\n",
    "        else:\n",
    "            myd2[char]+=1\n",
    "if (myd==myd2):\n",
    "    print(myd)\n",
    "else:\n",
    "    print(\"not valid\")"
   ]
  },
  {
   "cell_type": "code",
   "execution_count": 29,
   "id": "539bbd65-b6de-48d9-af9b-cedec3454874",
   "metadata": {},
   "outputs": [
    {
     "name": "stdout",
     "output_type": "stream",
     "text": [
      "not valid\n"
     ]
    }
   ],
   "source": [
    "myd={}\n",
    "for char in \"sars\":\n",
    "    if char not in myd:\n",
    "        myd[char]=1\n",
    "    else:\n",
    "        myd[char]=myd[char]+1\n",
    "myd2={}\n",
    "\n",
    "for char in \"saars\":\n",
    "        if char not in myd2:\n",
    "            myd2[char]=1\n",
    "        else:\n",
    "            myd2[char]+=1\n",
    "if (myd==myd2):\n",
    "    print(myd)\n",
    "else:\n",
    "    print(\"not valid\")"
   ]
  },
  {
   "cell_type": "code",
   "execution_count": 31,
   "id": "fd3a1346-a4e2-48c8-9bba-3c6bddcdb253",
   "metadata": {},
   "outputs": [
    {
     "name": "stdout",
     "output_type": "stream",
     "text": [
      "{'m': 2, 'a': 3, 'l': 2, 'y': 1}\n"
     ]
    }
   ],
   "source": [
    "myd={}\n",
    "for char in \"malyalam\":\n",
    "    if char not in myd:\n",
    "        myd[char]=1\n",
    "    else:\n",
    "        myd[char]=myd[char]+1\n",
    "myd2={}\n",
    "\n",
    "for char in \"malyamal\":\n",
    "        if char not in myd2:\n",
    "            myd2[char]=1\n",
    "        else:\n",
    "            myd2[char]+=1\n",
    "if (myd==myd2):\n",
    "    print(myd)\n",
    "else:\n",
    "    print(\"not valid\")"
   ]
  }
 ],
 "metadata": {
  "kernelspec": {
   "display_name": "Python 3 (ipykernel)",
   "language": "python",
   "name": "python3"
  },
  "language_info": {
   "codemirror_mode": {
    "name": "ipython",
    "version": 3
   },
   "file_extension": ".py",
   "mimetype": "text/x-python",
   "name": "python",
   "nbconvert_exporter": "python",
   "pygments_lexer": "ipython3",
   "version": "3.12.7"
  }
 },
 "nbformat": 4,
 "nbformat_minor": 5
}
