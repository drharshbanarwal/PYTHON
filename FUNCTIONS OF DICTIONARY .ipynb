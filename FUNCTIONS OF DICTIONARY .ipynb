{
 "cells": [
  {
   "cell_type": "code",
   "execution_count": 3,
   "id": "13aad2f9-2441-4581-9a2f-dd6bf1ce6664",
   "metadata": {},
   "outputs": [
    {
     "name": "stdout",
     "output_type": "stream",
     "text": [
      "{1: 'harsh', 2: 'hey'}\n"
     ]
    }
   ],
   "source": [
    "# HOW TO CREATE A DICTIONARY\n",
    "\n",
    "mydictionary={1:\"harsh\", 2:\"hey\"}\n",
    "print(mydictionary)"
   ]
  },
  {
   "cell_type": "code",
   "execution_count": 7,
   "id": "aa09f540-4a14-47f2-8e1a-bdc2ebe51202",
   "metadata": {},
   "outputs": [
    {
     "name": "stdout",
     "output_type": "stream",
     "text": [
      "harsh\n"
     ]
    }
   ],
   "source": [
    "# TO ACCESS THE DATA IN THE BASIS OF KEY\n",
    "\n",
    "mydictionary={1:\"hey\", 2:\"harsh\"}\n",
    "print(mydictionary[2])"
   ]
  },
  {
   "cell_type": "code",
   "execution_count": 11,
   "id": "3383b7fd-7ce6-4e8f-bb03-1614a803c494",
   "metadata": {},
   "outputs": [
    {
     "name": "stdout",
     "output_type": "stream",
     "text": [
      "{1: 'hie', 2: 'harsh'}\n"
     ]
    }
   ],
   "source": [
    "# 1. TO UPDATE OR CHNAGE THE VALUE\n",
    "\n",
    "mydictionary={1:\"hey\", 2:\"harsh\"}\n",
    "mydictionary[1]=\"hie\"\n",
    "print(mydictionary)"
   ]
  },
  {
   "cell_type": "code",
   "execution_count": 13,
   "id": "267ece62-fa18-4c5e-ac4b-14029f4fa7cc",
   "metadata": {},
   "outputs": [
    {
     "name": "stdout",
     "output_type": "stream",
     "text": [
      "{1: 'hey', 2: 'harsh', 3: 'himalayan'}\n"
     ]
    }
   ],
   "source": [
    "# 2. TO INSERT THE NEW VALUE\n",
    "\n",
    "mydictionary={1:\"hey\", 2:\"harsh\"}\n",
    "mydictionary[3]=\"himalayan\"\n",
    "print(mydictionary)\n"
   ]
  },
  {
   "cell_type": "code",
   "execution_count": 15,
   "id": "b4e43c57-d2bc-4dbe-8cc4-7530ad9c6494",
   "metadata": {},
   "outputs": [
    {
     "name": "stdout",
     "output_type": "stream",
     "text": [
      "{2: 'harsh'}\n"
     ]
    }
   ],
   "source": [
    "# 3. TO DELETE THE VALUE FROM THE DICTIONARY\n",
    "\n",
    "mydictionary={1:\"hey\", 2:\"harsh\"}\n",
    "mydictionary.pop(1)\n",
    "print(mydictionary)"
   ]
  },
  {
   "cell_type": "code",
   "execution_count": 17,
   "id": "9a31a971-2c31-406e-acbb-110f705b6ddd",
   "metadata": {},
   "outputs": [
    {
     "name": "stdout",
     "output_type": "stream",
     "text": [
      "1 hey\n",
      "2 harsh\n"
     ]
    }
   ],
   "source": [
    "# 4. TO PRINT KEY ALONG WITH THE VALUE IN DICTIONARY\n",
    "\n",
    "mydictionary={1:\"hey\", 2:\"harsh\"}\n",
    "for key in mydictionary:\n",
    "    print(key,mydictionary[key])"
   ]
  },
  {
   "cell_type": "code",
   "execution_count": 19,
   "id": "cba17cbf-0113-40cd-a5b3-19736c3ba9fc",
   "metadata": {},
   "outputs": [
    {
     "name": "stdout",
     "output_type": "stream",
     "text": [
      "royal enfield\n",
      "harsh\n",
      "himalayan\n"
     ]
    }
   ],
   "source": [
    "# 5. TO RETURN THE DATA OR VALUE\n",
    "\n",
    "mydictionary={1:\"hey\", 2:\"harsh\"}\n",
    "mydictionary[1]=\"royal enfield\"\n",
    "mydictionary[3]=\"himalayan\"\n",
    "for data in mydictionary.values():\n",
    "    print(data)"
   ]
  },
  {
   "cell_type": "code",
   "execution_count": 23,
   "id": "3c822348-07a8-4254-85a3-cc1607a5f5fc",
   "metadata": {},
   "outputs": [
    {
     "name": "stdout",
     "output_type": "stream",
     "text": [
      "(1, 'royal enfield') 1 royal enfield\n",
      "(2, 'harsh') 2 harsh\n",
      "(3, 'himalayan') 3 himalayan\n"
     ]
    }
   ],
   "source": [
    "# 6. FOR TUPLE UNPACKING WE USE ITEM\n",
    "\n",
    "mydictionary={1:\"hey\", 2:\"harsh\"}\n",
    "mydictionary[1]=\"royal enfield\"\n",
    "mydictionary[3]=\"himalayan\"\n",
    "\n",
    "for data in mydictionary.items():\n",
    "    key,value=data\n",
    "    print(data,key,value)"
   ]
  },
  {
   "cell_type": "code",
   "execution_count": null,
   "id": "86781828-112f-4249-bc9f-09be9a957d97",
   "metadata": {},
   "outputs": [],
   "source": []
  }
 ],
 "metadata": {
  "kernelspec": {
   "display_name": "Python 3 (ipykernel)",
   "language": "python",
   "name": "python3"
  },
  "language_info": {
   "codemirror_mode": {
    "name": "ipython",
    "version": 3
   },
   "file_extension": ".py",
   "mimetype": "text/x-python",
   "name": "python",
   "nbconvert_exporter": "python",
   "pygments_lexer": "ipython3",
   "version": "3.12.7"
  }
 },
 "nbformat": 4,
 "nbformat_minor": 5
}
