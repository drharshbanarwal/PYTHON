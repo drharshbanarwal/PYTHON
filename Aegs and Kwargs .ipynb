{
 "cells": [
  {
   "cell_type": "code",
   "execution_count": 1,
   "id": "fbdd4071-6f53-4cc2-bbf8-2d69597519df",
   "metadata": {},
   "outputs": [],
   "source": [
    "# In Python, *args and **kwargs are used to allow functions to accept an arbitrary number of arguments.\n",
    "# These features provide great flexibility when designing functions that need to handle a varying number of inputs."
   ]
  },
  {
   "cell_type": "code",
   "execution_count": 17,
   "id": "a6a2a00b-38bb-4af6-9e7f-7d085a56575e",
   "metadata": {},
   "outputs": [],
   "source": [
    "# Args (arguments) allows you to pass a variable number of positional arguments to a function."
   ]
  },
  {
   "cell_type": "code",
   "execution_count": 19,
   "id": "2d5187f1-70e9-4cd6-85fe-046f4b7c450f",
   "metadata": {},
   "outputs": [
    {
     "name": "stdout",
     "output_type": "stream",
     "text": [
      "10\n",
      "30\n"
     ]
    }
   ],
   "source": [
    "# *args example\n",
    "def fun(*args):\n",
    "    return sum(args)\n",
    "\n",
    "print(fun(1, 2, 3, 4)) \n",
    "print(fun(5, 10, 15))"
   ]
  },
  {
   "cell_type": "code",
   "execution_count": null,
   "id": "4045a3b6-b393-4e15-8add-7e49865692f0",
   "metadata": {},
   "outputs": [],
   "source": [
    "# Kwargs (keyword arguments) allows you to pass a variable number of keyword arguments (key-value pairs) to a function."
   ]
  },
  {
   "cell_type": "code",
   "execution_count": null,
   "id": "5a82dfb8-7d2e-46f8-86f6-814b64f71da6",
   "metadata": {},
   "outputs": [],
   "source": [
    "# **kwargs example\n",
    "def fun(**kwargs):\n",
    "    for k, val in kwargs.items():\n",
    "        print(k, val)\n",
    "\n",
    "fun(a=1, b=2, c=3)"
   ]
  }
 ],
 "metadata": {
  "kernelspec": {
   "display_name": "Python [conda env:base] *",
   "language": "python",
   "name": "conda-base-py"
  },
  "language_info": {
   "codemirror_mode": {
    "name": "ipython",
    "version": 3
   },
   "file_extension": ".py",
   "mimetype": "text/x-python",
   "name": "python",
   "nbconvert_exporter": "python",
   "pygments_lexer": "ipython3",
   "version": "3.12.7"
  }
 },
 "nbformat": 4,
 "nbformat_minor": 5
}
