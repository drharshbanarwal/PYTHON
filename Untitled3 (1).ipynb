{
 "cells": [
  {
   "cell_type": "code",
   "execution_count": 6,
   "id": "58164575-2d02-4b29-849b-f4ee16c874c4",
   "metadata": {},
   "outputs": [],
   "source": [
    "def func():\n",
    "    return 123\n",
    "    print(\"this is a function\")"
   ]
  },
  {
   "cell_type": "code",
   "execution_count": 8,
   "id": "d05bbe12-87b3-44a3-aff2-a92fad3bd880",
   "metadata": {},
   "outputs": [
    {
     "name": "stdout",
     "output_type": "stream",
     "text": [
      "123\n"
     ]
    }
   ],
   "source": [
    "x=func()\n",
    "print(x)"
   ]
  },
  {
   "cell_type": "code",
   "execution_count": 14,
   "id": "2ea8f82e-faaa-4982-a040-fcf2826160c8",
   "metadata": {},
   "outputs": [],
   "source": [
    "def func():\n",
    "    \n",
    "    print(\"this is a function\")\n",
    "    return 123"
   ]
  },
  {
   "cell_type": "code",
   "execution_count": 16,
   "id": "c971006e-981c-417c-891a-49743d17343a",
   "metadata": {},
   "outputs": [
    {
     "name": "stdout",
     "output_type": "stream",
     "text": [
      "this is a function\n"
     ]
    },
    {
     "data": {
      "text/plain": [
       "123"
      ]
     },
     "execution_count": 16,
     "metadata": {},
     "output_type": "execute_result"
    }
   ],
   "source": [
    "func()"
   ]
  },
  {
   "cell_type": "code",
   "execution_count": 24,
   "id": "b3dc011f-9c93-4130-9998-39f610ebc81f",
   "metadata": {},
   "outputs": [],
   "source": [
    "def func():\n",
    "    print(\"this is the function\")\n",
    "    yield 123\n",
    "    print(\"second time\")\n",
    "    yield 456"
   ]
  },
  {
   "cell_type": "code",
   "execution_count": 28,
   "id": "8d0f16f2-c719-452a-a6c1-c41547175a73",
   "metadata": {},
   "outputs": [
    {
     "name": "stdout",
     "output_type": "stream",
     "text": [
      "this is the function\n",
      "123\n"
     ]
    }
   ],
   "source": [
    "gen=func()\n",
    "print(next (gen))"
   ]
  },
  {
   "cell_type": "code",
   "execution_count": 30,
   "id": "d9f7d658-6694-4b98-8e50-87cb6ad9da5e",
   "metadata": {},
   "outputs": [],
   "source": [
    "# genetrator error => if we take all values from the generator it will give us a STOP IRRATOR ERROR."
   ]
  },
  {
   "cell_type": "code",
   "execution_count": 32,
   "id": "2941dda5-776b-4348-91da-bb24aab344fd",
   "metadata": {},
   "outputs": [
    {
     "name": "stdout",
     "output_type": "stream",
     "text": [
      "second time\n",
      "456\n"
     ]
    }
   ],
   "source": [
    "print(next(gen))"
   ]
  },
  {
   "cell_type": "code",
   "execution_count": 34,
   "id": "9542b73d-e7f9-4fd6-baa2-354cd62297da",
   "metadata": {},
   "outputs": [],
   "source": [
    "class REGEX:\n",
    "    name=\"harsh\""
   ]
  },
  {
   "cell_type": "code",
   "execution_count": 36,
   "id": "ab4ddddc-cbc7-4683-b334-4ba1720af5fa",
   "metadata": {},
   "outputs": [
    {
     "data": {
      "text/plain": [
       "'harsh'"
      ]
     },
     "execution_count": 36,
     "metadata": {},
     "output_type": "execute_result"
    }
   ],
   "source": [
    "r1=REGEX\n",
    "r1.name"
   ]
  },
  {
   "cell_type": "code",
   "execution_count": 42,
   "id": "ffe7ca25-2cf2-437f-9afe-e58c74057064",
   "metadata": {},
   "outputs": [
    {
     "data": {
      "text/plain": [
       "str"
      ]
     },
     "execution_count": 42,
     "metadata": {},
     "output_type": "execute_result"
    }
   ],
   "source": [
    "r1=REGEX\n",
    "type(r1.name)             # to check the type "
   ]
  },
  {
   "cell_type": "code",
   "execution_count": 49,
   "id": "bfa59b0a-d5db-4fff-8f9b-19d07deea8de",
   "metadata": {},
   "outputs": [],
   "source": [
    "class REGEX:\n",
    "    name=\"harsh\"\n",
    "    def __gt__(self,z):\n",
    "        return \"adding object\""
   ]
  },
  {
   "cell_type": "code",
   "execution_count": 53,
   "id": "40808fb6-2ab6-4744-94a1-05f4bc23479a",
   "metadata": {},
   "outputs": [
    {
     "data": {
      "text/plain": [
       "'adding object'"
      ]
     },
     "execution_count": 53,
     "metadata": {},
     "output_type": "execute_result"
    }
   ],
   "source": [
    "r1=REGEX()\n",
    "r2=REGEX()\n",
    "r1>r2"
   ]
  },
  {
   "cell_type": "code",
   "execution_count": 55,
   "id": "d67f8edb-0fd4-49bc-abfa-b3b53cc6b299",
   "metadata": {},
   "outputs": [],
   "source": [
    "# recursion => how is differnt from fro loop and while loop and its features :"
   ]
  },
  {
   "cell_type": "code",
   "execution_count": null,
   "id": "c048c737-13ff-48b0-8cc3-149c0ab8131f",
   "metadata": {},
   "outputs": [],
   "source": []
  }
 ],
 "metadata": {
  "kernelspec": {
   "display_name": "Python [conda env:base] *",
   "language": "python",
   "name": "conda-base-py"
  },
  "language_info": {
   "codemirror_mode": {
    "name": "ipython",
    "version": 3
   },
   "file_extension": ".py",
   "mimetype": "text/x-python",
   "name": "python",
   "nbconvert_exporter": "python",
   "pygments_lexer": "ipython3",
   "version": "3.12.7"
  }
 },
 "nbformat": 4,
 "nbformat_minor": 5
}
