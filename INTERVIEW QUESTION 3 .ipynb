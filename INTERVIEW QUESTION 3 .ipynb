{
 "cells": [
  {
   "cell_type": "code",
   "execution_count": 1,
   "id": "ec005207-186f-413b-88e7-c13cbaa8290e",
   "metadata": {},
   "outputs": [],
   "source": [
    "# 1.What is the difference between \"static method\" and \"class method\" in Python?\n",
    "\n",
    "#...>A static method is a method bound to the class, not an instance of the class. It means it calls the class without creating an instance. \n",
    "# Static methods define utility functions that don't depend on the state of the example or the class.\n",
    "\n",
    "#...>A class method is also bound to the class, but it takes a reference to the class itself as the first argument. \n",
    "# Defined methods operate on the class itself rather than on the instances of the class.\n",
    "# Class methods are alternative constructors for the class, which can create class instances with different initial parameters."
   ]
  },
  {
   "cell_type": "code",
   "execution_count": 3,
   "id": "17803527-4a39-44d4-8353-98fdb5246580",
   "metadata": {},
   "outputs": [],
   "source": [
    "# 2. How can you create a generator in Python?\n",
    "\n",
    "#...>A generator is created using a function that contains the \"yield\" keyword.\n",
    "# As the generator function is created, it returns a generator object to produce a sequence of values on-the-fly as the generator iterates.\n",
    "# To create a generator function, define a function that contains one or more \"yield\" statements. \n",
    "# Each \"yield\" statement should produce a value for the generator to return."
   ]
  },
  {
   "cell_type": "code",
   "execution_count": 5,
   "id": "dcfd4f88-fcf7-4e30-aa96-d62383e80634",
   "metadata": {},
   "outputs": [],
   "source": [
    "# 3. What is the difference between \"map\" and \"filter\" functions in Python?\n",
    "\n",
    "#...>\"map\" and \"filter\" are built-in functions operating on iterable objects. \n",
    "# The main difference between the two functions is that \"map\" applies a given function to each item in an iterable and returns an iterator with the results.\n",
    "# In contrast, \"filter\" applies a given function to each item in an iterable and returns an iterator with only the things that meet the given condition.\n"
   ]
  },
  {
   "cell_type": "code",
   "execution_count": 7,
   "id": "c9c51e02-3f41-4da6-9edf-6c70029da5bf",
   "metadata": {},
   "outputs": [],
   "source": [
    "# 4.How can you handle exceptions in Python?\n",
    "\n",
    "#...>Exceptions are handled using a try-except block. The code that may raise an exception is put inside the \"try\" block, \n",
    "# and the exception handler is inside the \"except\" block. If the try block raises an exception, \n",
    "# the program flow is immediately transferred to the except block.\n",
    "\n",
    "#...>The except block can be used to catch a specific or general exception and handle the exception by providing an appropriate message to the user or performing other actions.\n",
    "# We can also use it to raise a new exception or re-raise the original exception. "
   ]
  },
  {
   "cell_type": "code",
   "execution_count": 9,
   "id": "f5b26616-aa3c-4cdd-a661-bc6ea03720f1",
   "metadata": {},
   "outputs": [],
   "source": [
    "# 5.What is the difference between a \"module\" and a \"package\" in Python?\n",
    "\n",
    "#...>A module is a single file containing Python code that can be imported and used in other Python codes.\n",
    "# A module typically includes functions, classes, and variables used in other programs. Modules are a way to organize code and promote code reuse.\n",
    "\n",
    "#...> a package is a collection of related modules organized into a directory structure.\n",
    "# A package contains an init.py file executed while package importing.\n",
    "# The init.py file can contain initialization code and define the package's interface by specifying which modules are part of the package. "
   ]
  },
  {
   "cell_type": "code",
   "execution_count": 11,
   "id": "0f039f9b-28c5-45b9-aa9c-9894e4587161",
   "metadata": {},
   "outputs": [
    {
     "name": "stdout",
     "output_type": "stream",
     "text": [
      "{1, 2, 3, 4, 5}\n"
     ]
    }
   ],
   "source": [
    "# 6. How to convert a list into a set?\n",
    "\n",
    "#...> To convert a list into a set in Python, you can use the built-in set() function.\n",
    "# This function takes an iterable object (such as a list) as input and returns a new set object that contains all the unique elements in the iterable.\n",
    "\n",
    "my_list = [1, 2, 3, 3, 4, 4, 5]\n",
    "my_set = set(my_list)\n",
    "print(my_set)\n"
   ]
  },
  {
   "cell_type": "code",
   "execution_count": 13,
   "id": "8fa16735-55ba-48b7-bedc-742e3af432db",
   "metadata": {},
   "outputs": [
    {
     "name": "stdout",
     "output_type": "stream",
     "text": [
      "[[4.45057637e-308 1.78021527e-306 8.45549797e-307 1.37962049e-306]\n",
      " [1.11260619e-306 1.78010255e-306 9.79054228e-307 4.45057637e-308]\n",
      " [8.45596650e-307 9.34602321e-307 4.94065646e-322 0.00000000e+000]]\n"
     ]
    }
   ],
   "source": [
    "# 7. How can you create Empty NumPy Array In Python?\n",
    "\n",
    "#...>You can create an empty NumPy array in Python using the numpy.empty() function. \n",
    "# This function creates an array of a specified size and shape but with uninitialized entries. \n",
    "\n",
    "import numpy as np\n",
    "# Create an empty array with shape (3, 4)\n",
    "empty_arr = np.empty((3, 4))\n",
    "print(empty_arr)"
   ]
  },
  {
   "cell_type": "code",
   "execution_count": 15,
   "id": "eac10a4f-f77c-4935-8df1-d45055de74d7",
   "metadata": {},
   "outputs": [
    {
     "name": "stdout",
     "output_type": "stream",
     "text": [
      "Element at index 2: 3\n",
      "Array after deleting element at index 3: [1 2 3 5]\n",
      "Array after updating element at index 1: [1 6 3 5]\n"
     ]
    }
   ],
   "source": [
    "# 8.Write a code snippet to get an element, delete an element, and update an element in an array. \n",
    "\n",
    "import numpy as np\n",
    "# Create an array\n",
    "arr = np.array([1, 2, 3, 4, 5])\n",
    "\n",
    "# Get an element\n",
    "element = arr[2]\n",
    "print(\"Element at index 2:\", element)\n",
    "\n",
    "# Delete an element\n",
    "arr = np.delete(arr, 3) # Delete element at index 3\n",
    "print(\"Array after deleting element at index 3:\", arr)\n",
    "\n",
    "# Update an element\n",
    "arr[1] = 6 # Update element at index 1 to 6\n",
    "print(\"Array after updating element at index 1:\", arr)"
   ]
  },
  {
   "cell_type": "code",
   "execution_count": 19,
   "id": "bfc6356d-e8a3-4294-9683-3e4bbdc4d821",
   "metadata": {},
   "outputs": [
    {
     "name": "stdout",
     "output_type": "stream",
     "text": [
      "12\n"
     ]
    }
   ],
   "source": [
    "# 9. What is a lambda function? How are these written in Python?\n",
    "\n",
    "#...>An anonymous function is also known as a lambda function. It can have any number of parameters but can have just one statement.\n",
    "# Example...>\n",
    "\n",
    "v = lambda p,q : p+q\n",
    "print(v(7, 5))"
   ]
  },
  {
   "cell_type": "code",
   "execution_count": 21,
   "id": "eb1138e5-dfcd-44ce-b3fb-1b8f5de86780",
   "metadata": {},
   "outputs": [
    {
     "data": {
      "text/plain": [
       "array('i', [5, 4, 3, 2, 1])"
      ]
     },
     "execution_count": 21,
     "metadata": {},
     "output_type": "execute_result"
    }
   ],
   "source": [
    "# 10. How to reverse lists in Python using slicing?\n",
    "\n",
    "import array as arr\n",
    "a=arr.array('i',[1,2,3,4,5])\n",
    "a[::-1]"
   ]
  },
  {
   "cell_type": "code",
   "execution_count": 25,
   "id": "0c9d86d3-9106-46ce-9802-31edeb7309da",
   "metadata": {},
   "outputs": [],
   "source": [
    "# 11. What are the generators in Python?\n",
    "\n",
    "#...>Functions that return an iterable set of items are called generators.\n",
    "# Generators are functions that return iterable collection of items, one at a time, in a fixed manner. \n",
    "# Generators, generally, are used to create iterators with a different approach.\n",
    "\n",
    "\n"
   ]
  },
  {
   "cell_type": "code",
   "execution_count": null,
   "id": "dae26ec4-5c73-4afa-a823-d009baba3028",
   "metadata": {},
   "outputs": [],
   "source": []
  }
 ],
 "metadata": {
  "kernelspec": {
   "display_name": "Python [conda env:base] *",
   "language": "python",
   "name": "conda-base-py"
  },
  "language_info": {
   "codemirror_mode": {
    "name": "ipython",
    "version": 3
   },
   "file_extension": ".py",
   "mimetype": "text/x-python",
   "name": "python",
   "nbconvert_exporter": "python",
   "pygments_lexer": "ipython3",
   "version": "3.12.7"
  }
 },
 "nbformat": 4,
 "nbformat_minor": 5
}
