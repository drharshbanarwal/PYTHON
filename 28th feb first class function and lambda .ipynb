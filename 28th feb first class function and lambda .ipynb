{
 "cells": [
  {
   "cell_type": "code",
   "execution_count": 7,
   "id": "842f9954-c56f-4b78-831f-05792120a814",
   "metadata": {},
   "outputs": [],
   "source": [
    "# first class functions"
   ]
  },
  {
   "cell_type": "code",
   "execution_count": 9,
   "id": "fd2e4144-76c8-4aec-9ca1-3499874eac8b",
   "metadata": {},
   "outputs": [],
   "source": [
    "def func(x):\n",
    "    print(x)"
   ]
  },
  {
   "cell_type": "code",
   "execution_count": 11,
   "id": "dcd2d866-2291-449b-b674-519164a2c80c",
   "metadata": {},
   "outputs": [
    {
     "name": "stdout",
     "output_type": "stream",
     "text": [
      "10\n"
     ]
    }
   ],
   "source": [
    "x=func\n",
    "x(10)"
   ]
  },
  {
   "cell_type": "code",
   "execution_count": 13,
   "id": "eb06841c-eff5-4bea-87d3-3674c3f66329",
   "metadata": {},
   "outputs": [
    {
     "name": "stdout",
     "output_type": "stream",
     "text": [
      "10\n"
     ]
    }
   ],
   "source": [
    "func(10)"
   ]
  },
  {
   "cell_type": "code",
   "execution_count": 15,
   "id": "afeb7cc6-0f01-436c-8184-aee01f67c660",
   "metadata": {},
   "outputs": [],
   "source": [
    "# how to pass another function as a argument to another funtion"
   ]
  },
  {
   "cell_type": "code",
   "execution_count": 19,
   "id": "f72c9a57-1f03-486a-920f-a39a2fc6d6dc",
   "metadata": {},
   "outputs": [
    {
     "name": "stdout",
     "output_type": "stream",
     "text": [
      "70\n"
     ]
    }
   ],
   "source": [
    "def addno(num):\n",
    "    print(num+50)\n",
    "\n",
    "addno(20)"
   ]
  },
  {
   "cell_type": "code",
   "execution_count": 27,
   "id": "bbffc4ce-5d24-4df4-80e1-01197fd5d262",
   "metadata": {},
   "outputs": [
    {
     "name": "stdout",
     "output_type": "stream",
     "text": [
      "x and y: 10 20\n"
     ]
    }
   ],
   "source": [
    "def addno(num):\n",
    "    print(num+50)\n",
    "def graceno(x,y):\n",
    "    print(\"x and y:\",x,y)\n",
    "graceno(10,20)"
   ]
  },
  {
   "cell_type": "code",
   "execution_count": 31,
   "id": "a16a484c-b92d-4c76-888f-5edb5cd357ac",
   "metadata": {},
   "outputs": [
    {
     "name": "stdout",
     "output_type": "stream",
     "text": [
      "65\n",
      "x and y: 10 None\n"
     ]
    }
   ],
   "source": [
    "def addno(num):\n",
    "    print(num+50)\n",
    "    \n",
    "def graceno(x,y):\n",
    "    print(\"x and y:\",x,y)\n",
    "\n",
    "\n",
    "graceno(10,addno(15))"
   ]
  },
  {
   "cell_type": "code",
   "execution_count": 35,
   "id": "7e4a12a8-18c9-40fc-88e7-d0f6b5fdfbdd",
   "metadata": {},
   "outputs": [
    {
     "name": "stdout",
     "output_type": "stream",
     "text": [
      "x and y: 10 <function addno at 0x000001D8623B8F40>\n"
     ]
    }
   ],
   "source": [
    "def addno(num):\n",
    "    print(num+50)\n",
    "    \n",
    "def graceno(x,y):\n",
    "    print(\"x and y:\",x,y)\n",
    "\n",
    "\n",
    "graceno(10,addno )  # pass memory adress to Y"
   ]
  },
  {
   "cell_type": "code",
   "execution_count": 43,
   "id": "e06ef33f-3a4f-4ad4-8e25-29fd7fae44fb",
   "metadata": {},
   "outputs": [
    {
     "name": "stdout",
     "output_type": "stream",
     "text": [
      "x and y: 75\n"
     ]
    }
   ],
   "source": [
    "def addno(num):\n",
    "    return num+50\n",
    "    \n",
    "def graceno(x,y):\n",
    "    print(\"x and y:\",x+y(15))\n",
    "\n",
    "\n",
    "graceno(10,addno )"
   ]
  },
  {
   "cell_type": "code",
   "execution_count": 47,
   "id": "4ba050a5-b1dc-450f-82aa-702e66a8f275",
   "metadata": {},
   "outputs": [],
   "source": [
    "# HIGH ORDER function (all high order functions are First class function)\n",
    "# we cant save high order function into any variable"
   ]
  },
  {
   "cell_type": "code",
   "execution_count": 49,
   "id": "f0dd95bb-6887-4a2c-8d35-eb454a74dc96",
   "metadata": {},
   "outputs": [],
   "source": [
    "# LAMBDA FUNCTION\n",
    "# ALSO KNOWN AS SINGLE LINE OR ONE LINE FUNCTION\n",
    "# MAKE CODE SIMPLE AND READEABLE\n",
    "# ANNYMOUS FUNCTION"
   ]
  },
  {
   "cell_type": "code",
   "execution_count": 55,
   "id": "391430ca-0a65-44f3-b357-8aff470c1ede",
   "metadata": {},
   "outputs": [
    {
     "data": {
      "text/plain": [
       "<function __main__.<lambda>(num)>"
      ]
     },
     "execution_count": 55,
     "metadata": {},
     "output_type": "execute_result"
    }
   ],
   "source": [
    "# syntax\n",
    "# lambda parameter: expression\n",
    "\n",
    "lambda num: num+5"
   ]
  },
  {
   "cell_type": "code",
   "execution_count": 57,
   "id": "5dd54e52-cae2-43b6-8a30-7978509cc215",
   "metadata": {},
   "outputs": [
    {
     "data": {
      "text/plain": [
       "<function __main__.func(num)>"
      ]
     },
     "execution_count": 57,
     "metadata": {},
     "output_type": "execute_result"
    }
   ],
   "source": [
    "lambda num: num+5\n",
    "\n",
    "func\n"
   ]
  },
  {
   "cell_type": "code",
   "execution_count": 61,
   "id": "7850b9e9-8fed-499c-a76e-69a7b581d766",
   "metadata": {},
   "outputs": [
    {
     "data": {
      "text/plain": [
       "15"
      ]
     },
     "execution_count": 61,
     "metadata": {},
     "output_type": "execute_result"
    }
   ],
   "source": [
    "# save into a variable (makes it redable)\n",
    "x=lambda num: num+5\n",
    "x(10)"
   ]
  },
  {
   "cell_type": "code",
   "execution_count": 63,
   "id": "80d7d157-05a9-450f-a4d5-051fcbab4f56",
   "metadata": {},
   "outputs": [],
   "source": [
    "# function(func) in high order function\n",
    "# types => map,filter,reduce"
   ]
  },
  {
   "cell_type": "code",
   "execution_count": 65,
   "id": "73722964-52ef-418f-87e1-8a5184cfa7c8",
   "metadata": {},
   "outputs": [],
   "source": [
    "# map : \n",
    "# map\n",
    "# logic (func)\n",
    "# map(func,list)"
   ]
  },
  {
   "cell_type": "code",
   "execution_count": 69,
   "id": "38e8686b-f07c-4ba9-85c7-683303a7973b",
   "metadata": {},
   "outputs": [
    {
     "data": {
      "text/plain": [
       "15"
      ]
     },
     "execution_count": 69,
     "metadata": {},
     "output_type": "execute_result"
    }
   ],
   "source": [
    "def addno(num):\n",
    "    return num+5\n",
    "\n",
    "addno(10)"
   ]
  },
  {
   "cell_type": "code",
   "execution_count": 83,
   "id": "c9b378f1-570d-44cd-934d-b65a95819b3b",
   "metadata": {},
   "outputs": [
    {
     "data": {
      "text/plain": [
       "15"
      ]
     },
     "execution_count": 83,
     "metadata": {},
     "output_type": "execute_result"
    }
   ],
   "source": [
    "mylist=[10,20,30]\n",
    "out=map(addno,mylist)\n",
    "next(out)"
   ]
  },
  {
   "cell_type": "code",
   "execution_count": 85,
   "id": "27a698f7-4fe8-4f9f-ae1f-3bad007fd1af",
   "metadata": {},
   "outputs": [
    {
     "data": {
      "text/plain": [
       "25"
      ]
     },
     "execution_count": 85,
     "metadata": {},
     "output_type": "execute_result"
    }
   ],
   "source": [
    "next(out)"
   ]
  },
  {
   "cell_type": "code",
   "execution_count": 87,
   "id": "88fc3788-7440-41c6-be7f-d9c371c08409",
   "metadata": {},
   "outputs": [
    {
     "data": {
      "text/plain": [
       "35"
      ]
     },
     "execution_count": 87,
     "metadata": {},
     "output_type": "execute_result"
    }
   ],
   "source": [
    "next(out)"
   ]
  },
  {
   "cell_type": "code",
   "execution_count": 99,
   "id": "4c5797c3-548e-4fa5-ad23-d1520f62bdcb",
   "metadata": {},
   "outputs": [],
   "source": [
    "# by only using lambda function (no need to make function)\n",
    "\n",
    "mylist=[10,20,30]\n",
    "out=map(lambda num: num+5,mylist)\n",
    "\n"
   ]
  },
  {
   "cell_type": "code",
   "execution_count": 101,
   "id": "730e7ace-322a-441a-bf42-619183dbd6ba",
   "metadata": {},
   "outputs": [
    {
     "data": {
      "text/plain": [
       "15"
      ]
     },
     "execution_count": 101,
     "metadata": {},
     "output_type": "execute_result"
    }
   ],
   "source": [
    "next(out)"
   ]
  },
  {
   "cell_type": "code",
   "execution_count": 105,
   "id": "cb98d00f-2f84-4ea3-af6d-cf115c0b434b",
   "metadata": {},
   "outputs": [
    {
     "data": {
      "text/plain": [
       "['__add__',\n",
       " '__class__',\n",
       " '__class_getitem__',\n",
       " '__contains__',\n",
       " '__delattr__',\n",
       " '__delitem__',\n",
       " '__dir__',\n",
       " '__doc__',\n",
       " '__eq__',\n",
       " '__format__',\n",
       " '__ge__',\n",
       " '__getattribute__',\n",
       " '__getitem__',\n",
       " '__getstate__',\n",
       " '__gt__',\n",
       " '__hash__',\n",
       " '__iadd__',\n",
       " '__imul__',\n",
       " '__init__',\n",
       " '__init_subclass__',\n",
       " '__iter__',\n",
       " '__le__',\n",
       " '__len__',\n",
       " '__lt__',\n",
       " '__mul__',\n",
       " '__ne__',\n",
       " '__new__',\n",
       " '__reduce__',\n",
       " '__reduce_ex__',\n",
       " '__repr__',\n",
       " '__reversed__',\n",
       " '__rmul__',\n",
       " '__setattr__',\n",
       " '__setitem__',\n",
       " '__sizeof__',\n",
       " '__str__',\n",
       " '__subclasshook__',\n",
       " 'append',\n",
       " 'clear',\n",
       " 'copy',\n",
       " 'count',\n",
       " 'extend',\n",
       " 'index',\n",
       " 'insert',\n",
       " 'pop',\n",
       " 'remove',\n",
       " 'reverse',\n",
       " 'sort']"
      ]
     },
     "execution_count": 105,
     "metadata": {},
     "output_type": "execute_result"
    }
   ],
   "source": [
    "mylist=[10]    # in any data type whic contai __iter__ (its itreable) (dundun func)\n",
    "dir(mylist)"
   ]
  },
  {
   "cell_type": "code",
   "execution_count": 107,
   "id": "be392901-8124-4a8b-b51b-f400c7877851",
   "metadata": {},
   "outputs": [],
   "source": [
    "# when we use for loop (it will run next function again and again)"
   ]
  },
  {
   "cell_type": "code",
   "execution_count": 111,
   "id": "5c15a30e-fc24-4ba0-819c-c7ed1f3e017c",
   "metadata": {},
   "outputs": [
    {
     "name": "stdout",
     "output_type": "stream",
     "text": [
      "15\n",
      "25\n",
      "35\n"
     ]
    }
   ],
   "source": [
    "mylist=[10,20,30]\n",
    "out=map(lambda num: num+5,mylist)\n",
    "\n",
    "for i in out:\n",
    "    print(i)"
   ]
  },
  {
   "cell_type": "code",
   "execution_count": 129,
   "id": "b123ddc8-c946-4ded-932b-fa5ff96c3a91",
   "metadata": {},
   "outputs": [
    {
     "data": {
      "text/plain": [
       "[True, True, False, False, True]"
      ]
     },
     "execution_count": 129,
     "metadata": {},
     "output_type": "execute_result"
    }
   ],
   "source": [
    "# odd and even number print\n",
    "\n",
    "mylist=[10,20,25,63,40]\n",
    "out=map(lambda num: num+5,mylist)\n",
    "list(map(lambda x: x%2==0,mylist))\n",
    "\n",
    "        "
   ]
  },
  {
   "cell_type": "code",
   "execution_count": 135,
   "id": "be573b5a-aa65-4e3e-8398-f62610fed05e",
   "metadata": {},
   "outputs": [
    {
     "data": {
      "text/plain": [
       "[10, 20, 40]"
      ]
     },
     "execution_count": 135,
     "metadata": {},
     "output_type": "execute_result"
    }
   ],
   "source": [
    "\n",
    "mylist=[10,20,25,63,40]\n",
    "\n",
    "list(filter(lambda x: x%2==0,mylist))"
   ]
  },
  {
   "cell_type": "code",
   "execution_count": null,
   "id": "975f750c-fa5a-47a9-a0ee-89ee75d8a9bd",
   "metadata": {},
   "outputs": [],
   "source": []
  }
 ],
 "metadata": {
  "kernelspec": {
   "display_name": "Python [conda env:base] *",
   "language": "python",
   "name": "conda-base-py"
  },
  "language_info": {
   "codemirror_mode": {
    "name": "ipython",
    "version": 3
   },
   "file_extension": ".py",
   "mimetype": "text/x-python",
   "name": "python",
   "nbconvert_exporter": "python",
   "pygments_lexer": "ipython3",
   "version": "3.12.7"
  }
 },
 "nbformat": 4,
 "nbformat_minor": 5
}
