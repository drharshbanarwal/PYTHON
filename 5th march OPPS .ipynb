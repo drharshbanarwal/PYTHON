{
 "cells": [
  {
   "cell_type": "code",
   "execution_count": 1,
   "id": "67e1bae8-f549-42bd-a925-e13929a4513e",
   "metadata": {},
   "outputs": [],
   "source": [
    "# OOPS (Object Orinted Programming System)\n",
    "# OBJECT is Real Time Entity (Entity => which have a charcterstic and a behaviour).\n",
    "# Objects are unique and have a different memory adress."
   ]
  },
  {
   "cell_type": "code",
   "execution_count": 3,
   "id": "a87579dd-9e59-4dcd-8d88-91228921ac3a",
   "metadata": {},
   "outputs": [],
   "source": [
    "# what is paped ? (important)"
   ]
  },
  {
   "cell_type": "code",
   "execution_count": 5,
   "id": "eac06cf4-a3ed-4660-8b2f-847c497e434d",
   "metadata": {},
   "outputs": [],
   "source": [
    "# class making\n",
    "\n",
    "class HouseBlueprint:      # first word should be captial latter\n",
    "    owner=\"harsh\"\n",
    "    location=\"jaipur\"       # class variables\n"
   ]
  },
  {
   "cell_type": "code",
   "execution_count": 9,
   "id": "49b8ef2a-8a6e-4381-ace0-8f019759fd12",
   "metadata": {},
   "outputs": [
    {
     "data": {
      "text/plain": [
       "<__main__.HouseBlueprint at 0x1c318cc7d70>"
      ]
     },
     "execution_count": 9,
     "metadata": {},
     "output_type": "execute_result"
    }
   ],
   "source": [
    "HouseBlueprint()"
   ]
  },
  {
   "cell_type": "code",
   "execution_count": 13,
   "id": "8052bcda-0dbe-4e24-8e7b-99c13673a7e9",
   "metadata": {},
   "outputs": [
    {
     "name": "stdout",
     "output_type": "stream",
     "text": [
      "harsh\n",
      "jaipur\n"
     ]
    }
   ],
   "source": [
    "# object = class()\n",
    "house1=HouseBlueprint()\n",
    "print(house1.owner)\n",
    "print(house1.location)    \n"
   ]
  },
  {
   "cell_type": "code",
   "execution_count": 17,
   "id": "2cb870a8-7d4f-457b-bfba-f07423e64fd3",
   "metadata": {},
   "outputs": [
    {
     "name": "stdout",
     "output_type": "stream",
     "text": [
      "jaipur\n"
     ]
    }
   ],
   "source": [
    "house2=HouseBlueprint()\n",
    "print(house2.location)"
   ]
  },
  {
   "cell_type": "code",
   "execution_count": 23,
   "id": "165e223c-5cca-43ec-a9b8-33a79c907ee9",
   "metadata": {},
   "outputs": [
    {
     "name": "stdout",
     "output_type": "stream",
     "text": [
      "before: harsh\n",
      "after: shivali\n"
     ]
    }
   ],
   "source": [
    "# changing the owner\n",
    "\n",
    "house1=HouseBlueprint()\n",
    "print(\"before:\",house1.owner)\n",
    "house1.owner=\"shivali\"\n",
    "print(\"after:\",house1.owner)"
   ]
  },
  {
   "cell_type": "code",
   "execution_count": 31,
   "id": "95484b41-0091-4b8e-806b-bfcf9b909d3c",
   "metadata": {},
   "outputs": [],
   "source": [
    "# defult constructor\n",
    "class HouseBlueprint:\n",
    "    color=\"white\"\n",
    "    def info(self):\n",
    "        print(\"my house color is\",self.color)"
   ]
  },
  {
   "cell_type": "code",
   "execution_count": 35,
   "id": "fe105d74-c55f-49da-b09f-8115966ad29a",
   "metadata": {},
   "outputs": [
    {
     "name": "stdout",
     "output_type": "stream",
     "text": [
      "my house color is white\n"
     ]
    }
   ],
   "source": [
    "h1=HouseBlueprint()\n",
    "h1.info()"
   ]
  },
  {
   "cell_type": "code",
   "execution_count": 39,
   "id": "26ad4404-95f2-46b2-a062-8a9d47b3ec1d",
   "metadata": {},
   "outputs": [
    {
     "name": "stdout",
     "output_type": "stream",
     "text": [
      "my house color is blue\n"
     ]
    }
   ],
   "source": [
    "h1=HouseBlueprint()\n",
    "h1.color=\"blue\"\n",
    "h1.info()"
   ]
  },
  {
   "cell_type": "code",
   "execution_count": 41,
   "id": "63234e6a-38dc-4003-b330-050ef0a93d10",
   "metadata": {},
   "outputs": [],
   "source": [
    "# constructor is a function which is use to initlise the memory adress for an object"
   ]
  },
  {
   "cell_type": "code",
   "execution_count": 41,
   "id": "82cf8ee6-f562-4b94-a964-e267612b1fdb",
   "metadata": {},
   "outputs": [],
   "source": [
    "# parameterised constuctor\n",
    "class HouseBlueprint:\n",
    "    def __init__(self):\n",
    "        print(\"constructor call\")\n",
    "    "
   ]
  },
  {
   "cell_type": "code",
   "execution_count": 43,
   "id": "03924a80-a1a2-456b-b98f-bbaab2b4fc6d",
   "metadata": {},
   "outputs": [
    {
     "name": "stdout",
     "output_type": "stream",
     "text": [
      "constructor call\n",
      "<__main__.HouseBlueprint object at 0x0000019A9E8E8D70>\n"
     ]
    }
   ],
   "source": [
    "house1=HouseBlueprint()\n",
    "\n",
    "print(house1)"
   ]
  },
  {
   "cell_type": "code",
   "execution_count": 45,
   "id": "412db2c3-4cd7-4381-b579-d0b3ebebf780",
   "metadata": {},
   "outputs": [
    {
     "name": "stdout",
     "output_type": "stream",
     "text": [
      "constructor call\n",
      "<__main__.HouseBlueprint object at 0x0000019A9E8D91C0>\n"
     ]
    }
   ],
   "source": [
    "house2=HouseBlueprint()     # whenever you cereate a new one (it alwyas have the different memory adress)\n",
    "print(house2)"
   ]
  },
  {
   "cell_type": "code",
   "execution_count": 47,
   "id": "cdf26f59-367a-45bd-a05e-92c48b55e78a",
   "metadata": {},
   "outputs": [],
   "source": [
    "class HouseBlueprint:\n",
    "    def __init__(self):  # self is reference varaible that store the memory address of current object\n",
    "        print(\"constructor call\",self)"
   ]
  },
  {
   "cell_type": "code",
   "execution_count": 49,
   "id": "e35be245-5f0a-435b-b671-546537269910",
   "metadata": {},
   "outputs": [
    {
     "name": "stdout",
     "output_type": "stream",
     "text": [
      "constructor call <__main__.HouseBlueprint object at 0x0000019A9E8DBB00>\n",
      "<__main__.HouseBlueprint object at 0x0000019A9E8E8D70>\n"
     ]
    }
   ],
   "source": [
    "hosue1=HouseBlueprint()\n",
    "print(house1)"
   ]
  },
  {
   "cell_type": "code",
   "execution_count": 51,
   "id": "2747aa56-e99e-496e-8012-a434175f6fb9",
   "metadata": {},
   "outputs": [],
   "source": [
    "# SELF IS A VARIABLE THAT CAN BE CHANGED ACCORDING TO OUR REQUIREMENT\n",
    "# We can chnnage the variable."
   ]
  },
  {
   "cell_type": "code",
   "execution_count": 72,
   "id": "b404efaf-221f-46c4-9816-de5203fc7512",
   "metadata": {},
   "outputs": [
    {
     "name": "stdout",
     "output_type": "stream",
     "text": [
      "constructor=> white\n",
      "white\n"
     ]
    }
   ],
   "source": [
    "class HouseBlueprint:\n",
    "    def __init__(self,x):\n",
    "        self.color=x\n",
    "        print(\"constructor=>\",x)\n",
    "\n",
    "\n",
    "#object\n",
    "h1=HouseBlueprint(\"white\")\n",
    "print(h1.color)\n"
   ]
  },
  {
   "cell_type": "code",
   "execution_count": 76,
   "id": "6cd0aa02-ca9b-4989-b1b0-6164dfb2739a",
   "metadata": {},
   "outputs": [
    {
     "name": "stdout",
     "output_type": "stream",
     "text": [
      "constructor=> green\n",
      "green\n"
     ]
    }
   ],
   "source": [
    "h2=HouseBlueprint(\"green\")\n",
    "print(h2.color)"
   ]
  },
  {
   "cell_type": "code",
   "execution_count": null,
   "id": "cd803816-bcf3-4240-907d-8d418e38249e",
   "metadata": {},
   "outputs": [],
   "source": []
  }
 ],
 "metadata": {
  "kernelspec": {
   "display_name": "Python [conda env:base] *",
   "language": "python",
   "name": "conda-base-py"
  },
  "language_info": {
   "codemirror_mode": {
    "name": "ipython",
    "version": 3
   },
   "file_extension": ".py",
   "mimetype": "text/x-python",
   "name": "python",
   "nbconvert_exporter": "python",
   "pygments_lexer": "ipython3",
   "version": "3.12.7"
  }
 },
 "nbformat": 4,
 "nbformat_minor": 5
}
