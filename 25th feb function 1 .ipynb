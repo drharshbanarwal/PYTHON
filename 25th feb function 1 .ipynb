{
 "cells": [
  {
   "cell_type": "code",
   "execution_count": 1,
   "id": "b38cbfb6-f7fa-4538-bc24-5640858a5966",
   "metadata": {},
   "outputs": [],
   "source": [
    "# FUNCTIONS\n",
    "# collection of statement (block of statement that make code reusable)\n",
    "# the syntax will be small\n",
    "# its debugg the code\n",
    "# covert code in small part"
   ]
  },
  {
   "cell_type": "code",
   "execution_count": 9,
   "id": "6b20124e-7481-453a-951b-f317471c9b82",
   "metadata": {},
   "outputs": [],
   "source": [
    "# Function declaration\n",
    "\n",
    "def regex():\n",
    "    print(\"hello\")\n",
    "    print(\"good morning\")"
   ]
  },
  {
   "cell_type": "code",
   "execution_count": 13,
   "id": "cfea4931-4ff0-4780-922c-3d6d9ad5195e",
   "metadata": {},
   "outputs": [
    {
     "name": "stdout",
     "output_type": "stream",
     "text": [
      "hello\n",
      "good morning\n"
     ]
    }
   ],
   "source": [
    "regex()"
   ]
  },
  {
   "cell_type": "code",
   "execution_count": 17,
   "id": "6e6179d5-3190-4744-924c-217196896d65",
   "metadata": {},
   "outputs": [
    {
     "name": "stdout",
     "output_type": "stream",
     "text": [
      "hello\n",
      "good morning\n",
      "hello\n",
      "good morning\n",
      "hello\n",
      "good morning\n"
     ]
    }
   ],
   "source": [
    "# we can use it many times( function calling)\n",
    "\n",
    "regex()\n",
    "regex()\n",
    "regex()"
   ]
  },
  {
   "cell_type": "code",
   "execution_count": 23,
   "id": "459aeac4-a467-4e4e-b998-be174fd5d674",
   "metadata": {},
   "outputs": [
    {
     "name": "stdout",
     "output_type": "stream",
     "text": [
      "hey harsh\n",
      "good morning\n"
     ]
    }
   ],
   "source": [
    "def regex():\n",
    "    war=\"harsh\"    # local variable\n",
    "    print(\"hey\",war)\n",
    "    print(\"good morning\")\n",
    "regex()"
   ]
  },
  {
   "cell_type": "code",
   "execution_count": 27,
   "id": "3f36fb7a-4c6d-40fc-a5ff-998d179bc5c7",
   "metadata": {},
   "outputs": [
    {
     "name": "stdout",
     "output_type": "stream",
     "text": [
      "hey harsh\n",
      "good morning\n"
     ]
    }
   ],
   "source": [
    "regex()\n",
    "print(war)"
   ]
  },
  {
   "cell_type": "code",
   "execution_count": 29,
   "id": "ba690733-6f01-4610-8043-578d05308933",
   "metadata": {},
   "outputs": [],
   "source": [
    "# local variable created inside the function and will work only inside the function"
   ]
  },
  {
   "cell_type": "code",
   "execution_count": 31,
   "id": "ba649f54-30d9-41a7-b71a-eed512d0720c",
   "metadata": {},
   "outputs": [],
   "source": [
    "#  Global varaible (outside the function)\n",
    "\n",
    "war=\"harsh\"    # global\n",
    "def regex():\n",
    "    print(\"hello\",war)\n",
    "    print(\"good morning\")"
   ]
  },
  {
   "cell_type": "code",
   "execution_count": 37,
   "id": "2d68b39b-b576-45fc-85c3-b914b348088d",
   "metadata": {},
   "outputs": [
    {
     "name": "stdout",
     "output_type": "stream",
     "text": [
      "hello harsh\n",
      "good morning\n",
      "harsh\n"
     ]
    }
   ],
   "source": [
    "regex()\n",
    "print(war)"
   ]
  },
  {
   "cell_type": "code",
   "execution_count": 39,
   "id": "c1b7be38-fe72-4c8d-83cc-3c8ee79b5735",
   "metadata": {},
   "outputs": [],
   "source": [
    "war=\"harsh\"    # global variable\n",
    "def regex():\n",
    "    war=\"honey\"\n",
    "    print(\"hello\",war)\n",
    "    print(\"good morning\")"
   ]
  },
  {
   "cell_type": "code",
   "execution_count": 45,
   "id": "d36226dd-af75-49bf-a211-5c3579279303",
   "metadata": {},
   "outputs": [
    {
     "name": "stdout",
     "output_type": "stream",
     "text": [
      "hello honey\n",
      "good morning\n",
      "harsh\n"
     ]
    }
   ],
   "source": [
    "regex()\n",
    "print(war)"
   ]
  },
  {
   "cell_type": "code",
   "execution_count": 49,
   "id": "a785167e-0d46-4494-b0bf-c1ff52c8753a",
   "metadata": {},
   "outputs": [
    {
     "name": "stdout",
     "output_type": "stream",
     "text": [
      "hey harsh\n",
      "good morning\n",
      "hey honey\n",
      "good morning\n"
     ]
    }
   ],
   "source": [
    "def regex(x):\n",
    "    print(\"hey\",x)\n",
    "    print(\"good morning\")\n",
    "\n",
    "regex(\"harsh\")\n",
    "regex(\"honey\")\n",
    "    "
   ]
  },
  {
   "cell_type": "code",
   "execution_count": 89,
   "id": "ae695785-4f3b-49f6-9734-63dcc47ffebf",
   "metadata": {},
   "outputs": [],
   "source": [
    "def func():\n",
    "    c=10\n",
    "    d=20\n",
    "    print(\"total num\",c+d)"
   ]
  },
  {
   "cell_type": "code",
   "execution_count": 91,
   "id": "7d48b2d6-906a-4d12-ae70-15f34be85701",
   "metadata": {},
   "outputs": [
    {
     "name": "stdout",
     "output_type": "stream",
     "text": [
      "total num 30\n"
     ]
    }
   ],
   "source": [
    "func()"
   ]
  },
  {
   "cell_type": "code",
   "execution_count": 99,
   "id": "036e3ebf-749c-413f-b7a2-278f59ad3976",
   "metadata": {},
   "outputs": [],
   "source": [
    "def func(c,d):\n",
    "    print(\"total\",c+d)"
   ]
  },
  {
   "cell_type": "code",
   "execution_count": 103,
   "id": "6d7b6377-1e78-48c4-a44e-779322b94eee",
   "metadata": {},
   "outputs": [
    {
     "name": "stdout",
     "output_type": "stream",
     "text": [
      "total 30\n",
      "total 150\n"
     ]
    }
   ],
   "source": [
    "\n",
    "\n",
    "func(10,20)\n",
    "func(100,50)"
   ]
  },
  {
   "cell_type": "code",
   "execution_count": 105,
   "id": "536a13cf-6dc9-4cab-a8d1-ab7c57aae4d2",
   "metadata": {},
   "outputs": [],
   "source": [
    "def func(c):\n",
    "    print(\"c value is\",c)"
   ]
  },
  {
   "cell_type": "code",
   "execution_count": 111,
   "id": "c4b953bc-2d40-4897-8acd-570764cabb14",
   "metadata": {},
   "outputs": [
    {
     "name": "stdout",
     "output_type": "stream",
     "text": [
      "c value is 10\n",
      "c value is 20\n"
     ]
    }
   ],
   "source": [
    "a=20\n",
    "func(10)\n",
    "func(a)"
   ]
  },
  {
   "cell_type": "code",
   "execution_count": 121,
   "id": "06b28d81-8be9-441c-ab72-29e4469e441f",
   "metadata": {},
   "outputs": [
    {
     "name": "stdout",
     "output_type": "stream",
     "text": [
      "140725463296728\n"
     ]
    }
   ],
   "source": [
    "a=10\n",
    "print(id(a))\n"
   ]
  },
  {
   "cell_type": "code",
   "execution_count": 123,
   "id": "805cbd23-eda4-43d1-a9a6-35514f7994aa",
   "metadata": {},
   "outputs": [],
   "source": [
    "# TYPES OF PERAMETER PASSING\n"
   ]
  },
  {
   "cell_type": "code",
   "execution_count": 127,
   "id": "b51ba0ba-a03d-40d9-b1c5-e606dcadf725",
   "metadata": {},
   "outputs": [],
   "source": [
    "# TYPE OF ARGUMENT PASSING\n",
    "\n",
    "def func(eid,name,salary):\n",
    "    print(f\"hey eid: {eid} name:{name} salary:{salary}\")"
   ]
  },
  {
   "cell_type": "code",
   "execution_count": 131,
   "id": "3eb59e51-877f-4922-9a25-e68b7c5c1a33",
   "metadata": {},
   "outputs": [
    {
     "name": "stdout",
     "output_type": "stream",
     "text": [
      "hey eid: 10 name:harsh salary:99\n"
     ]
    }
   ],
   "source": [
    "func(10,\"harsh\",99)"
   ]
  },
  {
   "cell_type": "code",
   "execution_count": 137,
   "id": "b85bba61-4de9-4176-a562-9041e9ef804b",
   "metadata": {},
   "outputs": [
    {
     "name": "stdout",
     "output_type": "stream",
     "text": [
      "hey eid: harsh name:10 salary:1010\n"
     ]
    }
   ],
   "source": [
    "# POSITIONAL ARGUMENT\n",
    "func(\"harsh\",10,1010)"
   ]
  },
  {
   "cell_type": "code",
   "execution_count": 145,
   "id": "7e0f5690-5bcb-48aa-b799-1a625fcf1d60",
   "metadata": {},
   "outputs": [
    {
     "name": "stdout",
     "output_type": "stream",
     "text": [
      " eid: 10 name:honey salary:999\n"
     ]
    }
   ],
   "source": [
    "# KEYWORD ARGUMENT\n",
    "\n",
    "def func(eid,name,salary):\n",
    "    print(f\" eid: {eid} name:{name} salary:{salary}\")\n",
    "\n",
    "func(eid=10,salary=999,name=\"honey\")"
   ]
  },
  {
   "cell_type": "code",
   "execution_count": 149,
   "id": "ecfc1db3-8e75-413c-bab6-f199b3459990",
   "metadata": {},
   "outputs": [
    {
     "name": "stdout",
     "output_type": "stream",
     "text": [
      " eid: 10 name:honey salary:999\n"
     ]
    }
   ],
   "source": [
    "# position argument will be in the starting and keyword argument alwys will be in the last\n",
    "# positional argument follow keyword argument\n",
    "\n",
    "def func(eid,name,salary):\n",
    "    print(f\" eid: {eid} name:{name} salary:{salary}\")\n",
    "\n",
    "func(10,salary=999,name=\"honey\")"
   ]
  },
  {
   "cell_type": "code",
   "execution_count": null,
   "id": "64582c45-c53d-4e78-86ab-0152c7061658",
   "metadata": {},
   "outputs": [],
   "source": []
  }
 ],
 "metadata": {
  "kernelspec": {
   "display_name": "Python [conda env:base] *",
   "language": "python",
   "name": "conda-base-py"
  },
  "language_info": {
   "codemirror_mode": {
    "name": "ipython",
    "version": 3
   },
   "file_extension": ".py",
   "mimetype": "text/x-python",
   "name": "python",
   "nbconvert_exporter": "python",
   "pygments_lexer": "ipython3",
   "version": "3.12.7"
  }
 },
 "nbformat": 4,
 "nbformat_minor": 5
}
