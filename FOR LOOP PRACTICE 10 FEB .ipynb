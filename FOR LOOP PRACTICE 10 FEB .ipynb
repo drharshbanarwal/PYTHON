{
 "cells": [
  {
   "cell_type": "code",
   "execution_count": 27,
   "id": "5a9053c1-4fff-4793-aa47-e08a371deb63",
   "metadata": {},
   "outputs": [
    {
     "name": "stdin",
     "output_type": "stream",
     "text": [
      "Enter a number:  5\n"
     ]
    },
    {
     "name": "stdout",
     "output_type": "stream",
     "text": [
      "1\n",
      "2\n",
      "3\n",
      "4\n",
      "5\n"
     ]
    }
   ],
   "source": [
    "# 1. Write a program to print all natural numbers from 1 to n.using for loop\n",
    "\n",
    "n = int(input(\"Enter a number: \"))\n",
    "for i in range(1, n + 1):\n",
    "    print(i)\n"
   ]
  },
  {
   "cell_type": "code",
   "execution_count": 33,
   "id": "eba0d08d-30a4-4aed-9e41-bd97ee6bca20",
   "metadata": {},
   "outputs": [
    {
     "name": "stdin",
     "output_type": "stream",
     "text": [
      "Enter a number:  5\n"
     ]
    },
    {
     "name": "stdout",
     "output_type": "stream",
     "text": [
      "5\n",
      "4\n",
      "3\n",
      "2\n",
      "1\n"
     ]
    }
   ],
   "source": [
    "# 2.Write a program to print all natural numbers in reverse (from n to 1).\n",
    "\n",
    "n = int(input(\"Enter a number: \"))\n",
    "for i in range(n,0,-1):\n",
    "    print(i)"
   ]
  },
  {
   "cell_type": "code",
   "execution_count": 39,
   "id": "09763bb1-9744-4d6f-aef9-50a943c68155",
   "metadata": {},
   "outputs": [
    {
     "name": "stdout",
     "output_type": "stream",
     "text": [
      "a b c d e f g h i j k l m n o p q r s t u v w x y z "
     ]
    }
   ],
   "source": [
    "# 3. Write a program to print all alphabets from a to z. – using for loop.\n",
    "\n",
    "for i in range(ord('a'), ord('z') + 1):\n",
    "    print(chr(i), end=' ')\n",
    "    "
   ]
  },
  {
   "cell_type": "code",
   "execution_count": 53,
   "id": "229b885e-b2bc-4441-a802-6a7c5e927ffb",
   "metadata": {},
   "outputs": [
    {
     "name": "stdout",
     "output_type": "stream",
     "text": [
      "even 0 odd 1\n",
      "even 2 odd 3\n",
      "even 4 odd 5\n",
      "even 6 odd 7\n",
      "even 8 odd 9\n",
      "even 10 odd 11\n",
      "even 12 odd 13\n",
      "even 14 odd 15\n",
      "even 16 odd 17\n",
      "even 18 odd 19\n",
      "even 20 odd 21\n",
      "even 22 odd 23\n",
      "even 24 odd 25\n",
      "even 26 odd 27\n",
      "even 28 odd 29\n",
      "even 30 odd 31\n",
      "even 32 odd 33\n",
      "even 34 odd 35\n",
      "even 36 odd 37\n",
      "even 38 odd 39\n",
      "even 40 odd 41\n",
      "even 42 odd 43\n",
      "even 44 odd 45\n",
      "even 46 odd 47\n",
      "even 48 odd 49\n",
      "even 50 odd 51\n",
      "even 52 odd 53\n",
      "even 54 odd 55\n",
      "even 56 odd 57\n",
      "even 58 odd 59\n",
      "even 60 odd 61\n",
      "even 62 odd 63\n",
      "even 64 odd 65\n",
      "even 66 odd 67\n",
      "even 68 odd 69\n",
      "even 70 odd 71\n",
      "even 72 odd 73\n",
      "even 74 odd 75\n",
      "even 76 odd 77\n",
      "even 78 odd 79\n",
      "even 80 odd 81\n",
      "even 82 odd 83\n",
      "even 84 odd 85\n",
      "even 86 odd 87\n",
      "even 88 odd 89\n",
      "even 90 odd 91\n",
      "even 92 odd 93\n",
      "even 94 odd 95\n",
      "even 96 odd 97\n",
      "even 98 odd 99\n",
      "even 100 "
     ]
    }
   ],
   "source": [
    "# 4.Write a program to print all even numbers between 1 to 100.\n",
    "\n",
    "for i in range(0,101):\n",
    "    if(i%2==0):\n",
    "        print(\"even\",i, end=' ')\n",
    "\n",
    "    else:\n",
    "        print(\"odd\",i)"
   ]
  },
  {
   "cell_type": "code",
   "execution_count": 83,
   "id": "81fc96cc-0dad-406f-8484-6993257eacfb",
   "metadata": {},
   "outputs": [
    {
     "name": "stdin",
     "output_type": "stream",
     "text": [
      "Enter a number:  20\n"
     ]
    },
    {
     "name": "stdout",
     "output_type": "stream",
     "text": [
      "Sum of all odd numbers is  20 = 100\n"
     ]
    }
   ],
   "source": [
    "# 5.Write a program to find the sum of all odd numbers between 1 to n.\n",
    "n = int(input(\"Enter a number: \"))\n",
    "total= 0\n",
    "\n",
    "for i in range(1, n + 1):\n",
    "    if(i%2!=0):\n",
    "        total+=i\n",
    "\n",
    "print(\"Sum of all odd numbers is \", n,\"=\",total)\n"
   ]
  },
  {
   "cell_type": "code",
   "execution_count": 95,
   "id": "134fd3c7-76c8-4774-aadc-c655851f25c7",
   "metadata": {},
   "outputs": [
    {
     "name": "stdin",
     "output_type": "stream",
     "text": [
      "enter the number 10\n"
     ]
    },
    {
     "name": "stdout",
     "output_type": "stream",
     "text": [
      "count 1\n",
      "count 2\n",
      "count 3\n",
      "count 4\n",
      "count 5\n",
      "count 6\n",
      "count 7\n",
      "count 8\n",
      "count 9\n"
     ]
    }
   ],
   "source": [
    "# 6.Write a program to count the number of digits in a number.\n",
    "n=int(input(\"enter the number\"))\n",
    "count=0\n",
    "for  i in range(1,n):\n",
    "        count=count+1\n",
    "        print(\"count\",count)"
   ]
  },
  {
   "cell_type": "code",
   "execution_count": 99,
   "id": "e49e9e2c-d145-4c46-a81b-6c8fdff72c12",
   "metadata": {},
   "outputs": [
    {
     "name": "stdin",
     "output_type": "stream",
     "text": [
      "enter the number 5\n"
     ]
    },
    {
     "name": "stdout",
     "output_type": "stream",
     "text": [
      "count 1 total 1\n",
      "count 2 total 3\n",
      "count 3 total 6\n",
      "count 4 total 10\n"
     ]
    }
   ],
   "source": [
    "# 7.Write a program to calculate the sum of digits of a number.\n",
    "\n",
    "n=int(input(\"enter the number\"))\n",
    "total=0\n",
    "count=0\n",
    "for  i in range(1,n):\n",
    "    \n",
    "        total=total+i\n",
    "        count=count+1\n",
    "        print(\"count\",count,\"total\",total)\n",
    "\n"
   ]
  },
  {
   "cell_type": "code",
   "execution_count": 125,
   "id": "d3ae68f0-e44c-406e-b532-3024fe9d050c",
   "metadata": {},
   "outputs": [
    {
     "name": "stdin",
     "output_type": "stream",
     "text": [
      "enter the number 456\n"
     ]
    },
    {
     "name": "stdout",
     "output_type": "stream",
     "text": [
      "6\n",
      "5\n",
      "4\n"
     ]
    }
   ],
   "source": [
    "# 8. Write a program to find the first and last digit of a number.\n",
    "n=int(input(\"enter the number\"))\n",
    "sum_s=0\n",
    "for i in range(1,n):\n",
    "    if(n>0):\n",
    "        rem=n%10\n",
    "        n=n//10\n",
    "        print(rem)\n",
    "        \n",
    "\n",
    "  \n",
    "    \n"
   ]
  },
  {
   "cell_type": "code",
   "execution_count": 133,
   "id": "4e83200b-6f1b-4eac-bb80-2791b8a31fc7",
   "metadata": {},
   "outputs": [
    {
     "name": "stdin",
     "output_type": "stream",
     "text": [
      "enter the number 10\n"
     ]
    },
    {
     "name": "stdout",
     "output_type": "stream",
     "text": [
      "0\n",
      "1\n"
     ]
    }
   ],
   "source": [
    "# 9. Write a program to find the sum of first and last digit of a number.\n",
    "n=int(input(\"enter the number\"))\n",
    "sum_s=0\n",
    "for i in range(1,n):\n",
    "    if(n>0):\n",
    "        rem=n%10\n",
    "        n=n//10\n",
    "        sum_s=sum_s+rem\n",
    "        print(rem)"
   ]
  },
  {
   "cell_type": "code",
   "execution_count": 145,
   "id": "6628c3ac-9628-4d40-a643-221dfca21e81",
   "metadata": {},
   "outputs": [
    {
     "name": "stdin",
     "output_type": "stream",
     "text": [
      "enter any number 5\n"
     ]
    },
    {
     "name": "stdout",
     "output_type": "stream",
     "text": [
      "5\n",
      "4\n",
      "3\n",
      "2\n",
      "1\n"
     ]
    }
   ],
   "source": [
    "# 10. Write a program to enter a number and print its reverse.\n",
    "\n",
    "n=int(input(\"enter any number\"))\n",
    "for i in range(n,0,-1):\n",
    "    print(i)\n",
    "\n"
   ]
  }
 ],
 "metadata": {
  "kernelspec": {
   "display_name": "Python [conda env:base] *",
   "language": "python",
   "name": "conda-base-py"
  },
  "language_info": {
   "codemirror_mode": {
    "name": "ipython",
    "version": 3
   },
   "file_extension": ".py",
   "mimetype": "text/x-python",
   "name": "python",
   "nbconvert_exporter": "python",
   "pygments_lexer": "ipython3",
   "version": "3.12.7"
  }
 },
 "nbformat": 4,
 "nbformat_minor": 5
}
