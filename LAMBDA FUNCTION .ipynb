{
 "cells": [
  {
   "cell_type": "code",
   "execution_count": 1,
   "id": "995d2d98-5b96-4fba-9682-ff4405683114",
   "metadata": {},
   "outputs": [],
   "source": [
    "# LAMBDA\n",
    "# A function that's defined without a name, and is also known as an anonymous function.\n",
    "# Lambda function can also include multiple statement"
   ]
  },
  {
   "cell_type": "code",
   "execution_count": 7,
   "id": "c8d71f3a-96ef-4447-beb6-5795eecc9f72",
   "metadata": {},
   "outputs": [
    {
     "name": "stdout",
     "output_type": "stream",
     "text": [
      "10\n"
     ]
    }
   ],
   "source": [
    "# eg.1 \n",
    "\n",
    "def sum1(x):\n",
    "    return x*2\n",
    "\n",
    "print(sum1(5))"
   ]
  },
  {
   "cell_type": "code",
   "execution_count": 11,
   "id": "817f63e7-9d02-414d-a7a9-eb050bfd4099",
   "metadata": {},
   "outputs": [
    {
     "name": "stdout",
     "output_type": "stream",
     "text": [
      "10\n"
     ]
    }
   ],
   "source": [
    "# eg 2. \n",
    "\n",
    "sum1= lambda x: x*2\n",
    "\n",
    "print(sum1(5))"
   ]
  },
  {
   "cell_type": "code",
   "execution_count": 17,
   "id": "ccfffb0c-6c28-49bc-a489-c312558d3879",
   "metadata": {},
   "outputs": [
    {
     "name": "stdout",
     "output_type": "stream",
     "text": [
      "10\n",
      "125\n"
     ]
    }
   ],
   "source": [
    "# eg 3 cube\n",
    "sum1= lambda x: x*2\n",
    "cube= lambda x: x*x*x\n",
    "\n",
    "print(sum1(5))\n",
    "print(cube(5))"
   ]
  },
  {
   "cell_type": "code",
   "execution_count": 21,
   "id": "620dedbe-b5af-4975-a26f-dd47144f0dce",
   "metadata": {},
   "outputs": [
    {
     "name": "stdout",
     "output_type": "stream",
     "text": [
      "10\n",
      "125\n",
      "4.0\n"
     ]
    }
   ],
   "source": [
    "# eg 4. average (avg) (by taking two values)\n",
    "\n",
    "sum1= lambda x: x*2\n",
    "cube= lambda x: x*x*x\n",
    "avg = lambda x,y: (x+y)/2\n",
    "\n",
    "print(sum1(5))\n",
    "print(cube(5))\n",
    "print(avg(3,5))"
   ]
  },
  {
   "cell_type": "code",
   "execution_count": 27,
   "id": "bb3663fb-de7c-46bd-ab39-189fb489c6b0",
   "metadata": {},
   "outputs": [
    {
     "name": "stdout",
     "output_type": "stream",
     "text": [
      "6.0\n"
     ]
    }
   ],
   "source": [
    "# eg 5. You can give multiple values in it\n",
    "\n",
    "avg = lambda x,y,z: (x+y+z)/3\n",
    "print(avg(3,5,10)"
   ]
  },
  {
   "cell_type": "code",
   "execution_count": 33,
   "id": "44e83f94-baeb-4ca8-a1eb-84134862d4b4",
   "metadata": {},
   "outputs": [
    {
     "name": "stdout",
     "output_type": "stream",
     "text": [
      "10\n",
      "125\n",
      "4.0\n",
      "6.0\n",
      "14\n"
     ]
    }
   ],
   "source": [
    "# using a function within a function (calling a function in function)\n",
    "# function can be pass in a function.\n",
    "\n",
    "def apply(fx,value):\n",
    "    return 6+fx(value)\n",
    "\n",
    "sum1= lambda x: x*2\n",
    "cube= lambda x: x*x*x\n",
    "avg = lambda x,y: (x+y)/2\n",
    "avg2 = lambda x,y,z: (x+y+z)/3\n",
    "\n",
    "print(sum1(5))\n",
    "print(cube(5))\n",
    "print(avg(3,5))\n",
    "print(avg2(3,5,10))\n",
    "print(apply(lambda x: x*x*x,2))"
   ]
  },
  {
   "cell_type": "code",
   "execution_count": 39,
   "id": "2aed27de-f7ba-4c50-903b-b00d667f42a1",
   "metadata": {},
   "outputs": [
    {
     "name": "stdout",
     "output_type": "stream",
     "text": [
      "True\n"
     ]
    }
   ],
   "source": [
    "num= lambda x: x%2==0\n",
    "print(num(10))"
   ]
  },
  {
   "cell_type": "code",
   "execution_count": 55,
   "id": "97b1b0d3-e1da-4f9a-9d26-0e1320356faa",
   "metadata": {},
   "outputs": [
    {
     "name": "stdout",
     "output_type": "stream",
     "text": [
      "False\n"
     ]
    }
   ],
   "source": [
    "num2 = lambda x: x%2==0\n",
    "print(num2(5))"
   ]
  },
  {
   "cell_type": "code",
   "execution_count": 69,
   "id": "a33c129e-3584-4211-9ee9-e4d6183cd7d4",
   "metadata": {},
   "outputs": [
    {
     "name": "stdout",
     "output_type": "stream",
     "text": [
      "70\n"
     ]
    }
   ],
   "source": [
    "def func (num):\n",
    "    print(num+50)\n",
    "\n",
    "func(20)"
   ]
  },
  {
   "cell_type": "code",
   "execution_count": 73,
   "id": "652d0705-95c3-468c-a9f0-456f8b65487a",
   "metadata": {},
   "outputs": [
    {
     "name": "stdout",
     "output_type": "stream",
     "text": [
      "30\n"
     ]
    }
   ],
   "source": [
    "# addinng two number in a function. (and calling a funnction)\n",
    "\n",
    "def gracenum (x,y):\n",
    "    print(x+y)\n",
    "\n",
    "gracenum(10,20)"
   ]
  },
  {
   "cell_type": "code",
   "execution_count": 77,
   "id": "e07d3343-1ecb-45b5-ab02-389fc23651cf",
   "metadata": {},
   "outputs": [
    {
     "data": {
      "text/plain": [
       "30"
      ]
     },
     "execution_count": 77,
     "metadata": {},
     "output_type": "execute_result"
    }
   ],
   "source": [
    "# adding a number by using return function (not by print) we can do our task into return function\n",
    "\n",
    "def gracenum(x,y):\n",
    "    return x+y\n",
    "\n",
    "gracenum(10,20)"
   ]
  },
  {
   "cell_type": "code",
   "execution_count": 97,
   "id": "1aed2fe2-4648-4d98-9fbb-6b32179dcd98",
   "metadata": {},
   "outputs": [
    {
     "name": "stdout",
     "output_type": "stream",
     "text": [
      "60\n"
     ]
    }
   ],
   "source": [
    "sum = lambda x: x+50\n",
    "print(sum(10))\n"
   ]
  },
  {
   "cell_type": "code",
   "execution_count": 111,
   "id": "5fe4aca2-fbf7-4f64-9ffd-ff1bb99db237",
   "metadata": {},
   "outputs": [
    {
     "name": "stdout",
     "output_type": "stream",
     "text": [
      "60\n"
     ]
    }
   ],
   "source": [
    "add=lambda num: num+50\n",
    "\n",
    "print(add(10))"
   ]
  },
  {
   "cell_type": "code",
   "execution_count": null,
   "id": "654328e5-4c04-4c17-8715-8bdc060a8eef",
   "metadata": {},
   "outputs": [],
   "source": []
  }
 ],
 "metadata": {
  "kernelspec": {
   "display_name": "Python [conda env:base] *",
   "language": "python",
   "name": "conda-base-py"
  },
  "language_info": {
   "codemirror_mode": {
    "name": "ipython",
    "version": 3
   },
   "file_extension": ".py",
   "mimetype": "text/x-python",
   "name": "python",
   "nbconvert_exporter": "python",
   "pygments_lexer": "ipython3",
   "version": "3.12.7"
  }
 },
 "nbformat": 4,
 "nbformat_minor": 5
}
