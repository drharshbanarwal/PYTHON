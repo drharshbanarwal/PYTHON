{
 "cells": [
  {
   "cell_type": "code",
   "execution_count": 1,
   "id": "cfc8bf39-7432-4d8f-9357-dc6703da8bb4",
   "metadata": {},
   "outputs": [],
   "source": [
    "# Lists and Dictionaries in Python are inbuilt data structures that are used to store data.\n",
    "# Lists are linear in nature whereas dictionaries stored the data in key-value pairs."
   ]
  },
  {
   "cell_type": "code",
   "execution_count": 3,
   "id": "9b835549-9db4-44b8-bdd0-7d0de4cf88a1",
   "metadata": {},
   "outputs": [],
   "source": [
    "# LIST IN PYTHON :\n",
    "\n",
    "# A list is a built-in dynamic sized array .\n",
    "# We can store all types of items (including another list) in a list. A list may contain mixed type of items, \n",
    "# this is possible because a list mainly stores references at contiguous locations and actual items maybe stored at different locations.\n"
   ]
  },
  {
   "cell_type": "code",
   "execution_count": 5,
   "id": "5ab0d273-ee2c-447a-b510-f3b1835bda61",
   "metadata": {},
   "outputs": [],
   "source": [
    "# DICTIONARY IN PYTHON :\n",
    "\n",
    "# dictionary is a data structure that stores the value in key: value pairs. Values in a dictionary can be of any data type and can be duplicated,\n",
    "# whereas keys can’t be repeated and must be immutable."
   ]
  },
  {
   "cell_type": "code",
   "execution_count": null,
   "id": "7782d745-0e96-4609-97fd-793bea727828",
   "metadata": {},
   "outputs": [],
   "source": [
    "# Difference between a List and a Dictionary\n",
    "\n",
    "#    <LIST>  \n",
    "\n",
    "# 1.The list is a collection of index value pairs like ArrayList in Java and Vectors in C++.\n",
    "# 2.The list is created by placing elements in [ ] separated by commas “, “\n",
    "# 3.The indices of the list are integers starting from 0.\n",
    "# 4.The elements are accessed via indices.\n",
    "# 5.The order of the elements entered is maintained.\n",
    "# 6.Lists can duplicate values since each values have unique index.\n",
    "# 7.Average time taken to search a value in list takes O[n].\n",
    "# 8.Average time to delete a certain value from a list takes O[n].\n",
    "\n",
    "\n",
    "\n",
    "\n",
    "#    < DICTIONARY>\n",
    "\n",
    "# 1.The dictionary is a hashed structure of the key and value pairs.\n",
    "# 2.The dictionary is created by placing elements in { } as “key”:”value”, each key-value pair is separated by commas “, “\n",
    "# 3.The keys of the dictionary can be of any immutable data type.\n",
    "# 4.The elements are accessed via key\n",
    "# 5.They are unordered in python 3.6 and below and are ordered in python 3.7 and above.\n",
    "# 6.Dictionaries cannot contain duplicate keys but can contain duplicate values since each value has unique key.\n",
    "# 7.Average time taken to search a key in dictionary takes O[1].\n",
    "# 8.Average time to delete a certain key from a dictionary takes O[1]."
   ]
  }
 ],
 "metadata": {
  "kernelspec": {
   "display_name": "Python [conda env:base] *",
   "language": "python",
   "name": "conda-base-py"
  },
  "language_info": {
   "codemirror_mode": {
    "name": "ipython",
    "version": 3
   },
   "file_extension": ".py",
   "mimetype": "text/x-python",
   "name": "python",
   "nbconvert_exporter": "python",
   "pygments_lexer": "ipython3",
   "version": "3.12.7"
  }
 },
 "nbformat": 4,
 "nbformat_minor": 5
}
