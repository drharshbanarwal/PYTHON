{
 "cells": [
  {
   "cell_type": "code",
   "execution_count": 1,
   "id": "954afd64-0bf8-4be6-a1c7-d1076545a073",
   "metadata": {},
   "outputs": [],
   "source": [
    "# FILE HANDLING AND EXCEPTION HANDLING"
   ]
  },
  {
   "cell_type": "code",
   "execution_count": 3,
   "id": "f2975b1b-6b60-41c8-be36-e8999788a4ac",
   "metadata": {},
   "outputs": [],
   "source": [
    "# FILE HANDLING\n",
    "# We can store the data parmanently inside the file\n",
    "# Read and Write operation are perform in File Handling"
   ]
  },
  {
   "cell_type": "code",
   "execution_count": 5,
   "id": "9bc35c0a-f526-4008-9f8b-aafdd2110282",
   "metadata": {},
   "outputs": [],
   "source": [
    "# work\n",
    "#1. Open the file\n",
    "#2.read/write\n",
    "#3.close the file\n",
    "# open(\"file\",<acess mode>)  (in which way we will read the file )"
   ]
  },
  {
   "cell_type": "code",
   "execution_count": 11,
   "id": "2bd445e7-54b4-4beb-9d01-0b476b3d3873",
   "metadata": {},
   "outputs": [
    {
     "data": {
      "text/plain": [
       "<_io.TextIOWrapper name='regex.txt' mode='r' encoding='cp1252'>"
      ]
     },
     "execution_count": 11,
     "metadata": {},
     "output_type": "execute_result"
    }
   ],
   "source": [
    "open(\"regex.txt\",\"r\")"
   ]
  },
  {
   "cell_type": "code",
   "execution_count": 17,
   "id": "834c5dfc-8998-457e-adc9-14c22f271c41",
   "metadata": {},
   "outputs": [
    {
     "name": "stdout",
     "output_type": "stream",
     "text": [
      "hey harsh\n"
     ]
    }
   ],
   "source": [
    "f=open(\"regex.txt\",\"r\")\n",
    "print(f.read())\n",
    "f.close()\n"
   ]
  },
  {
   "cell_type": "code",
   "execution_count": 20,
   "id": "5a7bcfcf-da1e-4cf5-a9bd-3852aa4e263c",
   "metadata": {},
   "outputs": [
    {
     "name": "stdout",
     "output_type": "stream",
     "text": [
      "hey harsh\n"
     ]
    }
   ],
   "source": [
    "f=open(\"regex.txt\",\"r\")\n",
    "x=(f.read())\n",
    "f.close()\n",
    "\n",
    "print(x)"
   ]
  },
  {
   "cell_type": "code",
   "execution_count": 24,
   "id": "f21c5210-53ff-47f7-8f41-0b840a79e7c4",
   "metadata": {},
   "outputs": [
    {
     "ename": "UnsupportedOperation",
     "evalue": "not writable",
     "output_type": "error",
     "traceback": [
      "\u001b[1;31m---------------------------------------------------------------------------\u001b[0m",
      "\u001b[1;31mUnsupportedOperation\u001b[0m                      Traceback (most recent call last)",
      "Cell \u001b[1;32mIn[24], line 5\u001b[0m\n\u001b[0;32m      3\u001b[0m f\u001b[38;5;241m=\u001b[39m\u001b[38;5;28mopen\u001b[39m(\u001b[38;5;124m\"\u001b[39m\u001b[38;5;124mregex.txt\u001b[39m\u001b[38;5;124m\"\u001b[39m,\u001b[38;5;124m\"\u001b[39m\u001b[38;5;124mr\u001b[39m\u001b[38;5;124m\"\u001b[39m)\n\u001b[0;32m      4\u001b[0m x\u001b[38;5;241m=\u001b[39m(f\u001b[38;5;241m.\u001b[39mread())\n\u001b[1;32m----> 5\u001b[0m f\u001b[38;5;241m.\u001b[39mwrite(\u001b[38;5;124m\"\u001b[39m\u001b[38;5;124mhoney\u001b[39m\u001b[38;5;124m\"\u001b[39m)\n\u001b[0;32m      6\u001b[0m f\u001b[38;5;241m.\u001b[39mclose()\n\u001b[0;32m      8\u001b[0m \u001b[38;5;28mprint\u001b[39m(x)\n",
      "\u001b[1;31mUnsupportedOperation\u001b[0m: not writable"
     ]
    }
   ],
   "source": [
    "# when we use read then we dont use write\n",
    "\n",
    "f=open(\"regex.txt\",\"r\")\n",
    "x=(f.read())\n",
    "f.write(\"honey\")\n",
    "f.close()\n",
    "\n",
    "print(x)"
   ]
  },
  {
   "cell_type": "code",
   "execution_count": 30,
   "id": "81b0de08-0c9d-424b-ad9b-2015f8670b24",
   "metadata": {},
   "outputs": [],
   "source": [
    "f=open(\"regex.txt\",\"w\")\n",
    "f.write(\"hey honey\")\n",
    "f.close()"
   ]
  },
  {
   "cell_type": "code",
   "execution_count": 40,
   "id": "ab0059d2-bc53-484a-9377-520aba57ecf4",
   "metadata": {},
   "outputs": [
    {
     "name": "stdout",
     "output_type": "stream",
     "text": [
      "jaipursoftware\n"
     ]
    }
   ],
   "source": [
    "# when we use read write together  (r+ for read and write)\n",
    "f=open(\"regex.txt\",\"r+\")\n",
    "out=f.read()\n",
    "f.write(\"jaipur\")\n",
    "f.close()\n",
    "\n",
    "print(out)"
   ]
  },
  {
   "cell_type": "code",
   "execution_count": 63,
   "id": "6a501698-4b4d-4535-9b74-8a093be52ac8",
   "metadata": {},
   "outputs": [
    {
     "name": "stdout",
     "output_type": "stream",
     "text": [
      " himachal\n"
     ]
    }
   ],
   "source": [
    "f=open(\"regex.txt\",\"r+\")\n",
    "f.write(\"jaipur\")\n",
    "out=f.read()\n",
    "f.close()\n",
    "\n",
    "print(out)"
   ]
  },
  {
   "cell_type": "code",
   "execution_count": 67,
   "id": "a5636341-c539-4826-99b1-26192717535a",
   "metadata": {},
   "outputs": [
    {
     "name": "stdout",
     "output_type": "stream",
     "text": [
      "\n"
     ]
    }
   ],
   "source": [
    "# Read and write operation on the file\n",
    "\n",
    "f=open(\"regex.txt\",\"w+\")\n",
    "f.write(\"hey\")\n",
    "out=f.read()\n",
    "f.close()\n",
    "\n",
    "print(out)"
   ]
  },
  {
   "cell_type": "code",
   "execution_count": 73,
   "id": "d024a990-f18a-44ae-9f71-32663f26ac78",
   "metadata": {},
   "outputs": [
    {
     "name": "stdout",
     "output_type": "stream",
     "text": [
      "1st position: 0\n",
      "2nd position: 3\n",
      "3rd position: 3\n",
      "\n"
     ]
    }
   ],
   "source": [
    "# to check the curcer position we use (f.tell)\n",
    "f=open(\"regex.txt\",\"w+\")\n",
    "print(\"1st position:\",f.tell() )\n",
    "f.write(\"hey\")\n",
    "print(\"2nd position:\",f.tell() )\n",
    "out=f.read()\n",
    "print(\"3rd position:\",f.tell() )\n",
    "\n",
    "print(out)\n"
   ]
  },
  {
   "cell_type": "code",
   "execution_count": 83,
   "id": "6b34b33c-bdfc-4973-b100-af1aa4e359c8",
   "metadata": {},
   "outputs": [
    {
     "name": "stdout",
     "output_type": "stream",
     "text": [
      "1st position: 0\n",
      "2nd position: 16\n",
      "3rd position: 10\n",
      "4th position: 16\n",
      "jaipur\n"
     ]
    }
   ],
   "source": [
    "# to change the position of the curcer we use (f.seek)\n",
    "\n",
    "f=open(\"regex.txt\",\"w+\")\n",
    "out=f.read()\n",
    "print(\"1st position:\",f.tell() )\n",
    "\n",
    "f.write(\"rajasthan jaipur\")\n",
    "print(\"2nd position:\",f.tell() )\n",
    "\n",
    "f.seek(10)\n",
    "print(\"3rd position:\",f.tell() )\n",
    "\n",
    "out=f.read()\n",
    "print(\"4th position:\",f.tell() )\n",
    "\n",
    "\n",
    "f.close()\n",
    "\n",
    "print(out)\n"
   ]
  },
  {
   "cell_type": "code",
   "execution_count": 87,
   "id": "94946f08-2d6f-4eee-9358-87a686b88fbf",
   "metadata": {},
   "outputs": [
    {
     "name": "stdout",
     "output_type": "stream",
     "text": [
      "jaipur\n"
     ]
    }
   ],
   "source": [
    "# too add the element in last we use (append) (a)\n",
    "\n",
    "f=open(\"regex.txt\",\"a\")\n",
    "f.write(\"##\")\n",
    "f.close()\n",
    "\n",
    "print(out)"
   ]
  },
  {
   "cell_type": "code",
   "execution_count": 91,
   "id": "ee7eebc4-a400-49d7-a190-e8a125f1f585",
   "metadata": {},
   "outputs": [
    {
     "name": "stdout",
     "output_type": "stream",
     "text": [
      "jaipur\n"
     ]
    }
   ],
   "source": [
    "# we cant use read and write together in append(but we can use it in a+)\n",
    "\n",
    "f=open(\"regex.txt\",\"a+\")\n",
    "f.write(\"##\")\n",
    "f.read()\n",
    "f.close()\n",
    "\n",
    "print(out)"
   ]
  },
  {
   "cell_type": "code",
   "execution_count": 99,
   "id": "8df01cac-db9b-4ca4-a20a-8b491936132a",
   "metadata": {},
   "outputs": [],
   "source": [
    "# another way to use the file handling.\n",
    "\n",
    "with open(\"regex.txt\",\"a\") as f:\n",
    "    f.write(\"@@@\")"
   ]
  },
  {
   "cell_type": "code",
   "execution_count": 105,
   "id": "07700363-b7dc-42eb-ba22-7100d0bd29ab",
   "metadata": {},
   "outputs": [
    {
     "name": "stdout",
     "output_type": "stream",
     "text": [
      "harsh\n",
      "honey\n",
      "shivali\n"
     ]
    }
   ],
   "source": [
    "with open(\"regex.txt\",\"r\") as f:\n",
    "    print(f.read())"
   ]
  },
  {
   "cell_type": "code",
   "execution_count": 109,
   "id": "73d350d2-9ccc-464d-83cb-ed032b957f34",
   "metadata": {},
   "outputs": [
    {
     "name": "stdout",
     "output_type": "stream",
     "text": [
      "harsh\n",
      "\n"
     ]
    }
   ],
   "source": [
    "# read line method (to read one line at a time)\n",
    "\n",
    "with open(\"regex.txt\",\"r\") as f:\n",
    "    print(f.readline())"
   ]
  },
  {
   "cell_type": "code",
   "execution_count": 115,
   "id": "5107fa4b-2213-4034-a2d0-30b29a1cbca2",
   "metadata": {},
   "outputs": [
    {
     "name": "stdout",
     "output_type": "stream",
     "text": [
      "harsh\n",
      "\n",
      "honey\n",
      "\n",
      "shivali\n"
     ]
    }
   ],
   "source": [
    "# whith loop to read all the lines at once.\n",
    "\n",
    "with open(\"regex.txt\",\"r\") as f:\n",
    "    for line in f:\n",
    "        print(line)"
   ]
  },
  {
   "cell_type": "code",
   "execution_count": 119,
   "id": "731f07bd-7d55-4e2a-bd01-2e56cda4abc9",
   "metadata": {},
   "outputs": [
    {
     "name": "stdout",
     "output_type": "stream",
     "text": [
      "['harsh\\n', 'honey\\n', 'shivali']\n"
     ]
    }
   ],
   "source": [
    "# for data engineer (imp) we use lines instid of line and it will give you the result in LIST FORM\n",
    "\n",
    "with open(\"regex.txt\",\"r\") as f:\n",
    "    print(f.readlines())"
   ]
  },
  {
   "cell_type": "code",
   "execution_count": 127,
   "id": "f6e613c4-5958-4c25-ab68-a365e11d74da",
   "metadata": {},
   "outputs": [
    {
     "name": "stdout",
     "output_type": "stream",
     "text": [
      "harsh\n",
      "honey\n",
      "shivali\n"
     ]
    }
   ],
   "source": [
    "with open(\"regex.txt\",\"r\") as f:\n",
    "    for line in f.readlines():\n",
    "            print(line.strip())   # we use strip to remove space and any unwanted charcter"
   ]
  },
  {
   "cell_type": "code",
   "execution_count": 149,
   "id": "0802560b-a280-409a-92f2-2f0ff9dbdbbb",
   "metadata": {},
   "outputs": [
    {
     "name": "stdout",
     "output_type": "stream",
     "text": [
      "['m', 'a', 's', 'i', 'm', 'a', 's', 'i']\n"
     ]
    }
   ],
   "source": [
    "# (\"masimasi\")  # is it symmatric or not(both half of the string would be same)\n",
    "\n",
    "\n",
    "\n"
   ]
  },
  {
   "cell_type": "code",
   "execution_count": 1,
   "id": "f4aeb0ac-5f01-4565-b96d-be274e9587f0",
   "metadata": {},
   "outputs": [],
   "source": [
    "# CSP (comma seperated value)"
   ]
  },
  {
   "cell_type": "code",
   "execution_count": 7,
   "id": "de415e94-8f5b-40c6-8e6e-734cc696f464",
   "metadata": {},
   "outputs": [
    {
     "name": "stdout",
     "output_type": "stream",
     "text": [
      "10,harsh,harsh@gmail.com\n",
      "\n",
      "20,shivali,shivali@gmail.com\n"
     ]
    }
   ],
   "source": [
    "# we use split to seperate the \n",
    "# split alswyas gives you data in list form\n",
    "\n",
    "with open(\"regex.txt\",\"r\") as f:\n",
    "    for i in f:\n",
    "        print(i)"
   ]
  },
  {
   "cell_type": "code",
   "execution_count": 11,
   "id": "5f806e4d-b069-41fe-96d1-3012c800a340",
   "metadata": {},
   "outputs": [
    {
     "data": {
      "text/plain": [
       "['10', 'harsh', 'harsh@gmail.com']"
      ]
     },
     "execution_count": 11,
     "metadata": {},
     "output_type": "execute_result"
    }
   ],
   "source": [
    "\"10,harsh,harsh@gmail.com\".split(\",\")"
   ]
  },
  {
   "cell_type": "code",
   "execution_count": 15,
   "id": "434b97d7-2a59-4cf8-bddc-36290c4ff2a3",
   "metadata": {},
   "outputs": [
    {
     "data": {
      "text/plain": [
       "['20', 'shivali', 'shivali@gmail.com']"
      ]
     },
     "execution_count": 15,
     "metadata": {},
     "output_type": "execute_result"
    }
   ],
   "source": [
    "\"20,shivali,shivali@gmail.com\".split(\",\")"
   ]
  },
  {
   "cell_type": "code",
   "execution_count": 21,
   "id": "edb5e025-f4f2-43ca-830d-abda793019ce",
   "metadata": {},
   "outputs": [
    {
     "data": {
      "text/plain": [
       "'20_shivali_shivali@gmail.com'"
      ]
     },
     "execution_count": 21,
     "metadata": {},
     "output_type": "execute_result"
    }
   ],
   "source": [
    "# to convert list into string\n",
    "\n",
    "\n",
    "y=['20', 'shivali', 'shivali@gmail.com']\n",
    "\"_\".join(y)"
   ]
  },
  {
   "cell_type": "code",
   "execution_count": 25,
   "id": "ca112fc6-f37c-4062-b614-94303c053193",
   "metadata": {},
   "outputs": [
    {
     "name": "stdout",
     "output_type": "stream",
     "text": [
      "['10', 'harsh', 'harsh@gmail.com']\n",
      "['20', 'shivali', 'shivali@gmail.com']\n"
     ]
    }
   ],
   "source": [
    "with open(\"regex.txt\",\"r\") as f:\n",
    "    for i in f:\n",
    "        print(i.strip().split(\",\"))"
   ]
  },
  {
   "cell_type": "code",
   "execution_count": 33,
   "id": "fca02e7c-f155-42ea-8466-5e9df8429e02",
   "metadata": {},
   "outputs": [
    {
     "name": "stdout",
     "output_type": "stream",
     "text": [
      "10\n",
      "harsh\n",
      "harsh@gmail.com\n",
      "20\n",
      "shivali\n",
      "shivali@gmail.com\n"
     ]
    }
   ],
   "source": [
    "with open(\"regex.txt\",\"r\") as f:\n",
    "    for i in f:\n",
    "        for word in i.strip().split(\",\"):\n",
    "            print(word)"
   ]
  },
  {
   "cell_type": "code",
   "execution_count": 41,
   "id": "6eb0ab3a-3066-4925-a481-19d1b52516a5",
   "metadata": {},
   "outputs": [
    {
     "name": "stdout",
     "output_type": "stream",
     "text": [
      "Id is 10 email is harsh@gmail.com\n",
      "Id is 20 email is shivali@gmail.com\n"
     ]
    }
   ],
   "source": [
    "# taking data on index position (reading the csv file)\n",
    "\n",
    "with open(\"regex.txt\",\"r\") as f:\n",
    "    for i in f:\n",
    "        mylist=i.strip().split(\",\")\n",
    "        print(f\"Id is\",mylist[0],\"email is\",mylist[2])"
   ]
  },
  {
   "cell_type": "code",
   "execution_count": 47,
   "id": "d1ed2b73-f35e-4d05-ae4e-494b808f819e",
   "metadata": {},
   "outputs": [
    {
     "name": "stdout",
     "output_type": "stream",
     "text": [
      "20,shivali,shivali@gmail.com\n",
      "20,shivali,shivali@gmail.com\n"
     ]
    }
   ],
   "source": [
    "# with csv packege  (import and reader function)\n",
    "# another way to do this process\n",
    "\n",
    "import csv\n",
    "\n",
    "with open(\"regex.txt\",\"r\") as f:\n",
    "    f_csv=csv.reader(f)\n",
    "    for x in f_csv:\n",
    "        print(i)"
   ]
  },
  {
   "cell_type": "code",
   "execution_count": null,
   "id": "b0eee69a-5231-4aa9-84ca-d85b0678019d",
   "metadata": {},
   "outputs": [],
   "source": [
    "# TO DO LIST\n",
    "# 1. "
   ]
  }
 ],
 "metadata": {
  "kernelspec": {
   "display_name": "Python [conda env:base] *",
   "language": "python",
   "name": "conda-base-py"
  },
  "language_info": {
   "codemirror_mode": {
    "name": "ipython",
    "version": 3
   },
   "file_extension": ".py",
   "mimetype": "text/x-python",
   "name": "python",
   "nbconvert_exporter": "python",
   "pygments_lexer": "ipython3",
   "version": "3.12.7"
  }
 },
 "nbformat": 4,
 "nbformat_minor": 5
}
