{
 "cells": [
  {
   "cell_type": "code",
   "execution_count": 7,
   "id": "eda715c0-79eb-4998-a386-c46635e01300",
   "metadata": {},
   "outputs": [
    {
     "name": "stdout",
     "output_type": "stream",
     "text": [
      "{1: 'def'}\n"
     ]
    }
   ],
   "source": [
    "mydictionary={1:\"abc\",1:\"def\"}\n",
    "print(mydictionary)"
   ]
  },
  {
   "cell_type": "code",
   "execution_count": 11,
   "id": "d406bfc7-d562-4a98-ab17-c622abe22b8c",
   "metadata": {},
   "outputs": [
    {
     "name": "stdout",
     "output_type": "stream",
     "text": [
      "def\n"
     ]
    }
   ],
   "source": [
    "mydictionary={1:\"abc\",1:\"def\"}\n",
    "print(mydictionary[1])"
   ]
  },
  {
   "cell_type": "code",
   "execution_count": 21,
   "id": "7d61832f-8ea7-4c38-bd60-42c6dd49c047",
   "metadata": {},
   "outputs": [
    {
     "name": "stdout",
     "output_type": "stream",
     "text": [
      "e\n"
     ]
    }
   ],
   "source": [
    "# vowel by dictionary \n",
    "\n",
    "myd={\"total\":0}\n",
    "for char in \"hey\":\n",
    "    if char in \"aeiou\":\n",
    "        myd[\"total\"]=myd[\"total\"]+1\n",
    "\n",
    "        print(char)"
   ]
  },
  {
   "cell_type": "code",
   "execution_count": 27,
   "id": "fc7dc029-18ad-46cb-befb-c6e191dfd537",
   "metadata": {},
   "outputs": [
    {
     "name": "stdout",
     "output_type": "stream",
     "text": [
      "{'e': 1}\n"
     ]
    }
   ],
   "source": [
    "myd={}\n",
    "for char in \"hey\":\n",
    "    if char in \"aeiou\":\n",
    "        myd[char]=1\n",
    "\n",
    "print(myd)"
   ]
  },
  {
   "cell_type": "code",
   "execution_count": 39,
   "id": "2a8e281a-045c-4861-9af4-90fb39fad24d",
   "metadata": {},
   "outputs": [
    {
     "name": "stdout",
     "output_type": "stream",
     "text": [
      "{'e': 1, 'a': 2, 'i': 1}\n"
     ]
    }
   ],
   "source": [
    "# \n",
    "\n",
    "myd={}\n",
    "for char in \"heyaia\":\n",
    "    if char in \"aeiou\":\n",
    "        if char not in myd:\n",
    "            myd[char]=1\n",
    "\n",
    "        else:\n",
    "            myd[char]=myd[char]+1\n",
    "\n",
    "print(myd)"
   ]
  },
  {
   "cell_type": "code",
   "execution_count": 61,
   "id": "d5a9ff73-875d-44fa-9681-6d4f93a859c9",
   "metadata": {},
   "outputs": [
    {
     "name": "stdout",
     "output_type": "stream",
     "text": [
      "{10: 0, 20: 1, 30: 2, 40: 3, 12: 4}\n"
     ]
    }
   ],
   "source": [
    "mylist=[10,20,30,40,12]\n",
    "myvalue={}\n",
    "for i in range(0,len(mylist)):\n",
    "    myvalue[mylist[i]]=i\n",
    "\n",
    "print(myvalue)"
   ]
  },
  {
   "cell_type": "code",
   "execution_count": 69,
   "id": "6fa5516d-33c7-4021-90a5-a3cb622baa4f",
   "metadata": {},
   "outputs": [
    {
     "name": "stdout",
     "output_type": "stream",
     "text": [
      "{10: 0, 20: 1, 30: 2, 40: 3, 12: 4}\n",
      "40\n",
      "30\n",
      "20\n",
      "10\n",
      "38\n"
     ]
    }
   ],
   "source": [
    "mylist=[10,20,30,40,12]\n",
    "myvalue={}\n",
    "target=50\n",
    "for i in range(0,len(mylist)):\n",
    "    myvalue[mylist[i]]=i\n",
    "\n",
    "print(myvalue)\n",
    "for i in mylist:\n",
    "    print(target-i)\n",
    "    "
   ]
  },
  {
   "cell_type": "code",
   "execution_count": 73,
   "id": "92662802-be57-413b-8300-e8159ae7483c",
   "metadata": {},
   "outputs": [
    {
     "name": "stdout",
     "output_type": "stream",
     "text": [
      "{10: 0, 20: 1, 30: 2, 40: 3, 12: 4}\n",
      "target is matched: 40 10\n",
      "target is matched: 30 20\n",
      "target is matched: 20 30\n",
      "target is matched: 10 40\n"
     ]
    }
   ],
   "source": [
    "mylist=[10,20,30,40,12]\n",
    "myvalue={}\n",
    "target=50\n",
    "for i in range(0,len(mylist)):\n",
    "    myvalue[mylist[i]]=i\n",
    "\n",
    "print(myvalue)\n",
    "for i in mylist:\n",
    "    x=target-i\n",
    "    if(x in myvalue):\n",
    "        print(\"target is matched:\",x,i)"
   ]
  },
  {
   "cell_type": "code",
   "execution_count": 5,
   "id": "23c44099-119d-4a68-8f92-99fb7180d175",
   "metadata": {},
   "outputs": [
    {
     "name": "stdout",
     "output_type": "stream",
     "text": [
      "{65: 'A', 66: 'B', 67: 'C', 68: 'D', 69: 'E', 70: 'F', 71: 'G', 72: 'H', 73: 'I', 74: 'J', 75: 'K', 76: 'L', 77: 'M', 78: 'N', 79: 'O', 80: 'P', 81: 'Q', 82: 'R', 83: 'S', 84: 'T', 85: 'U', 86: 'V', 87: 'W', 88: 'X', 89: 'Y', 90: 'Z'}\n"
     ]
    }
   ],
   "source": [
    "myvalue={}\n",
    "for i in range(65,91):\n",
    "    myvalue[i]=chr(i)\n",
    "\n",
    "print(myvalue)\n"
   ]
  },
  {
   "cell_type": "code",
   "execution_count": 13,
   "id": "ddc3fd33-0c1d-4f3a-8b52-86b0129985de",
   "metadata": {},
   "outputs": [
    {
     "name": "stdout",
     "output_type": "stream",
     "text": [
      "{65: 'A', 66: 'B', 67: 'C', 68: 'D', 69: 'E', 70: 'F', 71: 'G', 72: 'H', 73: 'I', 74: 'J', 75: 'K', 76: 'L', 77: 'M', 78: 'N', 79: 'O', 80: 'P', 81: 'Q', 82: 'R', 83: 'S', 84: 'T', 85: 'U', 86: 'V', 87: 'W', 88: 'X', 89: 'Y', 90: 'Z'}\n",
      "A\n",
      "C\n",
      "D\n"
     ]
    }
   ],
   "source": [
    "myvalue={}\n",
    "for i in range(65,91):\n",
    "    myvalue[i]=chr(i)\n",
    "\n",
    "print(myvalue)\n",
    "data=\"a.cd\"\n",
    "for char in data:\n",
    "    x=ord(char)-32\n",
    "    if(x in myvalue):\n",
    "        print(myvalue[x])"
   ]
  },
  {
   "cell_type": "code",
   "execution_count": 15,
   "id": "4e5b1b2d-77c6-4489-aa95-823709c702b5",
   "metadata": {},
   "outputs": [],
   "source": [
    "# SET\n",
    "# is a data type in which we store unique value\n",
    "# its a mutable data type\n",
    "# set do not have any index position (its unorderd)\n",
    "# no duplicate"
   ]
  },
  {
   "cell_type": "code",
   "execution_count": 19,
   "id": "57863b92-6192-41e6-abaf-c04253a6e7a3",
   "metadata": {},
   "outputs": [
    {
     "data": {
      "text/plain": [
       "{1, 2, 3, 4}"
      ]
     },
     "execution_count": 19,
     "metadata": {},
     "output_type": "execute_result"
    }
   ],
   "source": [
    "myset={1,2,3,4,1,2}\n",
    "myset"
   ]
  },
  {
   "cell_type": "code",
   "execution_count": 23,
   "id": "01c4be38-5f00-4df9-97a1-399b85202e58",
   "metadata": {},
   "outputs": [
    {
     "data": {
      "text/plain": [
       "{1, 2, 3, 4, 5, 'a'}"
      ]
     },
     "execution_count": 23,
     "metadata": {},
     "output_type": "execute_result"
    }
   ],
   "source": [
    "myset={1,2,3,4,5,\"a\"}\n",
    "myset"
   ]
  },
  {
   "cell_type": "code",
   "execution_count": 31,
   "id": "6fc09370-ca86-4a31-a98e-907eb9c49000",
   "metadata": {},
   "outputs": [
    {
     "data": {
      "text/plain": [
       "{1, 2, 3, 4, 5, 654, 'a'}"
      ]
     },
     "execution_count": 31,
     "metadata": {},
     "output_type": "execute_result"
    }
   ],
   "source": [
    "# to add the data into set\n",
    "myset={1,2,3,4,5,\"a\"}\n",
    "myset.add(654)\n",
    "myset"
   ]
  },
  {
   "cell_type": "code",
   "execution_count": 35,
   "id": "2480c64e-88d7-4582-8437-7ff5a385af26",
   "metadata": {},
   "outputs": [
    {
     "data": {
      "text/plain": [
       "{1, 3, 4, 5, 'a'}"
      ]
     },
     "execution_count": 35,
     "metadata": {},
     "output_type": "execute_result"
    }
   ],
   "source": [
    "# to remove the data from the set\n",
    "myset={1,2,3,4,5,\"a\"}\n",
    "myset.remove(2)\n",
    "myset"
   ]
  },
  {
   "cell_type": "code",
   "execution_count": 41,
   "id": "9c340ae6-cd11-4e95-be80-ece4ae61d059",
   "metadata": {},
   "outputs": [],
   "source": [
    "myset=set({})   # for useing the set empty we use SET()"
   ]
  },
  {
   "cell_type": "code",
   "execution_count": 49,
   "id": "bfacdcdc-a209-4ba7-899b-7c58479362f2",
   "metadata": {},
   "outputs": [
    {
     "data": {
      "text/plain": [
       "{10, 20, 30, 40, 50}"
      ]
     },
     "execution_count": 49,
     "metadata": {},
     "output_type": "execute_result"
    }
   ],
   "source": [
    "# to mearge the sets\n",
    "myset={10,20,30}\n",
    "myset2={30,40,50}\n",
    "myset.union(myset2)\n"
   ]
  },
  {
   "cell_type": "code",
   "execution_count": 53,
   "id": "98b0a54f-1b2f-48dc-a6c9-01a4cf84c060",
   "metadata": {},
   "outputs": [
    {
     "data": {
      "text/plain": [
       "{30}"
      ]
     },
     "execution_count": 53,
     "metadata": {},
     "output_type": "execute_result"
    }
   ],
   "source": [
    "# intersection (for commen elements)(it will give you the common elemnet)\n",
    "myset={10,20,30}\n",
    "myset2={30,40,50}\n",
    "myset.intersection(myset2)\n"
   ]
  },
  {
   "cell_type": "code",
   "execution_count": 55,
   "id": "fd5208a8-0419-4219-ac4a-61668e3f8663",
   "metadata": {},
   "outputs": [
    {
     "data": {
      "text/plain": [
       "{10, 20}"
      ]
     },
     "execution_count": 55,
     "metadata": {},
     "output_type": "execute_result"
    }
   ],
   "source": [
    " # difference function (will give the difference elements)\n",
    "\n",
    "myset={10,20,30}\n",
    "myset2={30,40,50}\n",
    "myset.difference(myset2)"
   ]
  },
  {
   "cell_type": "code",
   "execution_count": 61,
   "id": "167b1822-a565-444f-bb2a-c7d80f195bb9",
   "metadata": {},
   "outputs": [
    {
     "data": {
      "text/plain": [
       "{40, 50}"
      ]
     },
     "execution_count": 61,
     "metadata": {},
     "output_type": "execute_result"
    }
   ],
   "source": [
    "myset={10,20,30}\n",
    "myset2={30,40,50}\n",
    "myset2.difference(myset)"
   ]
  },
  {
   "cell_type": "code",
   "execution_count": 63,
   "id": "767cee45-a1e8-4974-aa98-b44f3217c1c4",
   "metadata": {},
   "outputs": [
    {
     "name": "stdout",
     "output_type": "stream",
     "text": [
      "Help on set object:\n",
      "\n",
      "class set(object)\n",
      " |  set() -> new empty set object\n",
      " |  set(iterable) -> new set object\n",
      " |\n",
      " |  Build an unordered collection of unique elements.\n",
      " |\n",
      " |  Methods defined here:\n",
      " |\n",
      " |  __and__(self, value, /)\n",
      " |      Return self&value.\n",
      " |\n",
      " |  __contains__(...)\n",
      " |      x.__contains__(y) <==> y in x.\n",
      " |\n",
      " |  __eq__(self, value, /)\n",
      " |      Return self==value.\n",
      " |\n",
      " |  __ge__(self, value, /)\n",
      " |      Return self>=value.\n",
      " |\n",
      " |  __getattribute__(self, name, /)\n",
      " |      Return getattr(self, name).\n",
      " |\n",
      " |  __gt__(self, value, /)\n",
      " |      Return self>value.\n",
      " |\n",
      " |  __iand__(self, value, /)\n",
      " |      Return self&=value.\n",
      " |\n",
      " |  __init__(self, /, *args, **kwargs)\n",
      " |      Initialize self.  See help(type(self)) for accurate signature.\n",
      " |\n",
      " |  __ior__(self, value, /)\n",
      " |      Return self|=value.\n",
      " |\n",
      " |  __isub__(self, value, /)\n",
      " |      Return self-=value.\n",
      " |\n",
      " |  __iter__(self, /)\n",
      " |      Implement iter(self).\n",
      " |\n",
      " |  __ixor__(self, value, /)\n",
      " |      Return self^=value.\n",
      " |\n",
      " |  __le__(self, value, /)\n",
      " |      Return self<=value.\n",
      " |\n",
      " |  __len__(self, /)\n",
      " |      Return len(self).\n",
      " |\n",
      " |  __lt__(self, value, /)\n",
      " |      Return self<value.\n",
      " |\n",
      " |  __ne__(self, value, /)\n",
      " |      Return self!=value.\n",
      " |\n",
      " |  __or__(self, value, /)\n",
      " |      Return self|value.\n",
      " |\n",
      " |  __rand__(self, value, /)\n",
      " |      Return value&self.\n",
      " |\n",
      " |  __reduce__(...)\n",
      " |      Return state information for pickling.\n",
      " |\n",
      " |  __repr__(self, /)\n",
      " |      Return repr(self).\n",
      " |\n",
      " |  __ror__(self, value, /)\n",
      " |      Return value|self.\n",
      " |\n",
      " |  __rsub__(self, value, /)\n",
      " |      Return value-self.\n",
      " |\n",
      " |  __rxor__(self, value, /)\n",
      " |      Return value^self.\n",
      " |\n",
      " |  __sizeof__(...)\n",
      " |      S.__sizeof__() -> size of S in memory, in bytes\n",
      " |\n",
      " |  __sub__(self, value, /)\n",
      " |      Return self-value.\n",
      " |\n",
      " |  __xor__(self, value, /)\n",
      " |      Return self^value.\n",
      " |\n",
      " |  add(...)\n",
      " |      Add an element to a set.\n",
      " |\n",
      " |      This has no effect if the element is already present.\n",
      " |\n",
      " |  clear(...)\n",
      " |      Remove all elements from this set.\n",
      " |\n",
      " |  copy(...)\n",
      " |      Return a shallow copy of a set.\n",
      " |\n",
      " |  difference(...)\n",
      " |      Return the difference of two or more sets as a new set.\n",
      " |\n",
      " |      (i.e. all elements that are in this set but not the others.)\n",
      " |\n",
      " |  difference_update(...)\n",
      " |      Remove all elements of another set from this set.\n",
      " |\n",
      " |  discard(...)\n",
      " |      Remove an element from a set if it is a member.\n",
      " |\n",
      " |      Unlike set.remove(), the discard() method does not raise\n",
      " |      an exception when an element is missing from the set.\n",
      " |\n",
      " |  intersection(...)\n",
      " |      Return the intersection of two sets as a new set.\n",
      " |\n",
      " |      (i.e. all elements that are in both sets.)\n",
      " |\n",
      " |  intersection_update(...)\n",
      " |      Update a set with the intersection of itself and another.\n",
      " |\n",
      " |  isdisjoint(...)\n",
      " |      Return True if two sets have a null intersection.\n",
      " |\n",
      " |  issubset(self, other, /)\n",
      " |      Test whether every element in the set is in other.\n",
      " |\n",
      " |  issuperset(self, other, /)\n",
      " |      Test whether every element in other is in the set.\n",
      " |\n",
      " |  pop(...)\n",
      " |      Remove and return an arbitrary set element.\n",
      " |      Raises KeyError if the set is empty.\n",
      " |\n",
      " |  remove(...)\n",
      " |      Remove an element from a set; it must be a member.\n",
      " |\n",
      " |      If the element is not a member, raise a KeyError.\n",
      " |\n",
      " |  symmetric_difference(...)\n",
      " |      Return the symmetric difference of two sets as a new set.\n",
      " |\n",
      " |      (i.e. all elements that are in exactly one of the sets.)\n",
      " |\n",
      " |  symmetric_difference_update(...)\n",
      " |      Update a set with the symmetric difference of itself and another.\n",
      " |\n",
      " |  union(...)\n",
      " |      Return the union of sets as a new set.\n",
      " |\n",
      " |      (i.e. all elements that are in either set.)\n",
      " |\n",
      " |  update(...)\n",
      " |      Update a set with the union of itself and others.\n",
      " |\n",
      " |  ----------------------------------------------------------------------\n",
      " |  Class methods defined here:\n",
      " |\n",
      " |  __class_getitem__(...)\n",
      " |      See PEP 585\n",
      " |\n",
      " |  ----------------------------------------------------------------------\n",
      " |  Static methods defined here:\n",
      " |\n",
      " |  __new__(*args, **kwargs)\n",
      " |      Create and return a new object.  See help(type) for accurate signature.\n",
      " |\n",
      " |  ----------------------------------------------------------------------\n",
      " |  Data and other attributes defined here:\n",
      " |\n",
      " |  __hash__ = None\n",
      "\n"
     ]
    }
   ],
   "source": [
    "myset={10,20,30}\n",
    "myset2={30,40,50}\n",
    "help(myset)"
   ]
  },
  {
   "cell_type": "code",
   "execution_count": 69,
   "id": "54a7a352-d2ef-4e82-9c57-19a073be8a49",
   "metadata": {},
   "outputs": [
    {
     "data": {
      "text/plain": [
       "False"
      ]
     },
     "execution_count": 69,
     "metadata": {},
     "output_type": "execute_result"
    }
   ],
   "source": [
    "myset={10,20,30}\n",
    "myset2={30,40,50}\n",
    "myset.isdisjoint(myset2)"
   ]
  },
  {
   "cell_type": "code",
   "execution_count": 75,
   "id": "0c369101-934d-4b25-8ffc-590ea9a83237",
   "metadata": {},
   "outputs": [
    {
     "data": {
      "text/plain": [
       "True"
      ]
     },
     "execution_count": 75,
     "metadata": {},
     "output_type": "execute_result"
    }
   ],
   "source": [
    "myset={10,20,30}\n",
    "myset2={40,50}\n",
    "myset.isdisjoint(myset2)"
   ]
  },
  {
   "cell_type": "code",
   "execution_count": null,
   "id": "421ba382-15a9-4fc0-98b2-b1ca601f48d4",
   "metadata": {},
   "outputs": [],
   "source": [
    "#  1. union\n",
    "# 2 intersection\n",
    "# 3 difference\n",
    "# 4 isdisjoint\n",
    "# 5 symmetric difference\n",
    "# issuperset"
   ]
  }
 ],
 "metadata": {
  "kernelspec": {
   "display_name": "Python [conda env:base] *",
   "language": "python",
   "name": "conda-base-py"
  },
  "language_info": {
   "codemirror_mode": {
    "name": "ipython",
    "version": 3
   },
   "file_extension": ".py",
   "mimetype": "text/x-python",
   "name": "python",
   "nbconvert_exporter": "python",
   "pygments_lexer": "ipython3",
   "version": "3.12.7"
  }
 },
 "nbformat": 4,
 "nbformat_minor": 5
}
