{
 "cells": [
  {
   "cell_type": "code",
   "execution_count": 18,
   "id": "921b2f19-aba4-48da-8211-5659e075dd2f",
   "metadata": {},
   "outputs": [
    {
     "name": "stdout",
     "output_type": "stream",
     "text": [
      "student 1\n",
      "subject=> 1\n",
      "student 2\n",
      "subject=> 1\n",
      "subject=> 2\n",
      "student 3\n",
      "subject=> 1\n",
      "subject=> 2\n",
      "subject=> 3\n"
     ]
    }
   ],
   "source": [
    "for i in range(1,4):\n",
    "    print(\"student\",i)\n",
    "    for j in range(1,i+1):\n",
    "        print(\"subject=>\",j)"
   ]
  },
  {
   "cell_type": "code",
   "execution_count": 32,
   "id": "e950bd4a-1069-49da-b290-b147f566123f",
   "metadata": {},
   "outputs": [
    {
     "name": "stdout",
     "output_type": "stream",
     "text": [
      "student 1\n",
      "subject=> 0\n",
      "subject=> 1\n",
      "subject=> 2\n",
      "subject=> 3\n",
      "subject=> 4\n",
      "subject=> 5\n",
      "student 2\n",
      "subject=> 0\n",
      "subject=> 1\n",
      "subject=> 2\n",
      "subject=> 3\n",
      "subject=> 4\n",
      "student 3\n",
      "subject=> 0\n",
      "subject=> 1\n",
      "subject=> 2\n",
      "subject=> 3\n",
      "student 4\n",
      "subject=> 0\n",
      "subject=> 1\n",
      "subject=> 2\n",
      "student 5\n",
      "subject=> 0\n",
      "subject=> 1\n"
     ]
    }
   ],
   "source": [
    "for i in range(1,6):\n",
    "    print(\"student\",i)\n",
    "    for j in range(0,7-i):\n",
    "        print(\"subject=>\",j)"
   ]
  },
  {
   "cell_type": "code",
   "execution_count": 36,
   "id": "1d4da895-55bb-40ec-ad1d-44d7780d7263",
   "metadata": {},
   "outputs": [
    {
     "name": "stdout",
     "output_type": "stream",
     "text": [
      "student 1\n",
      "subject=> 1\n",
      "subject=> 2\n",
      "subject=> 3\n",
      "subject=> 4\n",
      "student 2\n",
      "subject=> 2\n",
      "subject=> 3\n",
      "subject=> 4\n",
      "student 3\n",
      "subject=> 3\n",
      "subject=> 4\n",
      "student 4\n",
      "subject=> 4\n"
     ]
    }
   ],
   "source": [
    "for i in range(1,5):\n",
    "    print(\"student\",i)\n",
    "    for j in range(i,5):\n",
    "        print(\"subject=>\",j)"
   ]
  },
  {
   "cell_type": "code",
   "execution_count": 66,
   "id": "30603c07-4025-4706-a6a3-b050a336118e",
   "metadata": {},
   "outputs": [
    {
     "name": "stdout",
     "output_type": "stream",
     "text": [
      "student 7\n",
      "subject=> 1\n",
      "subject=> 2\n",
      "subject=> 3\n",
      "subject=> 4\n",
      "subject=> 5\n",
      "subject=> 6\n",
      "subject=> 7\n",
      "student 6\n",
      "subject=> 1\n",
      "subject=> 2\n",
      "subject=> 3\n",
      "subject=> 4\n",
      "subject=> 5\n",
      "subject=> 6\n",
      "student 5\n",
      "subject=> 1\n",
      "subject=> 2\n",
      "subject=> 3\n",
      "subject=> 4\n",
      "subject=> 5\n",
      "student 4\n",
      "subject=> 1\n",
      "subject=> 2\n",
      "subject=> 3\n",
      "subject=> 4\n",
      "student 3\n",
      "subject=> 1\n",
      "subject=> 2\n",
      "subject=> 3\n",
      "student 2\n",
      "subject=> 1\n",
      "subject=> 2\n",
      "student 1\n",
      "subject=> 1\n"
     ]
    }
   ],
   "source": [
    "for i in range(7,0,-1):\n",
    "    print(\"student\",i)\n",
    "    for j in range(1,i+1):\n",
    "        print(\"subject=>\",j)"
   ]
  },
  {
   "cell_type": "code",
   "execution_count": 86,
   "id": "cb5bfb73-736e-4dea-94a6-353fdbd2c7f5",
   "metadata": {},
   "outputs": [
    {
     "name": "stdout",
     "output_type": "stream",
     "text": [
      "student 1\n",
      "subject==> 1 subject==> 2 subject==> 3 subject==> 4  \n",
      "student 2\n",
      "subject==> 1 subject==> 2 subject==> 3 subject==> 4  \n",
      "student 3\n",
      "subject==> 1 subject==> 2 subject==> 3 subject==> 4  \n",
      "student 4\n",
      "subject==> 1 subject==> 2 subject==> 3 subject==> 4  \n"
     ]
    }
   ],
   "source": [
    "for i  in range(1,5):\n",
    "    print(\"student\",i)\n",
    "    for j in range(1,5):\n",
    "        print(\"subject==>\",j,end=\" \")\n",
    "    print(\" \")"
   ]
  },
  {
   "cell_type": "code",
   "execution_count": 94,
   "id": "b374e67b-f707-40ef-8272-2f6222e6eb28",
   "metadata": {},
   "outputs": [
    {
     "name": "stdout",
     "output_type": "stream",
     "text": [
      "* * * * \n",
      "* * * * \n",
      "* * * * \n",
      "* * * * \n"
     ]
    }
   ],
   "source": [
    "for i in range(1,5):\n",
    "\n",
    "    for j in range(1,5):\n",
    "        print(\"*\",end=\" \")\n",
    "    print(\"\")"
   ]
  },
  {
   "cell_type": "code",
   "execution_count": 7,
   "id": "e336f612-a4a3-4323-b252-f9bb17db2d2c",
   "metadata": {},
   "outputs": [
    {
     "name": "stdout",
     "output_type": "stream",
     "text": [
      "* \n",
      "* * \n",
      "* * * \n",
      "* * * * \n"
     ]
    }
   ],
   "source": [
    "for i in range(1,5):\n",
    "\n",
    "    for j in range(1,i+1):\n",
    "        print(\"*\",end=\" \")\n",
    "    print(\"\")"
   ]
  },
  {
   "cell_type": "code",
   "execution_count": 26,
   "id": "a86609aa-322b-42bc-910e-b4ef44087add",
   "metadata": {},
   "outputs": [
    {
     "name": "stdout",
     "output_type": "stream",
     "text": [
      "1 \n",
      "2 3 \n",
      "4 5 6 \n",
      "7 8 9 10 \n"
     ]
    }
   ],
   "source": [
    "x=1\n",
    "for i in range(5,1,-1):\n",
    "\n",
    "    for j in range(5,i-1,-1):\n",
    "        print(x,end=\" \")\n",
    "        x=x+1\n",
    "    print(\"\")"
   ]
  },
  {
   "cell_type": "code",
   "execution_count": 30,
   "id": "efcae180-8ebc-4192-aae9-d8b963109216",
   "metadata": {},
   "outputs": [
    {
     "name": "stdout",
     "output_type": "stream",
     "text": [
      "*\n",
      "**\n",
      "***\n",
      "****\n",
      "***\n",
      "**\n",
      "*\n"
     ]
    }
   ],
   "source": [
    "for i in range(1,4):\n",
    "        print(i*\"*\")\n",
    "for i in range(4,0,-1):\n",
    "        print(i*\"*\")"
   ]
  },
  {
   "cell_type": "code",
   "execution_count": 36,
   "id": "a45c497a-7c2c-4b84-b55f-0d08589e1f5b",
   "metadata": {},
   "outputs": [
    {
     "data": {
      "text/plain": [
       "'xxx'"
      ]
     },
     "execution_count": 36,
     "metadata": {},
     "output_type": "execute_result"
    }
   ],
   "source": [
    "3*\"x\""
   ]
  },
  {
   "cell_type": "code",
   "execution_count": 42,
   "id": "7a2950ae-519c-4885-b0fe-b638f67f530d",
   "metadata": {},
   "outputs": [
    {
     "name": "stdout",
     "output_type": "stream",
     "text": [
      "*\n",
      "**\n",
      "***\n",
      "****\n",
      "*****\n"
     ]
    }
   ],
   "source": [
    "for i in range(1,6):\n",
    "    print(i*\"*\")\n",
    "\n",
    "  "
   ]
  },
  {
   "cell_type": "code",
   "execution_count": 48,
   "id": "bf3c8940-09e2-4b7d-9bfa-34ed4e275331",
   "metadata": {},
   "outputs": [
    {
     "name": "stdout",
     "output_type": "stream",
     "text": [
      "******\n",
      "*****\n",
      "****\n",
      "***\n",
      "**\n",
      "*\n"
     ]
    }
   ],
   "source": [
    "for i in range(6,0,-1):\n",
    "    print(i*\"*\")"
   ]
  },
  {
   "cell_type": "code",
   "execution_count": 60,
   "id": "9d05954c-1f66-479d-b74e-bf4bfd315f3d",
   "metadata": {},
   "outputs": [
    {
     "name": "stdout",
     "output_type": "stream",
     "text": [
      "*\n",
      "**\n",
      "***\n",
      "****\n",
      "*****\n",
      "****\n",
      "***\n",
      "**\n",
      "*\n"
     ]
    }
   ],
   "source": [
    "for i in range(1,5):\n",
    "    print(i*\"*\")\n",
    "for j in range(5,0,-1):\n",
    "    print(j*\"*\")"
   ]
  }
 ],
 "metadata": {
  "kernelspec": {
   "display_name": "Python 3 (ipykernel)",
   "language": "python",
   "name": "python3"
  },
  "language_info": {
   "codemirror_mode": {
    "name": "ipython",
    "version": 3
   },
   "file_extension": ".py",
   "mimetype": "text/x-python",
   "name": "python",
   "nbconvert_exporter": "python",
   "pygments_lexer": "ipython3",
   "version": "3.12.7"
  }
 },
 "nbformat": 4,
 "nbformat_minor": 5
}
