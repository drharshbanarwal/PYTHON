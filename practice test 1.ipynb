{
 "cells": [
  {
   "cell_type": "code",
   "execution_count": 1,
   "id": "4164fb7e-0b24-4166-9839-ce852a6072f0",
   "metadata": {},
   "outputs": [
    {
     "name": "stdout",
     "output_type": "stream",
     "text": [
      "1 3 5 7 9 11 13 15 17 19 "
     ]
    }
   ],
   "source": [
    "n=1\n",
    "while(n<=20):\n",
    "  if(n%2!=0):\n",
    "    print(n,end=\" \")\n",
    "  n+=1"
   ]
  },
  {
   "cell_type": "code",
   "execution_count": 3,
   "id": "c4e518a8-26c9-457f-9e96-c3e19dcbffaa",
   "metadata": {},
   "outputs": [
    {
     "name": "stdout",
     "output_type": "stream",
     "text": [
      "hey 8\n",
      "hey 9\n",
      "hey 10\n",
      "hey 11\n",
      "hey 12\n",
      "hey 13\n",
      "hey 14\n"
     ]
    }
   ],
   "source": [
    "n=8\n",
    "while(n<15):\n",
    "    print(\"hey\",n)\n",
    "    n+=1"
   ]
  },
  {
   "cell_type": "code",
   "execution_count": 5,
   "id": "dcf943e4-61f9-4da6-97cd-bf16a0eb037f",
   "metadata": {},
   "outputs": [
    {
     "name": "stdout",
     "output_type": "stream",
     "text": [
      "hey 4\n",
      "hey 3\n",
      "hey 2\n"
     ]
    }
   ],
   "source": [
    "n=5\n",
    "while(n>2):\n",
    "    n-=1\n",
    "    print(\"hey\",n)"
   ]
  },
  {
   "cell_type": "code",
   "execution_count": 7,
   "id": "4312f879-4e3f-4f8e-b346-24dffbed4f9d",
   "metadata": {},
   "outputs": [
    {
     "name": "stdout",
     "output_type": "stream",
     "text": [
      "without break\n",
      "without break\n",
      "without break\n",
      "without break\n"
     ]
    }
   ],
   "source": [
    "z=0\n",
    "for i in range(1,5):\n",
    "    if(i==8):\n",
    "        z=1\n",
    "        break\n",
    "    if(z==0):\n",
    "        print(\"without break\")\n",
    "    else:\n",
    "        print(\"with break\")"
   ]
  },
  {
   "cell_type": "code",
   "execution_count": 9,
   "id": "7eb66bab-b13c-408f-97ae-0a212d958629",
   "metadata": {},
   "outputs": [
    {
     "name": "stdin",
     "output_type": "stream",
     "text": [
      "enter the number 5\n"
     ]
    },
    {
     "name": "stdout",
     "output_type": "stream",
     "text": [
      "prime\n"
     ]
    }
   ],
   "source": [
    "num=int(input(\"enter the number\"))\n",
    "for i in range(1,num):\n",
    "    if(num%2==0):\n",
    "        print(\"not prime\")\n",
    "        break\n",
    "    else:\n",
    "        print(\"prime\")\n",
    "        break"
   ]
  },
  {
   "cell_type": "code",
   "execution_count": 11,
   "id": "3b3e7cd5-084d-496a-8b99-3cc5f6de7b7b",
   "metadata": {},
   "outputs": [],
   "source": [
    "# TEST Question"
   ]
  },
  {
   "cell_type": "code",
   "execution_count": 13,
   "id": "cd6500c4-1867-4a15-8bd3-1b379e2b677a",
   "metadata": {},
   "outputs": [
    {
     "name": "stdout",
     "output_type": "stream",
     "text": [
      "Greater\n"
     ]
    }
   ],
   "source": [
    "p = 15\n",
    "q = 10\n",
    "if p > q and p % q == 0:\n",
    "    result = \"Divisible\"\n",
    "elif p > q:\n",
    "    result = \"Greater\"\n",
    "else:\n",
    "    result = \"Smaller\"\n",
    "\n",
    "print(result)"
   ]
  },
  {
   "cell_type": "code",
   "execution_count": 15,
   "id": "3a9354fb-d399-45ff-b6e2-5fde3b36eda8",
   "metadata": {},
   "outputs": [
    {
     "name": "stdout",
     "output_type": "stream",
     "text": [
      "50\n"
     ]
    }
   ],
   "source": [
    "m = 5\n",
    "n = 10\n",
    "if m > 0:\n",
    "    if n < 0:\n",
    "        result = m + n\n",
    "    elif n == 10:\n",
    "        result = m * n\n",
    "    else:\n",
    "        result = m - n\n",
    "else:\n",
    "    result = 0\n",
    "\n",
    "print(result)"
   ]
  },
  {
   "cell_type": "code",
   "execution_count": 17,
   "id": "8377e5ec-f3bd-450f-8fbd-29bd4cb154c8",
   "metadata": {},
   "outputs": [
    {
     "name": "stdout",
     "output_type": "stream",
     "text": [
      "5\n"
     ]
    }
   ],
   "source": [
    "a = 12\n",
    "b = 7\n",
    "if a % 3 == 0:\n",
    "    if b % 2 == 0:\n",
    "        c = a // b\n",
    "    else:\n",
    "        c = a % b\n",
    "else:\n",
    "    c = b % a\n",
    "\n",
    "print(c)"
   ]
  },
  {
   "cell_type": "code",
   "execution_count": 19,
   "id": "2d24527a-a8cd-48ba-ae76-f0242f2c63e7",
   "metadata": {},
   "outputs": [
    {
     "name": "stdout",
     "output_type": "stream",
     "text": [
      "1.5\n"
     ]
    }
   ],
   "source": [
    "x = 8\n",
    "y = 12\n",
    "if x == y:\n",
    "    z = x * y\n",
    "elif x > y:\n",
    "    z = x / y\n",
    "else:\n",
    "    z = y / x\n",
    "\n",
    "print(z)"
   ]
  },
  {
   "cell_type": "code",
   "execution_count": 21,
   "id": "f3fb869f-5f0d-4f0b-9aa8-c271f4b69f7a",
   "metadata": {},
   "outputs": [
    {
     "name": "stdout",
     "output_type": "stream",
     "text": [
      "12\n"
     ]
    }
   ],
   "source": [
    "x = 9\n",
    "y = 3\n",
    "if x == y:\n",
    "    output = x * y\n",
    "elif x < y:\n",
    "    if y % x == 0:\n",
    "        output = y // x\n",
    "    else:\n",
    "        output = y - x\n",
    "else:\n",
    "    output = x + y\n",
    "\n",
    "print(output)"
   ]
  },
  {
   "cell_type": "code",
   "execution_count": 23,
   "id": "0c81360b-8d65-466b-bc02-821d206f1820",
   "metadata": {},
   "outputs": [
    {
     "name": "stdout",
     "output_type": "stream",
     "text": [
      "11\n"
     ]
    }
   ],
   "source": [
    "a = 8\n",
    "b = 3\n",
    "if a % 2 == 0:\n",
    "    if b % 2 == 0:\n",
    "        c = a * b\n",
    "    else:\n",
    "        c = a + b\n",
    "else:\n",
    "    c = a - b\n",
    "\n",
    "print(c)"
   ]
  },
  {
   "cell_type": "code",
   "execution_count": 25,
   "id": "dbe40489-0881-4014-b2de-46f604760d63",
   "metadata": {},
   "outputs": [
    {
     "name": "stdout",
     "output_type": "stream",
     "text": [
      "False\n"
     ]
    }
   ],
   "source": [
    "x = 5\n",
    "y = 5\n",
    "result = (x is not y)\n",
    "print(result)"
   ]
  },
  {
   "cell_type": "code",
   "execution_count": 27,
   "id": "b28773d2-0967-4b17-adc3-306f1a7c44f3",
   "metadata": {},
   "outputs": [
    {
     "name": "stdout",
     "output_type": "stream",
     "text": [
      "Science\n"
     ]
    }
   ],
   "source": [
    "text = \"Data Science\"\n",
    "slice_text = text[-7:]\n",
    "print(slice_text)"
   ]
  },
  {
   "cell_type": "code",
   "execution_count": null,
   "id": "eb42dc94-8c97-47a3-9b6f-b943353beb98",
   "metadata": {},
   "outputs": [],
   "source": [
    "# reverse\n",
    "x=432\n",
    "for i in range(0,3):\n",
    "    rem=x%10\n",
    "    x=x//10\n",
    "    print(rem,x)"
   ]
  }
 ],
 "metadata": {
  "kernelspec": {
   "display_name": "Python [conda env:base] *",
   "language": "python",
   "name": "conda-base-py"
  },
  "language_info": {
   "codemirror_mode": {
    "name": "ipython",
    "version": 3
   },
   "file_extension": ".py",
   "mimetype": "text/x-python",
   "name": "python",
   "nbconvert_exporter": "python",
   "pygments_lexer": "ipython3",
   "version": "3.12.7"
  }
 },
 "nbformat": 4,
 "nbformat_minor": 5
}
