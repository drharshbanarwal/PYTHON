{
 "cells": [
  {
   "cell_type": "code",
   "execution_count": 2,
   "id": "f657403d-f881-4007-b6d0-0fff52fbcb34",
   "metadata": {},
   "outputs": [],
   "source": [
    " # FUNCTION PRACTICE 1"
   ]
  },
  {
   "cell_type": "code",
   "execution_count": 4,
   "id": "93dbaaf4-6b89-4d5e-8f4c-028e9d361c6e",
   "metadata": {},
   "outputs": [],
   "source": [
    "# FUNCTIONS :> A function in Python is a block of reusable code that performs a specific task. Functions help organize code, making it more modular and easier to read"
   ]
  },
  {
   "cell_type": "code",
   "execution_count": 12,
   "id": "9bf890a2-7ac7-4abb-9f15-389b34285312",
   "metadata": {},
   "outputs": [],
   "source": [
    "# how to define a function... we use DEF (def keyword )\n",
    "\n",
    "# def function_name(parameter):\n",
    "    # pass function statement (code or logic)\n",
    "\n",
    "def sum(a,b):   # Those variable are creating in the function known as PARAMETER.\n",
    "    c=a+b\n",
    "    print(\"sum is\",c)\n",
    "    "
   ]
  },
  {
   "cell_type": "code",
   "execution_count": 14,
   "id": "aebcaf59-d898-4fd9-a666-e6d0f644b7e6",
   "metadata": {},
   "outputs": [
    {
     "name": "stdout",
     "output_type": "stream",
     "text": [
      "sum is 30\n"
     ]
    }
   ],
   "source": [
    "# function calling to use the function or to make it functional.\n",
    "sum(10,20)  # the value we are passing during the function call known as ARGUMENTS."
   ]
  },
  {
   "cell_type": "code",
   "execution_count": 18,
   "id": "715d7007-b3ae-41c7-8b14-dc1e0da35fe8",
   "metadata": {},
   "outputs": [],
   "source": [
    "def sum(a,b):\n",
    "    c=a+b\n",
    "    print(\"sum is\",c)"
   ]
  },
  {
   "cell_type": "code",
   "execution_count": 22,
   "id": "2ea37bee-4c0d-4fdf-9bb3-28062b14559e",
   "metadata": {},
   "outputs": [
    {
     "name": "stdout",
     "output_type": "stream",
     "text": [
      "sum is 30\n",
      "sum is 20\n"
     ]
    }
   ],
   "source": [
    "sum(10,20)\n",
    "sum(10,10)"
   ]
  },
  {
   "cell_type": "code",
   "execution_count": 44,
   "id": "029290f6-2aaa-45cd-968b-936073f8b3f2",
   "metadata": {},
   "outputs": [],
   "source": [
    "# THE RETURN FUNCTION\n",
    "def multi(a,b):\n",
    "    c=a*b\n",
    "    return f\"the sum is = \",c"
   ]
  },
  {
   "cell_type": "code",
   "execution_count": 46,
   "id": "c12872a8-530e-4ae1-a6d0-4f820e9fed88",
   "metadata": {},
   "outputs": [
    {
     "name": "stdout",
     "output_type": "stream",
     "text": [
      "('the sum is = ', 8)\n"
     ]
    }
   ],
   "source": [
    "x=multi(4,2)   # storing the function into a variable\n",
    "print(x)"
   ]
  },
  {
   "cell_type": "code",
   "execution_count": 48,
   "id": "3519c3e9-00c8-4d63-8a35-32a68ca715cf",
   "metadata": {},
   "outputs": [],
   "source": [
    "# LOCAL VARIABLE AND LOCAL VARIABLE...\n",
    "# LOCAL VARIABLE => ARE DEFINE INSIDE THE FUNCTION.\n",
    "# GLOBAL VARIABLE => ARE DEFINE OUTSIDE THE FUNCTION."
   ]
  },
  {
   "cell_type": "code",
   "execution_count": 50,
   "id": "f1918723-c87b-4952-a5f9-221115bdb4a0",
   "metadata": {},
   "outputs": [],
   "source": [
    "def xyz(a,b):  # LOCAL VARIABLE\n",
    "    a=20       # the are local variable (a,b)\n",
    "    b=10       # are use inside the function.\n",
    "    c=a+b\n",
    "    return c"
   ]
  },
  {
   "cell_type": "code",
   "execution_count": 52,
   "id": "8eecd55a-f5cf-46a2-bc22-28e509fd2546",
   "metadata": {},
   "outputs": [
    {
     "name": "stdout",
     "output_type": "stream",
     "text": [
      "30\n"
     ]
    }
   ],
   "source": [
    "h=xyz(10,20)\n",
    "print(h)"
   ]
  },
  {
   "cell_type": "code",
   "execution_count": 54,
   "id": "82c8269a-5ef6-408e-836a-8912839de1bd",
   "metadata": {},
   "outputs": [],
   "source": [
    "def sum(a,b):\n",
    "    a=20\n",
    "    b=10\n",
    "    c=a+b\n",
    "    return c"
   ]
  },
  {
   "cell_type": "code",
   "execution_count": 56,
   "id": "d4c9b22b-f979-4bbf-8321-94487add58c3",
   "metadata": {},
   "outputs": [
    {
     "name": "stdout",
     "output_type": "stream",
     "text": [
      "30\n"
     ]
    }
   ],
   "source": [
    "x=sum(20,10)\n",
    "print(x)"
   ]
  },
  {
   "cell_type": "code",
   "execution_count": 60,
   "id": "3c903d1a-9903-402b-a124-970913172b7e",
   "metadata": {},
   "outputs": [
    {
     "name": "stdout",
     "output_type": "stream",
     "text": [
      "100\n"
     ]
    }
   ],
   "source": [
    "a=100        # GLIOBAL VARIABLE\n",
    "print(a)     # ARE USED OUTSIDE THE FUNCTION"
   ]
  },
  {
   "cell_type": "code",
   "execution_count": 62,
   "id": "e236f077-7edf-4c1b-9f48-fbe0d8fbeb98",
   "metadata": {},
   "outputs": [],
   "source": [
    "# QUESION :>\n",
    "# 1. ODD AND EVEN NUMBER :>\n",
    "\n",
    "\n",
    "def odd_eve():\n",
    "    num=int(input(\"enter the number\"))\n",
    "    if num % 2==0:\n",
    "        print(\"Even\")\n",
    "\n",
    "    else:\n",
    "        print(\"Odd\")\n",
    "\n",
    "    return num\n"
   ]
  },
  {
   "cell_type": "code",
   "execution_count": 64,
   "id": "dada003f-8ab5-4119-be1f-0cb15002ae35",
   "metadata": {},
   "outputs": [
    {
     "name": "stdin",
     "output_type": "stream",
     "text": [
      "enter the number 12\n"
     ]
    },
    {
     "name": "stdout",
     "output_type": "stream",
     "text": [
      "Even\n",
      "12\n"
     ]
    }
   ],
   "source": [
    "user=odd_eve()\n",
    "print(user)"
   ]
  },
  {
   "cell_type": "code",
   "execution_count": 78,
   "id": "903ba916-6719-48de-a700-c64fa7699ebd",
   "metadata": {},
   "outputs": [],
   "source": [
    "# 2. pattern\n",
    "\n",
    "def lines():\n",
    "    line= int(input(\"enter the number of lines =\"))\n",
    "    for i in range(1,line+1):\n",
    "        for j in range(i):\n",
    "            print(\"*\",end=\"\")\n",
    "        print()\n",
    "    \n",
    "    return f\" the {lines}number of tringle has been created\""
   ]
  },
  {
   "cell_type": "code",
   "execution_count": 80,
   "id": "48a7b81f-026e-48b1-86cf-c9499ecc44eb",
   "metadata": {},
   "outputs": [
    {
     "name": "stdin",
     "output_type": "stream",
     "text": [
      "enter the number of lines = 5\n"
     ]
    },
    {
     "name": "stdout",
     "output_type": "stream",
     "text": [
      "*\n",
      "**\n",
      "***\n",
      "****\n",
      "*****\n",
      " the <function lines at 0x000001B99A598E00>number of tringle has been created\n"
     ]
    }
   ],
   "source": [
    "tringle=lines()\n",
    "print(tringle)"
   ]
  },
  {
   "cell_type": "code",
   "execution_count": null,
   "id": "6b0ab27b-4570-4517-aa22-e2fc47df59fe",
   "metadata": {},
   "outputs": [],
   "source": []
  }
 ],
 "metadata": {
  "kernelspec": {
   "display_name": "Python [conda env:base] *",
   "language": "python",
   "name": "conda-base-py"
  },
  "language_info": {
   "codemirror_mode": {
    "name": "ipython",
    "version": 3
   },
   "file_extension": ".py",
   "mimetype": "text/x-python",
   "name": "python",
   "nbconvert_exporter": "python",
   "pygments_lexer": "ipython3",
   "version": "3.12.7"
  }
 },
 "nbformat": 4,
 "nbformat_minor": 5
}
