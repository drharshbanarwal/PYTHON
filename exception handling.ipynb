{
 "cells": [
  {
   "cell_type": "code",
   "execution_count": 1,
   "id": "d3c8a371-0c3d-4a32-bdb8-d8f5e9374365",
   "metadata": {},
   "outputs": [],
   "source": [
    "# exception handling\n",
    "#  exception = unwanted condition, situation\n",
    "# code= correct output (it wont give u a correct output, or an error)\n",
    "# we use it to handel the unwanted situation\n",
    "# two types\n",
    "# 1 try \n",
    "# 2 except"
   ]
  },
  {
   "cell_type": "code",
   "execution_count": 5,
   "id": "fc03b458-e499-48d1-b7c2-b7fc32b039e1",
   "metadata": {},
   "outputs": [
    {
     "name": "stdout",
     "output_type": "stream",
     "text": [
      "hello\n",
      "error\n"
     ]
    }
   ],
   "source": [
    "try:\n",
    "    print(\"hello\")\n",
    "    z+10\n",
    "except:\n",
    "    print(\"error\")"
   ]
  },
  {
   "cell_type": "code",
   "execution_count": 11,
   "id": "8aa1cc6a-cf2c-4ded-851f-3224fa0652ae",
   "metadata": {},
   "outputs": [
    {
     "name": "stdout",
     "output_type": "stream",
     "text": [
      "hello\n",
      "error name 'y' is not defined\n"
     ]
    }
   ],
   "source": [
    "try:\n",
    "    print(\"hello\")\n",
    "    y+=2\n",
    "except NameError as x:\n",
    "    print(\"error\",x)"
   ]
  },
  {
   "cell_type": "code",
   "execution_count": 17,
   "id": "ad527a2c-bccb-43e3-817b-570c2b15591e",
   "metadata": {},
   "outputs": [
    {
     "name": "stdout",
     "output_type": "stream",
     "text": [
      "hello\n",
      "error string index out of range\n"
     ]
    }
   ],
   "source": [
    "try:\n",
    "    print(\"hello\")\n",
    "    s=\"hey\"\n",
    "    s[5]\n",
    "    y+=2\n",
    "except (NameError,IndexError) as x:\n",
    "    print(\"error\",x)"
   ]
  },
  {
   "cell_type": "code",
   "execution_count": 21,
   "id": "aa2f1875-02ff-4863-935b-986dd61ca7ea",
   "metadata": {},
   "outputs": [
    {
     "name": "stdout",
     "output_type": "stream",
     "text": [
      "hello\n",
      "error name 'y' is not defined\n"
     ]
    }
   ],
   "source": [
    "try:\n",
    "    print(\"hello\")\n",
    "    s=\"hey\"\n",
    "    s[1]\n",
    "    y+=2\n",
    "except (NameError,IndexError) as x:\n",
    "    print(\"error\",x)"
   ]
  },
  {
   "cell_type": "code",
   "execution_count": 23,
   "id": "a87d5b2d-bedd-4cfa-a7c2-eaa873b5afa4",
   "metadata": {},
   "outputs": [],
   "source": [
    "# nested try and except"
   ]
  },
  {
   "cell_type": "code",
   "execution_count": 29,
   "id": "f2def2dc-bf72-4b71-9a49-f35215e94121",
   "metadata": {},
   "outputs": [
    {
     "name": "stdout",
     "output_type": "stream",
     "text": [
      "hello\n",
      "Inner Error\n",
      "hey\n"
     ]
    }
   ],
   "source": [
    "try:\n",
    "    print(\"hello\")\n",
    "    try:\n",
    "        s=\"hey\"\n",
    "        s[1]\n",
    "        y+=2\n",
    "\n",
    "    except:\n",
    "        print(\"Inner Error\")\n",
    "    print(\"hey\")\n",
    "except (NameError,IndexError) as x:\n",
    "    print(\"error\",x)"
   ]
  },
  {
   "cell_type": "code",
   "execution_count": 39,
   "id": "a41485d8-7ec6-4f78-be8c-1a75720f7c62",
   "metadata": {},
   "outputs": [],
   "source": [
    "# else and finally (two more statements)\n",
    "# else statement( "
   ]
  },
  {
   "cell_type": "code",
   "execution_count": 41,
   "id": "a79b3bbd-cc26-4e8c-94bb-b623d7ffe005",
   "metadata": {},
   "outputs": [
    {
     "name": "stdout",
     "output_type": "stream",
     "text": [
      "hello\n",
      "Else Statement\n"
     ]
    }
   ],
   "source": [
    "try:\n",
    "    print(\"hello\")\n",
    "    s=\"hey\"\n",
    "    s[0]\n",
    "   \n",
    "except (NameError,IndexError) as x:\n",
    "    print(\"error\",x)\n",
    "else:\n",
    "    print(\"Else Statement\")"
   ]
  },
  {
   "cell_type": "code",
   "execution_count": 47,
   "id": "08cc8cc9-d13c-4d3e-b3d8-da53b597802d",
   "metadata": {},
   "outputs": [
    {
     "name": "stdout",
     "output_type": "stream",
     "text": [
      "hello\n",
      "error string index out of range\n",
      "finally Statement\n"
     ]
    }
   ],
   "source": [
    "#finally\n",
    "\n",
    "try:\n",
    "    print(\"hello\")\n",
    "    s=\"hey\"\n",
    "    s[5]\n",
    "   \n",
    "except (NameError,IndexError) as x:\n",
    "    print(\"error\",x)\n",
    "finally:\n",
    "    print(\"finally Statement\")"
   ]
  },
  {
   "cell_type": "code",
   "execution_count": 49,
   "id": "80834326-2c8e-4e4a-b1c4-4e58d65beb30",
   "metadata": {},
   "outputs": [],
   "source": [
    "# raise (keyword)"
   ]
  },
  {
   "cell_type": "code",
   "execution_count": 59,
   "id": "f264a78c-6c34-4d79-ac64-156baca28138",
   "metadata": {},
   "outputs": [
    {
     "name": "stdin",
     "output_type": "stream",
     "text": [
      "enter the age 12\n"
     ]
    },
    {
     "name": "stdout",
     "output_type": "stream",
     "text": [
      "Invalid age for value\n"
     ]
    }
   ],
   "source": [
    "age=int(input(\"enter the age\"))\n",
    "try:\n",
    "    if(age<18):\n",
    "        raise ValueError\n",
    "\n",
    "    else:\n",
    "        print(\"welcome user\")\n",
    "except ValueError :\n",
    "    print(\"Invalid age for value\")"
   ]
  },
  {
   "cell_type": "code",
   "execution_count": 61,
   "id": "985281e6-5204-4ef2-9bd5-d2efc94e326f",
   "metadata": {},
   "outputs": [],
   "source": [
    "# (interview base) (python 2 vs python 3 ,call by object referencce , list vs tuple , dictionary and set usecase ,function (args vs kwargs) normal function vs lambda function , first class vs high order , asssert)\n",
    "#(problam solving imp = list aka array/stack question (very imp)(very very imp = stack/queue and linkedlist)\n",
    "\n",
    "# learnig assignemt \n",
    "# 1. assert\n",
    "# 2. assert statements\n",
    "# 3. what is generatOR and how its differnt from normla functions and its return keyword\n",
    "# 4. \n",
    "\n"
   ]
  },
  {
   "cell_type": "code",
   "execution_count": null,
   "id": "d641dd2a-353f-4610-be58-8203d236ac9a",
   "metadata": {},
   "outputs": [],
   "source": []
  }
 ],
 "metadata": {
  "kernelspec": {
   "display_name": "Python 3 (ipykernel)",
   "language": "python",
   "name": "python3"
  },
  "language_info": {
   "codemirror_mode": {
    "name": "ipython",
    "version": 3
   },
   "file_extension": ".py",
   "mimetype": "text/x-python",
   "name": "python",
   "nbconvert_exporter": "python",
   "pygments_lexer": "ipython3",
   "version": "3.12.7"
  }
 },
 "nbformat": 4,
 "nbformat_minor": 5
}
