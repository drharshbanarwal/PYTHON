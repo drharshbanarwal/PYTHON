{
 "cells": [
  {
   "cell_type": "code",
   "execution_count": 1,
   "id": "543e0411-9d4f-4a5c-ba75-faa9d1479e34",
   "metadata": {},
   "outputs": [],
   "source": [
    "# Operator Overloading\n",
    "# help to achive polymorphism"
   ]
  },
  {
   "cell_type": "code",
   "execution_count": 23,
   "id": "bba07d53-d0ed-40a4-b547-dbd894d9d49a",
   "metadata": {},
   "outputs": [],
   "source": [
    "class Addno:\n",
    "    def __init__(self,x,y):\n",
    "        self.x=x\n",
    "        self.y=y\n",
    "\n",
    "    def __add__(self,func):\n",
    "        print(\"dunder\")\n",
    "\n",
    "a1=Addno(10,20)\n",
    "a2=Addno(32,96)"
   ]
  },
  {
   "cell_type": "code",
   "execution_count": 25,
   "id": "5dcc9521-f218-44b9-afb2-08b977f18705",
   "metadata": {},
   "outputs": [
    {
     "name": "stdout",
     "output_type": "stream",
     "text": [
      "dunder\n"
     ]
    }
   ],
   "source": [
    "# dunder function (inbuild function in python)\n",
    "# __add__ (for addition), __mul__ (for multliply)\n",
    "\n",
    "a1+a2"
   ]
  },
  {
   "cell_type": "code",
   "execution_count": 37,
   "id": "aaab5a5a-daca-4852-b8e4-27a1bf114435",
   "metadata": {},
   "outputs": [],
   "source": [
    "class Addno:\n",
    "    def __init__(self,x,y):\n",
    "        self.x=x\n",
    "        self.y=y\n",
    "\n",
    "    def __add__(self,z):    # saving a2 into Z varaible\n",
    "        \n",
    "        return (self.x+z.x, self.y+z.y)\n",
    "\n",
    "a1=Addno(10,20)\n",
    "a2=Addno(32,96)"
   ]
  },
  {
   "cell_type": "code",
   "execution_count": 43,
   "id": "ce0183d0-a14c-4415-bb9b-50f88437b009",
   "metadata": {},
   "outputs": [
    {
     "data": {
      "text/plain": [
       "(42, 116)"
      ]
     },
     "execution_count": 43,
     "metadata": {},
     "output_type": "execute_result"
    }
   ],
   "source": [
    "a1+a2\n"
   ]
  },
  {
   "cell_type": "code",
   "execution_count": 55,
   "id": "b198ab2a-4d0b-4063-8330-a65548532fef",
   "metadata": {},
   "outputs": [],
   "source": [
    "# operator overloading\n",
    "\n",
    "class Addno:\n",
    "    def __init__(self,num1):\n",
    "        self.num1=num1\n",
    "\n",
    "    def __gt__(self,ref):\n",
    "        if(self.num1==ref.num1):\n",
    "            return False\n",
    "\n",
    "        else:\n",
    "            return True\n",
    "\n",
    "a1=Addno(10)\n",
    "a2=Addno(32)"
   ]
  },
  {
   "cell_type": "code",
   "execution_count": 59,
   "id": "246e2a25-125c-4ab1-8ad6-37af2af5c739",
   "metadata": {},
   "outputs": [
    {
     "data": {
      "text/plain": [
       "True"
      ]
     },
     "execution_count": 59,
     "metadata": {},
     "output_type": "execute_result"
    }
   ],
   "source": [
    "a1>a2   # we call grater methoed for a1  ( __gt__ )\n"
   ]
  },
  {
   "cell_type": "code",
   "execution_count": 61,
   "id": "5b26c590-0862-42cd-9166-58ba4498f7ae",
   "metadata": {},
   "outputs": [],
   "source": [
    "# ENCAPSULATION  (act like a capsule)\n",
    "# MURGING TWO THINGS (bind method(function) and attribute(varable))\n",
    "# it bind inside the class\n",
    "# to provide the accessibility => it use ACCESS MODIFIER =>\n",
    "# They are (1.PRIVATE, 2.PUBLIC, 3.PROCTETED AND 4.DEFULT(PACKEGE PROTECTED)\n"
   ]
  },
  {
   "cell_type": "code",
   "execution_count": 65,
   "id": "611ddb3b-1bac-49a9-bba9-db2f3f9999d1",
   "metadata": {},
   "outputs": [],
   "source": [
    "# PROCTECTED\n",
    "class family:\n",
    "    _bank=5000    # if we use _(underscore) variable should act protected(inactual its not protected(its just a illiusion))\n",
    "    home_property=999999;"
   ]
  },
  {
   "cell_type": "code",
   "execution_count": 69,
   "id": "6219391b-f44d-4618-ae45-98b6cb9ab091",
   "metadata": {},
   "outputs": [
    {
     "data": {
      "text/plain": [
       "5000"
      ]
     },
     "execution_count": 69,
     "metadata": {},
     "output_type": "execute_result"
    }
   ],
   "source": [
    "class child(family):\n",
    "    salary=100\n",
    "\n",
    "c1=child()\n",
    "c1.bank"
   ]
  },
  {
   "cell_type": "code",
   "execution_count": 75,
   "id": "54c86ba0-7f0f-42a8-9ef2-79d7788c190b",
   "metadata": {},
   "outputs": [],
   "source": [
    "# PRIVATE (if we make a function private even object cant access )\n",
    "\n",
    "class family:\n",
    "    _bank=5000    \n",
    "    __home_property=999999;  # we use __(two underscore)"
   ]
  },
  {
   "cell_type": "code",
   "execution_count": 79,
   "id": "7e821fcf-11d0-4ac0-a4fa-cb4ac0b4e304",
   "metadata": {},
   "outputs": [
    {
     "data": {
      "text/plain": [
       "999999"
      ]
     },
     "execution_count": 79,
     "metadata": {},
     "output_type": "execute_result"
    }
   ],
   "source": [
    "f1=family()\n",
    "f1._family__home_property"
   ]
  },
  {
   "cell_type": "code",
   "execution_count": null,
   "id": "90e6408f-b64f-41b3-85c3-5ead152e2449",
   "metadata": {},
   "outputs": [],
   "source": []
  }
 ],
 "metadata": {
  "kernelspec": {
   "display_name": "Python [conda env:base] *",
   "language": "python",
   "name": "conda-base-py"
  },
  "language_info": {
   "codemirror_mode": {
    "name": "ipython",
    "version": 3
   },
   "file_extension": ".py",
   "mimetype": "text/x-python",
   "name": "python",
   "nbconvert_exporter": "python",
   "pygments_lexer": "ipython3",
   "version": "3.12.7"
  }
 },
 "nbformat": 4,
 "nbformat_minor": 5
}
