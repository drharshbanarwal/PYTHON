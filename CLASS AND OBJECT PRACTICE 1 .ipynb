{
 "cells": [
  {
   "cell_type": "code",
   "execution_count": 2,
   "id": "a1ffe7fc-6a7e-4e93-aa9a-33bd6ec15475",
   "metadata": {},
   "outputs": [],
   "source": [
    "# CLASSES AND OBJECT\n",
    "#..> A class in Python is a blueprint for creating objects. It defines the structure and behavior of objects, acting as a template for instances of that class.\n",
    "\n",
    "#...>Python, an object is a fundamental concept representing a specific instance of a class. It's a self-contained entity that encapsulates both data (attributes) and behavior (methods)."
   ]
  },
  {
   "cell_type": "code",
   "execution_count": 10,
   "id": "b280d498-420d-4423-a4e2-d158378cb1c8",
   "metadata": {},
   "outputs": [
    {
     "name": "stdout",
     "output_type": "stream",
     "text": [
      "harsh doctor\n"
     ]
    }
   ],
   "source": [
    "class person:\n",
    "    name=\"harsh\"\n",
    "    occupation=\"doctor\"\n",
    "\n",
    "a=person()           \n",
    "print(a.name,a.occupation)"
   ]
  },
  {
   "cell_type": "code",
   "execution_count": 12,
   "id": "baadeaa2-b55d-4795-b22f-05f0076a2acf",
   "metadata": {},
   "outputs": [
    {
     "name": "stdout",
     "output_type": "stream",
     "text": [
      "shivali doctor\n"
     ]
    }
   ],
   "source": [
    "class person:\n",
    "    name=\"harsh\"\n",
    "    occupation=\"doctor\"\n",
    "\n",
    "a=person()           \n",
    "a.name=\"shivali\"   # adding another (chaning the current variable)\n",
    "a.occupation=\"doctor\"\n",
    "print(a.name,a.occupation)"
   ]
  },
  {
   "cell_type": "code",
   "execution_count": 16,
   "id": "7ab6ebac-2b74-4630-a305-69a0cb7dca16",
   "metadata": {},
   "outputs": [
    {
     "name": "stdout",
     "output_type": "stream",
     "text": [
      "harsh is a doctor\n"
     ]
    }
   ],
   "source": [
    "# useing SELF KEYWORD\n",
    "# creating a class\n",
    "\n",
    "class person:\n",
    "    name=\"harsh\"\n",
    "    occupation=\"doctor\"\n",
    "\n",
    "    def info(self):\n",
    "        print(f\"{self.name} is a {self.occupation}\")\n",
    "    \n",
    "\n",
    "a=person()           \n",
    "a.info()"
   ]
  },
  {
   "cell_type": "code",
   "execution_count": 18,
   "id": "0db35e34-2532-4ba8-b6d3-155a8fd4a372",
   "metadata": {},
   "outputs": [
    {
     "name": "stdout",
     "output_type": "stream",
     "text": [
      "shivali is a doctor\n"
     ]
    }
   ],
   "source": [
    "class person:\n",
    "    name=\"harsh\"\n",
    "    occupation=\"doctor\"\n",
    "\n",
    "    def info(self):\n",
    "        print(f\"{self.name} is a {self.occupation}\")\n",
    "    \n",
    "\n",
    "a=person()\n",
    "a.name=\"shivali\"       # creating a object\n",
    "a.occupation=\"doctor\"\n",
    "a.info()"
   ]
  },
  {
   "cell_type": "code",
   "execution_count": 20,
   "id": "f1f8b6ca-d564-4606-9653-af26bff113de",
   "metadata": {},
   "outputs": [
    {
     "name": "stdout",
     "output_type": "stream",
     "text": [
      "17\n"
     ]
    }
   ],
   "source": [
    "# SELF :>\n",
    "#...>It represents the instance of the class being used. Whenever we create an object from a class, self refers to the current object instance. It is essential for accessing attributes and methods within the class.\n",
    "\n",
    "\n",
    "class Mynumber:\n",
    "    def __init__(self, value):\n",
    "        self.value = value\n",
    "    \n",
    "    def print_value(self):\n",
    "        print(self.value)\n",
    "\n",
    "obj1 = Mynumber(17)\n",
    "obj1.print_value()\n"
   ]
  },
  {
   "cell_type": "code",
   "execution_count": 24,
   "id": "d190141c-e330-40d0-8049-e3fec70ad0bd",
   "metadata": {},
   "outputs": [
    {
     "name": "stdout",
     "output_type": "stream",
     "text": [
      "shivali is a doctor\n",
      "honey is a rider\n"
     ]
    }
   ],
   "source": [
    "class person:\n",
    "    name=\"harsh\"\n",
    "    occupation=\"doctor\"\n",
    "\n",
    "    def info(self):\n",
    "        print(f\"{self.name} is a {self.occupation}\")\n",
    "    \n",
    "\n",
    "a=person()\n",
    "b=person()\n",
    "a.name=\"shivali\"       # creating a object\n",
    "a.occupation=\"doctor\"\n",
    "b.name=\"honey\"          # creationg one more object\n",
    "b.occupation=\"rider\"\n",
    "a.info()\n",
    "b.info()"
   ]
  },
  {
   "cell_type": "code",
   "execution_count": null,
   "id": "cc624b82-b1f9-4de5-8c7e-c95756a239e0",
   "metadata": {},
   "outputs": [],
   "source": []
  }
 ],
 "metadata": {
  "kernelspec": {
   "display_name": "Python [conda env:base] *",
   "language": "python",
   "name": "conda-base-py"
  },
  "language_info": {
   "codemirror_mode": {
    "name": "ipython",
    "version": 3
   },
   "file_extension": ".py",
   "mimetype": "text/x-python",
   "name": "python",
   "nbconvert_exporter": "python",
   "pygments_lexer": "ipython3",
   "version": "3.12.7"
  }
 },
 "nbformat": 4,
 "nbformat_minor": 5
}
