{
 "cells": [
  {
   "cell_type": "code",
   "execution_count": 11,
   "id": "937e2fb4-12b9-463c-9050-5cfa96b7305f",
   "metadata": {},
   "outputs": [
    {
     "name": "stdout",
     "output_type": "stream",
     "text": [
      "88\n"
     ]
    }
   ],
   "source": [
    "# to find maximum number\n",
    "\n",
    "mylist=[10,88,20,30]\n",
    "max1=0\n",
    "for i in  range(0,len(mylist)):\n",
    "    if(mylist[i]>max1):\n",
    "        max1=mylist[i]\n",
    "\n",
    "print(max1)\n"
   ]
  },
  {
   "cell_type": "code",
   "execution_count": 17,
   "id": "0a203ba2-161d-44e5-a985-c372bb6ca9b3",
   "metadata": {},
   "outputs": [
    {
     "name": "stdout",
     "output_type": "stream",
     "text": [
      "smax 0 max1 10\n",
      "smax 10 max1 20\n",
      "smax 20 max1 30\n",
      "smax 30 max1 88\n",
      "88\n"
     ]
    }
   ],
   "source": [
    "# to find second maximum value\n",
    "\n",
    "mylist=[10,20,30,88]\n",
    "max1=0\n",
    "smax=0\n",
    "for i in  range(0,len(mylist)):\n",
    "    if(mylist[i]>max1):\n",
    "        smax=max1\n",
    "        max1=mylist[i]\n",
    "        print(\"smax\",smax, \"max1\",max1)\n",
    "\n",
    "print(max1)\n"
   ]
  },
  {
   "cell_type": "code",
   "execution_count": 29,
   "id": "4612a6b1-7e45-4a2e-a391-d228f640a271",
   "metadata": {},
   "outputs": [
    {
     "name": "stdout",
     "output_type": "stream",
     "text": [
      "max1 is 88 smax is 30\n"
     ]
    }
   ],
   "source": [
    "# to find second maximum value\n",
    "\n",
    "mylist=[10,20,88,30]\n",
    "max1=0\n",
    "smax=0\n",
    "for i in  range(0,len(mylist)):\n",
    "    if(mylist[i]>max1):\n",
    "        smax=max1\n",
    "        max1=mylist[i]\n",
    "       # print(\"smax\",smax, \"max1\",max1)\n",
    "\n",
    "    elif(mylist[i]>smax):\n",
    "        smax=mylist[i]\n",
    "\n",
    "print(\"max1 is\",max1,\"smax is\",smax)\n"
   ]
  },
  {
   "cell_type": "code",
   "execution_count": 35,
   "id": "8b2c15f6-4c24-4bf1-ba18-37cf291421a1",
   "metadata": {},
   "outputs": [
    {
     "name": "stdout",
     "output_type": "stream",
     "text": [
      "10\n",
      "10 20\n",
      "10 30\n",
      "10 40\n",
      "10 10\n",
      "20\n",
      "20 30\n",
      "20 40\n",
      "20 10\n",
      "30\n",
      "30 40\n",
      "30 10\n",
      "40\n",
      "40 10\n",
      "10\n"
     ]
    }
   ],
   "source": [
    "# to find out the duplicate elements (to print the process and check) step.1\n",
    "\n",
    "mylist=[10,20,30,40,10]\n",
    "for i in range(0,len(mylist)):\n",
    "    print(mylist[i])\n",
    "    for j in range(i+1,len(mylist)):\n",
    "        print(mylist[i],mylist[j])\n"
   ]
  },
  {
   "cell_type": "code",
   "execution_count": 41,
   "id": "fef058b6-fe60-4e8d-9091-c1629f25679d",
   "metadata": {},
   "outputs": [
    {
     "name": "stdout",
     "output_type": "stream",
     "text": [
      "duplicate element 10\n",
      "duplicate element 20\n"
     ]
    }
   ],
   "source": [
    "# to find out the duplicate elements Step.2\n",
    "\n",
    "mylist=[10,20,30,20,40,10]\n",
    "for i in range(0,len(mylist)):\n",
    "    for j in range(i+1,len(mylist)):\n",
    "        if(mylist[i]==mylist[j]):\n",
    "            print(\"duplicate element\",mylist[i])\n",
    "        "
   ]
  },
  {
   "cell_type": "code",
   "execution_count": 73,
   "id": "7dcc3179-475e-457b-bbf7-6d1d1f24d6af",
   "metadata": {},
   "outputs": [
    {
     "name": "stdout",
     "output_type": "stream",
     "text": [
      "mylist[i] 20 mylist[j] 40 target is 60\n"
     ]
    }
   ],
   "source": [
    "# to find out the target\n",
    "\n",
    "mylist=[10,20,30,40,10]\n",
    "target=60\n",
    "for i in range(0,len(mylist)):\n",
    "    for j in range(i+1,len(mylist)):\n",
    "        if(mylist[i]+mylist[j] == target):\n",
    "            print(\"mylist[i]\",mylist[i],\"mylist[j]\",mylist[j],\"target is\",target)"
   ]
  },
  {
   "cell_type": "code",
   "execution_count": 55,
   "id": "63daabc8-94f4-41ca-8344-ba82c9c929de",
   "metadata": {},
   "outputs": [],
   "source": [
    "# TUPLE \n",
    "# its a data type in which collect multiple data type\n",
    "# its immutable\n",
    "# it has index position"
   ]
  },
  {
   "cell_type": "code",
   "execution_count": 59,
   "id": "5453c2ca-f28f-4b40-ad29-5e1cc0771b17",
   "metadata": {},
   "outputs": [
    {
     "name": "stdout",
     "output_type": "stream",
     "text": [
      "<class 'tuple'>\n"
     ]
    }
   ],
   "source": [
    "x=10,201,20,3\n",
    "print(type(x))"
   ]
  },
  {
   "cell_type": "code",
   "execution_count": 63,
   "id": "b332090b-eb6a-488a-8e9d-6eb1104450eb",
   "metadata": {},
   "outputs": [
    {
     "name": "stdout",
     "output_type": "stream",
     "text": [
      "<class 'tuple'>\n"
     ]
    }
   ],
   "source": [
    "x=(10,201,20,3)\n",
    "print(type(x))"
   ]
  },
  {
   "cell_type": "code",
   "execution_count": 69,
   "id": "193f49a2-c820-45da-bb46-45d7e8d003e2",
   "metadata": {},
   "outputs": [
    {
     "data": {
      "text/plain": [
       "(10, 20, 'hey')"
      ]
     },
     "execution_count": 69,
     "metadata": {},
     "output_type": "execute_result"
    }
   ],
   "source": [
    "mytuple=(10,20,\"hey\")\n",
    "mytuple"
   ]
  },
  {
   "cell_type": "code",
   "execution_count": 71,
   "id": "b7eed3cb-8101-465f-a16a-f5af1a057afa",
   "metadata": {},
   "outputs": [],
   "source": [
    "# Dictionary\n",
    "# key and value pair\n",
    "# key => is unique\n",
    "# value => it can be unique or duplicate\n",
    "# dictionary do not work on index (do not have index)\n"
   ]
  },
  {
   "cell_type": "code",
   "execution_count": 77,
   "id": "75c1962f-5026-451d-b538-2556561355ce",
   "metadata": {},
   "outputs": [
    {
     "data": {
      "text/plain": [
       "{101: 'harsh', 102: 'shivali', 103: 'mikku'}"
      ]
     },
     "execution_count": 77,
     "metadata": {},
     "output_type": "execute_result"
    }
   ],
   "source": [
    "adhardetails={101:\"harsh\",102:\"shivali\",103:\"mikku\"}\n",
    "adhardetails"
   ]
  },
  {
   "cell_type": "code",
   "execution_count": 81,
   "id": "b9c1217a-f71f-4e58-a272-a3034a49d4ac",
   "metadata": {},
   "outputs": [
    {
     "data": {
      "text/plain": [
       "'shivali'"
      ]
     },
     "execution_count": 81,
     "metadata": {},
     "output_type": "execute_result"
    }
   ],
   "source": [
    "adhardetails[102]"
   ]
  },
  {
   "cell_type": "code",
   "execution_count": 85,
   "id": "eedb75af-2a6c-417a-91e1-6dc0acc4fa70",
   "metadata": {},
   "outputs": [
    {
     "data": {
      "text/plain": [
       "'mikku'"
      ]
     },
     "execution_count": 85,
     "metadata": {},
     "output_type": "execute_result"
    }
   ],
   "source": [
    "adhardetails[103]"
   ]
  },
  {
   "cell_type": "code",
   "execution_count": 89,
   "id": "0a6de189-358e-4487-a048-bd3766f3acd8",
   "metadata": {},
   "outputs": [
    {
     "data": {
      "text/plain": [
       "{101: 'harsh', 102: 'shivali', 103: 'honey'}"
      ]
     },
     "execution_count": 89,
     "metadata": {},
     "output_type": "execute_result"
    }
   ],
   "source": [
    "# to update the value (key=newvalue)\n",
    "\n",
    "adhardetails={101:\"harsh\",102:\"shivali\",103:\"mikku\"}\n",
    "adhardetails[103]=\"honey\"\n",
    "adhardetails"
   ]
  },
  {
   "cell_type": "code",
   "execution_count": 93,
   "id": "a0bede7a-099e-4ef1-9be8-cb19bf3a455d",
   "metadata": {},
   "outputs": [
    {
     "data": {
      "text/plain": [
       "{101: 'harsh', 102: 'shivali', 103: 'honey', 104: 'mikku'}"
      ]
     },
     "execution_count": 93,
     "metadata": {},
     "output_type": "execute_result"
    }
   ],
   "source": [
    "# to insert the data (key=newvalue)\n",
    "\n",
    "adhardetails={101:\"harsh\",102:\"shivali\",103:\"mikku\"}\n",
    "adhardetails[103]=\"honey\"\n",
    "adhardetails[104]=\"mikku\"\n",
    "adhardetails"
   ]
  },
  {
   "cell_type": "code",
   "execution_count": 97,
   "id": "f623ae70-cabc-4dad-8358-0dd329e3364e",
   "metadata": {},
   "outputs": [
    {
     "name": "stdout",
     "output_type": "stream",
     "text": [
      "{1: 10, 2: 85, 3: 36}\n"
     ]
    }
   ],
   "source": [
    "# to update (way 1)\n",
    "marks={1:10,2:85,3:31}\n",
    "marks[3]= marks[3]+5\n",
    "print(marks)\n"
   ]
  },
  {
   "cell_type": "code",
   "execution_count": 101,
   "id": "c001e0e0-58ca-4103-8f2d-555576424ee5",
   "metadata": {},
   "outputs": [
    {
     "name": "stdout",
     "output_type": "stream",
     "text": [
      "{1: 10, 2: 85, 3: 36}\n"
     ]
    }
   ],
   "source": [
    "# to update (way 2)\n",
    "marks={1:10,2:85,3:31}\n",
    "marks[3]= 36\n",
    "print(marks)"
   ]
  },
  {
   "cell_type": "code",
   "execution_count": 127,
   "id": "67f6530f-1fa4-49eb-8ce0-229de006267a",
   "metadata": {},
   "outputs": [
    {
     "name": "stdout",
     "output_type": "stream",
     "text": [
      "{100: 43}\n"
     ]
    }
   ],
   "source": [
    "mycount={100:0}\n",
    "for i in range(56,99):\n",
    "    mycount[100]=mycount[100]+1\n",
    "\n",
    "print(mycount)"
   ]
  },
  {
   "cell_type": "code",
   "execution_count": 137,
   "id": "78cf5b19-046b-4761-8cc6-4b0e32348f09",
   "metadata": {},
   "outputs": [
    {
     "name": "stdout",
     "output_type": "stream",
     "text": [
      "{'total': 10}\n"
     ]
    }
   ],
   "source": [
    "mychar={\"total\":0}\n",
    "data=\"rhytam bde\"\n",
    "for i in range(0,len(data)):\n",
    "    mychar[\"total\"]= mychar[\"total\"]+1\n",
    "\n",
    "print(mychar)\n"
   ]
  },
  {
   "cell_type": "code",
   "execution_count": null,
   "id": "64f3996b-cf81-482e-b85c-476c5e269ccd",
   "metadata": {},
   "outputs": [],
   "source": [
    "# learning assignemnt\n",
    "\n",
    "# list comphernsion\n",
    "# zip vs enumerate function (difference)\n"
   ]
  }
 ],
 "metadata": {
  "kernelspec": {
   "display_name": "Python [conda env:base] *",
   "language": "python",
   "name": "conda-base-py"
  },
  "language_info": {
   "codemirror_mode": {
    "name": "ipython",
    "version": 3
   },
   "file_extension": ".py",
   "mimetype": "text/x-python",
   "name": "python",
   "nbconvert_exporter": "python",
   "pygments_lexer": "ipython3",
   "version": "3.12.7"
  }
 },
 "nbformat": 4,
 "nbformat_minor": 5
}
