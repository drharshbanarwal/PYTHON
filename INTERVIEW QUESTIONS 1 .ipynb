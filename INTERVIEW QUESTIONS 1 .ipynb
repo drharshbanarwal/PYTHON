{
 "cells": [
  {
   "cell_type": "code",
   "execution_count": 1,
   "id": "3ec5a936-01bd-4815-81f7-e04814b8ca08",
   "metadata": {},
   "outputs": [],
   "source": [
    "# 1. What is Python? What are some of its key features?\n",
    "\n",
    "#...>Python is a high-level, interpreted programming language known for its simplicity and readability. \n",
    "# Its key features include dynamic typing, automatic memory management, and a rich standard library. \n",
    "# It also has strong community support and is used for various applications such as web development, data analysis, and machine learning."
   ]
  },
  {
   "cell_type": "code",
   "execution_count": 3,
   "id": "f96085ed-e788-4a47-8444-fb269dc7a625",
   "metadata": {},
   "outputs": [],
   "source": [
    "# 2. What is the difference between a list and a tuple in Python?\n",
    "\n",
    "#...>                   LIST\t                                                         TUPLE\n",
    "#                 Lists are mutable. \t                                          Tuples are immutable. \n",
    "#                Denoted by square brackets.\t                                  Denoted by parenthesis.\n",
    "#                Slower due to dynamic resizing and modifications.\t              Faster due to fixed size and immutability."
   ]
  },
  {
   "cell_type": "code",
   "execution_count": 5,
   "id": "1f6c846d-d8d1-4902-987d-842c7508bf1b",
   "metadata": {},
   "outputs": [],
   "source": [
    "# 3. What is the difference between a set and a dictionary in Python?\n",
    "\n",
    "#....>           SET\t                                                     DICTIONARY\n",
    "#            It is a collection of unique elements.\t                     It is a collection of key-value pairs.\n",
    "#            Created using the set() function.\t                         Created using the dict() function."
   ]
  },
  {
   "cell_type": "code",
   "execution_count": 7,
   "id": "80892867-be78-47a1-96be-c47984ae87fd",
   "metadata": {},
   "outputs": [],
   "source": [
    "# 4. What is the use of the \"self\" keyword in Python?\n",
    "\n",
    "#...> In Python, \"self\" refers to the instance of a class that a method calls. \n",
    "# It is typically used within a method to refer to instance variables or contact other instance methods. \n",
    "# When a method calls on an instance of a class, the self keyword accesses the instance's attributes and methods."
   ]
  },
  {
   "cell_type": "code",
   "execution_count": 9,
   "id": "31f84d2b-3f6d-4a0f-87f8-4c3dd614566f",
   "metadata": {},
   "outputs": [],
   "source": [
    "# 5. What is a lambda function in Python?\n",
    "\n",
    "#...> In Python, a lambda function is a small, anonymous function that can have any number of arguments but can only have one expression.\n",
    "# Lambda functions are a shorthand for creating simple functions that are only needed once. They are made using the lambda keyword, \n",
    "# followed by the function's arguments and a colon, and then the expression for evaluation."
   ]
  },
  {
   "cell_type": "code",
   "execution_count": 11,
   "id": "af4382b1-94f0-482d-9a8b-80bcc9fbe423",
   "metadata": {},
   "outputs": [],
   "source": [
    "# 6. What is the difference between \"range\" and \"xrange\" in Python 2. x?\n",
    "\n",
    "#...>In Python 2. x, \"range\" and \"xrange\" generate integer sequences. However, \"range\" yields a list of integers simultaneously,\n",
    "# while \"xrange\" generates them on-the-fly as needed. It can be more memory-efficient when working with large ranges,\n",
    "# as it generates only one number simultaneously. In Python 3. x, \"range\" has been modified to behave like \"xrange,\" and \"xrange\" no longer exists. "
   ]
  },
  {
   "cell_type": "code",
   "execution_count": 13,
   "id": "8b17034f-03ea-4533-b089-83d3a97ec315",
   "metadata": {},
   "outputs": [],
   "source": [
    "# 7. What is the purpose of the \"init\" method in Python?\n",
    "\n",
    "#...>In Python, the __init__ method is a unique method that looks like a constructor, \n",
    "# though it is not. It is used for instantiating objects of a class. \n",
    "# It initializes the object's attributes with default values or values passed during object creation. \n",
    "# This method is commonly used to set up an object's initial state and can also be used to perform other initialization tasks."
   ]
  },
  {
   "cell_type": "code",
   "execution_count": 15,
   "id": "13869b83-936e-433b-9643-a85efb9be22c",
   "metadata": {},
   "outputs": [],
   "source": [
    "# 8. How can you check the type of a variable in Python?\n",
    "\n",
    "#...> In Python, the type() function determines the type of a variable. For example, type(variable) will return the style of the variable.\n",
    "#...> Alternatively, the isinstance() function can be used to check if a variable is an instance of a particular class. \n",
    "# For example, isinstance(variable, int) will return True if the variable is an instance of the int class\n"
   ]
  },
  {
   "cell_type": "code",
   "execution_count": 17,
   "id": "8a948f72-39b9-450a-8240-cb84e38248d1",
   "metadata": {},
   "outputs": [],
   "source": [
    "# 9. What is the difference between \"is\" and \"==\" in Python?\n",
    "\n",
    "#...>The \"is\" operator checks if two objects are the same object in memory.\n",
    "# It returns True if both objects are identical, meaning they have the same memory address.\n",
    "\n",
    "#...>On the other hand, the \"==\" operator checks if two objects have the same value. \n",
    "# It returns True if the values of the two objects are equal, regardless of whether they are the same object in memory."
   ]
  },
  {
   "cell_type": "code",
   "execution_count": 19,
   "id": "babdbd03-899d-4cf2-bc5b-5583c0573cbb",
   "metadata": {},
   "outputs": [],
   "source": [
    "# 10. What are decorators in Python, and how are they used?\n",
    "\n",
    "#...>In Python, decorators are functions that help the compiler know about the unique property associated with a particular function.\n",
    "# By wrapping a function with another function, decorators can modify the input or output values of the function or add functionality to it before or after it executes.\n",
    "# Decorators are often used to add cross-cutting concerns like logging, caching, or authentication in a reusable manner."
   ]
  },
  {
   "cell_type": "code",
   "execution_count": 21,
   "id": "9b91ef94-a092-49d1-ac00-52395ea9e52e",
   "metadata": {},
   "outputs": [],
   "source": [
    "# 11. What is Python, and how is Python useful?\n",
    "\n",
    "#...>Python is a high-level, interpreted programming language first released in 1991. \n",
    "#It is open-source, meaning the source code is freely available for modification and distribution. \n",
    "\n",
    "#...>Python's popularity is due to its simple and readable syntax, versatility,\n",
    "# and ease of use. It has a large standard library and a vast array of third-party libraries and frameworks that allow developers to build complex applications quickly and efficiently.\n"
   ]
  },
  {
   "cell_type": "code",
   "execution_count": 23,
   "id": "caf4bfa0-eebe-44be-a11e-6cbaf39b0176",
   "metadata": {},
   "outputs": [],
   "source": [
    "# 12. How do you create a function in Python? \n",
    "\n",
    "#...>def keyword is used to create a function in Python, followed by the name of the function and any parameters the function will accept in parentheses.\n",
    "# The code inside the function should be indented to show that it is a part of it. Here is an example:"
   ]
  },
  {
   "cell_type": "code",
   "execution_count": 25,
   "id": "cd104db2-5d5a-4c65-bec9-99a77dd69feb",
   "metadata": {},
   "outputs": [],
   "source": [
    "# 13. What is the difference between a list and a tuple in Python?\n",
    "\n",
    "#...>A list is a mutable data type in Python that uses square brackets [] to store an ordered collection of items.\n",
    "#...>On the other hand, a tuple is an immutable data type in Python that uses parentheses () to store an ordered collection of items. \n",
    "# Tuples are faster and more memory-efficient than lists, especially for larger data collections.\n",
    "\n",
    "#...>      Feature\t                              List\t                            Tuple\n",
    "#     Mutable/Immutable\t                         Mutable\t                       Immutable\n",
    "#     Syntax\t                                 Square brackets []\t               Parentheses ()\n",
    "#     Length\t                                 Can change length\t               Fixed length\n",
    "#     Performance\t                             Slower for large lists\t           Faster for large tuples\n",
    "#     Use cases\t                                 Used for dynamic data\t           Used for static data\n",
    "#     Example declaration\t                     fruits = ['apple', 'banana']\t   fruits = ('apple', 'banana')"
   ]
  },
  {
   "cell_type": "code",
   "execution_count": 27,
   "id": "b1dca82c-3728-43b0-9011-c2de92d5887b",
   "metadata": {},
   "outputs": [],
   "source": [
    "# 14. What is a module in Python?\n",
    "\n",
    "#...>A module in Python is a file containing Python code that can be used in other Python programs.\n",
    "\n",
    "#...>A module is a self-contained unit of code that can include variables, functions, and classes that can be accessed and used in other Python programs.\n",
    "# By organizing code into modules, you can avoid duplicating code across different programs and instead import and use the same code in multiple places,\n",
    "# making it easier to maintain and reuse your code.\n",
    "\n",
    "#...>Python has many built-in modules that can be used for various purposes, such as working with files, network communication, data processing, and more.\n",
    "# In addition, third-party modules can be installed and used in Python programs to extend their functionality."
   ]
  },
  {
   "cell_type": "code",
   "execution_count": null,
   "id": "0887f87b-659d-4ca1-b288-1bdd12a4f476",
   "metadata": {},
   "outputs": [],
   "source": [
    "# 15. What is the difference between break and continue in Python?\n",
    "\n",
    "#...> Break and Continue are two keywords in Python that are used to change the flow of a loop. \n",
    "# These keywords are used inside loops, such as for and while loops.\n",
    "\n",
    "#...>Break - It exits the loop entirely and continues with the next statement after the loop.\n",
    "#...>Continue- It skips the current iteration and moves on to the next iteration of the loop."
   ]
  }
 ],
 "metadata": {
  "kernelspec": {
   "display_name": "Python [conda env:base] *",
   "language": "python",
   "name": "conda-base-py"
  },
  "language_info": {
   "codemirror_mode": {
    "name": "ipython",
    "version": 3
   },
   "file_extension": ".py",
   "mimetype": "text/x-python",
   "name": "python",
   "nbconvert_exporter": "python",
   "pygments_lexer": "ipython3",
   "version": "3.12.7"
  }
 },
 "nbformat": 4,
 "nbformat_minor": 5
}
