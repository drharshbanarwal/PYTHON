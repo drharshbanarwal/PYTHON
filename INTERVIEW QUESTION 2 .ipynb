{
 "cells": [
  {
   "cell_type": "code",
   "execution_count": 1,
   "id": "5937e683-8d15-481b-abb7-89326636901d",
   "metadata": {},
   "outputs": [
    {
     "name": "stdout",
     "output_type": "stream",
     "text": [
      "1 is odd\n",
      "2 is even\n",
      "3 is odd\n",
      "4 is even\n",
      "5 is odd\n"
     ]
    }
   ],
   "source": [
    "# 1.How do you iterate over a list in Python? \n",
    "\n",
    "numbers = [1, 2, 3, 4, 5]\n",
    "for num in numbers:\n",
    "   if num % 2 == 0:\n",
    "       print(num, \"is even\")\n",
    "   else:\n",
    "       print(num, \"is odd\")"
   ]
  },
  {
   "cell_type": "code",
   "execution_count": 15,
   "id": "457c9f8f-5ef4-47e4-895d-5bf43c0239df",
   "metadata": {},
   "outputs": [
    {
     "name": "stdout",
     "output_type": "stream",
     "text": [
      "HARSH\n",
      "27\n",
      "Computer Science\n"
     ]
    }
   ],
   "source": [
    "# 2.What is a dictionary in Python? \n",
    "\n",
    "#..> A dictionary is a collection of key-value pairs that store and retrieve data.\n",
    "# In other words, a dictionary is like a map that connects keys to values.\n",
    "\n",
    "student = {\n",
    "    \"name\": \"HARSH\",\n",
    "    \"age\": 27,\n",
    "    \"major\": \"Computer Science\"\n",
    "}\n",
    "print(student[\"name\"])  \n",
    "print(student[\"age\"])   \n",
    "print(student[\"major\"])"
   ]
  },
  {
   "cell_type": "code",
   "execution_count": 13,
   "id": "25bfc016-9652-489c-98d6-d1eece2c1050",
   "metadata": {},
   "outputs": [
    {
     "name": "stdout",
     "output_type": "stream",
     "text": [
      "24\n"
     ]
    }
   ],
   "source": [
    "# 3.Write a Python factorial program without using if-else, for, and ternary operators.\n",
    "\n",
    "#...>We can use a recursive function that calculates the factorial of a given number without using if-else, for, and ternary operators:\n",
    "\n",
    "def factorial(n):\n",
    "   return (n==1) or (n * factorial(n-1))\n",
    "print(factorial(4))\n"
   ]
  },
  {
   "cell_type": "code",
   "execution_count": 17,
   "id": "d3c5d60a-d0ee-4d12-b3eb-8e266000a578",
   "metadata": {},
   "outputs": [
    {
     "name": "stdin",
     "output_type": "stream",
     "text": [
      "Enter a number:  121\n"
     ]
    },
    {
     "name": "stdout",
     "output_type": "stream",
     "text": [
      "121 is not an Armstrong number\n"
     ]
    }
   ],
   "source": [
    "# 4.Write a Python code to check the Armstrong number.\n",
    "\n",
    "\n",
    "number = int(input(\"Enter a number: \"))\n",
    "order = len(str(number))\n",
    "sum = 0\n",
    "temp = number\n",
    "\n",
    "while temp > 0:\n",
    " digit = temp % 10\n",
    " sum += digit ** order\n",
    " temp //= 10\n",
    " \n",
    "if number == sum:\n",
    "  print(number, \"is an Armstrong number\")\n",
    "else:\n",
    "  print(number, \"is not an Armstrong number\")\n"
   ]
  },
  {
   "cell_type": "code",
   "execution_count": 19,
   "id": "fa3099ab-f7cf-42a8-bbaf-ddbeae23b941",
   "metadata": {},
   "outputs": [],
   "source": [
    "# 5.What is the difference between append() and extend() methods in Python lists?\n",
    "\n",
    "\n",
    "#...>In Python, both append() and extend() methods are used to add elements to a list, but they have some differences in functionality.\n",
    "\n",
    "#...>append() method: This method adds a single element to the end of a list. The element can be of any type, including another list.\n",
    "\n",
    "#...>extend() method: This method adds multiple elements to a list, such as elements from another list, tuple, or any iterable object. \n",
    "# The elements are added one by one to the end of the list"
   ]
  },
  {
   "cell_type": "code",
   "execution_count": 21,
   "id": "5aa7fdbb-be6e-4b6e-9631-38252d4d193a",
   "metadata": {},
   "outputs": [],
   "source": [
    "# 6. What is the difference between \"static method\" and \"class method\" in Python?\n",
    "\n",
    "#...>A static method is a method bound to the class, not an instance of the class. It means it calls the class without creating an instance. \n",
    "# Static methods define utility functions that don't depend on the state of the example or the class\n",
    "\n",
    "#...>A class method is also bound to the class, but it takes a reference to the class itself as the first argument.\n",
    "# Defined methods operate on the class itself rather than on the instances of the class. Class methods are alternative constructors for the class,\n",
    "# which can create class instances with different initial parameters."
   ]
  },
  {
   "cell_type": "code",
   "execution_count": 23,
   "id": "dd9c8fe3-3849-4fce-b60f-fe3f1a781827",
   "metadata": {},
   "outputs": [],
   "source": [
    "# 7.What is the difference between \"map\" and \"filter\" functions in Python?\n",
    "\n",
    "#...>\"map\" and \"filter\" are built-in functions operating on iterable objects.\n",
    "# The main difference between the two functions is that \"map\" applies a given function to each item in an iterable and returns an iterator with the results.\n",
    "# In contrast, \"filter\" applies a given function to each item in an iterable and returns an iterator with only the things that meet the given condition.\n"
   ]
  },
  {
   "cell_type": "code",
   "execution_count": 25,
   "id": "38bca5e0-5681-4419-a96c-c83d918b614f",
   "metadata": {},
   "outputs": [],
   "source": [
    "# 8. How can you handle exceptions in Python?\n",
    "\n",
    "#...>Exceptions are handled using a try-except block. \n",
    "# The code that may raise an exception is put inside the \"try\" block, and the exception handler is inside the \"except\" block.\n",
    "# If the try block raises an exception, the program flow is immediately transferred to the except block.\n",
    "\n",
    "#...>The except block can be used to catch a specific or general exception and handle the exception by providing an appropriate message to the user or performing other actions.\n",
    "# We can also use it to raise a new exception or re-raise the original exception. "
   ]
  },
  {
   "cell_type": "code",
   "execution_count": 27,
   "id": "3cfdd29d-a90c-42ec-8508-c083721acbcd",
   "metadata": {},
   "outputs": [],
   "source": [
    "# 9.What is the difference between a Mutable datatype and an Immutable data type?\n",
    "\n",
    "#...>Mutable data types are those whose values can be changed after creation. When you modify a mutable object,\n",
    "# it changes its value in place without creating a new object. Any other references to the object will also see the change\n",
    "\n",
    "#...>immutable data types are those whose values cannot be changed after creation. \n",
    "# When you modify an immutable object, you create a new object with the modified value. \n",
    "# Any other references to the original object will not see the change."
   ]
  },
  {
   "cell_type": "code",
   "execution_count": 29,
   "id": "fd052f37-7508-4e92-a261-5855b33e217a",
   "metadata": {},
   "outputs": [
    {
     "name": "stdout",
     "output_type": "stream",
     "text": [
      "[1, 2, 3, 4]\n"
     ]
    }
   ],
   "source": [
    "# 10.How are arguments passed by value or by reference in Python?\n",
    "\n",
    "#...>In Python, arguments are generally passed by reference, but how it works can be confusing\n",
    "\n",
    "#...>When you pass an object to a function in Python, a reference to that object is passed to the function. \n",
    "# This means that the function can modify the object, and those modifications will be reflected in the calling code.\n",
    "\n",
    "# EXAMPLE:>\n",
    "\n",
    "def modify_list(my_list):\n",
    "  my_list.append(4)\n",
    "\n",
    "# create a list\n",
    "my_list = [1, 2, 3]\n",
    "\n",
    "# call the modify_list function\n",
    "modify_list(my_list)\n",
    "\n",
    "# print the list\n",
    "print(my_list)"
   ]
  },
  {
   "cell_type": "code",
   "execution_count": null,
   "id": "8a61db06-97fd-4e38-ad26-964326bb6648",
   "metadata": {},
   "outputs": [],
   "source": []
  }
 ],
 "metadata": {
  "kernelspec": {
   "display_name": "Python [conda env:base] *",
   "language": "python",
   "name": "conda-base-py"
  },
  "language_info": {
   "codemirror_mode": {
    "name": "ipython",
    "version": 3
   },
   "file_extension": ".py",
   "mimetype": "text/x-python",
   "name": "python",
   "nbconvert_exporter": "python",
   "pygments_lexer": "ipython3",
   "version": "3.12.7"
  }
 },
 "nbformat": 4,
 "nbformat_minor": 5
}
