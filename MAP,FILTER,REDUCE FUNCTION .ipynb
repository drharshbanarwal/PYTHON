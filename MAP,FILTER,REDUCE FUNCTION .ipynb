{
 "cells": [
  {
   "cell_type": "code",
   "execution_count": 1,
   "id": "fdd510ca-e05b-4d95-af8d-4ebf61b2bdd6",
   "metadata": {},
   "outputs": [],
   "source": [
    "# MAP, FILTER AND REDUCE\n",
    "# These aare the build in function that allow you to apply a function to a sequence of element and return a new element.\n",
    "# these functions are knwon as higher order function."
   ]
  },
  {
   "cell_type": "code",
   "execution_count": 23,
   "id": "a2def776-c795-4a71-8d1c-97899ab24a51",
   "metadata": {},
   "outputs": [
    {
     "name": "stdout",
     "output_type": "stream",
     "text": [
      "8\n",
      "<map object at 0x00000282A9C560E0>\n"
     ]
    }
   ],
   "source": [
    "# MAP\n",
    "\n",
    "def cube(x):\n",
    "    return x*x*x\n",
    "\n",
    "print(cube(2))\n",
    "\n",
    "mylist=[1,2,4,6,43]\n",
    "newlist= map(cube,mylist)\n",
    "print(newlist)"
   ]
  },
  {
   "cell_type": "code",
   "execution_count": 34,
   "id": "593b1df5-58f5-47f4-8d97-f0c4a32b91a9",
   "metadata": {},
   "outputs": [
    {
     "data": {
      "text/plain": [
       "15"
      ]
     },
     "execution_count": 34,
     "metadata": {},
     "output_type": "execute_result"
    }
   ],
   "source": [
    "def addnum(num):\n",
    "    return num+5\n",
    "\n",
    "mylist=[10,20,30]\n",
    "out=map(addnum,mylist)\n",
    "next(out)\n"
   ]
  },
  {
   "cell_type": "code",
   "execution_count": 41,
   "id": "a9771155-88d7-4897-b156-767ffa30085f",
   "metadata": {},
   "outputs": [
    {
     "name": "stdout",
     "output_type": "stream",
     "text": [
      "15\n",
      "25\n",
      "35\n"
     ]
    },
    {
     "data": {
      "text/plain": [
       "(15, 25, 35)"
      ]
     },
     "execution_count": 41,
     "metadata": {},
     "output_type": "execute_result"
    }
   ],
   "source": [
    "# to get all value together (using lambda)\n",
    "\n",
    "mylist=[10,20,30]\n",
    "out=map(lambda num: num+5,mylist)\n",
    "for i in out:\n",
    "    print(i)\n",
    "\n",
    "# to get the output in LIST form\n",
    "mylist=[10,20,30]\n",
    "list(map(lambda num: num+5,mylist) )\n",
    "\n",
    "# to get the output in TUPLE form\n",
    "\n",
    "mylist=[10,20,30]\n",
    "tuple(map(lambda num: num+5,mylist) )"
   ]
  },
  {
   "cell_type": "code",
   "execution_count": 44,
   "id": "74729728-ee8c-4a5a-968d-d6e8222b6440",
   "metadata": {},
   "outputs": [
    {
     "data": {
      "text/plain": [
       "[True, True, False, False, True]"
      ]
     },
     "execution_count": 44,
     "metadata": {},
     "output_type": "execute_result"
    }
   ],
   "source": [
    "# to check the even number\n",
    "\n",
    "mylist=[10,20,25,63,40]\n",
    "list(map(lambda x: x%2==0 ,mylist))"
   ]
  },
  {
   "cell_type": "code",
   "execution_count": 46,
   "id": "21d879a4-bf5c-49c5-ab8d-8a84583c1a27",
   "metadata": {},
   "outputs": [
    {
     "name": "stdout",
     "output_type": "stream",
     "text": [
      "8\n",
      "<map object at 0x00000282A8913C40>\n",
      "[4, 6, 4]\n"
     ]
    }
   ],
   "source": [
    "# FILTER FUNCTION\n",
    "# Will return only true value\n",
    "# The filter() method filters the given sequence with the help of a function that tests each element in the sequence to be true or not\n",
    "\n",
    "def cube(x):\n",
    "    return x*x*x\n",
    "\n",
    "print(cube(2))\n",
    "\n",
    "mylist=[1,2,4,6,4]\n",
    "newlist= map(cube,mylist)\n",
    "print(newlist)\n",
    "def filter_function(a):\n",
    "    return a>2\n",
    "newlist=list(filter(filter_function,mylist))\n",
    "print(newlist)"
   ]
  },
  {
   "cell_type": "code",
   "execution_count": 50,
   "id": "8e9eccda-f468-4c50-9efc-0fea845dc1b8",
   "metadata": {},
   "outputs": [
    {
     "data": {
      "text/plain": [
       "[10, 20, 40]"
      ]
     },
     "execution_count": 50,
     "metadata": {},
     "output_type": "execute_result"
    }
   ],
   "source": [
    "# to check the even number\n",
    "\n",
    "mylist=[10,20,25,63,40]\n",
    "list(filter(lambda x: x%2==0 ,mylist))"
   ]
  },
  {
   "cell_type": "code",
   "execution_count": 57,
   "id": "e65b3593-8b9d-4a4e-b21a-cf2ab487bc62",
   "metadata": {},
   "outputs": [
    {
     "name": "stdout",
     "output_type": "stream",
     "text": [
      "[125, 216, 343, 512]\n"
     ]
    }
   ],
   "source": [
    "# map by lambda\n",
    "\n",
    "mylist=[5,6,7,8]\n",
    "newlist=list(map(lambda x: x*x*x,mylist))\n",
    "print(newlist)"
   ]
  },
  {
   "cell_type": "code",
   "execution_count": 63,
   "id": "cb56dd81-f991-44d7-8bda-1b4341410759",
   "metadata": {},
   "outputs": [
    {
     "name": "stdout",
     "output_type": "stream",
     "text": [
      "[3, 4, 5]\n"
     ]
    }
   ],
   "source": [
    "mylist=[1,2,3,4,5]\n",
    "newlist=list(filter(filter_function,mylist))\n",
    "print(newlist)"
   ]
  },
  {
   "cell_type": "code",
   "execution_count": null,
   "id": "e245abc5-aeb8-430f-a4d1-8999abb69c1b",
   "metadata": {},
   "outputs": [],
   "source": [
    "\n",
    " "
   ]
  }
 ],
 "metadata": {
  "kernelspec": {
   "display_name": "Python [conda env:base] *",
   "language": "python",
   "name": "conda-base-py"
  },
  "language_info": {
   "codemirror_mode": {
    "name": "ipython",
    "version": 3
   },
   "file_extension": ".py",
   "mimetype": "text/x-python",
   "name": "python",
   "nbconvert_exporter": "python",
   "pygments_lexer": "ipython3",
   "version": "3.12.7"
  }
 },
 "nbformat": 4,
 "nbformat_minor": 5
}
