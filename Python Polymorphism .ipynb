{
 "cells": [
  {
   "cell_type": "code",
   "execution_count": 2,
   "id": "777102f5-0f60-434d-81fe-d5de77cec94d",
   "metadata": {},
   "outputs": [
    {
     "name": "stdout",
     "output_type": "stream",
     "text": [
      "12\n"
     ]
    }
   ],
   "source": [
    "# Polymorphism in python :\n",
    "\n",
    "#..>Polymorphism, meaning \"many forms,\" is a core concept in object-oriented programming (OOP) that allows objects of different classes to be treated \n",
    "# as objects of a common base class. This enables you to write code that can work with objects without needing to know their exact types.\n",
    "\n"
   ]
  },
  {
   "cell_type": "code",
   "execution_count": 14,
   "id": "6de292f2-689b-46af-85b6-7cf8873e56e8",
   "metadata": {},
   "outputs": [
    {
     "name": "stdout",
     "output_type": "stream",
     "text": [
      "12\n"
     ]
    }
   ],
   "source": [
    "# String :\n",
    "#...>For strings len() returns the number of characters:\n",
    "# EXAMPLE :\n",
    "\n",
    "x = \"Hello World!\"\n",
    "print(len(x))"
   ]
  },
  {
   "cell_type": "code",
   "execution_count": 12,
   "id": "cd09c573-c03c-444e-b6d1-2d7a93c8389b",
   "metadata": {},
   "outputs": [
    {
     "name": "stdout",
     "output_type": "stream",
     "text": [
      "3\n"
     ]
    }
   ],
   "source": [
    "# Tuple :\n",
    "#...>For tuples len() returns the number of items in the tuple:\n",
    "# EXAMPLE :\n",
    "mytuple = (\"apple\", \"banana\", \"cherry\")\n",
    "\n",
    "print(len(mytuple))"
   ]
  },
  {
   "cell_type": "code",
   "execution_count": 10,
   "id": "a59487dc-0eb9-4649-8f93-2a596d06e409",
   "metadata": {},
   "outputs": [
    {
     "name": "stdout",
     "output_type": "stream",
     "text": [
      "3\n"
     ]
    }
   ],
   "source": [
    "# Dictionary :\n",
    "#...>For dictionaries len() returns the number of key/value pairs in the dictionary:\n",
    "# EXAMPLE :\n",
    "\n",
    "thisdict = {\n",
    "  \"brand\": \"Ford\",\n",
    "  \"model\": \"Mustang\",\n",
    "  \"year\": 1964\n",
    "}\n",
    "\n",
    "print(len(thisdict))"
   ]
  },
  {
   "cell_type": "code",
   "execution_count": 16,
   "id": "a3e0e4d2-0ca2-489c-bbd3-96b194f350a8",
   "metadata": {},
   "outputs": [],
   "source": [
    "# Class Polymorphism\n",
    "#...>Polymorphism is often used in Class methods, where we can have multiple classes with the same method name.\n",
    "# For example, say we have three classes: Car, Boat, and Plane, and they all have a method called move():"
   ]
  },
  {
   "cell_type": "code",
   "execution_count": 20,
   "id": "4564f3be-4737-4a5e-9830-5dc19dcdb8ee",
   "metadata": {},
   "outputs": [
    {
     "name": "stdout",
     "output_type": "stream",
     "text": [
      "Drive!\n",
      "Sail!\n",
      "Fly!\n"
     ]
    }
   ],
   "source": [
    "# Example :\n",
    "#...>Different classes with the same method:\n",
    "\n",
    "\n",
    "class Car:\n",
    "  def __init__(self, brand, model):\n",
    "    self.brand = brand\n",
    "    self.model = model\n",
    "\n",
    "  def move(self):\n",
    "    print(\"Drive!\")\n",
    "\n",
    "class Boat:\n",
    "  def __init__(self, brand, model):\n",
    "    self.brand = brand\n",
    "    self.model = model\n",
    "\n",
    "  def move(self):\n",
    "    print(\"Sail!\")\n",
    "\n",
    "class Plane:\n",
    "  def __init__(self, brand, model):\n",
    "    self.brand = brand\n",
    "    self.model = model\n",
    "\n",
    "  def move(self):\n",
    "    print(\"Fly!\")\n",
    "\n",
    "car1 = Car(\"Ford\", \"Mustang\")       #Create a Car object\n",
    "boat1 = Boat(\"Ibiza\", \"Touring 20\") #Create a Boat object\n",
    "plane1 = Plane(\"Boeing\", \"747\")     #Create a Plane object\n",
    "\n",
    "for x in (car1, boat1, plane1):   # Look at the for loop at the end. Because of polymorphism we can execute the same method for all three classes.\n",
    "  x.move()"
   ]
  },
  {
   "cell_type": "code",
   "execution_count": 22,
   "id": "70397e93-025a-4242-9234-5828962da055",
   "metadata": {},
   "outputs": [],
   "source": [
    "#...> Inheritance Class Polymorphism :\n",
    "# ..>What about classes with child classes with the same name? Can we use polymorphism there?\n",
    "# ..>Yes. If we use the example above and make a parent class called Vehicle, and make Car, Boat, Plane child classes of Vehicle,\n",
    "# the child classes inherits the Vehicle methods, but can override them :"
   ]
  },
  {
   "cell_type": "code",
   "execution_count": 26,
   "id": "d9b4fe5f-539e-40e3-9215-0bdf6d74626c",
   "metadata": {},
   "outputs": [
    {
     "name": "stdout",
     "output_type": "stream",
     "text": [
      "Ford\n",
      "Mustang\n",
      "Move!\n",
      "Ibiza\n",
      "Touring 20\n",
      "Sail!\n",
      "Boeing\n",
      "747\n",
      "Fly!\n"
     ]
    }
   ],
   "source": [
    "# Example :\n",
    "#...> Create a class called Vehicle and make Car, Boat, Plane child classes of Vehicle:\n",
    "\n",
    "class Vehicle:\n",
    "  def __init__(self, brand, model):\n",
    "    self.brand = brand\n",
    "    self.model = model\n",
    "\n",
    "  def move(self):\n",
    "    print(\"Move!\")\n",
    "\n",
    "class Car(Vehicle):\n",
    "  pass\n",
    "\n",
    "class Boat(Vehicle):\n",
    "  def move(self):\n",
    "    print(\"Sail!\")\n",
    "\n",
    "class Plane(Vehicle):\n",
    "  def move(self):\n",
    "    print(\"Fly!\")\n",
    "\n",
    "car1 = Car(\"Ford\", \"Mustang\")       #Create a Car object\n",
    "boat1 = Boat(\"Ibiza\", \"Touring 20\") #Create a Boat object\n",
    "plane1 = Plane(\"Boeing\", \"747\")     #Create a Plane object\n",
    "\n",
    "for x in (car1, boat1, plane1):\n",
    "  print(x.brand)\n",
    "  print(x.model)\n",
    "  x.move()\n",
    "\n",
    "\n",
    "#...> Child classes inherits the properties and methods from the parent class.\n",
    "# In the example above you can see that the Car class is empty, but it inherits brand, model, and move() from Vehicle.\n",
    "# The Boat and Plane classes also inherit brand, model, and move() from Vehicle, but they both override the move() method.\n",
    "# Because of polymorphism we can execute the same method for all classes."
   ]
  },
  {
   "cell_type": "code",
   "execution_count": null,
   "id": "8bea6af5-4f73-4a31-9519-609b7a0940d0",
   "metadata": {},
   "outputs": [],
   "source": []
  }
 ],
 "metadata": {
  "kernelspec": {
   "display_name": "Python [conda env:base] *",
   "language": "python",
   "name": "conda-base-py"
  },
  "language_info": {
   "codemirror_mode": {
    "name": "ipython",
    "version": 3
   },
   "file_extension": ".py",
   "mimetype": "text/x-python",
   "name": "python",
   "nbconvert_exporter": "python",
   "pygments_lexer": "ipython3",
   "version": "3.12.7"
  }
 },
 "nbformat": 4,
 "nbformat_minor": 5
}
