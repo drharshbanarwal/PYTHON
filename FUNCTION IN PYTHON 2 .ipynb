{
 "cells": [
  {
   "cell_type": "code",
   "execution_count": 2,
   "id": "1336c82d-c8c5-4e4c-9f70-a1a79a6c2399",
   "metadata": {},
   "outputs": [],
   "source": [
    "# ARGUMENT = In Python, an \"argument\" is a value that is passed to a function when it is called, essentially providing the data the function \n",
    "# needs to perform its operation"
   ]
  },
  {
   "cell_type": "code",
   "execution_count": 8,
   "id": "3707c02c-94c8-4ad7-b8f9-76e7c5de262e",
   "metadata": {},
   "outputs": [
    {
     "name": "stdout",
     "output_type": "stream",
     "text": [
      "function inside: 10\n"
     ]
    }
   ],
   "source": [
    "def func(num):\n",
    "    print(\"function inside:\",num)\n",
    "\n",
    "\n",
    "func(10)"
   ]
  },
  {
   "cell_type": "code",
   "execution_count": 12,
   "id": "9b963966-310b-40d1-b8d9-23a74ffebb68",
   "metadata": {},
   "outputs": [
    {
     "name": "stdout",
     "output_type": "stream",
     "text": [
      "function inside: 10\n"
     ]
    }
   ],
   "source": [
    "def func(num):\n",
    "    print(\"function inside:\",num)\n",
    "\n",
    "x=10\n",
    "func(x)      # memory adress is passing to (num)"
   ]
  },
  {
   "cell_type": "code",
   "execution_count": 14,
   "id": "bc24d972-6083-43aa-818a-371dd091c5e8",
   "metadata": {},
   "outputs": [
    {
     "name": "stdout",
     "output_type": "stream",
     "text": [
      "function inside: 20\n"
     ]
    }
   ],
   "source": [
    "def func(num):\n",
    "    print(\"function inside:\",num)\n",
    "\n",
    "x=20\n",
    "func(x) "
   ]
  },
  {
   "cell_type": "code",
   "execution_count": 20,
   "id": "15f72007-1b13-4266-b6fb-02b1f77a39cf",
   "metadata": {},
   "outputs": [
    {
     "name": "stdout",
     "output_type": "stream",
     "text": [
      "140731908631576 140731908631576\n"
     ]
    }
   ],
   "source": [
    "x=20\n",
    "num=x\n",
    "print(id(x), id(num))"
   ]
  },
  {
   "cell_type": "code",
   "execution_count": 28,
   "id": "dd8f38da-4f1f-487b-865e-d3bb010a6765",
   "metadata": {},
   "outputs": [
    {
     "name": "stdout",
     "output_type": "stream",
     "text": [
      "140731908631576\n",
      "function inside: 140731908631576\n"
     ]
    }
   ],
   "source": [
    "def func(num):\n",
    "    print(\"function inside:\",id(num))\n",
    "\n",
    "x=20\n",
    "print(id(x))\n",
    "func(x)"
   ]
  },
  {
   "cell_type": "code",
   "execution_count": 30,
   "id": "f7b47c0e-866a-437c-b1c2-a3fee9bc3389",
   "metadata": {},
   "outputs": [],
   "source": [
    "# if we passed inmutable data type,  any change in local wont affect the global directly"
   ]
  },
  {
   "cell_type": "code",
   "execution_count": 38,
   "id": "23325404-f0d9-4ed5-9497-dfca8b0aac62",
   "metadata": {},
   "outputs": [
    {
     "name": "stdout",
     "output_type": "stream",
     "text": [
      "before func: 2390839370560\n",
      "function inside: 2390839370560 [10, 20]\n"
     ]
    }
   ],
   "source": [
    "# passing list {list is a mutubale data type}\n",
    "# local variable affect the global varaible\n",
    "\n",
    "def func(num1):\n",
    "    print(\"function inside:\", id(num1), num1)\n",
    "\n",
    "\n",
    "num1=[10,20]\n",
    "print(\"before func:\", id(num1))\n",
    "func(num1)"
   ]
  },
  {
   "cell_type": "code",
   "execution_count": 44,
   "id": "9b1012be-ef89-447b-8ded-3b279ea39049",
   "metadata": {},
   "outputs": [
    {
     "name": "stdout",
     "output_type": "stream",
     "text": [
      "before func: 2390825358336\n",
      "function inside: 2390839577216 [10, 20]\n",
      "after func: 2390839577216 [10, 20, 30]\n"
     ]
    }
   ],
   "source": [
    "def func(num1):\n",
    "    print(\"function inside:\", id(num1), num1)\n",
    "    num1.append(30)\n",
    "\n",
    "num=[10,20]\n",
    "print(\"before func:\", id(num1))\n",
    "func(num)\n",
    "print(\"after func:\", id(num),num)"
   ]
  },
  {
   "cell_type": "code",
   "execution_count": 46,
   "id": "749b59a3-4d99-4303-8c8c-a127e3535379",
   "metadata": {},
   "outputs": [],
   "source": [
    "# Types of argument passing in function"
   ]
  },
  {
   "cell_type": "code",
   "execution_count": 72,
   "id": "90b77d02-bbbc-431e-bcf6-33a162d459a9",
   "metadata": {},
   "outputs": [
    {
     "name": "stdout",
     "output_type": "stream",
     "text": [
      "x: 1 y: 2 z: 3\n"
     ]
    }
   ],
   "source": [
    "# 1.Required argument :\n",
    "# (arguments that are passed to a function in the correct order and in the exact number specified in the function definition)\n",
    "\n",
    "def func(x,y,z):\n",
    "    print(\"x:\",x, \"y:\",y, \"z:\",z)\n",
    "\n",
    "func(1,2,3)\n",
    "\n",
    "\n",
    "  "
   ]
  },
  {
   "cell_type": "code",
   "execution_count": 74,
   "id": "786b3477-944e-46c4-9878-b5a2a7a1800a",
   "metadata": {},
   "outputs": [],
   "source": [
    "# 2.Position argument :\n",
    "# (it depends on us that how we give the value ,it can be in any position)"
   ]
  },
  {
   "cell_type": "code",
   "execution_count": 78,
   "id": "fbab0047-d358-4632-b306-50387b4f481d",
   "metadata": {},
   "outputs": [
    {
     "name": "stdout",
     "output_type": "stream",
     "text": [
      "x: 10 y: 20 z: 30\n"
     ]
    }
   ],
   "source": [
    "def func(x,y,z):\n",
    "    print(\"x:\",x, \"y:\",y, \"z:\",z)\n",
    "\n",
    "func(10,20,30)\n"
   ]
  },
  {
   "cell_type": "code",
   "execution_count": 82,
   "id": "449bfb92-8bbb-412a-9c17-61ff3466d777",
   "metadata": {},
   "outputs": [
    {
     "name": "stdout",
     "output_type": "stream",
     "text": [
      "x: 20 y: 10 z: 30\n"
     ]
    }
   ],
   "source": [
    "# 3. Keyword argument\n",
    "# (To assign the value to a varible)(perameter )\n",
    "\n",
    "def func(x,y,z):\n",
    "    print(\"x:\",x, \"y:\",y, \"z:\",z)\n",
    "\n",
    "func(y=10,x=20,z=30)"
   ]
  },
  {
   "cell_type": "code",
   "execution_count": 86,
   "id": "5297a24e-2780-47c9-bc2b-48c42e3482fe",
   "metadata": {},
   "outputs": [
    {
     "name": "stdout",
     "output_type": "stream",
     "text": [
      "x: 10 y: 20 z: 30\n"
     ]
    }
   ],
   "source": [
    "def func(x,y,z):\n",
    "    print(\"x:\",x, \"y:\",y, \"z:\",z)\n",
    "\n",
    "func(10,y=20,z=30)   # if using position (position value must be in starting)"
   ]
  },
  {
   "cell_type": "code",
   "execution_count": 90,
   "id": "77e5d116-174e-4e3f-97e5-d81418ca4ac8",
   "metadata": {},
   "outputs": [],
   "source": [
    "# 4. default argument\n",
    "# if we cant give the value then the function take the bydefault value on its own\n"
   ]
  },
  {
   "cell_type": "code",
   "execution_count": 94,
   "id": "551366d6-6078-4f42-a049-57f0701ed3c4",
   "metadata": {},
   "outputs": [
    {
     "name": "stdout",
     "output_type": "stream",
     "text": [
      "x: 10 y: 20 z: 30\n"
     ]
    }
   ],
   "source": [
    "def func(x,y,z=30):   # assign value in z\n",
    "    print(\"x:\",x, \"y:\",y, \"z:\",z)\n",
    "                                     # only can assign in last(not in first and middle)\n",
    "func(10,20)"
   ]
  },
  {
   "cell_type": "code",
   "execution_count": 100,
   "id": "039e17e6-ebc9-49c5-8fb8-92a4571dd89c",
   "metadata": {},
   "outputs": [
    {
     "name": "stdout",
     "output_type": "stream",
     "text": [
      "prime\n",
      "prime\n",
      "prime\n"
     ]
    }
   ],
   "source": [
    "# prime number\n",
    "\n",
    "num=5\n",
    "x=0\n",
    "for i in range(2,num):\n",
    "    if(num%i==0):\n",
    "        x=1\n",
    "        break\n",
    "\n",
    "    if(x==1):\n",
    "        print(\"not prime\")\n",
    "    else:\n",
    "        print(\"prime\")\n",
    "        "
   ]
  },
  {
   "cell_type": "code",
   "execution_count": 21,
   "id": "5809fd2a-9613-4dee-930a-b4cc0d38859e",
   "metadata": {},
   "outputs": [
    {
     "name": "stdout",
     "output_type": "stream",
     "text": [
      "not prime\n",
      "prime\n"
     ]
    }
   ],
   "source": [
    "# in function\n",
    "\n",
    "def primecheck(num):\n",
    "    x=0\n",
    "    for i in range(2,num):\n",
    "        if(num%i==0):\n",
    "            x=1\n",
    "            break\n",
    "\n",
    "    if(x==1):\n",
    "            print(\"not prime\")\n",
    "    else:\n",
    "            print(\"prime\")\n",
    "\n",
    "primecheck(6)\n",
    "primecheck(5)"
   ]
  },
  {
   "cell_type": "code",
   "execution_count": 23,
   "id": "7e515315-e735-4240-8833-0348dcad83b7",
   "metadata": {},
   "outputs": [
    {
     "name": "stdout",
     "output_type": "stream",
     "text": [
      "20\n"
     ]
    }
   ],
   "source": [
    "def func(x):\n",
    "    print(x+10)   # print statement shows the value but it wont return the value \n",
    "\n",
    "func(10)"
   ]
  },
  {
   "cell_type": "code",
   "execution_count": 27,
   "id": "aaa5ced9-40f5-498b-a03c-4a19bf6cdc47",
   "metadata": {},
   "outputs": [
    {
     "name": "stdout",
     "output_type": "stream",
     "text": [
      "20\n",
      "y: None\n"
     ]
    }
   ],
   "source": [
    "def func(x):\n",
    "    print(x+10)   # print return none data type\n",
    "y=func(10)\n",
    "print(\"y:\",y)"
   ]
  },
  {
   "cell_type": "code",
   "execution_count": 55,
   "id": "dbf5b701-d37a-4392-a226-37c0347541dd",
   "metadata": {},
   "outputs": [],
   "source": [
    "# return (function will return the value by using return)\n",
    "\n",
    "def func(x):\n",
    "    print(x+10)\n",
    "    return \"abc\"\n",
    "\n",
    "\n"
   ]
  },
  {
   "cell_type": "code",
   "execution_count": 59,
   "id": "264b9afb-44fc-461b-a5a8-faba3c9b4555",
   "metadata": {},
   "outputs": [
    {
     "name": "stdout",
     "output_type": "stream",
     "text": [
      "20\n",
      "y: abc\n"
     ]
    }
   ],
   "source": [
    "y=func(10)\n",
    "print(\"y:\",y)"
   ]
  },
  {
   "cell_type": "code",
   "execution_count": 63,
   "id": "27d830d4-9277-4256-a10e-525e57201ef8",
   "metadata": {},
   "outputs": [],
   "source": [
    "# accept the value from the function\n",
    "\n",
    "def func(x):\n",
    "   \n",
    "    return x+10"
   ]
  },
  {
   "cell_type": "code",
   "execution_count": 67,
   "id": "938141b1-14d4-4e3d-892a-c43182181a40",
   "metadata": {},
   "outputs": [
    {
     "name": "stdout",
     "output_type": "stream",
     "text": [
      "y: 20\n"
     ]
    }
   ],
   "source": [
    "y=func(10)\n",
    "print(\"y:\",y)"
   ]
  },
  {
   "cell_type": "code",
   "execution_count": null,
   "id": "16b8cfc4-800c-4523-9d70-2d524f499a0b",
   "metadata": {},
   "outputs": [],
   "source": []
  }
 ],
 "metadata": {
  "kernelspec": {
   "display_name": "Python 3 (ipykernel)",
   "language": "python",
   "name": "python3"
  },
  "language_info": {
   "codemirror_mode": {
    "name": "ipython",
    "version": 3
   },
   "file_extension": ".py",
   "mimetype": "text/x-python",
   "name": "python",
   "nbconvert_exporter": "python",
   "pygments_lexer": "ipython3",
   "version": "3.12.7"
  }
 },
 "nbformat": 4,
 "nbformat_minor": 5
}
