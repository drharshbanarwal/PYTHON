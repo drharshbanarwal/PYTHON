{
 "cells": [
  {
   "cell_type": "code",
   "execution_count": 7,
   "id": "d1bea169-2e91-4de0-bf67-1cd0dd105014",
   "metadata": {},
   "outputs": [
    {
     "name": "stdout",
     "output_type": "stream",
     "text": [
      "* * * * \n",
      "* * * \n",
      "* * \n",
      "* \n"
     ]
    }
   ],
   "source": [
    "for i in range(1,5):\n",
    "    for j in range(i,5):\n",
    "        print(\"*\",end=\" \")\n",
    "\n",
    "    print()"
   ]
  },
  {
   "cell_type": "code",
   "execution_count": 9,
   "id": "9a02d5eb-2b71-4deb-a973-59dec78af3a2",
   "metadata": {},
   "outputs": [
    {
     "name": "stdout",
     "output_type": "stream",
     "text": [
      "10 \n",
      "11 12 \n",
      "13 14 15 \n"
     ]
    }
   ],
   "source": [
    "x=10\n",
    "for i in range(1,4):\n",
    "    for j in range(1,i+1):\n",
    "        print(x,end=\" \")\n",
    "        x+=1\n",
    "\n",
    "    print()"
   ]
  },
  {
   "cell_type": "code",
   "execution_count": 19,
   "id": "a1091ba1-b906-48ff-be35-d13c2ab8b393",
   "metadata": {},
   "outputs": [
    {
     "name": "stdout",
     "output_type": "stream",
     "text": [
      "10 \n",
      "10 11 \n",
      "10 11 12 \n",
      "10 11 12 13 \n"
     ]
    }
   ],
   "source": [
    "\n",
    "for i in range(10,14):\n",
    "    for j in range(10,i+1):\n",
    "        print(j,end=\" \")\n",
    "\n",
    "    print()"
   ]
  },
  {
   "cell_type": "code",
   "execution_count": 29,
   "id": "9106be0b-8692-45b4-8184-7a894e481520",
   "metadata": {},
   "outputs": [
    {
     "name": "stdout",
     "output_type": "stream",
     "text": [
      "A \n",
      "A B \n",
      "A B C \n",
      "A B C D \n"
     ]
    }
   ],
   "source": [
    "\n",
    "for i in range(65,69):\n",
    "    for j in range(65,i+1):\n",
    "        print(chr(j),end=\" \")\n",
    "        \n",
    "\n",
    "    print()"
   ]
  },
  {
   "cell_type": "code",
   "execution_count": 21,
   "id": "460a48d4-ffc0-4476-b451-5277923f6878",
   "metadata": {},
   "outputs": [
    {
     "name": "stdout",
     "output_type": "stream",
     "text": [
      "D \n",
      "D C \n",
      "D C B \n",
      "D C B A \n"
     ]
    }
   ],
   "source": [
    "for i in range(67,63,-1):\n",
    "    for j in range(68,i,-1):\n",
    "        print(chr(j),end=\" \")\n",
    "\n",
    "    print()"
   ]
  },
  {
   "cell_type": "code",
   "execution_count": 27,
   "id": "97406b26-cfa0-4c3a-aa77-8c20ddb9f694",
   "metadata": {},
   "outputs": [],
   "source": [
    "for i in range(63,67,-1):\n",
    "    for j in range(63,i,-1):\n",
    "        print(chr(j),end=\" \")\n",
    "\n",
    "    print()"
   ]
  },
  {
   "cell_type": "code",
   "execution_count": 41,
   "id": "aea020bd-b059-40ef-94a8-6a8d5ae64bc3",
   "metadata": {},
   "outputs": [
    {
     "name": "stdout",
     "output_type": "stream",
     "text": [
      "A 65\n",
      "B 66\n",
      "C 67\n",
      "D 68\n",
      "E 69\n",
      "F 70\n",
      "G 71\n",
      "H 72\n",
      "I 73\n",
      "J 74\n",
      "K 75\n",
      "L 76\n",
      "M 77\n",
      "N 78\n",
      "O 79\n",
      "P 80\n",
      "Q 81\n",
      "R 82\n",
      "S 83\n",
      "T 84\n",
      "U 85\n",
      "V 86\n",
      "W 87\n",
      "X 88\n",
      "Y 89\n",
      "Z 90\n"
     ]
    }
   ],
   "source": [
    "x=65\n",
    "for i in range(1,27):\n",
    "    print(chr(x),x)\n",
    "    x+=1"
   ]
  },
  {
   "cell_type": "code",
   "execution_count": 55,
   "id": "09098279-daff-42bc-9042-6c1b379ce073",
   "metadata": {},
   "outputs": [
    {
     "name": "stdout",
     "output_type": "stream",
     "text": [
      "F \n",
      "H J \n",
      "L N P \n",
      "R T V X \n"
     ]
    }
   ],
   "source": [
    "x=70\n",
    "for i in range(1,5):\n",
    "    for j in range(1,i+1):\n",
    "        print(chr(x),end=\" \")\n",
    "        x+=2\n",
    "\n",
    "    print()"
   ]
  },
  {
   "cell_type": "code",
   "execution_count": 83,
   "id": "4cc72ae8-7d0e-4520-ae57-2fb31114c0ca",
   "metadata": {},
   "outputs": [
    {
     "name": "stdout",
     "output_type": "stream",
     "text": [
      "1 \n",
      "1 2 \n",
      "1 2 3 \n",
      "1 2 3 4 \n",
      "1 2 3 4 5 \n"
     ]
    }
   ],
   "source": [
    "for i in range(1,6):\n",
    "    for j in range(1,i+1):\n",
    "        print(j,end=\" \")\n",
    "    \n",
    "\n",
    "    print()"
   ]
  },
  {
   "cell_type": "code",
   "execution_count": 101,
   "id": "fda31bbc-cf7c-4ed6-a4cf-0d005028b825",
   "metadata": {},
   "outputs": [
    {
     "name": "stdout",
     "output_type": "stream",
     "text": [
      "* * * * * \n",
      "* * * * \n",
      "* * * \n",
      "* * \n",
      "* \n"
     ]
    }
   ],
   "source": [
    "for i in range(5,0,-1):\n",
    "    for j in range(i):\n",
    "        print(\"*\",end=\" \")\n",
    "\n",
    "    print()"
   ]
  }
 ],
 "metadata": {
  "kernelspec": {
   "display_name": "Python [conda env:base] *",
   "language": "python",
   "name": "conda-base-py"
  },
  "language_info": {
   "codemirror_mode": {
    "name": "ipython",
    "version": 3
   },
   "file_extension": ".py",
   "mimetype": "text/x-python",
   "name": "python",
   "nbconvert_exporter": "python",
   "pygments_lexer": "ipython3",
   "version": "3.12.7"
  }
 },
 "nbformat": 4,
 "nbformat_minor": 5
}
