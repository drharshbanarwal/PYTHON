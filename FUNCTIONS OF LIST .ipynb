{
 "cells": [
  {
   "cell_type": "code",
   "execution_count": 1,
   "id": "6ae65d09-2039-4b35-b5e7-6c75eb198a73",
   "metadata": {},
   "outputs": [],
   "source": [
    "# FUNCTIONS OF LIST"
   ]
  },
  {
   "cell_type": "code",
   "execution_count": 3,
   "id": "ee4a9715-1dd7-4afe-8b37-9f1007f65f5e",
   "metadata": {},
   "outputs": [
    {
     "name": "stdout",
     "output_type": "stream",
     "text": [
      "[10, 20, 30]\n"
     ]
    }
   ],
   "source": [
    "mylist=[10,20,30,40,50,60]\n",
    "print(mylist[0:3])"
   ]
  },
  {
   "cell_type": "code",
   "execution_count": 5,
   "id": "8a51d4eb-7d71-45cb-abe9-25edbda8b52d",
   "metadata": {},
   "outputs": [
    {
     "name": "stdout",
     "output_type": "stream",
     "text": [
      "[10, 20, 30, 40, 50, 60]\n"
     ]
    }
   ],
   "source": [
    "# APPEND\n",
    "\n",
    "mylist=[10,20,30,40,50]\n",
    "mylist.append(60)\n",
    "print(mylist)"
   ]
  },
  {
   "cell_type": "code",
   "execution_count": 7,
   "id": "c2876d7d-8a55-44bb-b51d-033a0c4fc972",
   "metadata": {},
   "outputs": [
    {
     "name": "stdout",
     "output_type": "stream",
     "text": [
      "[10, 20, 30, 40, 'h', 'e', 'y']\n"
     ]
    }
   ],
   "source": [
    "#EXTEND\n",
    "\n",
    "mylist=[10,20,30,40]\n",
    "mylist.extend(\"hey\")\n",
    "print(mylist)"
   ]
  },
  {
   "cell_type": "code",
   "execution_count": 9,
   "id": "af3d5438-b793-4818-bcaa-15172fb1973f",
   "metadata": {},
   "outputs": [
    {
     "name": "stdout",
     "output_type": "stream",
     "text": [
      "[12, 20, 30, 'hey', 'h', 'a', 'r', 's', 'h', 'harsh', 25]\n"
     ]
    }
   ],
   "source": [
    "# INSERT MULTIPLE VALUES\n",
    "\n",
    "mylist=[12,20,30,\"hey\"]\n",
    "mylist.extend(\"harsh\")\n",
    "mylist.extend([\"harsh\",25]) #to insert multilpe value\n",
    "print(mylist)"
   ]
  },
  {
   "cell_type": "code",
   "execution_count": 11,
   "id": "07b949d2-963e-41cc-bec5-04cb2ef95935",
   "metadata": {},
   "outputs": [
    {
     "name": "stdout",
     "output_type": "stream",
     "text": [
      "[10, 20, 40]\n"
     ]
    }
   ],
   "source": [
    "# POP (TO DELETE)\n",
    "\n",
    "mylist=[10,20,30,40]\n",
    "mylist.pop(2)\n",
    "print(mylist)"
   ]
  },
  {
   "cell_type": "code",
   "execution_count": 13,
   "id": "2ebb6837-ac85-4f29-84ff-37fd8f95a025",
   "metadata": {},
   "outputs": [
    {
     "name": "stdout",
     "output_type": "stream",
     "text": [
      "[10, 30, 40]\n"
     ]
    }
   ],
   "source": [
    "# REMOVE\n",
    "\n",
    "mylist=[10,20,30,40]\n",
    "mylist.remove(20)\n",
    "print(mylist)"
   ]
  },
  {
   "cell_type": "code",
   "execution_count": 15,
   "id": "e2a0d214-4e86-4b11-88bc-60befb307a66",
   "metadata": {},
   "outputs": [
    {
     "name": "stdout",
     "output_type": "stream",
     "text": [
      "[1, 2, 3, 4, 5, 6, 7, 8, 9]\n"
     ]
    }
   ],
   "source": [
    "# SORT\n",
    "\n",
    "mylist=[2,3,1,4,5,6,8,9,7]\n",
    "mylist.sort()\n",
    "print(mylist)"
   ]
  },
  {
   "cell_type": "code",
   "execution_count": 17,
   "id": "028429d5-c84b-4706-86ad-739cb3aa11e1",
   "metadata": {},
   "outputs": [
    {
     "name": "stdout",
     "output_type": "stream",
     "text": [
      "[40, 30, 20, 10]\n"
     ]
    }
   ],
   "source": [
    "# REVERSE\n",
    "\n",
    "mylist=[10,20,30,40]\n",
    "mylist.reverse()\n",
    "print(mylist)"
   ]
  },
  {
   "cell_type": "code",
   "execution_count": null,
   "id": "091e8f16-ecda-4c86-9064-fb2f9561e85e",
   "metadata": {},
   "outputs": [],
   "source": []
  }
 ],
 "metadata": {
  "kernelspec": {
   "display_name": "Python 3 (ipykernel)",
   "language": "python",
   "name": "python3"
  },
  "language_info": {
   "codemirror_mode": {
    "name": "ipython",
    "version": 3
   },
   "file_extension": ".py",
   "mimetype": "text/x-python",
   "name": "python",
   "nbconvert_exporter": "python",
   "pygments_lexer": "ipython3",
   "version": "3.12.7"
  }
 },
 "nbformat": 4,
 "nbformat_minor": 5
}
