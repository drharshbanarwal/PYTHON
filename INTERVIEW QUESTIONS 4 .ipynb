{
 "cells": [
  {
   "cell_type": "code",
   "execution_count": 3,
   "id": "732e25d7-201c-4e08-98e9-756391a29171",
   "metadata": {},
   "outputs": [
    {
     "name": "stdout",
     "output_type": "stream",
     "text": [
      "Hello, World!\n"
     ]
    }
   ],
   "source": [
    "# 1. Write a simple Python program to print an output.\n",
    "\n",
    "print(\"Hello, World!\")"
   ]
  },
  {
   "cell_type": "code",
   "execution_count": 5,
   "id": "57ae8880-4f0e-474b-859b-27ce7bb5bd9d",
   "metadata": {},
   "outputs": [
    {
     "name": "stdout",
     "output_type": "stream",
     "text": [
      "True\n",
      "False\n"
     ]
    }
   ],
   "source": [
    "# 2. Write a Python code to check if a number is even or odd\n",
    "\n",
    "def is_even(num):\n",
    "    return num % 2 == 0\n",
    "\n",
    "print(is_even(4))  # True\n",
    "print(is_even(5))  # False"
   ]
  },
  {
   "cell_type": "code",
   "execution_count": 7,
   "id": "640cebfd-aae0-42d8-924f-d0baa806f9bd",
   "metadata": {},
   "outputs": [
    {
     "name": "stdout",
     "output_type": "stream",
     "text": [
      "Hello World\n"
     ]
    }
   ],
   "source": [
    "# 3. Write a Python code to concatenate two strings\n",
    "\n",
    "str1 = \"Hello\"\n",
    "str2 = \"World\"\n",
    "result = str1 + \" \" + str2\n",
    "print(result) #Hello World"
   ]
  },
  {
   "cell_type": "code",
   "execution_count": 9,
   "id": "82f2b3e9-4b3c-40ca-9000-39889f8ff567",
   "metadata": {},
   "outputs": [
    {
     "name": "stdout",
     "output_type": "stream",
     "text": [
      "3\n"
     ]
    }
   ],
   "source": [
    "# 4. Write a Python program to find the maximum of three numbers\n",
    "\n",
    "def max_of_three(a, b, c):\n",
    "    return max(a, b, c)\n",
    "\n",
    "print(max_of_three(1, 2, 3))  # 3"
   ]
  },
  {
   "cell_type": "code",
   "execution_count": 11,
   "id": "0602dbf9-7b7d-4df9-ab44-889de72a904e",
   "metadata": {},
   "outputs": [
    {
     "name": "stdout",
     "output_type": "stream",
     "text": [
      "3\n"
     ]
    }
   ],
   "source": [
    "# 5. Write a Python program to count the number of vowels in a string\n",
    "\n",
    "def count_vowels(s):\n",
    "    return sum(1 for char in s if char.lower() in 'aeiou')\n",
    "\n",
    "print(count_vowels(\"Hello World\"))  # 3"
   ]
  },
  {
   "cell_type": "code",
   "execution_count": 20,
   "id": "a675e804-8151-4d8f-8cd9-5ea41421a162",
   "metadata": {},
   "outputs": [
    {
     "name": "stdout",
     "output_type": "stream",
     "text": [
      "120\n"
     ]
    }
   ],
   "source": [
    "# 6. Write a Python program to calculate the factorial of a number\n",
    "\n",
    "def factorial(n):\n",
    "    if n == 0:\n",
    "        return 1\n",
    "    return n * factorial(n - 1)\n",
    "print(factorial(5))  # 120"
   ]
  },
  {
   "cell_type": "code",
   "execution_count": 22,
   "id": "ac9bd050-c3a7-4908-842b-ca577ff83dc0",
   "metadata": {},
   "outputs": [
    {
     "name": "stdout",
     "output_type": "stream",
     "text": [
      "12345\n"
     ]
    }
   ],
   "source": [
    "# 7. Write a Python code to convert a string to an integer\n",
    "\n",
    "str_num = \"12345\"\n",
    "int_num = int(str_num)\n",
    "print(int_num)  # 12345"
   ]
  },
  {
   "cell_type": "code",
   "execution_count": 24,
   "id": "847092a5-68bc-4b8c-9019-76ca080ed464",
   "metadata": {},
   "outputs": [
    {
     "name": "stdout",
     "output_type": "stream",
     "text": [
      "15\n"
     ]
    }
   ],
   "source": [
    "# 8. Write a Python program to calculate the area of a rectangle\n",
    "\n",
    "def area_of_rectangle(length, width):\n",
    "    return length * width\n",
    "\n",
    "print(area_of_rectangle(5, 3))  # 15"
   ]
  },
  {
   "cell_type": "code",
   "execution_count": 26,
   "id": "e7d1bf50-f3bd-40c7-8a80-15a579dc702c",
   "metadata": {},
   "outputs": [
    {
     "name": "stdout",
     "output_type": "stream",
     "text": [
      "{'a': 1, 'b': 3, 'c': 4}\n"
     ]
    }
   ],
   "source": [
    "# 9. Write a Python code to merge two dictionaries\n",
    "\n",
    "dict1 = {'a': 1, 'b': 2}\n",
    "dict2 = {'b': 3, 'c': 4}\n",
    "merged = {**dict1, **dict2}\n",
    "print(merged) #{'a': 1, 'b': 3, 'c': 4}"
   ]
  },
  {
   "cell_type": "code",
   "execution_count": 28,
   "id": "ba6a9944-31f4-485b-8153-255d12be515d",
   "metadata": {},
   "outputs": [
    {
     "name": "stdout",
     "output_type": "stream",
     "text": [
      "[3, 4]\n"
     ]
    }
   ],
   "source": [
    "# 10. Write a Python program to find common elements in two lists\n",
    "\n",
    "list1 = [1, 2, 3, 4]\n",
    "list2 = [3, 4, 5, 6]\n",
    "common = list(set(list1) & set(list2))\n",
    "print(common) #[3, 4]"
   ]
  },
  {
   "cell_type": "code",
   "execution_count": null,
   "id": "d3c1c0c7-7da4-4738-8a18-5753238c07dc",
   "metadata": {},
   "outputs": [],
   "source": []
  }
 ],
 "metadata": {
  "kernelspec": {
   "display_name": "Python [conda env:base] *",
   "language": "python",
   "name": "conda-base-py"
  },
  "language_info": {
   "codemirror_mode": {
    "name": "ipython",
    "version": 3
   },
   "file_extension": ".py",
   "mimetype": "text/x-python",
   "name": "python",
   "nbconvert_exporter": "python",
   "pygments_lexer": "ipython3",
   "version": "3.12.7"
  }
 },
 "nbformat": 4,
 "nbformat_minor": 5
}
