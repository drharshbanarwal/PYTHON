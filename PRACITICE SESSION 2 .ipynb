{
 "cells": [
  {
   "cell_type": "code",
   "execution_count": 2,
   "id": "6cd87d04-13de-4ec8-8de0-32d669ef3c8c",
   "metadata": {},
   "outputs": [],
   "source": [
    "# REVISION SESSION 2."
   ]
  },
  {
   "cell_type": "code",
   "execution_count": 6,
   "id": "c8c73df2-aa0d-4166-ab15-f806fff3c9e4",
   "metadata": {},
   "outputs": [
    {
     "name": "stdout",
     "output_type": "stream",
     "text": [
      "1 \n",
      "1 0 \n",
      "1 0 1 \n",
      "1 0 1 0 \n",
      "1 0 1 0 1 \n"
     ]
    }
   ],
   "source": [
    "num=6\n",
    "for i in range (1,num):\n",
    "    for j in range(1,i+1):\n",
    "        if j%2==1:\n",
    "            print(\"1\",end=\" \")\n",
    "\n",
    "        else:\n",
    "            print(\"0\",end=\" \")\n",
    "\n",
    "    print()\n",
    "    "
   ]
  },
  {
   "cell_type": "code",
   "execution_count": 22,
   "id": "0bf91c04-50e3-4b0f-a109-0af2f768c066",
   "metadata": {},
   "outputs": [
    {
     "name": "stdout",
     "output_type": "stream",
     "text": [
      "---* \n",
      "--* * \n",
      "-* * * \n",
      "* * * * \n"
     ]
    }
   ],
   "source": [
    "for i in range(1,5):\n",
    "    for j in range(1,5-i):\n",
    "        print(\"-\",end=\"\")\n",
    "    for k in range(1,i+1):\n",
    "        print(\"*\",end=\" \")\n",
    "        \n",
    "\n",
    "    print()"
   ]
  },
  {
   "cell_type": "code",
   "execution_count": 18,
   "id": "4dd15f13-550b-436f-ac7f-e26fe2f1e939",
   "metadata": {},
   "outputs": [
    {
     "name": "stdout",
     "output_type": "stream",
     "text": [
      "* \n",
      "* * \n",
      "* * * \n",
      "* * * * \n"
     ]
    }
   ],
   "source": [
    "num=4\n",
    "for i in range(1,num+1):\n",
    "    for j in range(1,i+1):\n",
    "        print(\"*\",end=\" \")\n",
    "\n",
    "    print()"
   ]
  },
  {
   "cell_type": "code",
   "execution_count": 26,
   "id": "50209fbd-d0f6-457f-87a7-a5733b03f6cc",
   "metadata": {},
   "outputs": [
    {
     "name": "stdout",
     "output_type": "stream",
     "text": [
      "* * * * * \n",
      "-* * * * \n",
      "--* * * \n",
      "---* * \n",
      "----* \n"
     ]
    }
   ],
   "source": [
    "for i in range(1,6):\n",
    "    for k in range(1,i):\n",
    "        print(\"-\",end=\"\")\n",
    "\n",
    "    for j in range(i,6):\n",
    "        print(\"*\",end=\" \")\n",
    "\n",
    "    print()\n",
    "        "
   ]
  },
  {
   "cell_type": "code",
   "execution_count": 30,
   "id": "88cf0cf6-07be-4d0b-a1de-d4f4c95c217e",
   "metadata": {},
   "outputs": [
    {
     "name": "stdout",
     "output_type": "stream",
     "text": [
      "****\n",
      "-***\n",
      "--**\n",
      "---*\n"
     ]
    }
   ],
   "source": [
    "for i in range(1,5):\n",
    "    for k in range(1,i):\n",
    "        print(\"-\",end=\"\")\n",
    "\n",
    "    for j in range(i,5):\n",
    "        print(\"*\",end=\"\")\n",
    "\n",
    "    print()"
   ]
  },
  {
   "cell_type": "code",
   "execution_count": 32,
   "id": "3ab810e7-60a1-468b-a432-9e1ef57823b3",
   "metadata": {},
   "outputs": [
    {
     "data": {
      "text/plain": [
       "'****'"
      ]
     },
     "execution_count": 32,
     "metadata": {},
     "output_type": "execute_result"
    }
   ],
   "source": [
    "\"*\" * 4\n"
   ]
  },
  {
   "cell_type": "code",
   "execution_count": 36,
   "id": "06ca391f-be53-4b8f-a99f-4beef0e4c441",
   "metadata": {},
   "outputs": [
    {
     "name": "stdout",
     "output_type": "stream",
     "text": [
      "**** \n",
      "-*** \n",
      "--** \n",
      "---* \n"
     ]
    }
   ],
   "source": [
    "for i in range(1,5):\n",
    "    for k in range(1,i):\n",
    "        print(\"-\",end=\"\")\n",
    "    print(\"*\" *(5-i),end=\" \")\n",
    "    print()"
   ]
  },
  {
   "cell_type": "code",
   "execution_count": 38,
   "id": "b562adda-f8c5-407e-82cf-fa44ffbe89aa",
   "metadata": {},
   "outputs": [
    {
     "name": "stdout",
     "output_type": "stream",
     "text": [
      "**** \n",
      "-*** \n",
      "--** \n",
      "---* \n"
     ]
    }
   ],
   "source": [
    "for i in range (1,5):\n",
    "    print(\"-\"*(i-1),end=\"\")\n",
    "    print(\"*\" *(5-i),end=\" \")\n",
    "    print()"
   ]
  },
  {
   "cell_type": "code",
   "execution_count": 40,
   "id": "33547fbe-04e8-4b45-8670-3ca7abcb4a80",
   "metadata": {},
   "outputs": [],
   "source": [
    "# LIST :"
   ]
  },
  {
   "cell_type": "code",
   "execution_count": 42,
   "id": "306a2b90-c5b5-4d0c-9fb7-6d6602924b8d",
   "metadata": {},
   "outputs": [
    {
     "name": "stdout",
     "output_type": "stream",
     "text": [
      "10\n"
     ]
    }
   ],
   "source": [
    "mylist=[10,20,630]\n",
    "print(mylist[0])"
   ]
  },
  {
   "cell_type": "code",
   "execution_count": 44,
   "id": "2d4df8c0-c492-4634-bfe7-a4deb75d5ff3",
   "metadata": {},
   "outputs": [
    {
     "name": "stdout",
     "output_type": "stream",
     "text": [
      "[100, 20, 630]\n"
     ]
    }
   ],
   "source": [
    "# update the value\n",
    "\n",
    "mylist=[10,20,630]\n",
    "mylist[0]=100\n",
    "print(mylist)"
   ]
  },
  {
   "cell_type": "code",
   "execution_count": 48,
   "id": "9c9182d3-306e-4443-b164-341d3e312726",
   "metadata": {},
   "outputs": [
    {
     "name": "stdout",
     "output_type": "stream",
     "text": [
      "[10, 20, 630, 500]\n"
     ]
    }
   ],
   "source": [
    "# insert the new element\n",
    "\n",
    "mylist=[10,20,630]\n",
    "mylist.append(500)\n",
    "print(mylist)"
   ]
  },
  {
   "cell_type": "code",
   "execution_count": 50,
   "id": "49ac6d7f-1c01-4388-a995-be34bb3e04a3",
   "metadata": {},
   "outputs": [
    {
     "name": "stdout",
     "output_type": "stream",
     "text": [
      "['harsh', 10, 20, 630]\n"
     ]
    }
   ],
   "source": [
    "# insert the element according to the position\n",
    "\n",
    "mylist=[10,20,630]\n",
    "mylist.insert(0,\"harsh\")\n",
    "print(mylist)\n"
   ]
  },
  {
   "cell_type": "code",
   "execution_count": 52,
   "id": "0f35dcaf-eeae-4c39-aca8-0dc4911cd01d",
   "metadata": {},
   "outputs": [
    {
     "name": "stdout",
     "output_type": "stream",
     "text": [
      "['harsh', 10, 20]\n"
     ]
    }
   ],
   "source": [
    "# to delete the element\n",
    "mylist=[10,20,630]\n",
    "mylist.insert(0,\"harsh\")\n",
    "mylist.pop()\n",
    "print(mylist)"
   ]
  },
  {
   "cell_type": "code",
   "execution_count": 54,
   "id": "1bb3bf38-5be2-4728-8d4f-fb612c9dddaf",
   "metadata": {},
   "outputs": [
    {
     "name": "stdout",
     "output_type": "stream",
     "text": [
      "[10, 630]\n"
     ]
    }
   ],
   "source": [
    "# to  delete the data by value\n",
    "\n",
    "mylist=[10,20,630]\n",
    "mylist.remove(20)\n",
    "print(mylist)"
   ]
  },
  {
   "cell_type": "code",
   "execution_count": 60,
   "id": "71405c9e-67e4-4aae-9aba-9512c651dec8",
   "metadata": {},
   "outputs": [
    {
     "name": "stdout",
     "output_type": "stream",
     "text": [
      "[10, 20, 630, 'hey', 11, 12, 13]\n"
     ]
    }
   ],
   "source": [
    "# to extend the list\n",
    "\n",
    "mylist=[10,20,630,\"hey\"]\n",
    "mylist.extend([11,12,13])\n",
    "print(mylist)"
   ]
  },
  {
   "cell_type": "code",
   "execution_count": 62,
   "id": "a3b0c1de-508d-4f4d-b5c6-ceae7f80813e",
   "metadata": {},
   "outputs": [
    {
     "name": "stdout",
     "output_type": "stream",
     "text": [
      "0\n",
      "1\n",
      "2\n",
      "3\n"
     ]
    }
   ],
   "source": [
    "mylist=[10,30,40,50]\n",
    "for i in range(0,len(mylist)):\n",
    "    print(i)"
   ]
  },
  {
   "cell_type": "code",
   "execution_count": 72,
   "id": "9fbeedff-0b08-4851-9945-aef6820acbf6",
   "metadata": {},
   "outputs": [
    {
     "name": "stdout",
     "output_type": "stream",
     "text": [
      "0 10\n",
      "1 30\n",
      "2 40\n",
      "3 50\n"
     ]
    }
   ],
   "source": [
    "mylist=[10,30,40,50]\n",
    "for i in range(0,len(mylist)):\n",
    "    print(i,mylist[i])"
   ]
  },
  {
   "cell_type": "code",
   "execution_count": 78,
   "id": "293ca01e-bde2-4340-b3f2-78a04204977a",
   "metadata": {},
   "outputs": [
    {
     "name": "stdout",
     "output_type": "stream",
     "text": [
      "10\n",
      "30\n",
      "40\n",
      "50\n"
     ]
    }
   ],
   "source": [
    "mylist=[10,30,40,50,55]\n",
    "for i in range(0,len(mylist)):\n",
    "    if(mylist[i]%2==0):\n",
    "        print(mylist[i])"
   ]
  },
  {
   "cell_type": "code",
   "execution_count": 82,
   "id": "9b6f1a49-254a-4988-8cc7-489a60ac9473",
   "metadata": {},
   "outputs": [
    {
     "name": "stdout",
     "output_type": "stream",
     "text": [
      "55\n"
     ]
    }
   ],
   "source": [
    "mylist=[10,30,40,50,55]\n",
    "for i in range(0,len(mylist)):\n",
    "    if(mylist[i]%2!=0):\n",
    "        print(mylist[i])"
   ]
  },
  {
   "cell_type": "code",
   "execution_count": 84,
   "id": "ad7fa7c7-7193-44ac-95ed-fda5442481da",
   "metadata": {},
   "outputs": [
    {
     "name": "stdout",
     "output_type": "stream",
     "text": [
      "50\n"
     ]
    }
   ],
   "source": [
    "\n",
    "mylist=[20,30,40,50,41,23]\n",
    "max1=mylist[0]\n",
    "for i in range(1,len(mylist)):\n",
    "    if(mylist[i]>max1):\n",
    "        max1=mylist[i]\n",
    "\n",
    "print(max1)"
   ]
  },
  {
   "cell_type": "code",
   "execution_count": 86,
   "id": "5ecc65ce-fcf2-4f45-a78c-f486398a8a84",
   "metadata": {},
   "outputs": [
    {
     "name": "stdout",
     "output_type": "stream",
     "text": [
      "20\n",
      "nested 20 30\n",
      "nested 20 40\n",
      "nested 20 50\n",
      "nested 20 41\n",
      "nested 20 23\n"
     ]
    }
   ],
   "source": [
    "# two pointer\n",
    "\n",
    "mylist=[20,30,40,50,41,23]\n",
    "\n",
    "for i in range(0,1):\n",
    "    print(mylist[i])\n",
    "    for j in range(1,len(mylist)):\n",
    "        print(\"nested\",mylist[i],mylist[j])\n"
   ]
  },
  {
   "cell_type": "code",
   "execution_count": 96,
   "id": "0b048537-544e-4845-9ffd-45b67546692d",
   "metadata": {},
   "outputs": [
    {
     "name": "stdout",
     "output_type": "stream",
     "text": [
      "20\n",
      "nested mylist i is:  20 mylist of j is: 30\n",
      "nested mylist i is:  20 mylist of j is: 40\n",
      "nested mylist i is:  20 mylist of j is: 50\n",
      "nested mylist i is:  20 mylist of j is: 41\n",
      "nested mylist i is:  20 mylist of j is: 23\n",
      "30\n",
      "nested mylist i is:  30 mylist of j is: 40\n",
      "nested mylist i is:  30 mylist of j is: 50\n",
      "nested mylist i is:  30 mylist of j is: 41\n",
      "nested mylist i is:  30 mylist of j is: 23\n",
      "40\n",
      "nested mylist i is:  40 mylist of j is: 50\n",
      "nested mylist i is:  40 mylist of j is: 41\n",
      "nested mylist i is:  40 mylist of j is: 23\n",
      "50\n",
      "nested mylist i is:  50 mylist of j is: 41\n",
      "nested mylist i is:  50 mylist of j is: 23\n",
      "41\n",
      "nested mylist i is:  41 mylist of j is: 23\n",
      "23\n"
     ]
    }
   ],
   "source": [
    "# two pointer\n",
    "\n",
    "mylist=[20,30,40,50,41,23]\n",
    "\n",
    "for i in range(0,len(mylist)):\n",
    "    print(mylist[i])\n",
    "    for j in range(i+1,len(mylist)):\n",
    "        print(\"nested\",\"mylist i is: \",mylist[i],\"mylist of j is:\",mylist[j])\n"
   ]
  },
  {
   "cell_type": "code",
   "execution_count": 100,
   "id": "e32b9c38-ae75-4f71-afa9-3face4b5d7fd",
   "metadata": {},
   "outputs": [
    {
     "name": "stdout",
     "output_type": "stream",
     "text": [
      "30 50\n"
     ]
    }
   ],
   "source": [
    "mylist=[20,30,40,50,41,23]\n",
    "target=80\n",
    "for i in range(0,len(mylist)):\n",
    "    for j in range(i+1,len(mylist)):\n",
    "        if(mylist[i]+mylist[j]==target):\n",
    "            print(mylist[i],mylist[j])"
   ]
  },
  {
   "cell_type": "code",
   "execution_count": null,
   "id": "b769c49f-1c23-49c6-af85-93c114d46491",
   "metadata": {},
   "outputs": [],
   "source": []
  }
 ],
 "metadata": {
  "kernelspec": {
   "display_name": "Python [conda env:base] *",
   "language": "python",
   "name": "conda-base-py"
  },
  "language_info": {
   "codemirror_mode": {
    "name": "ipython",
    "version": 3
   },
   "file_extension": ".py",
   "mimetype": "text/x-python",
   "name": "python",
   "nbconvert_exporter": "python",
   "pygments_lexer": "ipython3",
   "version": "3.12.7"
  }
 },
 "nbformat": 4,
 "nbformat_minor": 5
}
