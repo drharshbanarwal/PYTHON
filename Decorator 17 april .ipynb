{
 "cells": [
  {
   "cell_type": "code",
   "execution_count": 2,
   "id": "cd7d1d7e-863a-4697-a769-ab8fc9c6d4ba",
   "metadata": {},
   "outputs": [],
   "source": [
    "# Decorator \n",
    "# design pattern => can change the working of function without making any changes in exact code :"
   ]
  },
  {
   "cell_type": "code",
   "execution_count": 37,
   "id": "4f142fdf-b99f-48b0-af38-0bcc9085708e",
   "metadata": {},
   "outputs": [],
   "source": [
    "class ABC :\n",
    "#    @property\n",
    "    def info():\n",
    "        print(\"this is info function\")\n",
    "\n",
    "     "
   ]
  },
  {
   "cell_type": "code",
   "execution_count": 39,
   "id": "64762889-e674-4728-a976-fb3c06f9d647",
   "metadata": {},
   "outputs": [
    {
     "name": "stdout",
     "output_type": "stream",
     "text": [
      "this is info function\n"
     ]
    }
   ],
   "source": [
    "ABC.info()"
   ]
  },
  {
   "cell_type": "code",
   "execution_count": 41,
   "id": "3a1dd921-49b0-4123-a7d4-f852d8266c61",
   "metadata": {},
   "outputs": [],
   "source": [
    "# if we use self in the starting of any function thats called instings methond (*which take the first perameter as self )\n",
    "# the instins method access the instince varable"
   ]
  },
  {
   "cell_type": "code",
   "execution_count": 43,
   "id": "827b78e2-2697-4513-b1bb-d94d626b5dde",
   "metadata": {},
   "outputs": [],
   "source": [
    "# \" @ property decorator \"\n",
    "# \" @ staticmethod decorator \" (are those methods which are bounded to a class )"
   ]
  },
  {
   "cell_type": "code",
   "execution_count": 45,
   "id": "9c1fc4ce-ef93-4aac-a0f3-ef8e1588b427",
   "metadata": {},
   "outputs": [],
   "source": [
    "class ABC :\n",
    "    company=\"regex\"\n",
    "    @property\n",
    "    def info(self):\n",
    "        print(\"this is info function\")\n",
    "\n",
    "    @staticmethod\n",
    "    def adding(x,y):\n",
    "        print(x+y, ABC.company)"
   ]
  },
  {
   "cell_type": "code",
   "execution_count": 47,
   "id": "28fb3886-c4d3-4c27-97b2-830ed5184120",
   "metadata": {},
   "outputs": [
    {
     "name": "stdout",
     "output_type": "stream",
     "text": [
      "this is info function\n"
     ]
    }
   ],
   "source": [
    "a1=ABC()\n",
    "a1.info"
   ]
  },
  {
   "cell_type": "code",
   "execution_count": 49,
   "id": "bf47bc50-650c-4696-b468-9d3f5972f55b",
   "metadata": {},
   "outputs": [
    {
     "name": "stdout",
     "output_type": "stream",
     "text": [
      "20 regex\n"
     ]
    }
   ],
   "source": [
    "a1.adding(10,10)"
   ]
  },
  {
   "cell_type": "code",
   "execution_count": 51,
   "id": "4e390439-ba87-4e70-be3e-33422f398a94",
   "metadata": {},
   "outputs": [],
   "source": [
    "# class method \n",
    "# static method \n",
    "# instance method \n",
    "# difference between the ?"
   ]
  },
  {
   "cell_type": "code",
   "execution_count": 53,
   "id": "991fc8d8-89bc-493c-9155-400320ebd9d5",
   "metadata": {},
   "outputs": [],
   "source": [
    "# decorator"
   ]
  },
  {
   "cell_type": "code",
   "execution_count": 72,
   "id": "cccc8bd5-f2a5-44af-94e8-265e58990445",
   "metadata": {},
   "outputs": [],
   "source": [
    "def outer__func():\n",
    "    def inner__func():\n",
    "        print(\"this is the inner function\")\n",
    "    return \"abc\""
   ]
  },
  {
   "cell_type": "code",
   "execution_count": 74,
   "id": "41767d97-3f64-452c-8dac-5a8d5752cb6a",
   "metadata": {},
   "outputs": [
    {
     "name": "stdout",
     "output_type": "stream",
     "text": [
      "f value => abc\n"
     ]
    }
   ],
   "source": [
    "f=outer__func()\n",
    "print(\"f value =>\",f)"
   ]
  },
  {
   "cell_type": "code",
   "execution_count": 76,
   "id": "e495e571-f75f-4819-a5b1-05ff0e881098",
   "metadata": {},
   "outputs": [
    {
     "data": {
      "text/plain": [
       "'abc'"
      ]
     },
     "execution_count": 76,
     "metadata": {},
     "output_type": "execute_result"
    }
   ],
   "source": [
    "outer__func()"
   ]
  },
  {
   "cell_type": "code",
   "execution_count": 90,
   "id": "45076646-f925-4512-97fa-fe012757dfc7",
   "metadata": {},
   "outputs": [],
   "source": [
    "def outer__func():\n",
    "    def inner__func():\n",
    "        print(\"this is the inner function\")\n",
    "    return inner__func"
   ]
  },
  {
   "cell_type": "code",
   "execution_count": 96,
   "id": "220ee1e4-284d-4f43-868d-adda159216a3",
   "metadata": {},
   "outputs": [
    {
     "name": "stdout",
     "output_type": "stream",
     "text": [
      "this is the inner function\n"
     ]
    }
   ],
   "source": [
    "f=outer__func()\n",
    "#print(\"f value=>\",f)\n",
    "f()"
   ]
  },
  {
   "cell_type": "code",
   "execution_count": 98,
   "id": "94d83295-dd17-4239-a8fe-5fc7ff99f6a3",
   "metadata": {},
   "outputs": [],
   "source": [
    "# first class function\n",
    "# high order function\n",
    "# closure in python"
   ]
  },
  {
   "cell_type": "code",
   "execution_count": 108,
   "id": "f6e119c8-3337-44e2-8ae1-72291feb66b2",
   "metadata": {},
   "outputs": [],
   "source": [
    "def outer__func(x):\n",
    "    def inner__func():\n",
    "        print(\"this is the inner function\",x)\n",
    "    return inner__func"
   ]
  },
  {
   "cell_type": "code",
   "execution_count": 116,
   "id": "2b4c5f59-75ec-4a6e-a9a0-083f817e4e89",
   "metadata": {},
   "outputs": [
    {
     "name": "stdout",
     "output_type": "stream",
     "text": [
      "f value=> <function outer__func.<locals>.inner__func at 0x000001CCD7D628E0>\n",
      "this is the inner function 50\n"
     ]
    }
   ],
   "source": [
    "f=outer__func(50)\n",
    "print(\"f value=>\",f)\n",
    "f()"
   ]
  },
  {
   "cell_type": "code",
   "execution_count": 112,
   "id": "d2fcb42a-5b2d-4fac-a1ea-90548034c45a",
   "metadata": {},
   "outputs": [],
   "source": [
    "# closure in python => they are the features of python where we acess the variable inner function from the outer functions "
   ]
  },
  {
   "cell_type": "code",
   "execution_count": 114,
   "id": "7770846a-3d89-45b2-b4de-3ce4ce46dd6f",
   "metadata": {},
   "outputs": [],
   "source": [
    "# imp topic OOPS and CLASS "
   ]
  },
  {
   "cell_type": "code",
   "execution_count": 139,
   "id": "f6f42355-74e1-4ef6-a398-118872e0f431",
   "metadata": {},
   "outputs": [],
   "source": [
    "def outer__func(x):\n",
    "    def inner__func():\n",
    "        print(\"this is the inner function\",x)\n",
    "        return x().upper()             # calling test function and coverting into upper case \n",
    "    return inner__func                 # s.upper make it to the upper case and return it to f keyword\n",
    "\n",
    "def test():\n",
    "    return (\"this is test function\")"
   ]
  },
  {
   "cell_type": "code",
   "execution_count": 141,
   "id": "6a5793dd-8ee5-47cf-beb8-c577d72695bc",
   "metadata": {},
   "outputs": [
    {
     "name": "stdout",
     "output_type": "stream",
     "text": [
      "f value=> <function outer__func.<locals>.inner__func at 0x000001CCD49DD620>\n",
      "this is the inner function <function test at 0x000001CCD7033E20>\n"
     ]
    },
    {
     "data": {
      "text/plain": [
       "'THIS IS TEST FUNCTION'"
      ]
     },
     "execution_count": 141,
     "metadata": {},
     "output_type": "execute_result"
    }
   ],
   "source": [
    "f=outer__func(test)\n",
    "print(\"f value=>\",f)\n",
    "f()"
   ]
  },
  {
   "cell_type": "code",
   "execution_count": 145,
   "id": "e7aec968-4937-4f5b-8b7a-1898c2db848c",
   "metadata": {},
   "outputs": [],
   "source": [
    "def outer__func(x):\n",
    "    def inner__func():\n",
    "        s=x()\n",
    "        return s.upper()               # calling test function and coverting into upper case \n",
    "    return inner__func                 # s.upper make it to the upper case and return it to f keyword\n",
    "@outer__func\n",
    "def test():\n",
    "    return (\"this is test function\")"
   ]
  },
  {
   "cell_type": "code",
   "execution_count": 147,
   "id": "e75d019e-e13c-4b7f-b3dd-b34a1bb377fb",
   "metadata": {},
   "outputs": [
    {
     "data": {
      "text/plain": [
       "'THIS IS TEST FUNCTION'"
      ]
     },
     "execution_count": 147,
     "metadata": {},
     "output_type": "execute_result"
    }
   ],
   "source": [
    "test()"
   ]
  },
  {
   "cell_type": "code",
   "execution_count": null,
   "id": "a14d87bd-29be-4de8-a857-0715a5cbf4f7",
   "metadata": {},
   "outputs": [],
   "source": []
  }
 ],
 "metadata": {
  "kernelspec": {
   "display_name": "Python [conda env:base] *",
   "language": "python",
   "name": "conda-base-py"
  },
  "language_info": {
   "codemirror_mode": {
    "name": "ipython",
    "version": 3
   },
   "file_extension": ".py",
   "mimetype": "text/x-python",
   "name": "python",
   "nbconvert_exporter": "python",
   "pygments_lexer": "ipython3",
   "version": "3.12.7"
  }
 },
 "nbformat": 4,
 "nbformat_minor": 5
}
