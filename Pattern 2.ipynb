{
 "cells": [
  {
   "cell_type": "code",
   "execution_count": null,
   "metadata": {
    "colab": {
     "base_uri": "https://localhost:8080/"
    },
    "id": "RFKm6zFMULub",
    "outputId": "ac8e4cbf-5b30-43f9-ff32-f683b8e63fc5"
   },
   "outputs": [
    {
     "name": "stdout",
     "output_type": "stream",
     "text": [
      "****\n",
      " ****\n",
      "  ****\n",
      "   ****\n"
     ]
    }
   ],
   "source": [
    "for i in range(1,5):\n",
    "  for j in range(1,i):\n",
    "    print(\" \",end=\"\")\n",
    "  for k in range(1,5):\n",
    "    print(\"*\",end=\"\")\n",
    "  print(\"\")"
   ]
  },
  {
   "cell_type": "code",
   "execution_count": null,
   "metadata": {
    "colab": {
     "base_uri": "https://localhost:8080/"
    },
    "id": "CbXapMTUVJhn",
    "outputId": "65a76293-7a0e-42e0-8841-37fe0fb57040"
   },
   "outputs": [
    {
     "name": "stdout",
     "output_type": "stream",
     "text": [
      "****\n",
      "*  *\n",
      "*  *\n",
      "****\n"
     ]
    }
   ],
   "source": [
    "for i in range(1,5):\n",
    "  for j in range(1,5):\n",
    "    if(i==1 or i==4 or j==1 or j==4):\n",
    "      print(\"*\",end=\"\")\n",
    "    else:\n",
    "      print(\" \",end=\"\")\n",
    "  print(\"\")"
   ]
  },
  {
   "cell_type": "code",
   "execution_count": null,
   "metadata": {
    "colab": {
     "base_uri": "https://localhost:8080/"
    },
    "id": "DAtK7C9JVpIv",
    "outputId": "20367401-f29b-41d7-eb9d-305b057457f7"
   },
   "outputs": [
    {
     "name": "stdout",
     "output_type": "stream",
     "text": [
      "A\n",
      "AB\n",
      "ABC\n",
      "ABCD\n",
      "ABCDE\n"
     ]
    }
   ],
   "source": [
    "for i in range(1,6):\n",
    "  for j in range(i):\n",
    "    print(chr(65+j),end=\"\")\n",
    "  print(\"\")"
   ]
  },
  {
   "cell_type": "code",
   "execution_count": null,
   "metadata": {
    "colab": {
     "base_uri": "https://localhost:8080/"
    },
    "id": "4zR77MbZWo6O",
    "outputId": "3c2c720a-2b1a-4153-daf5-fcbdbca77b4d"
   },
   "outputs": [
    {
     "name": "stdout",
     "output_type": "stream",
     "text": [
      "A\n",
      "BB\n",
      "CCC\n",
      "DDDD\n",
      "EEEEE\n"
     ]
    }
   ],
   "source": [
    "for i in range(0,5):\n",
    "  for j in range(i+1):\n",
    "    print(chr(65+i),end=\"\")\n",
    "  print(\"\")"
   ]
  },
  {
   "cell_type": "code",
   "execution_count": null,
   "metadata": {
    "colab": {
     "base_uri": "https://localhost:8080/"
    },
    "id": "dCMYtzdKXNio",
    "outputId": "e45bf342-74ee-4a46-be2c-f0bb13edca88"
   },
   "outputs": [
    {
     "name": "stdout",
     "output_type": "stream",
     "text": [
      "E \n",
      "E D \n",
      "E D C \n",
      "E D C B \n",
      "E D C B A \n"
     ]
    }
   ],
   "source": [
    "for i in range(5,0,-1):\n",
    "  for j in range(4,i-2,-1):\n",
    "    print(chr(65+j),end=\" \")\n",
    "  print(\"\")"
   ]
  },
  {
   "cell_type": "code",
   "execution_count": null,
   "metadata": {
    "colab": {
     "base_uri": "https://localhost:8080/"
    },
    "id": "J8_L6uUDYRjh",
    "outputId": "a70bdcb7-e9a4-4436-b4c3-6feadac78aa4"
   },
   "outputs": [
    {
     "name": "stdout",
     "output_type": "stream",
     "text": [
      "    *\n",
      "   **\n",
      "  ***\n",
      " ****\n",
      "*****\n"
     ]
    }
   ],
   "source": [
    "for i in range(1,6):\n",
    "  for j in range(i,5):\n",
    "    print(\" \",end=\"\")\n",
    "  for k in range(0,i):\n",
    "    print(\"*\",end=\"\")\n",
    "  print(\"\")"
   ]
  },
  {
   "cell_type": "code",
   "execution_count": null,
   "metadata": {
    "colab": {
     "base_uri": "https://localhost:8080/"
    },
    "id": "slgBKe8xY2UV",
    "outputId": "42982f60-f675-4508-9709-9d9cab19fa6c"
   },
   "outputs": [
    {
     "name": "stdout",
     "output_type": "stream",
     "text": [
      "    1\n",
      "   12\n",
      "  123\n",
      " 1234\n",
      "12345\n"
     ]
    }
   ],
   "source": [
    "for i in range(1,6):\n",
    "  for j in range(i,5):\n",
    "    print(\" \",end=\"\")\n",
    "  for k in range(0,i):\n",
    "    print(k+1,end=\"\")\n",
    "  print(\"\")"
   ]
  },
  {
   "cell_type": "code",
   "execution_count": null,
   "metadata": {
    "colab": {
     "base_uri": "https://localhost:8080/"
    },
    "id": "fPHPIabxZBwE",
    "outputId": "8cf584c7-52e4-4e25-c8fe-e9223b30a510"
   },
   "outputs": [
    {
     "name": "stdout",
     "output_type": "stream",
     "text": [
      "12345\n",
      " 1234\n",
      "  123\n",
      "   12\n",
      "    1\n"
     ]
    }
   ],
   "source": [
    "for i in range(1,6):\n",
    "  for j in range(1,i):\n",
    "    print(\" \",end=\"\")\n",
    "  for k in range(1,7-i):\n",
    "    print(k,end=\"\")\n",
    "  print(\"\")"
   ]
  },
  {
   "cell_type": "code",
   "execution_count": null,
   "metadata": {
    "colab": {
     "base_uri": "https://localhost:8080/"
    },
    "id": "cFmDzl86Zoca",
    "outputId": "c48bea30-9218-4ba1-bb7d-d6d22022f22f"
   },
   "outputs": [
    {
     "name": "stdout",
     "output_type": "stream",
     "text": [
      "ABCDE\n",
      " ABCD\n",
      "  ABC\n",
      "   AB\n",
      "    A\n"
     ]
    }
   ],
   "source": [
    "for i in range(1,6):\n",
    "  for j in range(1,i):\n",
    "    print(\" \",end=\"\")\n",
    "  for k in range(0,6-i):\n",
    "    print(chr(k+65),end=\"\")\n",
    "  print(\"\")"
   ]
  },
  {
   "cell_type": "code",
   "execution_count": null,
   "metadata": {
    "colab": {
     "base_uri": "https://localhost:8080/"
    },
    "id": "2u2heZyCZ4m-",
    "outputId": "ce25d80b-4715-4e50-bf6f-95c6f885ef65"
   },
   "outputs": [
    {
     "name": "stdout",
     "output_type": "stream",
     "text": [
      "    *****\n",
      "   *****\n",
      "  *****\n",
      " *****\n",
      "*****\n"
     ]
    }
   ],
   "source": [
    "for i in range(1,6):\n",
    "  for j in range(i,5):\n",
    "    print(\" \",end=\"\")\n",
    "  for k in range(1,6):\n",
    "    print(\"*\",end=\"\")\n",
    "  print(\"\")"
   ]
  },
  {
   "cell_type": "code",
   "execution_count": null,
   "metadata": {
    "colab": {
     "base_uri": "https://localhost:8080/"
    },
    "id": "ht6Kh4J9aNes",
    "outputId": "77a4db16-a418-4695-e840-ed2bb7ef5653"
   },
   "outputs": [
    {
     "name": "stdout",
     "output_type": "stream",
     "text": [
      "    1 2 3 4 5 \n",
      "   1 2 3 4 5 \n",
      "  1 2 3 4 5 \n",
      " 1 2 3 4 5 \n",
      "1 2 3 4 5 \n"
     ]
    }
   ],
   "source": [
    "for i in range(1,6):\n",
    "  for j in range(i,5):\n",
    "    print(\" \",end=\"\")\n",
    "  for k in range(1,6):\n",
    "    print(k,end=\" \")\n",
    "  print(\"\")"
   ]
  },
  {
   "cell_type": "code",
   "execution_count": null,
   "metadata": {
    "colab": {
     "base_uri": "https://localhost:8080/"
    },
    "id": "iWYX7RG2aVZ5",
    "outputId": "148da203-c8cf-4374-fe21-790025cf7ced"
   },
   "outputs": [
    {
     "name": "stdout",
     "output_type": "stream",
     "text": [
      "    A B C D E \n",
      "   A B C D E \n",
      "  A B C D E \n",
      " A B C D E \n",
      "A B C D E \n"
     ]
    }
   ],
   "source": [
    "for i in range(1,6):\n",
    "  for j in range(i,5):\n",
    "    print(\" \",end=\"\")\n",
    "  for k in range(0,5):\n",
    "    print(chr(65+k),end=\" \")\n",
    "  print(\"\")"
   ]
  },
  {
   "cell_type": "code",
   "execution_count": null,
   "metadata": {
    "colab": {
     "base_uri": "https://localhost:8080/"
    },
    "id": "6yMx2dZoaiSu",
    "outputId": "e789b32f-2779-496e-adc2-f14a295f1a3f"
   },
   "outputs": [
    {
     "name": "stdout",
     "output_type": "stream",
     "text": [
      "   *\n",
      "  ***\n",
      " *****\n",
      "*******\n"
     ]
    }
   ],
   "source": [
    "for i in range(1,5):\n",
    "  for j in range(i,4):\n",
    "    print(\" \",end=\"\")\n",
    "  for k in range(1,2*i):\n",
    "    print(\"*\",end=\"\")\n",
    "  print(\"\")"
   ]
  },
  {
   "cell_type": "code",
   "execution_count": null,
   "metadata": {
    "colab": {
     "base_uri": "https://localhost:8080/"
    },
    "id": "fTDejyc3bdgP",
    "outputId": "0e3d67b3-b49c-4b94-aeaf-391a5b6acc0c"
   },
   "outputs": [
    {
     "name": "stdout",
     "output_type": "stream",
     "text": [
      "   * \n",
      "  * * \n",
      " *   * \n",
      "* * * * \n"
     ]
    }
   ],
   "source": [
    "for i in range(1,5):\n",
    "  for j in range(i,4):\n",
    "    print(\" \",end=\"\")\n",
    "  for k in range(1,i+1):\n",
    "    if(k==1 or k==i or i==4):\n",
    "      print(\"*\",end=\" \")\n",
    "    else:\n",
    "      print(\" \",end=\" \")\n",
    "  print(\"\")"
   ]
  },
  {
   "cell_type": "code",
   "execution_count": null,
   "metadata": {
    "colab": {
     "base_uri": "https://localhost:8080/"
    },
    "id": "FWfgoAVEQ4i8",
    "outputId": "0fe1b275-774a-47b2-ab10-1af258ac2042"
   },
   "outputs": [
    {
     "name": "stdout",
     "output_type": "stream",
     "text": [
      "*******\n",
      " *****\n",
      "  ***\n",
      "   *\n"
     ]
    }
   ],
   "source": [
    "n=4\n",
    "for i in range(0,4):\n",
    "  print(\" \"*i,end=\"\")\n",
    "  print(\"*\" * (2*n-1))\n",
    "  n-=1"
   ]
  },
  {
   "cell_type": "code",
   "execution_count": null,
   "metadata": {
    "colab": {
     "base_uri": "https://localhost:8080/"
    },
    "id": "Zmg6jAvKSMkt",
    "outputId": "1039291d-d873-4cf1-99d9-1fff949f4990"
   },
   "outputs": [
    {
     "name": "stdout",
     "output_type": "stream",
     "text": [
      "*\n",
      "**\n",
      "***\n",
      "****\n",
      "***\n",
      "**\n",
      "*\n"
     ]
    }
   ],
   "source": [
    "n=4\n",
    "for i in range(1,n+1):\n",
    "  print(\"*\"*i)\n",
    "for i in range(n-1,0,-1):\n",
    "  print(\"*\"*i)"
   ]
  },
  {
   "cell_type": "code",
   "execution_count": null,
   "metadata": {
    "colab": {
     "base_uri": "https://localhost:8080/"
    },
    "id": "LbHDAGAYStv3",
    "outputId": "7f42f6f8-4d00-428f-d440-47f280f00db0"
   },
   "outputs": [
    {
     "name": "stdout",
     "output_type": "stream",
     "text": [
      "   *\n",
      "  **\n",
      " ***\n",
      "****\n",
      " ***\n",
      "  **\n",
      "   *\n"
     ]
    }
   ],
   "source": [
    "n=4\n",
    "for i in range(1,n+1):\n",
    "  print(\" \"*(n-i),end=\"\")\n",
    "  print(\"*\"*i)\n",
    "for i in range(1,n):\n",
    "  print(\" \"*i,end=\"\")\n",
    "  print(\"*\"*(n-i))"
   ]
  },
  {
   "cell_type": "code",
   "execution_count": null,
   "metadata": {
    "colab": {
     "base_uri": "https://localhost:8080/"
    },
    "id": "2UnVMbdJTrp3",
    "outputId": "4cace86d-302d-4801-e0b5-3fc09cfdbb98"
   },
   "outputs": [
    {
     "name": "stdout",
     "output_type": "stream",
     "text": [
      "   *\n",
      "  ***\n",
      " *****\n",
      "*******\n",
      " *****\n",
      "  ***\n",
      "   *\n"
     ]
    }
   ],
   "source": [
    "n=4\n",
    "for i in range(1,n+1):\n",
    "  print(\" \"*(n-i),end=\"\")\n",
    "  print(\"*\"*(2*i-1))\n",
    "for i in range(1,n):\n",
    "  print(\" \"*i,end=\"\")\n",
    "  print(\"*\"*(2*(n-i)-1))"
   ]
  },
  {
   "cell_type": "code",
   "execution_count": null,
   "metadata": {
    "colab": {
     "base_uri": "https://localhost:8080/"
    },
    "id": "f3rJpAmqUy7g",
    "outputId": "4cb87336-bcac-4c13-8b19-3fe563f00d98"
   },
   "outputs": [
    {
     "name": "stdout",
     "output_type": "stream",
     "text": [
      "1 \n",
      "1 2 \n",
      "1 2 3 \n",
      "1 2 3 4 \n",
      "1 2 3 4 5 \n"
     ]
    }
   ],
   "source": [
    "for i in range(1,6):\n",
    "  for j in range(1,i+1):\n",
    "    print(j,end=\" \")\n",
    "  print(\"\")"
   ]
  },
  {
   "cell_type": "code",
   "execution_count": null,
   "metadata": {
    "colab": {
     "base_uri": "https://localhost:8080/"
    },
    "id": "3QUzrmJiWj5W",
    "outputId": "9de8edb3-128f-437b-eb9b-6ac49082912d"
   },
   "outputs": [
    {
     "name": "stdout",
     "output_type": "stream",
     "text": [
      "1 2 3 4 5 \n",
      "1 2 3 4 \n",
      "1 2 3 \n",
      "1 2 \n",
      "1 \n"
     ]
    }
   ],
   "source": [
    "for i in range(1,6):\n",
    "  for j in range(1,7-i):\n",
    "    print(j,end=\" \")\n",
    "  print(\"\")"
   ]
  },
  {
   "cell_type": "code",
   "execution_count": null,
   "metadata": {
    "colab": {
     "base_uri": "https://localhost:8080/"
    },
    "id": "2z7xB3ThXKK0",
    "outputId": "2c411190-87cb-4163-c7cc-f1020876f82d"
   },
   "outputs": [
    {
     "name": "stdout",
     "output_type": "stream",
     "text": [
      "1 \n",
      "1 2 \n",
      "1   3 \n",
      "1     4 \n",
      "1 2 3 4 5 \n"
     ]
    }
   ],
   "source": [
    "for i in range(1,6):\n",
    "  for j in range(1,i+1):\n",
    "    if(j==1 or i==5 or i==j):\n",
    "      print(j,end=\" \")\n",
    "    else:\n",
    "      print(\" \",end=\" \")\n",
    "  print(\"\")\n"
   ]
  }
 ],
 "metadata": {
  "colab": {
   "authorship_tag": "ABX9TyNhLvvk9t3pA4lb8AGsqTu/",
   "include_colab_link": true,
   "provenance": []
  },
  "kernelspec": {
   "display_name": "Python 3 (ipykernel)",
   "language": "python",
   "name": "python3"
  },
  "language_info": {
   "codemirror_mode": {
    "name": "ipython",
    "version": 3
   },
   "file_extension": ".py",
   "mimetype": "text/x-python",
   "name": "python",
   "nbconvert_exporter": "python",
   "pygments_lexer": "ipython3",
   "version": "3.12.7"
  }
 },
 "nbformat": 4,
 "nbformat_minor": 4
}
