{
 "cells": [
  {
   "cell_type": "code",
   "execution_count": 1,
   "id": "b7cd6e0b-6931-4f05-ba9c-2c7750edb46d",
   "metadata": {},
   "outputs": [],
   "source": [
    "\n",
    "# DICTIONARY"
   ]
  },
  {
   "cell_type": "code",
   "execution_count": 5,
   "id": "f8d8f8e3-48b0-4914-b9b2-73fac0397a07",
   "metadata": {},
   "outputs": [
    {
     "name": "stdout",
     "output_type": "stream",
     "text": [
      "10\n",
      "20\n"
     ]
    }
   ],
   "source": [
    "# TO print the keys by using loop in dictionary\n",
    "\n",
    "mydictionary={10:\"harsh\",20:\"shivali\"}\n",
    "\n",
    "for i in mydictionary:\n",
    "    print(i)"
   ]
  },
  {
   "cell_type": "code",
   "execution_count": 9,
   "id": "dda214c9-3cd0-49e8-992a-12fe03c7ef62",
   "metadata": {},
   "outputs": [
    {
     "name": "stdout",
     "output_type": "stream",
     "text": [
      "10\n",
      "20\n"
     ]
    }
   ],
   "source": [
    "# another way to print the keys(by using .keys function)\n",
    "\n",
    "for i in mydictionary.keys():\n",
    "    print(i)"
   ]
  },
  {
   "cell_type": "code",
   "execution_count": 11,
   "id": "bfb9f2c9-8b0b-4973-ae29-e93c1b168b5d",
   "metadata": {},
   "outputs": [
    {
     "name": "stdout",
     "output_type": "stream",
     "text": [
      "10 harsh\n",
      "20 harsh\n"
     ]
    }
   ],
   "source": [
    "mydictionary={10:\"harsh\",20:\"shivali\"}\n",
    "\n",
    "for i in mydictionary:\n",
    "    print(i, mydictionary[10])"
   ]
  },
  {
   "cell_type": "code",
   "execution_count": 15,
   "id": "a9cc9683-77f4-4282-a953-0d316da3d6f2",
   "metadata": {},
   "outputs": [
    {
     "name": "stdout",
     "output_type": "stream",
     "text": [
      "10 harsh\n",
      "20 shivali\n"
     ]
    }
   ],
   "source": [
    "mydictionary={10:\"harsh\",20:\"shivali\"}\n",
    "\n",
    "for i in mydictionary:\n",
    "    print(i, mydictionary[i])"
   ]
  },
  {
   "cell_type": "code",
   "execution_count": 19,
   "id": "20c154c2-d925-496c-86c9-962f640b5ff4",
   "metadata": {},
   "outputs": [
    {
     "name": "stdout",
     "output_type": "stream",
     "text": [
      "harsh\n",
      "shivali\n"
     ]
    }
   ],
   "source": [
    "# to access the values (we use value function)\n",
    "\n",
    "for i in mydictionary.values():\n",
    "    print(i)"
   ]
  },
  {
   "cell_type": "code",
   "execution_count": 35,
   "id": "872c0e27-83b7-483f-b535-0dc6352742be",
   "metadata": {},
   "outputs": [
    {
     "name": "stdout",
     "output_type": "stream",
     "text": [
      "harsh\n",
      "shivali\n"
     ]
    }
   ],
   "source": [
    "for i in mydictionary.values():\n",
    "    print(i)"
   ]
  },
  {
   "cell_type": "code",
   "execution_count": 39,
   "id": "2da27de6-a1db-4f62-9dc9-d18ea02fa2d9",
   "metadata": {},
   "outputs": [
    {
     "data": {
      "text/plain": [
       "dict_items([(10, 'harsh'), (20, 'shivali')])"
      ]
     },
     "execution_count": 39,
     "metadata": {},
     "output_type": "execute_result"
    }
   ],
   "source": [
    "# it will give you the list (give tuple in the list)\n",
    "\n",
    "mydictionary.items()"
   ]
  },
  {
   "cell_type": "code",
   "execution_count": 43,
   "id": "1cdd4603-6c59-43f1-93b1-3c2c24378303",
   "metadata": {},
   "outputs": [
    {
     "name": "stdout",
     "output_type": "stream",
     "text": [
      "40\n",
      "10\n",
      "a\n",
      "20\n",
      "30\n"
     ]
    }
   ],
   "source": [
    "# sets are unorderd\n",
    "\n",
    "for x in {10,20,30,\"a\",40}:\n",
    "    print(x)"
   ]
  },
  {
   "cell_type": "code",
   "execution_count": 45,
   "id": "0cf94e45-ae1a-45a3-9867-2f62b34240ab",
   "metadata": {},
   "outputs": [],
   "source": [
    "# valid paranthesis (imp topic)\n",
    "# Given a string s containing just the characters '(', ')', '{', '}', '[' and ']', determine if the input string is valid.\n",
    "# 1.Open brackets must be closed by the same type of brackets.\n",
    "# 2.Open brackets must be closed in the correct order.\n",
    "# 3.Every close bracket has a corresponding open bracket of the same type."
   ]
  },
  {
   "cell_type": "code",
   "execution_count": 49,
   "id": "7cceb7ef-8539-44ea-9d44-eece03869b92",
   "metadata": {},
   "outputs": [
    {
     "name": "stdout",
     "output_type": "stream",
     "text": [
      "(\n",
      ")\n"
     ]
    }
   ],
   "source": [
    " data=\"()\"\n",
    "for char in data:\n",
    "    print(char)"
   ]
  },
  {
   "cell_type": "code",
   "execution_count": 53,
   "id": "367cdbb0-22fe-4dda-b2d5-72b5d2da0bad",
   "metadata": {},
   "outputs": [
    {
     "name": "stdout",
     "output_type": "stream",
     "text": [
      "(\n"
     ]
    }
   ],
   "source": [
    " data=\"()\"\n",
    "for char in data:\n",
    "    if char==\"(\":\n",
    "        print(char)"
   ]
  },
  {
   "cell_type": "code",
   "execution_count": 61,
   "id": "7a91aaa7-e42b-48b2-8367-9eb7a11b2804",
   "metadata": {},
   "outputs": [
    {
     "name": "stdout",
     "output_type": "stream",
     "text": [
      "['(', '{']\n"
     ]
    }
   ],
   "source": [
    "data=\"() {}\"\n",
    "mylist=[]\n",
    "for char in data:\n",
    "    if char==\"(\" or char==\"{\":\n",
    "        mylist.append(char)\n",
    "\n",
    "print(mylist)"
   ]
  },
  {
   "cell_type": "code",
   "execution_count": 67,
   "id": "fea62a82-c54a-405a-a27b-0703bf7d06fa",
   "metadata": {},
   "outputs": [
    {
     "name": "stdout",
     "output_type": "stream",
     "text": [
      "valid string\n",
      "['(', '{']\n"
     ]
    }
   ],
   "source": [
    "data=\"() {}\"\n",
    "mylist=[]\n",
    "for char in data:\n",
    "    if char==\"(\" or char==\"{\":\n",
    "        mylist.append(char)\n",
    "\n",
    "    else:\n",
    "        if char==\")\" and \"(\"==mylist[-1]:\n",
    "            print(\"valid string\")\n",
    "\n",
    "print(mylist)"
   ]
  },
  {
   "cell_type": "code",
   "execution_count": null,
   "id": "e537a49f-afb7-4bad-85b4-cf6fce7c92c8",
   "metadata": {},
   "outputs": [],
   "source": []
  }
 ],
 "metadata": {
  "kernelspec": {
   "display_name": "Python [conda env:base] *",
   "language": "python",
   "name": "conda-base-py"
  },
  "language_info": {
   "codemirror_mode": {
    "name": "ipython",
    "version": 3
   },
   "file_extension": ".py",
   "mimetype": "text/x-python",
   "name": "python",
   "nbconvert_exporter": "python",
   "pygments_lexer": "ipython3",
   "version": "3.12.7"
  }
 },
 "nbformat": 4,
 "nbformat_minor": 5
}
