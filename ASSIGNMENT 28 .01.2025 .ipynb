{
 "cells": [
  {
   "cell_type": "code",
   "execution_count": 5,
   "id": "7e5d69b5-d1ed-45e9-b4fe-638bff783042",
   "metadata": {},
   "outputs": [
    {
     "name": "stdout",
     "output_type": "stream",
     "text": [
      "\n",
      "2 4 6 8 10 12 14 16 18 20 \n",
      "3 6 9 12 15 18 21 24 27 30 \n",
      "4 8 12 16 20 24 28 32 36 40 \n",
      "5 10 15 20 25 30 35 40 45 50 "
     ]
    }
   ],
   "source": [
    "# 1.Take a number from 2 to 5 and print its table.\n",
    "\n",
    "for i in range(2,6):\n",
    "    print()\n",
    "    for j in range(1,11):\n",
    "        print(i*j, end=\" \")"
   ]
  },
  {
   "cell_type": "code",
   "execution_count": 9,
   "id": "e71203d8-4af9-447a-9263-0692df8f2a83",
   "metadata": {},
   "outputs": [
    {
     "name": "stdout",
     "output_type": "stream",
     "text": [
      "\n",
      "6 12 18 24 30 36 42 48 54 60 \n",
      "5 10 15 20 25 30 35 40 45 50 \n",
      "4 8 12 16 20 24 28 32 36 40 \n",
      "3 6 9 12 15 18 21 24 27 30 \n",
      "2 4 6 8 10 12 14 16 18 20 "
     ]
    }
   ],
   "source": [
    "# 2.Take a number from 6 to 2 and print its table.\n",
    "\n",
    "for i in range(6,1,-1):\n",
    "    print()\n",
    "    for j in range(1,11):\n",
    "        print(i*j , end=\" \")"
   ]
  },
  {
   "cell_type": "code",
   "execution_count": 13,
   "id": "e2084874-a6a1-49aa-b7ef-ee6143404a1a",
   "metadata": {},
   "outputs": [
    {
     "name": "stdout",
     "output_type": "stream",
     "text": [
      "\n",
      "60 54 48 42 36 30 24 18 12 6 \n",
      "50 45 40 35 30 25 20 15 10 5 \n",
      "40 36 32 28 24 20 16 12 8 4 \n",
      "30 27 24 21 18 15 12 9 6 3 \n",
      "20 18 16 14 12 10 8 6 4 2 "
     ]
    }
   ],
   "source": [
    "# 3.Take a number 6 to 2 and print its table.(in reverse)\n",
    "for i in range(6,1,-1):\n",
    "    print()\n",
    "    for j in range(10,0,-1):\n",
    "        print(i*j, end=\" \")"
   ]
  },
  {
   "cell_type": "code",
   "execution_count": 45,
   "id": "5bff8f14-593a-41a8-9063-3e83362b701d",
   "metadata": {},
   "outputs": [
    {
     "name": "stdin",
     "output_type": "stream",
     "text": [
      "enter any number 4\n"
     ]
    },
    {
     "name": "stdout",
     "output_type": "stream",
     "text": [
      "prime\n"
     ]
    }
   ],
   "source": [
    "# 4.Check a number is a prime number or not.\n",
    "num=int(input(\"enter any number\"))\n",
    "x=0\n",
    "for i in range(2,num):\n",
    "    if i % num ==0 :\n",
    "        x+=1\n",
    "        break\n",
    "if x == 1:\n",
    "    print(\"not prime\")\n",
    "else:\n",
    "    print(\"prime\")\n",
    "   "
   ]
  },
  {
   "cell_type": "code",
   "execution_count": 37,
   "id": "d1f7c44c-692c-4f50-a000-470a1d8e865a",
   "metadata": {},
   "outputs": [
    {
     "name": "stdout",
     "output_type": "stream",
     "text": [
      "prime 2\n",
      "prime 3\n",
      "prime 5\n",
      "prime 7\n",
      "prime 11\n",
      "prime 13\n",
      "prime 17\n",
      "prime 19\n"
     ]
    }
   ],
   "source": [
    "# 5. Take a range of values from 2 to 19 and print all prime numbers.\n",
    "\n",
    "for num in range(2,20):\n",
    "    x=0\n",
    "    for i in range(2,num):\n",
    "        if num % i ==0:\n",
    "            x+=1\n",
    "            break\n",
    "   \n",
    "    else:\n",
    "        print(\"prime\",num)    "
   ]
  },
  {
   "cell_type": "code",
   "execution_count": 55,
   "id": "27bdf02f-4857-495e-a5b0-817e0a2bc60b",
   "metadata": {},
   "outputs": [
    {
     "name": "stdout",
     "output_type": "stream",
     "text": [
      "* * * * \n",
      "* * * \n",
      "* * \n",
      "* \n"
     ]
    }
   ],
   "source": [
    "# 6. pattern\n",
    "\n",
    "for i in range(1,5):\n",
    "    for j in range(i,5):\n",
    "        print(\"*\",end=\" \")\n",
    "    print()"
   ]
  },
  {
   "cell_type": "code",
   "execution_count": 73,
   "id": "3f569b5f-87e2-4b95-a3da-3b8f6bed41a1",
   "metadata": {},
   "outputs": [
    {
     "name": "stdout",
     "output_type": "stream",
     "text": [
      "$ $ $ * \n",
      "$ $ * * \n",
      "$ * * * \n",
      "* * * * \n"
     ]
    }
   ],
   "source": [
    "# 7.\n",
    "\n",
    "for i in range(1,5):\n",
    "    for j in range(i,4):\n",
    "        print(\"$\",end=\" \")\n",
    "    for k in range(1,i+1):\n",
    "        print(\"*\",end= \" \")\n",
    "    print()"
   ]
  },
  {
   "cell_type": "code",
   "execution_count": null,
   "id": "9d5bc17a-7f44-4ad1-970e-c4e1cb522867",
   "metadata": {},
   "outputs": [],
   "source": []
  }
 ],
 "metadata": {
  "kernelspec": {
   "display_name": "Python 3 (ipykernel)",
   "language": "python",
   "name": "python3"
  },
  "language_info": {
   "codemirror_mode": {
    "name": "ipython",
    "version": 3
   },
   "file_extension": ".py",
   "mimetype": "text/x-python",
   "name": "python",
   "nbconvert_exporter": "python",
   "pygments_lexer": "ipython3",
   "version": "3.12.7"
  }
 },
 "nbformat": 4,
 "nbformat_minor": 5
}
