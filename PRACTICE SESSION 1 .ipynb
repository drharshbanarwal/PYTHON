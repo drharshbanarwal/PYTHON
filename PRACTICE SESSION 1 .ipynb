{
 "cells": [
  {
   "cell_type": "code",
   "execution_count": 2,
   "id": "b7cd056c-cd7f-49c3-b9af-425772bf83d1",
   "metadata": {},
   "outputs": [],
   "source": [
    "# PYTHON REVISION SESSIONS 1."
   ]
  },
  {
   "cell_type": "code",
   "execution_count": 8,
   "id": "c26cbac0-9be5-487e-8322-97075c65e5b3",
   "metadata": {},
   "outputs": [
    {
     "name": "stdout",
     "output_type": "stream",
     "text": [
      "1\n",
      "2\n",
      "3\n",
      "4\n"
     ]
    }
   ],
   "source": [
    "for i in range(1,5):\n",
    "    print(i)"
   ]
  },
  {
   "cell_type": "code",
   "execution_count": 18,
   "id": "69a3dbeb-767f-4de4-97da-c8f67abc5fdc",
   "metadata": {},
   "outputs": [
    {
     "name": "stdout",
     "output_type": "stream",
     "text": [
      "1 value of i is: 2\n",
      "2 value of i is: 3\n",
      "1 value of i is: 4\n"
     ]
    }
   ],
   "source": [
    "num=5\n",
    "for i in range(2,5):\n",
    "    print(num%i,\"value of i is:\",i)"
   ]
  },
  {
   "cell_type": "code",
   "execution_count": 22,
   "id": "278cd082-e524-4373-b4dc-af5109397216",
   "metadata": {},
   "outputs": [
    {
     "name": "stdout",
     "output_type": "stream",
     "text": [
      "2\n",
      "4\n"
     ]
    }
   ],
   "source": [
    "num=8\n",
    "for i in range(2,num):\n",
    "    if(num%i==0):\n",
    "        print(i)"
   ]
  },
  {
   "cell_type": "code",
   "execution_count": 24,
   "id": "9212cf36-d25f-48a6-9f3a-d748b7ac1baf",
   "metadata": {},
   "outputs": [],
   "source": [
    "# nasted loop"
   ]
  },
  {
   "cell_type": "code",
   "execution_count": 26,
   "id": "0f95ce78-0e7a-4620-9212-05d9d6632086",
   "metadata": {},
   "outputs": [
    {
     "name": "stdout",
     "output_type": "stream",
     "text": [
      "abc\n",
      "1 1\n",
      "1 2\n",
      "abc\n",
      "2 1\n",
      "2 2\n",
      "abc\n",
      "3 1\n",
      "3 2\n",
      "abc\n",
      "4 1\n",
      "4 2\n"
     ]
    }
   ],
   "source": [
    "num=8\n",
    "for i in range(1,5):\n",
    "    print(\"abc\")\n",
    "    for j in range(1,3):\n",
    "        print(i,j)"
   ]
  },
  {
   "cell_type": "code",
   "execution_count": 32,
   "id": "f3498dc0-a6be-4391-9a1c-b052502ad6ed",
   "metadata": {},
   "outputs": [
    {
     "name": "stdout",
     "output_type": "stream",
     "text": [
      "1 1\n",
      "1 2\n",
      "1 3\n",
      "1 4\n",
      "1 5\n",
      "1 6\n",
      "1 7\n",
      "1 8\n",
      "1 9\n",
      "1 10\n"
     ]
    }
   ],
   "source": [
    "for i in range(1,2):\n",
    "    for j in range(1,11):\n",
    "        print(i,i*j)"
   ]
  },
  {
   "cell_type": "code",
   "execution_count": 34,
   "id": "279fa295-2aa7-4885-a253-2ce004be15a7",
   "metadata": {},
   "outputs": [
    {
     "name": "stdout",
     "output_type": "stream",
     "text": [
      "1 1 10\n",
      "1 2 11\n",
      "2 1 10\n",
      "2 2 11\n"
     ]
    }
   ],
   "source": [
    "for i in range(1,3):\n",
    "    x=10\n",
    "    for j in range(1,3):\n",
    "        print(i,j,x)\n",
    "        x+=1"
   ]
  },
  {
   "cell_type": "code",
   "execution_count": 36,
   "id": "9f3fa6df-833b-4993-baa7-3696937bb927",
   "metadata": {},
   "outputs": [
    {
     "name": "stdout",
     "output_type": "stream",
     "text": [
      "1 2 10\n",
      "1 3 11\n",
      "2 2 10\n",
      "2 3 11\n"
     ]
    }
   ],
   "source": [
    "for i in range(1,3):\n",
    "    x=10\n",
    "    for j in range(2,4):\n",
    "        print(i,j,x)\n",
    "        x+=1"
   ]
  },
  {
   "cell_type": "code",
   "execution_count": 38,
   "id": "772aa2a2-3b8c-4b9f-8ca0-958febeaa19e",
   "metadata": {},
   "outputs": [
    {
     "name": "stdout",
     "output_type": "stream",
     "text": [
      "1 2 10\n",
      "1 3 11\n",
      "2 2 12\n",
      "2 3 13\n"
     ]
    }
   ],
   "source": [
    "x=10\n",
    "for i in range(1,3):\n",
    "    \n",
    "    for j in range(2,4):\n",
    "        print(i,j,x)\n",
    "        x+=1"
   ]
  },
  {
   "cell_type": "code",
   "execution_count": 40,
   "id": "3e53d483-962a-4860-8a49-b3da82d281f4",
   "metadata": {},
   "outputs": [],
   "source": [
    "# patterns :"
   ]
  },
  {
   "cell_type": "code",
   "execution_count": 42,
   "id": "79270838-5864-4b6a-b458-e4d9b4674291",
   "metadata": {},
   "outputs": [
    {
     "name": "stdout",
     "output_type": "stream",
     "text": [
      "* * * * \n",
      "* * * * \n",
      "* * * * \n",
      "* * * * \n"
     ]
    }
   ],
   "source": [
    "for i in range(1,5):\n",
    "    for j in range(1,5):\n",
    "        print(\"*\",end=\" \")\n",
    "\n",
    "    print()"
   ]
  },
  {
   "cell_type": "code",
   "execution_count": 44,
   "id": "86662359-c8a7-46d7-86a1-317dc0ebca4c",
   "metadata": {},
   "outputs": [
    {
     "name": "stdout",
     "output_type": "stream",
     "text": [
      "* * * * * * * * \n",
      "* * * * * * * * \n",
      "* * * * * * * * \n",
      "* * * * * * * * \n",
      "* * * * * * * * \n",
      "* * * * * * * * \n",
      "* * * * * * * * \n",
      "* * * * * * * * \n"
     ]
    }
   ],
   "source": [
    "num=8\n",
    "for i in range(1,num+1):\n",
    "    for j in range(1,num+1):\n",
    "        print(\"*\",end=\" \")\n",
    "\n",
    "    print()"
   ]
  },
  {
   "cell_type": "code",
   "execution_count": 46,
   "id": "93d5934a-d5fb-4adf-8986-fc896a3031be",
   "metadata": {},
   "outputs": [
    {
     "name": "stdout",
     "output_type": "stream",
     "text": [
      "1 2 3 4 \n",
      "1 2 3 4 \n",
      "1 2 3 4 \n"
     ]
    }
   ],
   "source": [
    "for i in range(1,4):\n",
    "    for j in range(1,5):\n",
    "        print(j,end=\" \")\n",
    "\n",
    "    print()"
   ]
  },
  {
   "cell_type": "code",
   "execution_count": 48,
   "id": "7357f032-5216-4620-8e00-30fff25707f9",
   "metadata": {},
   "outputs": [
    {
     "name": "stdout",
     "output_type": "stream",
     "text": [
      "1 2 3 \n",
      "1 2 3 \n",
      "1 2 3 \n",
      "1 2 3 \n"
     ]
    }
   ],
   "source": [
    "for i in range(1,5):\n",
    "    for j in range(1,4):\n",
    "        print(j,end=\" \")\n",
    "\n",
    "    print()"
   ]
  },
  {
   "cell_type": "code",
   "execution_count": 50,
   "id": "a3a984f0-0940-4109-98e7-114a3ef08f92",
   "metadata": {},
   "outputs": [
    {
     "name": "stdout",
     "output_type": "stream",
     "text": [
      "2 3 4 5 \n",
      "2 3 4 5 \n"
     ]
    }
   ],
   "source": [
    "for i in range(1,3):\n",
    "    for j in range(2,6):\n",
    "        print(j,end=\" \")\n",
    "\n",
    "    print()"
   ]
  },
  {
   "cell_type": "code",
   "execution_count": 52,
   "id": "ecbcd6ed-6628-4f93-b803-3172f86f22ee",
   "metadata": {},
   "outputs": [
    {
     "name": "stdout",
     "output_type": "stream",
     "text": [
      "1 2 3 4 \n",
      "5 6 7 8 \n",
      "9 10 11 12 \n"
     ]
    }
   ],
   "source": [
    "num=3\n",
    "x=1\n",
    "for i in range(1,num+1):\n",
    "    for j in range(1,5):\n",
    "        print(x,end=\" \")\n",
    "        x+=1\n",
    "\n",
    "    print()"
   ]
  },
  {
   "cell_type": "code",
   "execution_count": 56,
   "id": "2d117bc4-d000-43f8-8fcb-3c02327776b4",
   "metadata": {},
   "outputs": [
    {
     "name": "stdout",
     "output_type": "stream",
     "text": [
      "4 3 2 1 \n",
      "4 3 2 1 \n",
      "4 3 2 1 \n",
      "4 3 2 1 \n"
     ]
    }
   ],
   "source": [
    "num=4\n",
    "for i in range(1,num+1):\n",
    "    x=4\n",
    "    for j in range(1,5):\n",
    "        print(x,end=\" \")\n",
    "        x-=1\n",
    "\n",
    "    print()"
   ]
  },
  {
   "cell_type": "code",
   "execution_count": 60,
   "id": "aa2ba9e6-d449-4c62-843a-adf03f52fde4",
   "metadata": {},
   "outputs": [
    {
     "name": "stdout",
     "output_type": "stream",
     "text": [
      "* \n",
      "* * \n",
      "* * * \n",
      "* * * * \n"
     ]
    }
   ],
   "source": [
    "num=4\n",
    "for i in range(1,num+1):\n",
    "    for j in range(1,i+1):\n",
    "        print(\"*\",end=\" \")\n",
    "\n",
    "    print()"
   ]
  },
  {
   "cell_type": "code",
   "execution_count": 1,
   "id": "900e5967-b69c-42f7-89d6-aedb042865de",
   "metadata": {},
   "outputs": [
    {
     "name": "stdout",
     "output_type": "stream",
     "text": [
      "* \n",
      "* * \n",
      "* * * \n",
      "* * * * \n"
     ]
    }
   ],
   "source": [
    "num=4\n",
    "for i in range(num,0,-1):\n",
    "    for j in range(num,i-1,-1):\n",
    "        print(\"*\",end=\" \")\n",
    "\n",
    "    print()\n"
   ]
  },
  {
   "cell_type": "code",
   "execution_count": 3,
   "id": "7d395b65-ad6a-4962-8602-4c7de17c7099",
   "metadata": {},
   "outputs": [
    {
     "name": "stdout",
     "output_type": "stream",
     "text": [
      "* * * * \n",
      "* * * \n",
      "* * \n",
      "* \n"
     ]
    }
   ],
   "source": [
    "for i in range(1,5):\n",
    "    for j in range(i,5):\n",
    "        print(\"*\",end=\" \")\n",
    "\n",
    "    print()"
   ]
  },
  {
   "cell_type": "code",
   "execution_count": 13,
   "id": "f8c1083b-72f4-43e0-8350-e6525408be4b",
   "metadata": {},
   "outputs": [
    {
     "name": "stdout",
     "output_type": "stream",
     "text": [
      "* * * * \n",
      "* * * \n",
      "* * \n",
      "* \n"
     ]
    }
   ],
   "source": [
    "num=4\n",
    "for i in range(1,5):\n",
    "    for j in range(1,num-i+2):\n",
    "        print(\"*\",end=\" \")\n",
    "\n",
    "    print()"
   ]
  },
  {
   "cell_type": "code",
   "execution_count": 19,
   "id": "1634f33c-67a9-47fa-9a88-eece39f8192e",
   "metadata": {},
   "outputs": [
    {
     "name": "stdout",
     "output_type": "stream",
     "text": [
      "1 \n",
      "1 2 \n",
      "1 2 3 \n"
     ]
    }
   ],
   "source": [
    "for i in range(1,4):\n",
    "    for j in range(1,i+1):\n",
    "        print(j,end=\" \")\n",
    "\n",
    "    print()"
   ]
  },
  {
   "cell_type": "code",
   "execution_count": 29,
   "id": "93dc8e07-9741-4739-9526-c3a943707ac8",
   "metadata": {},
   "outputs": [
    {
     "name": "stdout",
     "output_type": "stream",
     "text": [
      "4 \n",
      "4 3 \n",
      "4 3 2 \n"
     ]
    }
   ],
   "source": [
    "for i in range(1,4):\n",
    "    x=4\n",
    "    for j in range(1,i+1):\n",
    "        print(x,end=\" \")\n",
    "        x-=1\n",
    "\n",
    "    print()"
   ]
  },
  {
   "cell_type": "code",
   "execution_count": 31,
   "id": "7eca4b3a-c20d-43e6-a85b-c17ea1825263",
   "metadata": {},
   "outputs": [
    {
     "name": "stdout",
     "output_type": "stream",
     "text": [
      "1 \n",
      "2 3 \n",
      "4 5 6 \n"
     ]
    }
   ],
   "source": [
    "x=1\n",
    "for i in range(1,4):\n",
    "    \n",
    "    for j in range(1,i+1):\n",
    "        print(x,end=\" \")\n",
    "        x+=1\n",
    "\n",
    "    print()"
   ]
  },
  {
   "cell_type": "code",
   "execution_count": 35,
   "id": "06ff0fd5-50de-4ff7-abaf-dfe7fb6448f2",
   "metadata": {},
   "outputs": [
    {
     "name": "stdout",
     "output_type": "stream",
     "text": [
      "6 \n",
      "5 4 \n",
      "3 2 1 \n"
     ]
    }
   ],
   "source": [
    "x=6\n",
    "for i in range(1,4):\n",
    "    for j in range(1,i+1):\n",
    "        print(x,end=\" \")\n",
    "        x-=1\n",
    "\n",
    "    print()"
   ]
  },
  {
   "cell_type": "code",
   "execution_count": 51,
   "id": "efe7a8fa-202c-4b0d-a170-e505b1559359",
   "metadata": {},
   "outputs": [
    {
     "name": "stdout",
     "output_type": "stream",
     "text": [
      "- - - * \n",
      "- - * * \n",
      "- * * * \n",
      "* * * * \n"
     ]
    }
   ],
   "source": [
    "\n",
    "for i in range(1,5):\n",
    "    for j in range(i,4):\n",
    "        print(\"-\",end=\" \")\n",
    "\n",
    "    for k in range(1,i+1):\n",
    "        print(\"*\",end=\" \")\n",
    "\n",
    "    print()"
   ]
  },
  {
   "cell_type": "code",
   "execution_count": 49,
   "id": "09c9d9b8-9912-43ef-a59e-7013b9f845ff",
   "metadata": {},
   "outputs": [
    {
     "name": "stdout",
     "output_type": "stream",
     "text": [
      "- - - \n",
      "- - \n",
      "- \n"
     ]
    }
   ],
   "source": [
    "for i in range(1,4):\n",
    "    for j in range(i,4):\n",
    "        print(\"-\",end=\" \")\n",
    "\n",
    "    print()"
   ]
  },
  {
   "cell_type": "code",
   "execution_count": 53,
   "id": "852c0488-d7d8-4b68-a172-2e3e1109c14d",
   "metadata": {},
   "outputs": [
    {
     "name": "stdout",
     "output_type": "stream",
     "text": [
      "* * * * * \n",
      "- * * * * \n",
      "- - * * * \n",
      "- - - * * \n",
      "- - - - * \n"
     ]
    }
   ],
   "source": [
    "for i in range(1,6):\n",
    "    for j in range(1,i):\n",
    "        print(\"-\",end=\" \")\n",
    "\n",
    "    for k in range(i,6):\n",
    "        print(\"*\",end=\" \")\n",
    "\n",
    "    print()"
   ]
  },
  {
   "cell_type": "code",
   "execution_count": 55,
   "id": "1751c148-f7ce-48be-87a3-33d57dac7eae",
   "metadata": {},
   "outputs": [
    {
     "name": "stdout",
     "output_type": "stream",
     "text": [
      "* * * * * \n",
      "- *     * \n",
      "- - *   * \n",
      "- - - * * \n",
      "- - - - * \n"
     ]
    }
   ],
   "source": [
    "for i in range(1,6):\n",
    "    for j in range(1,i):\n",
    "        print(\"-\",end=\" \")\n",
    "\n",
    "    for k in range(i,6):\n",
    "        if(i==1 or i==k or k==5):\n",
    "            print(\"*\",end=\" \")\n",
    "        else:\n",
    "            print(\" \",end=\" \")\n",
    "\n",
    "    print()"
   ]
  },
  {
   "cell_type": "code",
   "execution_count": null,
   "id": "db18e3cf-dae7-44f0-883b-8a360ac48444",
   "metadata": {},
   "outputs": [],
   "source": []
  },
  {
   "cell_type": "code",
   "execution_count": null,
   "id": "62eadbba-f7d4-4e9c-9328-11d12ec24cac",
   "metadata": {},
   "outputs": [],
   "source": []
  }
 ],
 "metadata": {
  "kernelspec": {
   "display_name": "Python [conda env:base] *",
   "language": "python",
   "name": "conda-base-py"
  },
  "language_info": {
   "codemirror_mode": {
    "name": "ipython",
    "version": 3
   },
   "file_extension": ".py",
   "mimetype": "text/x-python",
   "name": "python",
   "nbconvert_exporter": "python",
   "pygments_lexer": "ipython3",
   "version": "3.12.7"
  }
 },
 "nbformat": 4,
 "nbformat_minor": 5
}
