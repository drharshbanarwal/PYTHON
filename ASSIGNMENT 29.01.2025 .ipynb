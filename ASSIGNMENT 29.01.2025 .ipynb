{
 "cells": [
  {
   "cell_type": "code",
   "execution_count": null,
   "id": "f97481aa-e38b-4f7d-80e4-71392426b6dc",
   "metadata": {},
   "outputs": [],
   "source": []
  },
  {
   "cell_type": "code",
   "execution_count": 11,
   "id": "de6c5c50-3356-4f73-9a57-591969e619b3",
   "metadata": {},
   "outputs": [
    {
     "name": "stdin",
     "output_type": "stream",
     "text": [
      "enter number to check 1221\n"
     ]
    },
    {
     "name": "stdout",
     "output_type": "stream",
     "text": [
      "Palindrome\n"
     ]
    }
   ],
   "source": [
    "# 1. To check whether a number is palindrome or not.\n",
    "num =int(input (\"enter number to check\"))\n",
    "temp=num\n",
    "sum1=0\n",
    "while num>0:\n",
    "    a=num%10 \n",
    "    sum1=sum1*10+a\n",
    "    num=num//10 \n",
    "if temp==sum1: \n",
    "    print(\"Palindrome\")\n",
    "else:\n",
    "    print(\"not Palindrome\")"
   ]
  },
  {
   "cell_type": "code",
   "execution_count": 1,
   "id": "f5ddf0a7-59b2-446b-b59d-00cf6bbd7eeb",
   "metadata": {},
   "outputs": [
    {
     "name": "stdout",
     "output_type": "stream",
     "text": [
      "not palindrome\n"
     ]
    }
   ],
   "source": [
    "# 2. To check whether a string is palindrome or not.\n",
    "\n",
    "s=\"hey\"\n",
    "index=0\n",
    "size=len(s)-1\n",
    "while(index<size):\n",
    "    if(s[index]!=s[size]):\n",
    "        print(\"not palindrome\")\n",
    "        break\n",
    "        index+=1\n",
    "        size-=1\n",
    "    else:\n",
    "        print(\"palindrome\")"
   ]
  },
  {
   "cell_type": "code",
   "execution_count": 7,
   "id": "df4ff53c-fedf-4cb5-8bd3-49a8656ce555",
   "metadata": {},
   "outputs": [
    {
     "name": "stdout",
     "output_type": "stream",
     "text": [
      "1\n",
      "2\n",
      "4\n",
      "8\n",
      "16\n"
     ]
    }
   ],
   "source": [
    "# 3. Take a number and prints all its factors.\n",
    "\n",
    "num = 16\n",
    "for i in range(1, num + 1):  # Loop from 1 to 16\n",
    "    for j in range(1, num + 1):  # Inner loop to check divisibility\n",
    "        if(i * j == num):  # If i * j equals 16, then i is a factor\n",
    "            print(i)\n",
    "            break  # Break to avoid duplicate prints"
   ]
  },
  {
   "cell_type": "code",
   "execution_count": 47,
   "id": "290f9414-4764-4c5a-9951-4156565b5e06",
   "metadata": {},
   "outputs": [
    {
     "name": "stdout",
     "output_type": "stream",
     "text": [
      "   \n",
      "  *\n",
      " ***\n",
      "*****\n"
     ]
    }
   ],
   "source": [
    "# 4. prymid \n",
    "\n",
    "for i in range(0,4):\n",
    "  for j in range(i,3):\n",
    "    print(\" \",end=\"\")\n",
    "  for k in range(1,2*i):\n",
    "    print(\"*\",end=\"\")\n",
    "  print()"
   ]
  },
  {
   "cell_type": "code",
   "execution_count": 65,
   "id": "fd0e4d27-8e3c-4906-be2f-2675e0ff9231",
   "metadata": {},
   "outputs": [
    {
     "name": "stdout",
     "output_type": "stream",
     "text": [
      "* * * * \n",
      " * * * \n",
      "  * * \n",
      "   * \n"
     ]
    }
   ],
   "source": [
    "# 5. \n",
    "for i in range(5,1,-1):\n",
    "    for j in range(i,5):\n",
    "        print(\"\",end=\" \")\n",
    "    for k in range(2,i+1):\n",
    "        print(\"*\",end=\" \")\n",
    "    print(\"\")"
   ]
  },
  {
   "cell_type": "code",
   "execution_count": null,
   "id": "b37799d8-ca08-4e42-89db-85ddeee60fc4",
   "metadata": {},
   "outputs": [],
   "source": []
  }
 ],
 "metadata": {
  "kernelspec": {
   "display_name": "Python 3 (ipykernel)",
   "language": "python",
   "name": "python3"
  },
  "language_info": {
   "codemirror_mode": {
    "name": "ipython",
    "version": 3
   },
   "file_extension": ".py",
   "mimetype": "text/x-python",
   "name": "python",
   "nbconvert_exporter": "python",
   "pygments_lexer": "ipython3",
   "version": "3.12.7"
  }
 },
 "nbformat": 4,
 "nbformat_minor": 5
}
