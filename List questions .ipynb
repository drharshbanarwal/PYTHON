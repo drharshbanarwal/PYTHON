{
 "cells": [
  {
   "cell_type": "code",
   "execution_count": 2,
   "id": "5967d47f-b326-4699-bb40-576c7cde3482",
   "metadata": {},
   "outputs": [],
   "source": [
    "#list"
   ]
  },
  {
   "cell_type": "code",
   "execution_count": 6,
   "id": "c3948c6d-bd0a-4110-8ff4-9e1d3c739cca",
   "metadata": {},
   "outputs": [
    {
     "name": "stdout",
     "output_type": "stream",
     "text": [
      "100 60\n"
     ]
    }
   ],
   "source": [
    "#3. take a list and find out the ssecond higest number\n",
    "[10,20,40,60,100,33]\n",
    "\n",
    "max=0\n",
    "smax=0\n",
    "mylist=[10,20,40,60,100,33]\n",
    "for data in mylist:\n",
    "    if(data>max):\n",
    "        smax=max\n",
    "        max=data\n",
    "print(max,smax)\n",
    "        "
   ]
  },
  {
   "cell_type": "code",
   "execution_count": 12,
   "id": "4c5bf05b-6eaa-46b2-8865-fd158e55f208",
   "metadata": {},
   "outputs": [
    {
     "name": "stdout",
     "output_type": "stream",
     "text": [
      "100 80\n"
     ]
    }
   ],
   "source": [
    "max=0\n",
    "smax=0\n",
    "mylist=[10,20,40,100,80]\n",
    "for data in mylist:\n",
    "    if(data>max):\n",
    "        smax=max\n",
    "        max=data\n",
    "    elif(data>smax):\n",
    "        smax=data\n",
    "print(max,smax)"
   ]
  },
  {
   "cell_type": "code",
   "execution_count": 18,
   "id": "eb7f436c-50b5-43f4-8517-155d79d27f31",
   "metadata": {},
   "outputs": [
    {
     "name": "stdout",
     "output_type": "stream",
     "text": [
      "[100, 10, 20, 8, 40]\n"
     ]
    }
   ],
   "source": [
    "#higest number\n",
    "[10,20,4,60,100,40,80]\n",
    "\n",
    "mylist=[10,20,40,8,100]\n",
    "for i in range(0,1):\n",
    "    for j in range(i+1,len(mylist)):\n",
    "        if(mylist[j] > mylist[i]):\n",
    "            temp=mylist[i]\n",
    "            mylist[i]=mylist[j]\n",
    "            mylist[j]=temp\n",
    "print(mylist)\n",
    "            "
   ]
  },
  {
   "cell_type": "code",
   "execution_count": 30,
   "id": "efa03d5a-639e-4868-a782-9bd248c48763",
   "metadata": {},
   "outputs": [
    {
     "name": "stdout",
     "output_type": "stream",
     "text": [
      "2 7\n"
     ]
    }
   ],
   "source": [
    "#question sum of number that show 9 \n",
    "[1,2,3,4,7,9,11]\n",
    "mylist=[1,2,3,4,7,9,11]\n",
    "for i in range(0,len(mylist)):\n",
    "    for j in range(i+1,len(mylist)):\n",
    "        if(mylist[i]+mylist[j] == 9):\n",
    "            print(mylist[i],mylist[j])"
   ]
  },
  {
   "cell_type": "code",
   "execution_count": 36,
   "id": "ce7beea2-1c91-4d42-84ca-a13758083a97",
   "metadata": {},
   "outputs": [
    {
     "name": "stdout",
     "output_type": "stream",
     "text": [
      "2 7\n"
     ]
    }
   ],
   "source": [
    "#using second methon to print sum that gives the anser=9\n",
    "\n",
    "[1,2,3,4,7,9,11]\n",
    "mylist=[1,2,3,4,7,9,11]\n",
    "target=9\n",
    "start=0\n",
    "end=len(mylist)-1\n",
    "while(start<end):\n",
    "    if(mylist[start]+mylist[end] == 9):\n",
    "        print(mylist[start],mylist[end])\n",
    "        break\n",
    "    elif(mylist[start]+mylist[end] > target):\n",
    "        end=end-1\n",
    "    else:\n",
    "        start=start+1"
   ]
  },
  {
   "cell_type": "code",
   "execution_count": null,
   "id": "9ae44a11-845c-4a76-b193-d870f4601c60",
   "metadata": {},
   "outputs": [],
   "source": [
    "#to print index by usiong nested and append\n",
    "\n",
    "[1,2,3,4,7,9,11]\n",
    "mylist=[1,2,3,4,7,9,11]\n",
    "target=9\n",
    "start=0\n",
    "end=len(mylist)-1\n",
    "newlist=[]\n",
    "while(start<end):\n",
    "    if(mylist[start]+mylist[end] == 9):\n",
    "        newlist.append([])\n",
    "    elif(mylist[start]+mylist[end] > target):\n",
    "        end=end-1\n",
    "    else:\n",
    "        start=start+1"
   ]
  }
 ],
 "metadata": {
  "kernelspec": {
   "display_name": "Python 3 (ipykernel)",
   "language": "python",
   "name": "python3"
  },
  "language_info": {
   "codemirror_mode": {
    "name": "ipython",
    "version": 3
   },
   "file_extension": ".py",
   "mimetype": "text/x-python",
   "name": "python",
   "nbconvert_exporter": "python",
   "pygments_lexer": "ipython3",
   "version": "3.12.7"
  }
 },
 "nbformat": 4,
 "nbformat_minor": 5
}
