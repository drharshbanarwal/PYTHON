{
 "cells": [
  {
   "cell_type": "code",
   "execution_count": 1,
   "id": "3ee032bf-b69a-44a7-bcda-7c3053f340e4",
   "metadata": {},
   "outputs": [],
   "source": [
    "# HIGH ORDER FUNCTION : The functions which operate with another function are known as High Order Function.\n",
    "# It contain other functions as a perameter or return a function as an output.\n",
    "# You can return the function from a function."
   ]
  },
  {
   "cell_type": "code",
   "execution_count": 3,
   "id": "7f982fec-1416-47fc-887e-4913919e7d65",
   "metadata": {},
   "outputs": [],
   "source": [
    "# FIRST CLASS FUNCTION :\n",
    "# The function inn python can treated like any other variable , they can be\n",
    "# 1. Assigned to a variable.\n",
    "# 2. Passed as an argument to another function.\n",
    "# 3. Return from another function.\n",
    "# 4. Stored in data structure like LIST and DICTIONARY."
   ]
  },
  {
   "cell_type": "code",
   "execution_count": 5,
   "id": "4a80d2d3-44bd-4142-bb03-3e20b171badf",
   "metadata": {},
   "outputs": [],
   "source": [
    "# LOCAL VARIABLE : A local variable is a variable that is decleard inside the function and can only be access within the function.\n"
   ]
  },
  {
   "cell_type": "code",
   "execution_count": null,
   "id": "63250cc4-e5c3-44a1-9420-763467f71266",
   "metadata": {},
   "outputs": [],
   "source": [
    "# GLOBAL VARIABLE : Declared outside of any function and can be access through the programe."
   ]
  }
 ],
 "metadata": {
  "kernelspec": {
   "display_name": "Python [conda env:base] *",
   "language": "python",
   "name": "conda-base-py"
  },
  "language_info": {
   "codemirror_mode": {
    "name": "ipython",
    "version": 3
   },
   "file_extension": ".py",
   "mimetype": "text/x-python",
   "name": "python",
   "nbconvert_exporter": "python",
   "pygments_lexer": "ipython3",
   "version": "3.12.7"
  }
 },
 "nbformat": 4,
 "nbformat_minor": 5
}
