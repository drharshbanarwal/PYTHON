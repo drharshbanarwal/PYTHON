{
 "cells": [
  {
   "cell_type": "code",
   "execution_count": 1,
   "id": "c32cb4cc-7b4e-4e83-a9a7-c529c7e3e12c",
   "metadata": {},
   "outputs": [],
   "source": [
    "# list"
   ]
  },
  {
   "cell_type": "code",
   "execution_count": 13,
   "id": "5223a558-f681-4c26-941f-640016f15ea1",
   "metadata": {},
   "outputs": [
    {
     "name": "stdout",
     "output_type": "stream",
     "text": [
      "20\n",
      "7\n",
      "[20, 7]\n"
     ]
    }
   ],
   "source": [
    "# question (to compare and append in new variable)\n",
    "\n",
    "\n",
    "x=0\n",
    "a=[]\n",
    "mylist=[10,20,4,7,5,12]\n",
    "for i in range(0, len(mylist)-1):\n",
    "    if(mylist[i] > mylist[i+1]):\n",
    "        a.append(mylist[i])\n",
    "        print(mylist[i])\n",
    "print(a)\n",
    "  "
   ]
  },
  {
   "cell_type": "code",
   "execution_count": 15,
   "id": "42658354-c8ff-4d67-9dc6-efe2e324061b",
   "metadata": {},
   "outputs": [
    {
     "name": "stdout",
     "output_type": "stream",
     "text": [
      "50 50\n"
     ]
    }
   ],
   "source": [
    "mylist=[10,20,30,40,50]\n",
    "max=mylist[0]\n",
    "size=len(mylist)\n",
    "\n",
    "for i in range(0,size):\n",
    "    if(mylist[i]>max):\n",
    "       max=mylist[i]\n",
    "print(mylist[i],max)"
   ]
  },
  {
   "cell_type": "code",
   "execution_count": 31,
   "id": "47599646-2bfb-43df-a1c1-31adcc9d52aa",
   "metadata": {},
   "outputs": [
    {
     "name": "stdout",
     "output_type": "stream",
     "text": [
      "[20, 10, 4, 7, 5, 12]\n",
      "[20, 12, 4, 7, 5, 10]\n",
      "[20, 12, 7, 4, 5, 10]\n",
      "[20, 12, 10, 4, 5, 7]\n",
      "[20, 12, 10, 5, 4, 7]\n",
      "[20, 12, 10, 7, 4, 5]\n",
      "[20, 12, 10, 7, 5, 4]\n"
     ]
    }
   ],
   "source": [
    "#to swap and find out the maximum value (by using swaping method )\n",
    "\n",
    "mylist=[10,20,4,7,5,12]\n",
    "for i in range(0, len(mylist)-1):\n",
    "    for j in range(i+1 , len (mylist) ):\n",
    "        if (mylist[j] > mylist[i]):\n",
    "            temp=mylist[i]\n",
    "            mylist[i]=mylist[j]\n",
    "            mylist[j]=temp\n",
    "            print(mylist)"
   ]
  },
  {
   "cell_type": "code",
   "execution_count": 33,
   "id": "4eb224c0-ab6c-4ec0-8a16-8a6cd8c33a07",
   "metadata": {},
   "outputs": [
    {
     "name": "stdout",
     "output_type": "stream",
     "text": [
      "max is 100\n"
     ]
    }
   ],
   "source": [
    "#another way to find the max value (simple way)\n",
    "\n",
    "mylist=[10,100,20,4,7,5,12]\n",
    "max=mylist[0]\n",
    "size=len(mylist)\n",
    "for i in range(0,size):\n",
    "    if(mylist[i]>max):\n",
    "        max=mylist[i]\n",
    "print(\"max is\",max)"
   ]
  },
  {
   "cell_type": "code",
   "execution_count": 51,
   "id": "cd4546bb-f5c0-4336-8223-93f633fc92f5",
   "metadata": {},
   "outputs": [
    {
     "ename": "IndentationError",
     "evalue": "expected an indented block after 'if' statement on line 5 (2807295272.py, line 6)",
     "output_type": "error",
     "traceback": [
      "\u001b[1;36m  Cell \u001b[1;32mIn[51], line 6\u001b[1;36m\u001b[0m\n\u001b[1;33m    smax=max\u001b[0m\n\u001b[1;37m    ^\u001b[0m\n\u001b[1;31mIndentationError\u001b[0m\u001b[1;31m:\u001b[0m expected an indented block after 'if' statement on line 5\n"
     ]
    }
   ],
   "source": [
    "max=0\n",
    "smax=0\n",
    "mylist=[10,30,50,70,60,100]\n",
    "for i in range(0, len(mylist)):\n",
    "    if(mylist[i] >x):\n",
    "    smax=max\n",
    "    max=mylist[i]\n",
    "    elif(mylist[i]>smax):\n",
    "    smax=mylist[i]\n",
    "print(\"smax\",max)"
   ]
  },
  {
   "cell_type": "code",
   "execution_count": 47,
   "id": "43840c2c-2026-441c-a91f-39fc6bfa8bf2",
   "metadata": {},
   "outputs": [
    {
     "name": "stdout",
     "output_type": "stream",
     "text": [
      "100 80\n"
     ]
    }
   ],
   "source": [
    "max=0\n",
    "smax=0\n",
    "mylist=[10,20,40,100,80]\n",
    "for i in mylist:\n",
    "    if(i>max):\n",
    "        smax=max\n",
    "        max=i\n",
    "    elif(i>smax):\n",
    "        smax=i\n",
    "print(max,smax)"
   ]
  },
  {
   "cell_type": "code",
   "execution_count": 49,
   "id": "0275548a-1d9f-4516-b620-71de58b70a0a",
   "metadata": {},
   "outputs": [
    {
     "name": "stdout",
     "output_type": "stream",
     "text": [
      "400 100\n"
     ]
    }
   ],
   "source": [
    "max=0\n",
    "smax=0\n",
    "mylist=[10,20,40,100,80,400]\n",
    "for data in mylist:\n",
    "    if(data>max):\n",
    "        smax=max\n",
    "        max=data\n",
    "    elif(data>smax):\n",
    "        smax=data\n",
    "print(max,smax)"
   ]
  },
  {
   "cell_type": "code",
   "execution_count": 59,
   "id": "6d4905bc-b612-49b7-a2f2-171176b19168",
   "metadata": {},
   "outputs": [
    {
     "name": "stdout",
     "output_type": "stream",
     "text": [
      "2 11\n",
      "4 9\n"
     ]
    }
   ],
   "source": [
    "k=13\n",
    "mylist=[0,1,2,4,6,8,9,11]\n",
    "for i in range(0,len(mylist)):\n",
    "    for j in range (i,len(mylist) ):\n",
    "        if(mylist[i]+mylist[j]==k):\n",
    "            print(mylist[i],mylist[j])\n"
   ]
  },
  {
   "cell_type": "code",
   "execution_count": null,
   "id": "242f04af-ba8d-4aca-9293-0d5383cf5288",
   "metadata": {},
   "outputs": [],
   "source": [
    "#learning assignemt\n",
    "# 1. time copleaxcity (how to find out the time coplexcity in loop) (how to calculate)\n",
    "#2. enumerate vs zip function (interview question)\n",
    "# 3. revise all question of list (what is dictionary and its uses in python)"
   ]
  }
 ],
 "metadata": {
  "kernelspec": {
   "display_name": "Python 3 (ipykernel)",
   "language": "python",
   "name": "python3"
  },
  "language_info": {
   "codemirror_mode": {
    "name": "ipython",
    "version": 3
   },
   "file_extension": ".py",
   "mimetype": "text/x-python",
   "name": "python",
   "nbconvert_exporter": "python",
   "pygments_lexer": "ipython3",
   "version": "3.12.7"
  }
 },
 "nbformat": 4,
 "nbformat_minor": 5
}
