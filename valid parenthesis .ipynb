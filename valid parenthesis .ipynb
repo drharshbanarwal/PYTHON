{
 "cells": [
  {
   "cell_type": "code",
   "execution_count": 1,
   "id": "bdcc0aaf-3024-4fc4-ae04-890cb5986ff6",
   "metadata": {},
   "outputs": [],
   "source": [
    "# VALID PARENTHESIS"
   ]
  },
  {
   "cell_type": "code",
   "execution_count": 7,
   "id": "47ddf56f-6a8d-4da2-af03-007a191bc3a4",
   "metadata": {},
   "outputs": [
    {
     "name": "stdout",
     "output_type": "stream",
     "text": [
      "(\n",
      ")\n"
     ]
    }
   ],
   "source": [
    "s= \"()\"\n",
    "for char in s:\n",
    "    print(char)"
   ]
  },
  {
   "cell_type": "code",
   "execution_count": 15,
   "id": "7189ffc1-f0cf-4fd4-b454-ef95703246ff",
   "metadata": {},
   "outputs": [
    {
     "name": "stdout",
     "output_type": "stream",
     "text": [
      "['(']\n"
     ]
    }
   ],
   "source": [
    "s=\" ()\"\n",
    "mylist=[]\n",
    "for char in s:\n",
    "    if char==\"(\" :\n",
    "        mylist.append(char)\n",
    "print(mylist)"
   ]
  },
  {
   "cell_type": "code",
   "execution_count": 21,
   "id": "3a4c76ed-e9ca-4df3-ae7b-b1a12d8a9c56",
   "metadata": {},
   "outputs": [
    {
     "name": "stdout",
     "output_type": "stream",
     "text": [
      "['(']\n"
     ]
    }
   ],
   "source": [
    "s= \"()\"\n",
    "mylist=[]\n",
    "for char in s:\n",
    "    if char==\"(\" :\n",
    "        mylist.append(char)\n",
    "    elif(char==\")\" and \"(\" !=mylist[-1]):\n",
    "        break\n",
    "print(mylist)"
   ]
  },
  {
   "cell_type": "code",
   "execution_count": 29,
   "id": "104f04b6-9647-4966-baeb-ed926554105d",
   "metadata": {},
   "outputs": [
    {
     "name": "stdout",
     "output_type": "stream",
     "text": [
      "valid\n",
      "valid\n",
      "['(']\n"
     ]
    }
   ],
   "source": [
    "s= \"()\"\n",
    "mylist=[]\n",
    "x=0\n",
    "for char in s:\n",
    "    if char==\"(\" :\n",
    "        mylist.append(char)\n",
    "    elif(char==\")\" and \"(\" !=mylist[-1]):\n",
    "        x=1\n",
    "        break\n",
    "\n",
    "    if(x==1 ):\n",
    "        print(\"invalid\")\n",
    "    else:\n",
    "        print(\"valid\")\n",
    "        \n",
    "print(mylist)"
   ]
  },
  {
   "cell_type": "code",
   "execution_count": 41,
   "id": "db06b80c-26d6-42fb-b608-65c8d261b523",
   "metadata": {},
   "outputs": [
    {
     "name": "stdout",
     "output_type": "stream",
     "text": [
      "invalid\n",
      "invalid\n",
      "invalid\n",
      "['(']\n"
     ]
    }
   ],
   "source": [
    "s= \"(()\"\n",
    "mylist=[]\n",
    "x=0\n",
    "for char in s:\n",
    "    if char==\"(\" :\n",
    "        mylist.append(char)\n",
    "    elif(char==\")\" and \"(\" !=mylist.pop()):\n",
    "        x=1\n",
    "        break\n",
    "\n",
    "    if(x==1 or len(mylist)>0):\n",
    "        print(\"invalid\")\n",
    "    else:\n",
    "        print(\"valid\")\n",
    "        \n",
    "print(mylist)"
   ]
  },
  {
   "cell_type": "code",
   "execution_count": 45,
   "id": "e585f2c3-a908-42fa-b855-594b74759934",
   "metadata": {},
   "outputs": [
    {
     "name": "stdout",
     "output_type": "stream",
     "text": [
      "invalid\n",
      "[]\n"
     ]
    }
   ],
   "source": [
    "s= \")\"\n",
    "mylist=[]\n",
    "x=0\n",
    "for char in s:\n",
    "    if char==\"(\" :\n",
    "        mylist.append(char)\n",
    "    elif(len(mylist)>0 and char==\")\" and \"(\" !=mylist.pop()):\n",
    "        x=1\n",
    "        break\n",
    "    else:\n",
    "        x=1\n",
    "\n",
    "    if(x==1 or len(mylist)>0):\n",
    "        print(\"invalid\")\n",
    "    else:\n",
    "        print(\"valid\")\n",
    "        \n",
    "print(mylist)"
   ]
  },
  {
   "cell_type": "code",
   "execution_count": null,
   "id": "fe5f3558-0c16-4973-b05d-1a32822de19d",
   "metadata": {},
   "outputs": [],
   "source": []
  }
 ],
 "metadata": {
  "kernelspec": {
   "display_name": "Python 3 (ipykernel)",
   "language": "python",
   "name": "python3"
  },
  "language_info": {
   "codemirror_mode": {
    "name": "ipython",
    "version": 3
   },
   "file_extension": ".py",
   "mimetype": "text/x-python",
   "name": "python",
   "nbconvert_exporter": "python",
   "pygments_lexer": "ipython3",
   "version": "3.12.7"
  }
 },
 "nbformat": 4,
 "nbformat_minor": 5
}
