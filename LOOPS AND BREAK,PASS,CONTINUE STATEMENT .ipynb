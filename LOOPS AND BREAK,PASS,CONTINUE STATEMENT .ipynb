{
 "cells": [
  {
   "cell_type": "code",
   "execution_count": null,
   "id": "d233d683-16d5-4b6e-8ac4-6a07debf6ef6",
   "metadata": {},
   "outputs": [],
   "source": [
    "# LOOPS IN PYTHON :\n",
    "\n",
    "# Loops in Python are used to repeat actions efficiently. The main types are For loops (counting through items) and While loops (based on conditions).\n",
    "# Additionally, Nested Loops allow looping within loops for more complex tasks. \n",
    "# While all the ways provide similar basic functionality, they differ in their syntax and condition-checking time."
   ]
  },
  {
   "cell_type": "code",
   "execution_count": 1,
   "id": "57bef127-ecc8-4fd4-aa08-8e7322928d29",
   "metadata": {},
   "outputs": [],
   "source": [
    "# 1. WHILE LOOPS :\n",
    "\n",
    "#..> A while loop is used to execute a block of statements repeatedly until a given condition is satisfied.\n",
    "# When the condition becomes false, the line immediately after the loop in the program is executed."
   ]
  },
  {
   "cell_type": "code",
   "execution_count": 3,
   "id": "923bfb95-07cf-4448-a1d7-92531192990f",
   "metadata": {},
   "outputs": [
    {
     "name": "stdout",
     "output_type": "stream",
     "text": [
      "Hello Geek\n",
      "Hello Geek\n",
      "Hello Geek\n"
     ]
    }
   ],
   "source": [
    "# Example......\n",
    "\n",
    "num = 0\n",
    "while (num < 3):\n",
    "    num = num + 1\n",
    "    print(\"Hello Geek\")"
   ]
  },
  {
   "cell_type": "code",
   "execution_count": 5,
   "id": "d22eb9ef-89ae-4910-8360-5f222802e930",
   "metadata": {},
   "outputs": [],
   "source": [
    "# Using else statement with While Loop in Python :\n",
    "\n",
    "#..> Else clause is only executed when our while condition becomes false. \n",
    "# If we break out of the loop or if an exception is raised then it won’t be executed. \n",
    "\n"
   ]
  },
  {
   "cell_type": "code",
   "execution_count": 7,
   "id": "826c4c79-7214-4365-9711-343d8e6508a9",
   "metadata": {},
   "outputs": [
    {
     "name": "stdout",
     "output_type": "stream",
     "text": [
      "Hello Geek\n",
      "Hello Geek\n",
      "Hello Geek\n",
      "In Else Block\n"
     ]
    }
   ],
   "source": [
    "# Example......\n",
    "\n",
    "num = 0\n",
    "while (num < 3):\n",
    "    num = num + 1\n",
    "    print(\"Hello Geek\")\n",
    "\n",
    "else:\n",
    "    print(\"In Else Block\")"
   ]
  },
  {
   "cell_type": "code",
   "execution_count": 9,
   "id": "b4684f4d-bf7d-4333-bee3-cd38c047d7db",
   "metadata": {},
   "outputs": [],
   "source": [
    "# 2. FOR LOOP :\n",
    "\n",
    "#..> A for loop in Python is a control flow statement that is used to repeatedly execute a group of statements as long as the condition is satisfied."
   ]
  },
  {
   "cell_type": "code",
   "execution_count": 11,
   "id": "836123ec-9291-4d4b-b726-248a5c2c5204",
   "metadata": {},
   "outputs": [
    {
     "name": "stdout",
     "output_type": "stream",
     "text": [
      "0\n",
      "1\n",
      "2\n",
      "3\n"
     ]
    }
   ],
   "source": [
    "# Example......\n",
    "\n",
    "n = 4\n",
    "for i in range(0, n):\n",
    "    print(i)"
   ]
  },
  {
   "cell_type": "code",
   "execution_count": 13,
   "id": "7942b459-a11b-4729-8bbe-ab14d240d9ef",
   "metadata": {},
   "outputs": [
    {
     "name": "stdout",
     "output_type": "stream",
     "text": [
      "geeks\n",
      "for\n",
      "geeks\n"
     ]
    }
   ],
   "source": [
    "# Example......(WITH LIST)\n",
    "\n",
    "li = [\"geeks\", \"for\", \"geeks\"]\n",
    "for i in li:\n",
    "    print(i)"
   ]
  },
  {
   "cell_type": "code",
   "execution_count": 15,
   "id": "0bd71bef-743d-4cb6-ac05-5bdfc551d93f",
   "metadata": {},
   "outputs": [
    {
     "name": "stdout",
     "output_type": "stream",
     "text": [
      "x  123\n",
      "y  354\n"
     ]
    }
   ],
   "source": [
    "# Example......(WITH DICTIONARY)\n",
    "\n",
    "d = dict({'x':123, 'y':354})\n",
    "for i in d:\n",
    "    print(\"%s  %d\" % (i, d[i]))"
   ]
  },
  {
   "cell_type": "code",
   "execution_count": 17,
   "id": "60601106-e74d-4dd4-a5b3-714c692c4401",
   "metadata": {},
   "outputs": [
    {
     "name": "stdout",
     "output_type": "stream",
     "text": [
      "geeks\n",
      "for\n",
      "geeks\n"
     ]
    }
   ],
   "source": [
    "# Example......Iterating by the Index of Sequences\n",
    "\n",
    "list = [\"geeks\", \"for\", \"geeks\"]\n",
    "for index in range(len(list)):\n",
    "    print(list[index])"
   ]
  },
  {
   "cell_type": "code",
   "execution_count": 19,
   "id": "24ef0290-e79d-4417-81bc-c82f2a1ddd04",
   "metadata": {},
   "outputs": [],
   "source": [
    "# Using else Statement with for Loop in Python :\n",
    "\n",
    "#..>We can also combine else statement with for loop like in while loop. \n",
    "# But as there is no condition in for loop based on which the execution will terminate so the else block will be executed immediately after for block finishes execution."
   ]
  },
  {
   "cell_type": "code",
   "execution_count": 21,
   "id": "35ef151e-8a2d-47ec-8cff-76a07273480e",
   "metadata": {},
   "outputs": [
    {
     "name": "stdout",
     "output_type": "stream",
     "text": [
      "geeks\n",
      "for\n",
      "geeks\n",
      "Inside Else Block\n"
     ]
    }
   ],
   "source": [
    "# Example......\n",
    "\n",
    "list = [\"geeks\", \"for\", \"geeks\"]\n",
    "for index in range(len(list)):\n",
    "    print(list[index])\n",
    "else:\n",
    "    print(\"Inside Else Block\")\n"
   ]
  },
  {
   "cell_type": "code",
   "execution_count": 23,
   "id": "1d22ec3f-ac37-4ddb-83bd-1f0d16e85be6",
   "metadata": {},
   "outputs": [],
   "source": [
    "# 3. NASTED LOOPS :\n",
    "\n",
    "#..>A nested loop is a loop (the \"outer loop\") that contains another loop (the \"inner loop\") within its body,\n",
    "# meaning the inner loop executes entirely for each iteration of the outer loop. "
   ]
  },
  {
   "cell_type": "code",
   "execution_count": 27,
   "id": "1661c9eb-5eac-4fee-83cd-d9788df43c3c",
   "metadata": {},
   "outputs": [
    {
     "name": "stdout",
     "output_type": "stream",
     "text": [
      "1 \n",
      "2 2 \n",
      "3 3 3 \n",
      "4 4 4 4 \n"
     ]
    }
   ],
   "source": [
    "# Example......\n",
    "\n",
    "\n",
    "for i in range(1, 5):\n",
    "    for j in range(i):\n",
    "        print(i, end=' ')\n",
    "    print()\n"
   ]
  },
  {
   "cell_type": "code",
   "execution_count": 29,
   "id": "4fb4763e-bf12-4b6d-b824-9940f568f3b1",
   "metadata": {},
   "outputs": [],
   "source": [
    "# CONTINUE STATEMENT :\n",
    "\n",
    "#..>The continue statement in Python returns the control to the beginning of the loop.\n",
    "#..>The continue statement is used to skip the current iteration of a loop and move to the next iteration.\n",
    "# It is useful when we want to bypass certain conditions without terminating the loop."
   ]
  },
  {
   "cell_type": "code",
   "execution_count": 31,
   "id": "0597d840-3f53-4471-8d86-a799e3758049",
   "metadata": {},
   "outputs": [
    {
     "name": "stdout",
     "output_type": "stream",
     "text": [
      "Current Letter : g\n",
      "Current Letter : k\n",
      "Current Letter : f\n",
      "Current Letter : o\n",
      "Current Letter : r\n",
      "Current Letter : g\n",
      "Current Letter : k\n"
     ]
    }
   ],
   "source": [
    "# Example....\n",
    "\n",
    "for letter in 'geeksforgeeks':\n",
    "    if letter == 'e' or letter == 's':\n",
    "        continue\n",
    "    print('Current Letter :', letter)\n"
   ]
  },
  {
   "cell_type": "code",
   "execution_count": 33,
   "id": "0488503d-560d-4320-b2b9-e4d8b0342a6b",
   "metadata": {},
   "outputs": [],
   "source": [
    "# BREAK STATEMENT :\n",
    "\n",
    "#..>The break statement in Python brings control out of the loop.\n",
    "#..> break statement is used to exit the loop prematurely when a specified condition is met.\n",
    "# In this example, the loop breaks when the letter is either ‘e’ or ‘s’, stopping further iteration."
   ]
  },
  {
   "cell_type": "code",
   "execution_count": 35,
   "id": "ae0aa4d3-bf5b-4445-836c-2ae3f10bf579",
   "metadata": {},
   "outputs": [
    {
     "name": "stdout",
     "output_type": "stream",
     "text": [
      "Current Letter : e\n"
     ]
    }
   ],
   "source": [
    "# Example...\n",
    "\n",
    "for letter in 'geeksforgeeks':\n",
    "    if letter == 'e' or letter == 's':\n",
    "        break\n",
    "\n",
    "print('Current Letter :', letter)\n"
   ]
  },
  {
   "cell_type": "code",
   "execution_count": 37,
   "id": "b8c0675d-8539-4aaf-9c94-34b40a02341b",
   "metadata": {},
   "outputs": [],
   "source": [
    "# PASS STATEMENT :\n",
    "\n",
    "#..>We use pass statement in Python to write empty loops. Pass is also used for empty control statements, functions and classes.\n",
    "#..>the loop iterates over each letter in ‘geeksforgeeks’ but doesn’t perform any operation, and after the loop finishes, \n",
    "# the last letter (‘s’) is printed."
   ]
  },
  {
   "cell_type": "code",
   "execution_count": 39,
   "id": "b7142dd2-63b0-48dc-b782-595a3ed4508d",
   "metadata": {},
   "outputs": [
    {
     "name": "stdout",
     "output_type": "stream",
     "text": [
      "Last Letter : s\n"
     ]
    }
   ],
   "source": [
    "# Example.....\n",
    "\n",
    "for letter in 'geeksforgeeks':\n",
    "    pass\n",
    "print('Last Letter :', letter)\n"
   ]
  },
  {
   "cell_type": "code",
   "execution_count": null,
   "id": "dd19bc73-457a-4392-aeab-16b51a6344e0",
   "metadata": {},
   "outputs": [],
   "source": []
  }
 ],
 "metadata": {
  "kernelspec": {
   "display_name": "Python [conda env:base] *",
   "language": "python",
   "name": "conda-base-py"
  },
  "language_info": {
   "codemirror_mode": {
    "name": "ipython",
    "version": 3
   },
   "file_extension": ".py",
   "mimetype": "text/x-python",
   "name": "python",
   "nbconvert_exporter": "python",
   "pygments_lexer": "ipython3",
   "version": "3.12.7"
  }
 },
 "nbformat": 4,
 "nbformat_minor": 5
}
