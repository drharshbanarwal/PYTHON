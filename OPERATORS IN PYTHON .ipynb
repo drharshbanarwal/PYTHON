{
 "cells": [
  {
   "cell_type": "code",
   "execution_count": 1,
   "id": "654ac89e-6faa-4cda-9fab-28419bfb6e51",
   "metadata": {},
   "outputs": [],
   "source": [
    "# Python divides the operators in the following groups:\n",
    "\n",
    "# 1.Arithmetic operators\n",
    "# 2.Assignment operators\n",
    "# 3.Comparison operators\n",
    "# 4.Logical operators\n",
    "# 5.Identity operators\n",
    "# 6.Membership operators\n",
    "# 7.Bitwise operators"
   ]
  },
  {
   "cell_type": "code",
   "execution_count": 3,
   "id": "617b6890-158f-4ecc-a315-efad8cacc2cc",
   "metadata": {},
   "outputs": [],
   "source": [
    "# 1. ARTHMETIC OPERATOR :\n",
    "\n",
    "# Arithmetic operators in Python programming are used to perform basic mathematical calculations of two operands.\n",
    "# They include addition, subtraction, division, multiplication, and more .\n",
    "\n",
    "#       Operator\t                           Name\t                                  Example\t\n",
    "#         +\t                                  Addition\t                               x + y\t\n",
    "#         -\t                                  Subtraction\t                           x - y\t\n",
    "#         *\t                                  Multiplication\t                       x * y\t\n",
    "#         /\t                                  Division\t                               x / y\t\n",
    "#         %\t                                  Modulus\t                               x % y\t\n",
    "#         **\t                              Exponentiation\t                       x ** y\t\n",
    "#         //\t                              Floor division\t                       x // y"
   ]
  },
  {
   "cell_type": "code",
   "execution_count": 5,
   "id": "baa3cb65-9d4a-479d-a8a3-ac5ba5e899d4",
   "metadata": {},
   "outputs": [],
   "source": [
    "# 2. ASSIGNMENT OPERATOR :\n",
    "\n",
    "# In Python, assignment operators are used to assign values to variables, and the most common one is the single equals sign (=). \n",
    "# There are also compound assignment operators that combine an arithmetic operation with assignmen.\n",
    "\n",
    "#    Operator\t                    Example\t                               Same As\t\n",
    "#      =\t                          x = 5\t                                x = 5\t\n",
    "#      +=\t                          x += 3\t                            x = x + 3\t\n",
    "#      -=\t                          x -= 3\t                            x = x - 3\t\n",
    "#      *=                             x *= 3\t                            x = x * 3\t\n",
    "#      /=\t                          x /= 3\t                            x = x / 3\t\n",
    "#      %=\t                          x %= 3\t                            x = x % 3\t\n",
    "#      //=\t                          x //= 3\t                            x = x // 3\t\n",
    "#      **=\t                          x **= 3\t                            x = x ** 3\t\n",
    "#      &=\t                          x &= 3\t                            x = x & 3\t\n",
    "#      |=\t                          x |= 3\t                            x = x | 3\t\n",
    "#      ^=                             x ^= 3\t                            x = x ^ 3\t\n",
    "#      >>=\t                          x >>= 3\t                            x = x >> 3\t\n",
    "#      <<=\t                          x <<= 3\t                            x = x << 3\t\n"
   ]
  },
  {
   "cell_type": "code",
   "execution_count": 7,
   "id": "21f21423-afcd-49be-8bd6-62927081b0cf",
   "metadata": {},
   "outputs": [],
   "source": [
    "# 3. COMPARISON OPERATOR :\n",
    "\n",
    "# In Python, comparison operators, also known as relational operators, are used to compare two values and return a Boolean value \n",
    "# (True or False) based on the comparison. \n",
    "\n",
    "\n",
    "#      Operator\t    Name\t                      Example\t\n",
    "#        ==\t         Equal\t                       x == y\t\n",
    "#        !=\t         Not equal\t                   x != y\t\n",
    "#        >\t         Greater than\t               x > y\t\n",
    "#        <\t         Less than\t                   x < y\t\n",
    "#        >=\t         Greater than or equal to\t   x >= y\t\n",
    "#        <=\t         Less than or equal to\t       x <= y"
   ]
  },
  {
   "cell_type": "code",
   "execution_count": 9,
   "id": "5d02d471-0565-4068-91b7-d54425222aca",
   "metadata": {},
   "outputs": [],
   "source": [
    "# 4. LOGICAL OPERATOR :\n",
    "\n",
    "# In Python, logical operators, namely and, or, and not, are used to combine or modify Boolean values, \n",
    "# ultimately returning a Boolean result (True or False).\n",
    "\n",
    "#     Operator\t                   Description\t                                                      Example\t\n",
    "#      and \t               Returns True if both statements are true.\t                         x < 5 and  x < 10\t\n",
    "#      or\t               Returns True if one of the statements is true.\t                     x < 5 or x < 4\t\n",
    "#      not\t               Reverse the result, returns False if the result is true.\t             not (x < 5 and x < 10)"
   ]
  },
  {
   "cell_type": "code",
   "execution_count": 11,
   "id": "22af37b5-0e30-48fe-885b-d47f79d30c0f",
   "metadata": {},
   "outputs": [],
   "source": [
    "# 5. IDENTITY OPERATORS :\n",
    "\n",
    "# In Python, identity operators (is and is not) compare the memory locations (or object identity) of two objects, \n",
    "# not their values, returning True if they point to the same object and False otherwise.\n",
    "\n",
    "#  Operator\t               \t             Description                                            Example\t\n",
    "#    is \t                Returns True if both variables are the same object\t                 x is y\t\n",
    "#    is not\t                Returns True if both variables are not the same object\t             x is not y"
   ]
  },
  {
   "cell_type": "code",
   "execution_count": 13,
   "id": "d781101d-f0cc-4805-b4eb-c3c347387fea",
   "metadata": {},
   "outputs": [],
   "source": [
    "# 6. MEMBERSHIP OPERATOR :\n",
    "\n",
    "#In Python, membership operators (in and not in) test whether a value is present within a sequence (like a string, list, tuple, or set) or not,\n",
    "# returning True or False accordingly. \n",
    "\n",
    "#   Operator\t                         Description\t                                                                    Example\t\n",
    "#    in \t             Returns True if a sequence with the specified value is present in the object.\t                    x in y\t\n",
    "#    not in\t             Returns True if a sequence with the specified value is not present in the object.\t                x not in y"
   ]
  },
  {
   "cell_type": "code",
   "execution_count": null,
   "id": "8d150722-9a3e-4b59-8fbd-eb48e8a5f2d3",
   "metadata": {},
   "outputs": [],
   "source": [
    "# 6. BITWISE OPERATOR :\n",
    "\n",
    "# In Python, bitwise operators perform operations on individual bits of integers, treating them as binary representations and manipulating them directly,\n",
    "# offering fine-grained control over data. \n",
    "\n",
    "#  Operator\t     Name\t                              Description\t                                                                 Example\t\n",
    "#   & \t         AND\t                    Sets each bit to 1 if both bits are 1\t                                                  x & y\t\n",
    "#   |\t         OR\t                        Sets each bit to 1 if one of two bits is 1\t                                              x | y\t\n",
    "#   ^\t         XOR\t                    Sets each bit to 1 if only one of two bits is 1\t                                          x ^ y\t\n",
    "#   ~\t         NOT\t                    Inverts all the bits\t                                                                  ~x\t\n",
    "#   <<\t         Zero fill left shift\t    Shift left by pushing zeros in from the right and let the leftmost bits fall off\t      x << 2\t\n",
    "#   >>\t         Signed right shift\t        Shift right by pushing copies of the leftmost bit in from the left, \t                  x >> 2\n",
    "#                                           (and let the rightmost bits fall off)"
   ]
  }
 ],
 "metadata": {
  "kernelspec": {
   "display_name": "Python [conda env:base] *",
   "language": "python",
   "name": "conda-base-py"
  },
  "language_info": {
   "codemirror_mode": {
    "name": "ipython",
    "version": 3
   },
   "file_extension": ".py",
   "mimetype": "text/x-python",
   "name": "python",
   "nbconvert_exporter": "python",
   "pygments_lexer": "ipython3",
   "version": "3.12.7"
  }
 },
 "nbformat": 4,
 "nbformat_minor": 5
}
