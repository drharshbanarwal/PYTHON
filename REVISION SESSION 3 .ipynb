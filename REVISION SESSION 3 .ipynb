{
 "cells": [
  {
   "cell_type": "code",
   "execution_count": 2,
   "id": "4bfcc182-a432-4408-a8db-991c95d383f1",
   "metadata": {},
   "outputs": [],
   "source": [
    "# REVISION SESSION 3"
   ]
  },
  {
   "cell_type": "code",
   "execution_count": 5,
   "id": "b553eca2-dd3c-4aac-aa81-fa0c0e101039",
   "metadata": {},
   "outputs": [
    {
     "name": "stdout",
     "output_type": "stream",
     "text": [
      "[20]\n"
     ]
    }
   ],
   "source": [
    "# duplicate item removal\n",
    "\n",
    "mylist=[10,20,30,20,50,40,20]\n",
    "mylist1=[]\n",
    "for i in range(0,len(mylist)):\n",
    "    for j in range(i+1,len(mylist)):\n",
    "        if(mylist[i]==mylist[j]):\n",
    "            if(mylist[i] not in mylist1):\n",
    "                mylist1.append(mylist[i])\n",
    "            \n",
    "\n",
    "print(mylist1)"
   ]
  },
  {
   "cell_type": "code",
   "execution_count": 13,
   "id": "7109f9a0-33e4-4b3b-8e55-cd6b6525c0df",
   "metadata": {},
   "outputs": [
    {
     "name": "stdout",
     "output_type": "stream",
     "text": [
      "palindrome\n"
     ]
    }
   ],
   "source": [
    "# palindrome                (two pointer approche)\n",
    "\n",
    "mylist=[10,20,30,20,10]\n",
    "index=0\n",
    "end=len(mylist)-1\n",
    "a=0\n",
    "while(index<end):\n",
    "    if(mylist[index]!=mylist[end]):\n",
    "        a=5\n",
    "        break\n",
    "    \n",
    "    index+=1\n",
    "    end-=1\n",
    "if(a==0):\n",
    "    print(\"palindrome\")\n",
    "\n",
    "else:\n",
    "    print(\"not a palindrome\")"
   ]
  },
  {
   "cell_type": "code",
   "execution_count": 15,
   "id": "5bac6a63-94a6-43d3-ae81-ea240adb598d",
   "metadata": {},
   "outputs": [
    {
     "name": "stdout",
     "output_type": "stream",
     "text": [
      "not a palindrome\n"
     ]
    }
   ],
   "source": [
    "# not a palindrome\n",
    "\n",
    "mylist=[10,20,30,50,10]\n",
    "index=0\n",
    "end=len(mylist)-1\n",
    "a=0\n",
    "while(index<end):\n",
    "    if(mylist[index]!=mylist[end]):\n",
    "        a=5\n",
    "        break\n",
    "    \n",
    "    index+=1\n",
    "    end-=1\n",
    "if(a==0):\n",
    "    print(\"palindrome\")\n",
    "\n",
    "else:\n",
    "    print(\"not a palindrome\")"
   ]
  },
  {
   "cell_type": "code",
   "execution_count": 31,
   "id": "a5a2b0e3-d330-49ab-89b5-8c57677fc270",
   "metadata": {},
   "outputs": [
    {
     "name": "stdout",
     "output_type": "stream",
     "text": [
      "palindrome\n"
     ]
    }
   ],
   "source": [
    "# stringe palindrome or not\n",
    "\n",
    "mylist=\"mama\"\n",
    "inndex=0\n",
    "end=len(mylist)-1\n",
    "a=0\n",
    "while(index<end):\n",
    "    if(mylist[index]!=mylist[end]):\n",
    "        a=5\n",
    "        break\n",
    "\n",
    "    index+=1\n",
    "    end-=1\n",
    "\n",
    "if(a==0):\n",
    "    print(\"palindrome\")\n",
    "\n",
    "else:\n",
    "    print(\"not palindrome\")"
   ]
  },
  {
   "cell_type": "code",
   "execution_count": 33,
   "id": "b4f7f2c2-9bcb-4da4-9318-43a07205d151",
   "metadata": {},
   "outputs": [
    {
     "name": "stdout",
     "output_type": "stream",
     "text": [
      "not palindrome\n"
     ]
    }
   ],
   "source": [
    "# stringe palindrome or not\n",
    "\n",
    "mylist=\"mamam\"\n",
    "inndex=0\n",
    "end=len(mylist)-1\n",
    "a=0\n",
    "while(index<end):\n",
    "    if(mylist[index]!=mylist[end]):\n",
    "        a=5\n",
    "        break\n",
    "\n",
    "    index+=1\n",
    "    end-=1\n",
    "\n",
    "if(a==0):\n",
    "    print(\"palindrome\")\n",
    "\n",
    "else:\n",
    "    print(\"not palindrome\")"
   ]
  },
  {
   "cell_type": "code",
   "execution_count": 35,
   "id": "1ab4a8a3-8420-4733-baee-bee2515c6ce2",
   "metadata": {},
   "outputs": [
    {
     "name": "stdout",
     "output_type": "stream",
     "text": [
      "20 10\n"
     ]
    }
   ],
   "source": [
    "# swaping\n",
    "a=10\n",
    "b=20\n",
    "# swaping by using temp \n",
    "temp=a\n",
    "a=b\n",
    "b=temp\n",
    "print(a,b)"
   ]
  },
  {
   "cell_type": "code",
   "execution_count": 37,
   "id": "4b72ee61-e803-4834-8b96-fe9173d7e5e6",
   "metadata": {},
   "outputs": [
    {
     "name": "stdout",
     "output_type": "stream",
     "text": [
      "[50, 40, 30, 20, 10]\n"
     ]
    }
   ],
   "source": [
    "# reverse list\n",
    "\n",
    "mylist=[10,20,30,40,50]\n",
    "start=0\n",
    "end=len(mylist)-1\n",
    "while(start<end):\n",
    "    temp=mylist[start]\n",
    "    mylist[start]=mylist[end]\n",
    "    mylist[end]=temp\n",
    "    start+=1\n",
    "    end-=1\n",
    "\n",
    "print(mylist)\n",
    "\n"
   ]
  },
  {
   "cell_type": "code",
   "execution_count": 43,
   "id": "0fa93e91-7c76-44bb-ac36-11b570998ca2",
   "metadata": {},
   "outputs": [
    {
     "name": "stdout",
     "output_type": "stream",
     "text": [
      "400\n"
     ]
    }
   ],
   "source": [
    "# maximum value\n",
    "\n",
    "mylist=[10,20,3,400,50]\n",
    "max1=0\n",
    "smax=0\n",
    "for i in  range(0,len(mylist)):\n",
    "    if(mylist[i]>max1):\n",
    "        max1=mylist[i]\n",
    "\n",
    "print(max1)\n",
    "\n"
   ]
  },
  {
   "cell_type": "code",
   "execution_count": 51,
   "id": "6855fb55-3564-4b08-8806-8414e8ff30bb",
   "metadata": {},
   "outputs": [
    {
     "name": "stdout",
     "output_type": "stream",
     "text": [
      "second max 10\n",
      "20 10\n",
      "400 20\n",
      "second max 50\n"
     ]
    }
   ],
   "source": [
    "# second maximum value\n",
    "max1=mylist[0]\n",
    "smax=0\n",
    "mylist=[10,20,3,400,50]\n",
    "for  i in mylist:\n",
    "    if(i>max1):\n",
    "        smax=max1\n",
    "        max1=i\n",
    "        print(max1,smax)\n",
    "\n",
    "    elif(i>smax):\n",
    "        smax=i\n",
    "        print(\"second max\",smax)\n",
    "\n"
   ]
  },
  {
   "cell_type": "code",
   "execution_count": 64,
   "id": "e72a6872-de8e-49d1-a9f1-e4efea7ef37f",
   "metadata": {},
   "outputs": [
    {
     "data": {
      "text/plain": [
       "['', 'ey ', 'ello ', 'ars', '']"
      ]
     },
     "execution_count": 64,
     "metadata": {},
     "output_type": "execute_result"
    }
   ],
   "source": [
    "# split function\n",
    "# if we use spit method on a string it will give us a LIST\n",
    "\n",
    "s=\"hey hello harsh\"\n",
    "s.split(\"h\")"
   ]
  },
  {
   "cell_type": "code",
   "execution_count": 70,
   "id": "e5549a9d-ece4-42e8-9a64-a321d3e7f0b2",
   "metadata": {},
   "outputs": [
    {
     "name": "stdout",
     "output_type": "stream",
     "text": [
      "\n",
      "ey \n",
      "ello \n",
      "ars\n",
      "\n"
     ]
    }
   ],
   "source": [
    "s=\"hey hello harsh\"\n",
    "for word in s.split(\"h\"):\n",
    "    print(word)"
   ]
  },
  {
   "cell_type": "code",
   "execution_count": 74,
   "id": "f4d7d8ae-2c36-436f-87db-a7eefbb61ada",
   "metadata": {},
   "outputs": [
    {
     "name": "stdout",
     "output_type": "stream",
     "text": [
      "['hey', 'hello', 'harsh']\n"
     ]
    }
   ],
   "source": [
    "# to convert a list into string we use JOIN function\n",
    "\n",
    "s=\"hey hello harsh\"\n",
    "x=s.split(\" \")\n",
    "print(x)"
   ]
  },
  {
   "cell_type": "code",
   "execution_count": 80,
   "id": "9ae741b1-b20b-403a-85b5-c3c6f27be69f",
   "metadata": {},
   "outputs": [
    {
     "data": {
      "text/plain": [
       "'hey-hello-harsh'"
      ]
     },
     "execution_count": 80,
     "metadata": {},
     "output_type": "execute_result"
    }
   ],
   "source": [
    "\"-\".join(x)"
   ]
  },
  {
   "cell_type": "code",
   "execution_count": null,
   "id": "7cc040f5-f367-4ca3-a986-c590a44722ac",
   "metadata": {},
   "outputs": [],
   "source": []
  }
 ],
 "metadata": {
  "kernelspec": {
   "display_name": "Python [conda env:base] *",
   "language": "python",
   "name": "conda-base-py"
  },
  "language_info": {
   "codemirror_mode": {
    "name": "ipython",
    "version": 3
   },
   "file_extension": ".py",
   "mimetype": "text/x-python",
   "name": "python",
   "nbconvert_exporter": "python",
   "pygments_lexer": "ipython3",
   "version": "3.12.7"
  }
 },
 "nbformat": 4,
 "nbformat_minor": 5
}
