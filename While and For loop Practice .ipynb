{
 "cells": [
  {
   "cell_type": "code",
   "execution_count": 7,
   "id": "54ca19bf-2d01-4f31-832c-1864d90cea39",
   "metadata": {},
   "outputs": [
    {
     "name": "stdin",
     "output_type": "stream",
     "text": [
      "enter any  number 12\n"
     ]
    },
    {
     "name": "stdout",
     "output_type": "stream",
     "text": [
      "0 1 2 3 4 5 6 7 8 9 10 11 12 "
     ]
    }
   ],
   "source": [
    "#1.Write a program to print all natural numbers from 1 to n. – using while loopas\n",
    "\n",
    "n=int (input(\"enter any  number\"))\n",
    "i=0\n",
    "while(i<=n):\n",
    "    print(i,end=\" \")\n",
    "    i=i+1"
   ]
  },
  {
   "cell_type": "code",
   "execution_count": 1,
   "id": "d4562beb-1590-42cd-ab8d-959adc2e14b6",
   "metadata": {},
   "outputs": [
    {
     "name": "stdin",
     "output_type": "stream",
     "text": [
      "enter any  number 10\n"
     ]
    },
    {
     "name": "stdout",
     "output_type": "stream",
     "text": [
      "10 9 8 7 6 5 4 3 2 1 "
     ]
    }
   ],
   "source": [
    "#2. Write a program to print all natural numbers in reverse (from n to 1). –\n",
    "# using while loop\n",
    "\n",
    "i=int (input(\"enter any  number\"))\n",
    "n=1\n",
    "while(i>=n):\n",
    "    print(i,end=\" \")\n",
    "    i=i-1"
   ]
  },
  {
   "cell_type": "code",
   "execution_count": 3,
   "id": "45cb5266-abd1-4b10-b857-e3b8abfdf814",
   "metadata": {},
   "outputs": [
    {
     "name": "stdout",
     "output_type": "stream",
     "text": [
      "a b c d e f g h i j k l m n o p q r s t u v w x y z "
     ]
    }
   ],
   "source": [
    "# 3. Write a program to print all alphabets from a to z. – using while loop\n",
    "\n",
    "char='a'\n",
    "while(char<='z'):\n",
    "  print(char,end=\" \")\n",
    "  char=chr(ord(char)+1)"
   ]
  },
  {
   "cell_type": "code",
   "execution_count": 18,
   "id": "f2578b84-60d9-4cbf-8b7b-8bbc18b80457",
   "metadata": {},
   "outputs": [
    {
     "name": "stdout",
     "output_type": "stream",
     "text": [
      "2 4 6 8 10 12 14 16 18 20 22 24 26 28 30 32 34 36 38 40 42 44 46 48 50 52 54 56 58 60 62 64 66 68 70 72 74 76 78 80 82 84 86 88 90 92 94 96 98 100 "
     ]
    }
   ],
   "source": [
    "# 4. Write a program to print all even numbers between 1 to 100. – using\n",
    "# while loop\n",
    "\n",
    "n=1\n",
    "while(n<=100):\n",
    "  if(n%2==0):\n",
    "    print(n,end=\" \")\n",
    "  n+=1"
   ]
  },
  {
   "cell_type": "code",
   "execution_count": 30,
   "id": "b30c724a-28ad-403c-a6f4-2702525d1338",
   "metadata": {},
   "outputs": [
    {
     "name": "stdin",
     "output_type": "stream",
     "text": [
      "enter the number 5\n"
     ]
    },
    {
     "name": "stdout",
     "output_type": "stream",
     "text": [
      "sum before 0\n",
      "sum before 5\n",
      "sum before 8\n",
      "sum 9\n"
     ]
    }
   ],
   "source": [
    "# 5. Write a program to find the sum of all odd numbers between 1 to n.\n",
    "\n",
    "n=int(input(\"enter the number\"))\n",
    "sum=0\n",
    "while(n>=1):\n",
    "    if(n%2!=0):\n",
    "        print(\"sum before\",sum)\n",
    "        sum+=n\n",
    "\n",
    "    n-=1\n",
    "print(\"sum\",sum)"
   ]
  },
  {
   "cell_type": "code",
   "execution_count": 5,
   "id": "0cdbbdbd-6105-4b4a-b5bf-862495d5c87c",
   "metadata": {},
   "outputs": [
    {
     "name": "stdin",
     "output_type": "stream",
     "text": [
      "enter the number 4\n"
     ]
    },
    {
     "name": "stdout",
     "output_type": "stream",
     "text": [
      "count before 1\n",
      "count 1\n"
     ]
    }
   ],
   "source": [
    "# 6. Write a program to count the number of digits in a number.\n",
    "\n",
    "n=int(input(\"enter the number\"))\n",
    "count=0\n",
    "while(n>0):\n",
    "    count+=1\n",
    "    n=n//10\n",
    "    print(\"count before\",count)\n",
    "\n",
    "    \n",
    "print(\"count\",count)"
   ]
  },
  {
   "cell_type": "code",
   "execution_count": 13,
   "id": "406838f5-911e-4964-8a94-38adf0dd4bbf",
   "metadata": {},
   "outputs": [
    {
     "name": "stdin",
     "output_type": "stream",
     "text": [
      "enter the number :  5\n"
     ]
    },
    {
     "name": "stdout",
     "output_type": "stream",
     "text": [
      "sum of digits in the number is : 5\n"
     ]
    }
   ],
   "source": [
    "# 7. Write a program to calculate the sum of digits of a number.\n",
    "\n",
    "n=int(input(\"enter the number : \"))\n",
    "sum=0\n",
    "while(n>0):\n",
    "  rem=n%10\n",
    "  sum=sum+rem\n",
    "  n=n//10\n",
    "print(\"sum of digits in the number is :\",sum)"
   ]
  },
  {
   "cell_type": "code",
   "execution_count": 35,
   "id": "6b550bb2-ad28-45a3-9389-a91ef9c46547",
   "metadata": {},
   "outputs": [
    {
     "name": "stdin",
     "output_type": "stream",
     "text": [
      "enter the number 1234\n"
     ]
    },
    {
     "name": "stdout",
     "output_type": "stream",
     "text": [
      "4\n"
     ]
    }
   ],
   "source": [
    "# 8. Write a program to find the first and last digit of a number.\n",
    "\n",
    "n=int(input(\"enter the number\"))\n",
    "n=n%10\n",
    "while(n>=10):\n",
    "    n=n//10\n",
    "print(n)\n"
   ]
  }
 ],
 "metadata": {
  "kernelspec": {
   "display_name": "Python 3 (ipykernel)",
   "language": "python",
   "name": "python3"
  },
  "language_info": {
   "codemirror_mode": {
    "name": "ipython",
    "version": 3
   },
   "file_extension": ".py",
   "mimetype": "text/x-python",
   "name": "python",
   "nbconvert_exporter": "python",
   "pygments_lexer": "ipython3",
   "version": "3.12.7"
  }
 },
 "nbformat": 4,
 "nbformat_minor": 5
}
