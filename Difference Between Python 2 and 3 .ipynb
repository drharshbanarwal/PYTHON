{
 "cells": [
  {
   "cell_type": "code",
   "execution_count": 2,
   "id": "613a0782-7733-47f6-9039-765d93ade599",
   "metadata": {},
   "outputs": [],
   "source": [
    "# Python 3 is a significant improvement over Python 2, with better syntax, security, and support for Unicode. \n",
    "# Python 3 is also more readable and easier to learn than Python 2. "
   ]
  },
  {
   "cell_type": "code",
   "execution_count": 4,
   "id": "9a83f03c-96df-4ce7-bbb9-299feb7bf40e",
   "metadata": {},
   "outputs": [],
   "source": [
    "#                         (PYHON 2)                                                                 (PYTHON 3)       \n",
    "# PRINT STATEMENT :>    Used as a function, \"print\".                                        > Used as a regular statement, \"print()\".   \n",
    "# STRING ENCODING :>    ASCII by default.                                                   > Unicode by default.\n",
    "# INTERGER DIVISION :>  Results in an integer.                                              > Result in Float. \n",
    "# EXCEPTION HANDLING :> Uses \"as\" as an alias for catching exceptions.                      > Uses \"as\" as a keyword.\n",
    "# RANGE FUNCTION :>     Generates a list.                                                   > Generates an object of type range, which is iterable.\n",
    "# METACLASSES :>        Requires the \"metaclass\" argument when defining a class.            > Uses the \"metaclass\" keyword argument in class definition.\n"
   ]
  },
  {
   "cell_type": "code",
   "execution_count": 6,
   "id": "55a24b37-fd71-4446-98ec-2f2f602204d2",
   "metadata": {},
   "outputs": [],
   "source": [
    "                                                     #Key differences between Python 2 and 3 \n",
    "# 1.Print statement: In Python 2, the print statement is used as \"print\" whereas in Python 3 it is used as \"print()\".\n",
    "# 2.Division: In Python 2, division of integers results in a floor division ( rounded down to nearest whole number) while in Python 3, division results in a float.\n",
    "# 3.Strings: In Python 2, strings are ASCII encoded by default while in Python 3 they are Unicode encoded.\n",
    "# 4.Exception handling: In Python 2, \"as\" is used as an alias for catching exceptions while in Python 3 \"as\" is used as a keyword.\n",
    "# 5.Integer types: Python 3 removed the distinction between long integers and regular integers, and they are now simply referred to as integers.\n",
    "# 6.Range function: In Python 2, range() generates a list, whereas in Python 3 it generates an object of type range, which is iterable.\n",
    "# 7.Metaclasses: In Python 2, you need to use the \"metaclass\" argument when defining a class, whereas in Python 3 this is done using the \"metaclass\" keyword argument in class definition.\n",
    "# 8.Raise statement: In Python 2, the \"raise\" statement is used to raise an exception, whereas in Python 3 it is used as an expression to raise exceptions.\n",
    "# 9.Input method: In Python 2, the \"input\" method takes input as a string, while in Python 3 it takes it as an expression.\n",
    "# 10.Unicode: In Python 2, there are separate functions for encoding and decoding Unicode, whereas in Python 3 these functions have been combined into a single method \"encode\"."
   ]
  },
  {
   "cell_type": "code",
   "execution_count": null,
   "id": "cc62d49b-cd32-487b-9775-f039fd182230",
   "metadata": {},
   "outputs": [],
   "source": []
  }
 ],
 "metadata": {
  "kernelspec": {
   "display_name": "Python [conda env:base] *",
   "language": "python",
   "name": "conda-base-py"
  },
  "language_info": {
   "codemirror_mode": {
    "name": "ipython",
    "version": 3
   },
   "file_extension": ".py",
   "mimetype": "text/x-python",
   "name": "python",
   "nbconvert_exporter": "python",
   "pygments_lexer": "ipython3",
   "version": "3.12.7"
  }
 },
 "nbformat": 4,
 "nbformat_minor": 5
}
